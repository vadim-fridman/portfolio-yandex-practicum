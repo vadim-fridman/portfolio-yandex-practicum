{
 "cells": [
  {
   "cell_type": "markdown",
   "metadata": {},
   "source": [
    "# A/B Testing "
   ]
  },
  {
   "cell_type": "markdown",
   "metadata": {},
   "source": [
    "## Practicum 100 "
   ]
  },
  {
   "cell_type": "markdown",
   "metadata": {},
   "source": [
    "## Final Project. Part 2"
   ]
  },
  {
   "cell_type": "markdown",
   "metadata": {},
   "source": [
    "### by Vadim Fridman"
   ]
  },
  {
   "cell_type": "markdown",
   "metadata": {},
   "source": [
    "#### Step 0. Intro & Table of content\n",
    "\n",
    "<a class=\"anchor\" id=\"introduction\"></a>\n"
   ]
  },
  {
   "cell_type": "markdown",
   "metadata": {},
   "source": [
    "We are working as a junior Data Analyst. We received an analytical task from an international online store. Our predecessor failed to complete it: they launched an A/B test and then quit (to start a watermelon farm in Brazil). They left only the technical specifications and the test results. \n",
    "\n",
    "We are going to make the job fully done: first of all to check if the performance(better conversion) of the group B(new payment funnel)  is better then in the control group(A).\n",
    "\n",
    "\"Better conversion\" means here at least 10% increase  on the all stages. \n",
    "\n",
    "It's expected, that at least 6000 the paricipants of the study will be 15% of new users from the EU region that signed up between the 7th and 21st December 2020. "
   ]
  },
  {
   "cell_type": "markdown",
   "metadata": {},
   "source": [
    "#### Table of contents\n",
    "\n",
    "0. [Step 0: Intro & Table of content](#introduction)\n",
    "\n",
    "\n",
    "1. [Step 1.  Download & Check data](#part1)\n",
    "\n",
    "\n",
    "2. [Step 2. EDA ](#part2)\n",
    "    - [Step 2.1 Data preprocessing](#part21)\n",
    "    \n",
    "    - [Step 2.2 Conversion](#part22)\n",
    "    \n",
    "    - [Step 2.3 Number of events per user in the samples](#part23)\n",
    "    \n",
    "    - [Step 2.4 Are there users who enter both samples?](#part24)  \n",
    "    \n",
    "    - [Step 2.5 How is the number of events distributed by days?](#part25)\n",
    "    \n",
    "    - [Step 2.6 Before the A/B test](#part26) \n",
    "    \n",
    "    \n",
    "3. [Step 3. Step 3. A/B Test Evaluation](#part3)\n",
    "\n",
    "\n",
    "4. [Step 4. Overall conclusion](#conclusion)\n"
   ]
  },
  {
   "cell_type": "markdown",
   "metadata": {},
   "source": [
    "#### Step 1. Download & Convert datatypes\n",
    "\n",
    "<a class=\"anchor\" id=\"part1\"></a>"
   ]
  },
  {
   "cell_type": "code",
   "execution_count": 1,
   "metadata": {},
   "outputs": [],
   "source": [
    "import numpy as np\n",
    "import pandas as pd\n",
    "import matplotlib.pyplot as plt\n",
    "import matplotlib as mpl\n",
    "import matplotlib.dates as mdates\n",
    "from matplotlib import ticker\n",
    "import scipy.stats as stats\n",
    "import pylab as plt\n",
    "#import seaborn as sns\n",
    "#import plotly.express as px\n",
    "from plotly import graph_objects as go\n",
    "from plotly.subplots import make_subplots\n",
    "from datetime import datetime, timedelta\n",
    "import scipy.stats as st\n",
    "from statsmodels.stats import weightstats as stests\n",
    "import math\n",
    "\n",
    "import warnings\n",
    "warnings.filterwarnings('ignore')"
   ]
  },
  {
   "cell_type": "markdown",
   "metadata": {},
   "source": [
    "Let's have a first look on the datasets we have and convert the datatypes where it is reasonable. "
   ]
  },
  {
   "cell_type": "code",
   "execution_count": 2,
   "metadata": {},
   "outputs": [
    {
     "data": {
      "text/html": [
       "<div>\n",
       "<style scoped>\n",
       "    .dataframe tbody tr th:only-of-type {\n",
       "        vertical-align: middle;\n",
       "    }\n",
       "\n",
       "    .dataframe tbody tr th {\n",
       "        vertical-align: top;\n",
       "    }\n",
       "\n",
       "    .dataframe thead th {\n",
       "        text-align: right;\n",
       "    }\n",
       "</style>\n",
       "<table border=\"1\" class=\"dataframe\">\n",
       "  <thead>\n",
       "    <tr style=\"text-align: right;\">\n",
       "      <th></th>\n",
       "      <th>user_id</th>\n",
       "      <th>event_dt</th>\n",
       "      <th>event_name</th>\n",
       "      <th>details</th>\n",
       "    </tr>\n",
       "  </thead>\n",
       "  <tbody>\n",
       "    <tr>\n",
       "      <td>58464</td>\n",
       "      <td>7F4AE5E862EAA269</td>\n",
       "      <td>2020-12-28 03:34:13</td>\n",
       "      <td>purchase</td>\n",
       "      <td>99.99</td>\n",
       "    </tr>\n",
       "    <tr>\n",
       "      <td>212986</td>\n",
       "      <td>661B2C9A8A14C01C</td>\n",
       "      <td>2020-12-22 06:32:08</td>\n",
       "      <td>product_page</td>\n",
       "      <td>NaN</td>\n",
       "    </tr>\n",
       "    <tr>\n",
       "      <td>162974</td>\n",
       "      <td>EEB80BCBD65AC289</td>\n",
       "      <td>2020-12-15 09:32:41</td>\n",
       "      <td>product_page</td>\n",
       "      <td>NaN</td>\n",
       "    </tr>\n",
       "    <tr>\n",
       "      <td>407182</td>\n",
       "      <td>6D97F3841A5E9025</td>\n",
       "      <td>2020-12-26 08:45:58</td>\n",
       "      <td>login</td>\n",
       "      <td>NaN</td>\n",
       "    </tr>\n",
       "    <tr>\n",
       "      <td>226180</td>\n",
       "      <td>C1C2130BEFEBC63D</td>\n",
       "      <td>2020-12-24 17:59:18</td>\n",
       "      <td>product_page</td>\n",
       "      <td>NaN</td>\n",
       "    </tr>\n",
       "    <tr>\n",
       "      <td>326917</td>\n",
       "      <td>D7AF35AD08C12EFB</td>\n",
       "      <td>2020-12-18 23:44:52</td>\n",
       "      <td>login</td>\n",
       "      <td>NaN</td>\n",
       "    </tr>\n",
       "    <tr>\n",
       "      <td>279411</td>\n",
       "      <td>CC17913DD4643380</td>\n",
       "      <td>2020-12-13 09:58:29</td>\n",
       "      <td>login</td>\n",
       "      <td>NaN</td>\n",
       "    </tr>\n",
       "    <tr>\n",
       "      <td>168852</td>\n",
       "      <td>F5D1301FD4CA4BAE</td>\n",
       "      <td>2020-12-16 02:28:10</td>\n",
       "      <td>product_page</td>\n",
       "      <td>NaN</td>\n",
       "    </tr>\n",
       "    <tr>\n",
       "      <td>275014</td>\n",
       "      <td>9F64ECA437B4E3A8</td>\n",
       "      <td>2020-12-12 02:41:30</td>\n",
       "      <td>login</td>\n",
       "      <td>NaN</td>\n",
       "    </tr>\n",
       "    <tr>\n",
       "      <td>18472</td>\n",
       "      <td>29D1CF72F700895D</td>\n",
       "      <td>2020-12-15 14:23:24</td>\n",
       "      <td>purchase</td>\n",
       "      <td>4.99</td>\n",
       "    </tr>\n",
       "    <tr>\n",
       "      <td>314913</td>\n",
       "      <td>397EFD033F707D10</td>\n",
       "      <td>2020-12-16 08:01:22</td>\n",
       "      <td>login</td>\n",
       "      <td>NaN</td>\n",
       "    </tr>\n",
       "    <tr>\n",
       "      <td>329637</td>\n",
       "      <td>C2F23593792D11D1</td>\n",
       "      <td>2020-12-18 03:21:57</td>\n",
       "      <td>login</td>\n",
       "      <td>NaN</td>\n",
       "    </tr>\n",
       "    <tr>\n",
       "      <td>395883</td>\n",
       "      <td>C3DD10D737D33063</td>\n",
       "      <td>2020-12-24 04:53:52</td>\n",
       "      <td>login</td>\n",
       "      <td>NaN</td>\n",
       "    </tr>\n",
       "    <tr>\n",
       "      <td>185370</td>\n",
       "      <td>42C941BDA350685A</td>\n",
       "      <td>2020-12-19 16:29:18</td>\n",
       "      <td>product_page</td>\n",
       "      <td>NaN</td>\n",
       "    </tr>\n",
       "    <tr>\n",
       "      <td>407406</td>\n",
       "      <td>0616CB4FFFB6D82B</td>\n",
       "      <td>2020-12-26 19:14:52</td>\n",
       "      <td>login</td>\n",
       "      <td>NaN</td>\n",
       "    </tr>\n",
       "    <tr>\n",
       "      <td>107679</td>\n",
       "      <td>21787AD588108482</td>\n",
       "      <td>2020-12-23 11:55:03</td>\n",
       "      <td>product_cart</td>\n",
       "      <td>NaN</td>\n",
       "    </tr>\n",
       "    <tr>\n",
       "      <td>247096</td>\n",
       "      <td>1234B37B08BA6418</td>\n",
       "      <td>2020-12-08 21:49:29</td>\n",
       "      <td>login</td>\n",
       "      <td>NaN</td>\n",
       "    </tr>\n",
       "    <tr>\n",
       "      <td>51216</td>\n",
       "      <td>756762CB2C0DD009</td>\n",
       "      <td>2020-12-24 22:28:49</td>\n",
       "      <td>purchase</td>\n",
       "      <td>4.99</td>\n",
       "    </tr>\n",
       "    <tr>\n",
       "      <td>161910</td>\n",
       "      <td>26F102CD5C316BFF</td>\n",
       "      <td>2020-12-15 13:11:26</td>\n",
       "      <td>product_page</td>\n",
       "      <td>NaN</td>\n",
       "    </tr>\n",
       "    <tr>\n",
       "      <td>42844</td>\n",
       "      <td>FF5E913E97E65403</td>\n",
       "      <td>2020-12-21 23:12:17</td>\n",
       "      <td>purchase</td>\n",
       "      <td>9.99</td>\n",
       "    </tr>\n",
       "  </tbody>\n",
       "</table>\n",
       "</div>"
      ],
      "text/plain": [
       "                 user_id            event_dt    event_name  details\n",
       "58464   7F4AE5E862EAA269 2020-12-28 03:34:13      purchase    99.99\n",
       "212986  661B2C9A8A14C01C 2020-12-22 06:32:08  product_page      NaN\n",
       "162974  EEB80BCBD65AC289 2020-12-15 09:32:41  product_page      NaN\n",
       "407182  6D97F3841A5E9025 2020-12-26 08:45:58         login      NaN\n",
       "226180  C1C2130BEFEBC63D 2020-12-24 17:59:18  product_page      NaN\n",
       "326917  D7AF35AD08C12EFB 2020-12-18 23:44:52         login      NaN\n",
       "279411  CC17913DD4643380 2020-12-13 09:58:29         login      NaN\n",
       "168852  F5D1301FD4CA4BAE 2020-12-16 02:28:10  product_page      NaN\n",
       "275014  9F64ECA437B4E3A8 2020-12-12 02:41:30         login      NaN\n",
       "18472   29D1CF72F700895D 2020-12-15 14:23:24      purchase     4.99\n",
       "314913  397EFD033F707D10 2020-12-16 08:01:22         login      NaN\n",
       "329637  C2F23593792D11D1 2020-12-18 03:21:57         login      NaN\n",
       "395883  C3DD10D737D33063 2020-12-24 04:53:52         login      NaN\n",
       "185370  42C941BDA350685A 2020-12-19 16:29:18  product_page      NaN\n",
       "407406  0616CB4FFFB6D82B 2020-12-26 19:14:52         login      NaN\n",
       "107679  21787AD588108482 2020-12-23 11:55:03  product_cart      NaN\n",
       "247096  1234B37B08BA6418 2020-12-08 21:49:29         login      NaN\n",
       "51216   756762CB2C0DD009 2020-12-24 22:28:49      purchase     4.99\n",
       "161910  26F102CD5C316BFF 2020-12-15 13:11:26  product_page      NaN\n",
       "42844   FF5E913E97E65403 2020-12-21 23:12:17      purchase     9.99"
      ]
     },
     "execution_count": 2,
     "metadata": {},
     "output_type": "execute_result"
    }
   ],
   "source": [
    "try:\n",
    "    final_events = pd.read_csv('final_ab_events_upd_us.csv', dtype={'event_name': 'category'}, parse_dates=[\"event_dt\"])\n",
    "except:\n",
    "    final_events = pd.read_csv('/datasets/final_ab_events_upd_us.csv', dtype={'event_name': 'category'}, parse_dates=[\"event_dt\"])\n",
    "final_events.sample(20)"
   ]
  },
  {
   "cell_type": "code",
   "execution_count": 3,
   "metadata": {},
   "outputs": [
    {
     "name": "stdout",
     "output_type": "stream",
     "text": [
      "<class 'pandas.core.frame.DataFrame'>\n",
      "RangeIndex: 423761 entries, 0 to 423760\n",
      "Data columns (total 4 columns):\n",
      "user_id       423761 non-null object\n",
      "event_dt      423761 non-null datetime64[ns]\n",
      "event_name    423761 non-null category\n",
      "details       60314 non-null float64\n",
      "dtypes: category(1), datetime64[ns](1), float64(1), object(1)\n",
      "memory usage: 10.1+ MB\n"
     ]
    }
   ],
   "source": [
    "final_events.info()"
   ]
  },
  {
   "cell_type": "code",
   "execution_count": 4,
   "metadata": {},
   "outputs": [
    {
     "data": {
      "text/plain": [
       "58703"
      ]
     },
     "execution_count": 4,
     "metadata": {},
     "output_type": "execute_result"
    }
   ],
   "source": [
    "final_events.user_id.nunique()"
   ]
  },
  {
   "cell_type": "markdown",
   "metadata": {},
   "source": [
    "So we have here timestamps of the events were registered in the shop's system (_*login, product_page, product_cart, purchase*_). Some of events (all of purchases?) also has revenue information in the 'detail column. \n",
    "\n",
    "We have more than 423K rows of data/events of 58K unique users in the dataset.\n",
    "\n",
    "We also have a lot of missing values in the _*details*_ column. It's okay since in the column was saved additional information, and only a one part of the events(presumably, purchases only) have this extra details. \n",
    "\n",
    "We are going to replace NaN's by zeros so we can work with numerical values in this column. "
   ]
  },
  {
   "cell_type": "code",
   "execution_count": 5,
   "metadata": {},
   "outputs": [],
   "source": [
    "final_events.details = final_events.details.replace(np.nan, 0)"
   ]
  },
  {
   "cell_type": "code",
   "execution_count": 6,
   "metadata": {},
   "outputs": [
    {
     "name": "stdout",
     "output_type": "stream",
     "text": [
      "<class 'pandas.core.frame.DataFrame'>\n",
      "RangeIndex: 423761 entries, 0 to 423760\n",
      "Data columns (total 4 columns):\n",
      "user_id       423761 non-null object\n",
      "event_dt      423761 non-null datetime64[ns]\n",
      "event_name    423761 non-null category\n",
      "details       423761 non-null float64\n",
      "dtypes: category(1), datetime64[ns](1), float64(1), object(1)\n",
      "memory usage: 10.1+ MB\n"
     ]
    }
   ],
   "source": [
    "final_events.info()"
   ]
  },
  {
   "cell_type": "code",
   "execution_count": 7,
   "metadata": {},
   "outputs": [
    {
     "data": {
      "text/plain": [
       "0"
      ]
     },
     "execution_count": 7,
     "metadata": {},
     "output_type": "execute_result"
    }
   ],
   "source": [
    "final_events.duplicated().sum()"
   ]
  },
  {
   "cell_type": "markdown",
   "metadata": {},
   "source": [
    "We have no explicit duplicates in the dataset. It's pretty good. "
   ]
  },
  {
   "cell_type": "code",
   "execution_count": 8,
   "metadata": {},
   "outputs": [
    {
     "data": {
      "text/html": [
       "<div>\n",
       "<style scoped>\n",
       "    .dataframe tbody tr th:only-of-type {\n",
       "        vertical-align: middle;\n",
       "    }\n",
       "\n",
       "    .dataframe tbody tr th {\n",
       "        vertical-align: top;\n",
       "    }\n",
       "\n",
       "    .dataframe thead th {\n",
       "        text-align: right;\n",
       "    }\n",
       "</style>\n",
       "<table border=\"1\" class=\"dataframe\">\n",
       "  <thead>\n",
       "    <tr style=\"text-align: right;\">\n",
       "      <th></th>\n",
       "      <th>user_id</th>\n",
       "      <th>first_date</th>\n",
       "      <th>region</th>\n",
       "      <th>device</th>\n",
       "    </tr>\n",
       "  </thead>\n",
       "  <tbody>\n",
       "    <tr>\n",
       "      <td>42294</td>\n",
       "      <td>D70FACED71CA11C1</td>\n",
       "      <td>2020-12-18</td>\n",
       "      <td>EU</td>\n",
       "      <td>PC</td>\n",
       "    </tr>\n",
       "    <tr>\n",
       "      <td>31792</td>\n",
       "      <td>777D6C423998928D</td>\n",
       "      <td>2020-12-23</td>\n",
       "      <td>N.America</td>\n",
       "      <td>Android</td>\n",
       "    </tr>\n",
       "    <tr>\n",
       "      <td>35537</td>\n",
       "      <td>61A60C03BECDA6E2</td>\n",
       "      <td>2020-12-17</td>\n",
       "      <td>EU</td>\n",
       "      <td>Android</td>\n",
       "    </tr>\n",
       "    <tr>\n",
       "      <td>52849</td>\n",
       "      <td>1FE8F8E1FEE9A2F4</td>\n",
       "      <td>2020-12-13</td>\n",
       "      <td>EU</td>\n",
       "      <td>PC</td>\n",
       "    </tr>\n",
       "    <tr>\n",
       "      <td>29105</td>\n",
       "      <td>A5D8C583CD59B97A</td>\n",
       "      <td>2020-12-16</td>\n",
       "      <td>EU</td>\n",
       "      <td>Android</td>\n",
       "    </tr>\n",
       "    <tr>\n",
       "      <td>40214</td>\n",
       "      <td>010DF73DACCC1534</td>\n",
       "      <td>2020-12-18</td>\n",
       "      <td>EU</td>\n",
       "      <td>Android</td>\n",
       "    </tr>\n",
       "    <tr>\n",
       "      <td>47157</td>\n",
       "      <td>65A0580D60F87103</td>\n",
       "      <td>2020-12-19</td>\n",
       "      <td>EU</td>\n",
       "      <td>Android</td>\n",
       "    </tr>\n",
       "    <tr>\n",
       "      <td>52982</td>\n",
       "      <td>A2C0C4C4D7A73410</td>\n",
       "      <td>2020-12-13</td>\n",
       "      <td>EU</td>\n",
       "      <td>PC</td>\n",
       "    </tr>\n",
       "    <tr>\n",
       "      <td>36901</td>\n",
       "      <td>BB174FD896B22591</td>\n",
       "      <td>2020-12-17</td>\n",
       "      <td>EU</td>\n",
       "      <td>iPhone</td>\n",
       "    </tr>\n",
       "    <tr>\n",
       "      <td>49446</td>\n",
       "      <td>850C81FE7FD7EB35</td>\n",
       "      <td>2020-12-19</td>\n",
       "      <td>N.America</td>\n",
       "      <td>Android</td>\n",
       "    </tr>\n",
       "  </tbody>\n",
       "</table>\n",
       "</div>"
      ],
      "text/plain": [
       "                user_id first_date     region   device\n",
       "42294  D70FACED71CA11C1 2020-12-18         EU       PC\n",
       "31792  777D6C423998928D 2020-12-23  N.America  Android\n",
       "35537  61A60C03BECDA6E2 2020-12-17         EU  Android\n",
       "52849  1FE8F8E1FEE9A2F4 2020-12-13         EU       PC\n",
       "29105  A5D8C583CD59B97A 2020-12-16         EU  Android\n",
       "40214  010DF73DACCC1534 2020-12-18         EU  Android\n",
       "47157  65A0580D60F87103 2020-12-19         EU  Android\n",
       "52982  A2C0C4C4D7A73410 2020-12-13         EU       PC\n",
       "36901  BB174FD896B22591 2020-12-17         EU   iPhone\n",
       "49446  850C81FE7FD7EB35 2020-12-19  N.America  Android"
      ]
     },
     "execution_count": 8,
     "metadata": {},
     "output_type": "execute_result"
    }
   ],
   "source": [
    "try:\n",
    "    users = pd.read_csv('final_ab_new_users_upd_us.csv', dtype={'device': 'category', 'region': 'category'}, parse_dates=[\"first_date\"])\n",
    "except:\n",
    "    users = pd.read_csv('/datasets/final_ab_new_users_upd_us.csv', dtype={'device': 'category', 'region': 'category'}, parse_dates=[\"first_date\"])\n",
    "users.sample(10)"
   ]
  },
  {
   "cell_type": "code",
   "execution_count": 9,
   "metadata": {},
   "outputs": [
    {
     "name": "stdout",
     "output_type": "stream",
     "text": [
      "<class 'pandas.core.frame.DataFrame'>\n",
      "RangeIndex: 58703 entries, 0 to 58702\n",
      "Data columns (total 4 columns):\n",
      "user_id       58703 non-null object\n",
      "first_date    58703 non-null datetime64[ns]\n",
      "region        58703 non-null category\n",
      "device        58703 non-null category\n",
      "dtypes: category(2), datetime64[ns](1), object(1)\n",
      "memory usage: 1.0+ MB\n"
     ]
    }
   ],
   "source": [
    "users.info()"
   ]
  },
  {
   "cell_type": "markdown",
   "metadata": {},
   "source": [
    "Here we have registration date, region and device information. No missing values!  "
   ]
  },
  {
   "cell_type": "code",
   "execution_count": 10,
   "metadata": {},
   "outputs": [
    {
     "data": {
      "text/plain": [
       "4"
      ]
     },
     "execution_count": 10,
     "metadata": {},
     "output_type": "execute_result"
    }
   ],
   "source": [
    "users.region.nunique()"
   ]
  },
  {
   "cell_type": "code",
   "execution_count": 11,
   "metadata": {},
   "outputs": [
    {
     "data": {
      "text/plain": [
       "4"
      ]
     },
     "execution_count": 11,
     "metadata": {},
     "output_type": "execute_result"
    }
   ],
   "source": [
    "users.device.nunique()"
   ]
  },
  {
   "cell_type": "code",
   "execution_count": 12,
   "metadata": {},
   "outputs": [
    {
     "data": {
      "text/plain": [
       "0"
      ]
     },
     "execution_count": 12,
     "metadata": {},
     "output_type": "execute_result"
    }
   ],
   "source": [
    "users.duplicated().sum()"
   ]
  },
  {
   "cell_type": "markdown",
   "metadata": {},
   "source": [
    "We just checked by the way, if the data in the two last columns are categorical & that we have explicit duplicates in the dataset. "
   ]
  },
  {
   "cell_type": "code",
   "execution_count": 13,
   "metadata": {},
   "outputs": [
    {
     "data": {
      "text/html": [
       "<div>\n",
       "<style scoped>\n",
       "    .dataframe tbody tr th:only-of-type {\n",
       "        vertical-align: middle;\n",
       "    }\n",
       "\n",
       "    .dataframe tbody tr th {\n",
       "        vertical-align: top;\n",
       "    }\n",
       "\n",
       "    .dataframe thead th {\n",
       "        text-align: right;\n",
       "    }\n",
       "</style>\n",
       "<table border=\"1\" class=\"dataframe\">\n",
       "  <thead>\n",
       "    <tr style=\"text-align: right;\">\n",
       "      <th></th>\n",
       "      <th>user_id</th>\n",
       "      <th>group</th>\n",
       "      <th>ab_test</th>\n",
       "    </tr>\n",
       "  </thead>\n",
       "  <tbody>\n",
       "    <tr>\n",
       "      <td>9932</td>\n",
       "      <td>A800CDEA85871EEF</td>\n",
       "      <td>B</td>\n",
       "      <td>interface_eu_test</td>\n",
       "    </tr>\n",
       "    <tr>\n",
       "      <td>2356</td>\n",
       "      <td>AAEE1D820ABE40A8</td>\n",
       "      <td>A</td>\n",
       "      <td>recommender_system_test</td>\n",
       "    </tr>\n",
       "    <tr>\n",
       "      <td>12739</td>\n",
       "      <td>DE0CA758640763A8</td>\n",
       "      <td>B</td>\n",
       "      <td>interface_eu_test</td>\n",
       "    </tr>\n",
       "    <tr>\n",
       "      <td>4750</td>\n",
       "      <td>D05B44F29BB257D8</td>\n",
       "      <td>B</td>\n",
       "      <td>interface_eu_test</td>\n",
       "    </tr>\n",
       "    <tr>\n",
       "      <td>5283</td>\n",
       "      <td>DC2FFF13CFB28EAC</td>\n",
       "      <td>A</td>\n",
       "      <td>interface_eu_test</td>\n",
       "    </tr>\n",
       "    <tr>\n",
       "      <td>14043</td>\n",
       "      <td>5680B8B382F56926</td>\n",
       "      <td>B</td>\n",
       "      <td>interface_eu_test</td>\n",
       "    </tr>\n",
       "    <tr>\n",
       "      <td>10996</td>\n",
       "      <td>9CBB0870AEA0C7BF</td>\n",
       "      <td>A</td>\n",
       "      <td>interface_eu_test</td>\n",
       "    </tr>\n",
       "    <tr>\n",
       "      <td>789</td>\n",
       "      <td>EAA6967BB9807DF2</td>\n",
       "      <td>A</td>\n",
       "      <td>recommender_system_test</td>\n",
       "    </tr>\n",
       "    <tr>\n",
       "      <td>477</td>\n",
       "      <td>D902807C00F2AF2D</td>\n",
       "      <td>A</td>\n",
       "      <td>recommender_system_test</td>\n",
       "    </tr>\n",
       "    <tr>\n",
       "      <td>8047</td>\n",
       "      <td>0F50B14D0B2FA84A</td>\n",
       "      <td>B</td>\n",
       "      <td>interface_eu_test</td>\n",
       "    </tr>\n",
       "  </tbody>\n",
       "</table>\n",
       "</div>"
      ],
      "text/plain": [
       "                user_id group                  ab_test\n",
       "9932   A800CDEA85871EEF     B        interface_eu_test\n",
       "2356   AAEE1D820ABE40A8     A  recommender_system_test\n",
       "12739  DE0CA758640763A8     B        interface_eu_test\n",
       "4750   D05B44F29BB257D8     B        interface_eu_test\n",
       "5283   DC2FFF13CFB28EAC     A        interface_eu_test\n",
       "14043  5680B8B382F56926     B        interface_eu_test\n",
       "10996  9CBB0870AEA0C7BF     A        interface_eu_test\n",
       "789    EAA6967BB9807DF2     A  recommender_system_test\n",
       "477    D902807C00F2AF2D     A  recommender_system_test\n",
       "8047   0F50B14D0B2FA84A     B        interface_eu_test"
      ]
     },
     "execution_count": 13,
     "metadata": {},
     "output_type": "execute_result"
    }
   ],
   "source": [
    "try:\n",
    "    participants = pd.read_csv('final_ab_participants_upd_us.csv', dtype={'group': 'category', 'ab_test': 'category'})\n",
    "except:\n",
    "    participants = pd.read_csv('/datasets/final_ab_participants_upd_us.csv', dtype={'group': 'category', 'ab_test': 'category'})\n",
    "participants.sample(10)"
   ]
  },
  {
   "cell_type": "code",
   "execution_count": 14,
   "metadata": {},
   "outputs": [
    {
     "name": "stdout",
     "output_type": "stream",
     "text": [
      "<class 'pandas.core.frame.DataFrame'>\n",
      "RangeIndex: 14525 entries, 0 to 14524\n",
      "Data columns (total 3 columns):\n",
      "user_id    14525 non-null object\n",
      "group      14525 non-null category\n",
      "ab_test    14525 non-null category\n",
      "dtypes: category(2), object(1)\n",
      "memory usage: 142.1+ KB\n"
     ]
    }
   ],
   "source": [
    "participants.info()"
   ]
  },
  {
   "cell_type": "code",
   "execution_count": 15,
   "metadata": {},
   "outputs": [
    {
     "data": {
      "text/plain": [
       "13638"
      ]
     },
     "execution_count": 15,
     "metadata": {},
     "output_type": "execute_result"
    }
   ],
   "source": [
    "participants.user_id.nunique()"
   ]
  },
  {
   "cell_type": "code",
   "execution_count": 16,
   "metadata": {},
   "outputs": [
    {
     "data": {
      "text/plain": [
       "2"
      ]
     },
     "execution_count": 16,
     "metadata": {},
     "output_type": "execute_result"
    }
   ],
   "source": [
    "participants.ab_test.nunique()"
   ]
  },
  {
   "cell_type": "code",
   "execution_count": 17,
   "metadata": {},
   "outputs": [
    {
     "data": {
      "text/plain": [
       "2"
      ]
     },
     "execution_count": 17,
     "metadata": {},
     "output_type": "execute_result"
    }
   ],
   "source": [
    "participants.group.nunique()"
   ]
  },
  {
   "cell_type": "markdown",
   "metadata": {},
   "source": [
    "Only 13k from 58K of all user are participants of the test. \n",
    "\n",
    "It seems, that we have some duplicates in the dataset. "
   ]
  },
  {
   "cell_type": "code",
   "execution_count": 18,
   "metadata": {},
   "outputs": [
    {
     "data": {
      "text/html": [
       "<div>\n",
       "<style scoped>\n",
       "    .dataframe tbody tr th:only-of-type {\n",
       "        vertical-align: middle;\n",
       "    }\n",
       "\n",
       "    .dataframe tbody tr th {\n",
       "        vertical-align: top;\n",
       "    }\n",
       "\n",
       "    .dataframe thead th {\n",
       "        text-align: right;\n",
       "    }\n",
       "</style>\n",
       "<table border=\"1\" class=\"dataframe\">\n",
       "  <thead>\n",
       "    <tr style=\"text-align: right;\">\n",
       "      <th></th>\n",
       "      <th>user_id</th>\n",
       "      <th>group</th>\n",
       "      <th>ab_test</th>\n",
       "    </tr>\n",
       "  </thead>\n",
       "  <tbody>\n",
       "    <tr>\n",
       "      <td>3677</td>\n",
       "      <td>FB6F6BC119E1DBD5</td>\n",
       "      <td>B</td>\n",
       "      <td>interface_eu_test</td>\n",
       "    </tr>\n",
       "    <tr>\n",
       "      <td>3688</td>\n",
       "      <td>055A4CD17A483B8E</td>\n",
       "      <td>A</td>\n",
       "      <td>interface_eu_test</td>\n",
       "    </tr>\n",
       "    <tr>\n",
       "      <td>3695</td>\n",
       "      <td>7060BB1CBE3BAACC</td>\n",
       "      <td>B</td>\n",
       "      <td>interface_eu_test</td>\n",
       "    </tr>\n",
       "    <tr>\n",
       "      <td>3711</td>\n",
       "      <td>8A26EBC1BA92524B</td>\n",
       "      <td>B</td>\n",
       "      <td>interface_eu_test</td>\n",
       "    </tr>\n",
       "    <tr>\n",
       "      <td>3730</td>\n",
       "      <td>A791C2D62B213C96</td>\n",
       "      <td>B</td>\n",
       "      <td>interface_eu_test</td>\n",
       "    </tr>\n",
       "    <tr>\n",
       "      <td>3774</td>\n",
       "      <td>F13CC3EF6739F4C0</td>\n",
       "      <td>B</td>\n",
       "      <td>interface_eu_test</td>\n",
       "    </tr>\n",
       "    <tr>\n",
       "      <td>3777</td>\n",
       "      <td>C7D588F1ABF3A91B</td>\n",
       "      <td>A</td>\n",
       "      <td>interface_eu_test</td>\n",
       "    </tr>\n",
       "    <tr>\n",
       "      <td>3797</td>\n",
       "      <td>D857FFFE7A6AC9A4</td>\n",
       "      <td>A</td>\n",
       "      <td>interface_eu_test</td>\n",
       "    </tr>\n",
       "    <tr>\n",
       "      <td>3819</td>\n",
       "      <td>D0562837FBB58AC5</td>\n",
       "      <td>B</td>\n",
       "      <td>interface_eu_test</td>\n",
       "    </tr>\n",
       "    <tr>\n",
       "      <td>3834</td>\n",
       "      <td>6786C23A54D59DD4</td>\n",
       "      <td>A</td>\n",
       "      <td>interface_eu_test</td>\n",
       "    </tr>\n",
       "    <tr>\n",
       "      <td>3846</td>\n",
       "      <td>C2E79843ED511E13</td>\n",
       "      <td>B</td>\n",
       "      <td>interface_eu_test</td>\n",
       "    </tr>\n",
       "    <tr>\n",
       "      <td>3853</td>\n",
       "      <td>EE9E527A761299B2</td>\n",
       "      <td>A</td>\n",
       "      <td>interface_eu_test</td>\n",
       "    </tr>\n",
       "    <tr>\n",
       "      <td>3862</td>\n",
       "      <td>4D921165CD2825D1</td>\n",
       "      <td>B</td>\n",
       "      <td>interface_eu_test</td>\n",
       "    </tr>\n",
       "    <tr>\n",
       "      <td>3867</td>\n",
       "      <td>37E78FED858E7061</td>\n",
       "      <td>B</td>\n",
       "      <td>interface_eu_test</td>\n",
       "    </tr>\n",
       "    <tr>\n",
       "      <td>3891</td>\n",
       "      <td>24BE89E87E2368BF</td>\n",
       "      <td>A</td>\n",
       "      <td>interface_eu_test</td>\n",
       "    </tr>\n",
       "    <tr>\n",
       "      <td>3902</td>\n",
       "      <td>B997F98ED3AA6104</td>\n",
       "      <td>B</td>\n",
       "      <td>interface_eu_test</td>\n",
       "    </tr>\n",
       "    <tr>\n",
       "      <td>3906</td>\n",
       "      <td>10C2A2FB00BD9AE2</td>\n",
       "      <td>B</td>\n",
       "      <td>interface_eu_test</td>\n",
       "    </tr>\n",
       "    <tr>\n",
       "      <td>3911</td>\n",
       "      <td>3C46C1264F52F92C</td>\n",
       "      <td>B</td>\n",
       "      <td>interface_eu_test</td>\n",
       "    </tr>\n",
       "    <tr>\n",
       "      <td>3915</td>\n",
       "      <td>AFF3D30CC385F0E9</td>\n",
       "      <td>A</td>\n",
       "      <td>interface_eu_test</td>\n",
       "    </tr>\n",
       "    <tr>\n",
       "      <td>3959</td>\n",
       "      <td>4F26C1C82B9EA0B5</td>\n",
       "      <td>A</td>\n",
       "      <td>interface_eu_test</td>\n",
       "    </tr>\n",
       "  </tbody>\n",
       "</table>\n",
       "</div>"
      ],
      "text/plain": [
       "               user_id group            ab_test\n",
       "3677  FB6F6BC119E1DBD5     B  interface_eu_test\n",
       "3688  055A4CD17A483B8E     A  interface_eu_test\n",
       "3695  7060BB1CBE3BAACC     B  interface_eu_test\n",
       "3711  8A26EBC1BA92524B     B  interface_eu_test\n",
       "3730  A791C2D62B213C96     B  interface_eu_test\n",
       "3774  F13CC3EF6739F4C0     B  interface_eu_test\n",
       "3777  C7D588F1ABF3A91B     A  interface_eu_test\n",
       "3797  D857FFFE7A6AC9A4     A  interface_eu_test\n",
       "3819  D0562837FBB58AC5     B  interface_eu_test\n",
       "3834  6786C23A54D59DD4     A  interface_eu_test\n",
       "3846  C2E79843ED511E13     B  interface_eu_test\n",
       "3853  EE9E527A761299B2     A  interface_eu_test\n",
       "3862  4D921165CD2825D1     B  interface_eu_test\n",
       "3867  37E78FED858E7061     B  interface_eu_test\n",
       "3891  24BE89E87E2368BF     A  interface_eu_test\n",
       "3902  B997F98ED3AA6104     B  interface_eu_test\n",
       "3906  10C2A2FB00BD9AE2     B  interface_eu_test\n",
       "3911  3C46C1264F52F92C     B  interface_eu_test\n",
       "3915  AFF3D30CC385F0E9     A  interface_eu_test\n",
       "3959  4F26C1C82B9EA0B5     A  interface_eu_test"
      ]
     },
     "execution_count": 18,
     "metadata": {},
     "output_type": "execute_result"
    }
   ],
   "source": [
    "participants[participants['user_id'].duplicated()].head(20)"
   ]
  },
  {
   "cell_type": "code",
   "execution_count": 19,
   "metadata": {},
   "outputs": [
    {
     "data": {
      "text/plain": [
       "887"
      ]
     },
     "execution_count": 19,
     "metadata": {},
     "output_type": "execute_result"
    }
   ],
   "source": [
    "len(participants[participants['user_id'].duplicated()])"
   ]
  },
  {
   "cell_type": "markdown",
   "metadata": {},
   "source": [
    "Assumably we have 887 duplicates. Les's look into a bit closer on some examples. "
   ]
  },
  {
   "cell_type": "code",
   "execution_count": 20,
   "metadata": {},
   "outputs": [
    {
     "data": {
      "text/html": [
       "<div>\n",
       "<style scoped>\n",
       "    .dataframe tbody tr th:only-of-type {\n",
       "        vertical-align: middle;\n",
       "    }\n",
       "\n",
       "    .dataframe tbody tr th {\n",
       "        vertical-align: top;\n",
       "    }\n",
       "\n",
       "    .dataframe thead th {\n",
       "        text-align: right;\n",
       "    }\n",
       "</style>\n",
       "<table border=\"1\" class=\"dataframe\">\n",
       "  <thead>\n",
       "    <tr style=\"text-align: right;\">\n",
       "      <th></th>\n",
       "      <th>user_id</th>\n",
       "      <th>group</th>\n",
       "      <th>ab_test</th>\n",
       "    </tr>\n",
       "  </thead>\n",
       "  <tbody>\n",
       "    <tr>\n",
       "      <td>2397</td>\n",
       "      <td>FB6F6BC119E1DBD5</td>\n",
       "      <td>A</td>\n",
       "      <td>recommender_system_test</td>\n",
       "    </tr>\n",
       "    <tr>\n",
       "      <td>3677</td>\n",
       "      <td>FB6F6BC119E1DBD5</td>\n",
       "      <td>B</td>\n",
       "      <td>interface_eu_test</td>\n",
       "    </tr>\n",
       "  </tbody>\n",
       "</table>\n",
       "</div>"
      ],
      "text/plain": [
       "               user_id group                  ab_test\n",
       "2397  FB6F6BC119E1DBD5     A  recommender_system_test\n",
       "3677  FB6F6BC119E1DBD5     B        interface_eu_test"
      ]
     },
     "execution_count": 20,
     "metadata": {},
     "output_type": "execute_result"
    }
   ],
   "source": [
    "participants[participants['user_id']=='FB6F6BC119E1DBD5']"
   ]
  },
  {
   "cell_type": "code",
   "execution_count": 21,
   "metadata": {},
   "outputs": [
    {
     "data": {
      "text/html": [
       "<div>\n",
       "<style scoped>\n",
       "    .dataframe tbody tr th:only-of-type {\n",
       "        vertical-align: middle;\n",
       "    }\n",
       "\n",
       "    .dataframe tbody tr th {\n",
       "        vertical-align: top;\n",
       "    }\n",
       "\n",
       "    .dataframe thead th {\n",
       "        text-align: right;\n",
       "    }\n",
       "</style>\n",
       "<table border=\"1\" class=\"dataframe\">\n",
       "  <thead>\n",
       "    <tr style=\"text-align: right;\">\n",
       "      <th></th>\n",
       "      <th>user_id</th>\n",
       "      <th>group</th>\n",
       "      <th>ab_test</th>\n",
       "    </tr>\n",
       "  </thead>\n",
       "  <tbody>\n",
       "    <tr>\n",
       "      <td>551</td>\n",
       "      <td>7060BB1CBE3BAACC</td>\n",
       "      <td>B</td>\n",
       "      <td>recommender_system_test</td>\n",
       "    </tr>\n",
       "    <tr>\n",
       "      <td>3695</td>\n",
       "      <td>7060BB1CBE3BAACC</td>\n",
       "      <td>B</td>\n",
       "      <td>interface_eu_test</td>\n",
       "    </tr>\n",
       "  </tbody>\n",
       "</table>\n",
       "</div>"
      ],
      "text/plain": [
       "               user_id group                  ab_test\n",
       "551   7060BB1CBE3BAACC     B  recommender_system_test\n",
       "3695  7060BB1CBE3BAACC     B        interface_eu_test"
      ]
     },
     "execution_count": 21,
     "metadata": {},
     "output_type": "execute_result"
    }
   ],
   "source": [
    "participants[participants['user_id']=='7060BB1CBE3BAACC']"
   ]
  },
  {
   "cell_type": "code",
   "execution_count": 22,
   "metadata": {},
   "outputs": [
    {
     "data": {
      "text/html": [
       "<div>\n",
       "<style scoped>\n",
       "    .dataframe tbody tr th:only-of-type {\n",
       "        vertical-align: middle;\n",
       "    }\n",
       "\n",
       "    .dataframe tbody tr th {\n",
       "        vertical-align: top;\n",
       "    }\n",
       "\n",
       "    .dataframe thead th {\n",
       "        text-align: right;\n",
       "    }\n",
       "</style>\n",
       "<table border=\"1\" class=\"dataframe\">\n",
       "  <thead>\n",
       "    <tr style=\"text-align: right;\">\n",
       "      <th></th>\n",
       "      <th>user_id</th>\n",
       "      <th>group</th>\n",
       "      <th>ab_test</th>\n",
       "    </tr>\n",
       "  </thead>\n",
       "  <tbody>\n",
       "    <tr>\n",
       "      <td>2742</td>\n",
       "      <td>055A4CD17A483B8E</td>\n",
       "      <td>A</td>\n",
       "      <td>recommender_system_test</td>\n",
       "    </tr>\n",
       "    <tr>\n",
       "      <td>3688</td>\n",
       "      <td>055A4CD17A483B8E</td>\n",
       "      <td>A</td>\n",
       "      <td>interface_eu_test</td>\n",
       "    </tr>\n",
       "  </tbody>\n",
       "</table>\n",
       "</div>"
      ],
      "text/plain": [
       "               user_id group                  ab_test\n",
       "2742  055A4CD17A483B8E     A  recommender_system_test\n",
       "3688  055A4CD17A483B8E     A        interface_eu_test"
      ]
     },
     "execution_count": 22,
     "metadata": {},
     "output_type": "execute_result"
    }
   ],
   "source": [
    "participants[participants['user_id']=='055A4CD17A483B8E']"
   ]
  },
  {
   "cell_type": "markdown",
   "metadata": {},
   "source": [
    "It seems that some users participate in the both groups and/or tests. The first looks at least strange. We don't really know, why this data is corrupted. But we know exactly, that this information can not be true. \n",
    "\n",
    "Probably we should get rid of this data since it's incorrect. "
   ]
  },
  {
   "cell_type": "code",
   "execution_count": 23,
   "metadata": {},
   "outputs": [],
   "source": [
    "participants=participants[participants['user_id'].duplicated()==False]"
   ]
  },
  {
   "cell_type": "code",
   "execution_count": 24,
   "metadata": {},
   "outputs": [
    {
     "name": "stdout",
     "output_type": "stream",
     "text": [
      "<class 'pandas.core.frame.DataFrame'>\n",
      "Int64Index: 13638 entries, 0 to 14524\n",
      "Data columns (total 3 columns):\n",
      "user_id    13638 non-null object\n",
      "group      13638 non-null category\n",
      "ab_test    13638 non-null category\n",
      "dtypes: category(2), object(1)\n",
      "memory usage: 239.8+ KB\n"
     ]
    }
   ],
   "source": [
    "participants.info()"
   ]
  },
  {
   "cell_type": "code",
   "execution_count": 25,
   "metadata": {},
   "outputs": [
    {
     "data": {
      "text/plain": [
       "0"
      ]
     },
     "execution_count": 25,
     "metadata": {},
     "output_type": "execute_result"
    }
   ],
   "source": [
    "len(participants[participants['user_id'].duplicated()])"
   ]
  },
  {
   "cell_type": "markdown",
   "metadata": {},
   "source": [
    "We got 13638 rows - exactly one for each unique user. "
   ]
  },
  {
   "cell_type": "code",
   "execution_count": 26,
   "metadata": {},
   "outputs": [
    {
     "data": {
      "text/html": [
       "<div>\n",
       "<style scoped>\n",
       "    .dataframe tbody tr th:only-of-type {\n",
       "        vertical-align: middle;\n",
       "    }\n",
       "\n",
       "    .dataframe tbody tr th {\n",
       "        vertical-align: top;\n",
       "    }\n",
       "\n",
       "    .dataframe thead th {\n",
       "        text-align: right;\n",
       "    }\n",
       "</style>\n",
       "<table border=\"1\" class=\"dataframe\">\n",
       "  <thead>\n",
       "    <tr style=\"text-align: right;\">\n",
       "      <th></th>\n",
       "      <th>name</th>\n",
       "      <th>regions</th>\n",
       "      <th>start_dt</th>\n",
       "      <th>finish_dt</th>\n",
       "    </tr>\n",
       "  </thead>\n",
       "  <tbody>\n",
       "    <tr>\n",
       "      <td>0</td>\n",
       "      <td>Christmas&amp;New Year Promo</td>\n",
       "      <td>EU, N.America</td>\n",
       "      <td>2020-12-25</td>\n",
       "      <td>2021-01-03</td>\n",
       "    </tr>\n",
       "    <tr>\n",
       "      <td>1</td>\n",
       "      <td>St. Valentine's Day Giveaway</td>\n",
       "      <td>EU, CIS, APAC, N.America</td>\n",
       "      <td>2020-02-14</td>\n",
       "      <td>2020-02-16</td>\n",
       "    </tr>\n",
       "    <tr>\n",
       "      <td>2</td>\n",
       "      <td>St. Patric's Day Promo</td>\n",
       "      <td>EU, N.America</td>\n",
       "      <td>2020-03-17</td>\n",
       "      <td>2020-03-19</td>\n",
       "    </tr>\n",
       "    <tr>\n",
       "      <td>3</td>\n",
       "      <td>Easter Promo</td>\n",
       "      <td>EU, CIS, APAC, N.America</td>\n",
       "      <td>2020-04-12</td>\n",
       "      <td>2020-04-19</td>\n",
       "    </tr>\n",
       "    <tr>\n",
       "      <td>4</td>\n",
       "      <td>4th of July Promo</td>\n",
       "      <td>N.America</td>\n",
       "      <td>2020-07-04</td>\n",
       "      <td>2020-07-11</td>\n",
       "    </tr>\n",
       "    <tr>\n",
       "      <td>5</td>\n",
       "      <td>Black Friday Ads Campaign</td>\n",
       "      <td>EU, CIS, APAC, N.America</td>\n",
       "      <td>2020-11-26</td>\n",
       "      <td>2020-12-01</td>\n",
       "    </tr>\n",
       "    <tr>\n",
       "      <td>6</td>\n",
       "      <td>Chinese New Year Promo</td>\n",
       "      <td>APAC</td>\n",
       "      <td>2020-01-25</td>\n",
       "      <td>2020-02-07</td>\n",
       "    </tr>\n",
       "    <tr>\n",
       "      <td>7</td>\n",
       "      <td>Labor day (May 1st) Ads Campaign</td>\n",
       "      <td>EU, CIS, APAC</td>\n",
       "      <td>2020-05-01</td>\n",
       "      <td>2020-05-03</td>\n",
       "    </tr>\n",
       "    <tr>\n",
       "      <td>8</td>\n",
       "      <td>International Women's Day Promo</td>\n",
       "      <td>EU, CIS, APAC</td>\n",
       "      <td>2020-03-08</td>\n",
       "      <td>2020-03-10</td>\n",
       "    </tr>\n",
       "    <tr>\n",
       "      <td>9</td>\n",
       "      <td>Victory Day CIS (May 9th) Event</td>\n",
       "      <td>CIS</td>\n",
       "      <td>2020-05-09</td>\n",
       "      <td>2020-05-11</td>\n",
       "    </tr>\n",
       "    <tr>\n",
       "      <td>10</td>\n",
       "      <td>CIS New Year Gift Lottery</td>\n",
       "      <td>CIS</td>\n",
       "      <td>2020-12-30</td>\n",
       "      <td>2021-01-07</td>\n",
       "    </tr>\n",
       "    <tr>\n",
       "      <td>11</td>\n",
       "      <td>Dragon Boat Festival Giveaway</td>\n",
       "      <td>APAC</td>\n",
       "      <td>2020-06-25</td>\n",
       "      <td>2020-07-01</td>\n",
       "    </tr>\n",
       "    <tr>\n",
       "      <td>12</td>\n",
       "      <td>Single's Day Gift Promo</td>\n",
       "      <td>APAC</td>\n",
       "      <td>2020-11-11</td>\n",
       "      <td>2020-11-12</td>\n",
       "    </tr>\n",
       "    <tr>\n",
       "      <td>13</td>\n",
       "      <td>Chinese Moon Festival</td>\n",
       "      <td>APAC</td>\n",
       "      <td>2020-10-01</td>\n",
       "      <td>2020-10-07</td>\n",
       "    </tr>\n",
       "  </tbody>\n",
       "</table>\n",
       "</div>"
      ],
      "text/plain": [
       "                                name                   regions   start_dt  \\\n",
       "0           Christmas&New Year Promo             EU, N.America 2020-12-25   \n",
       "1       St. Valentine's Day Giveaway  EU, CIS, APAC, N.America 2020-02-14   \n",
       "2             St. Patric's Day Promo             EU, N.America 2020-03-17   \n",
       "3                       Easter Promo  EU, CIS, APAC, N.America 2020-04-12   \n",
       "4                  4th of July Promo                 N.America 2020-07-04   \n",
       "5          Black Friday Ads Campaign  EU, CIS, APAC, N.America 2020-11-26   \n",
       "6             Chinese New Year Promo                      APAC 2020-01-25   \n",
       "7   Labor day (May 1st) Ads Campaign             EU, CIS, APAC 2020-05-01   \n",
       "8    International Women's Day Promo             EU, CIS, APAC 2020-03-08   \n",
       "9    Victory Day CIS (May 9th) Event                       CIS 2020-05-09   \n",
       "10         CIS New Year Gift Lottery                       CIS 2020-12-30   \n",
       "11     Dragon Boat Festival Giveaway                      APAC 2020-06-25   \n",
       "12           Single's Day Gift Promo                      APAC 2020-11-11   \n",
       "13             Chinese Moon Festival                      APAC 2020-10-01   \n",
       "\n",
       "    finish_dt  \n",
       "0  2021-01-03  \n",
       "1  2020-02-16  \n",
       "2  2020-03-19  \n",
       "3  2020-04-19  \n",
       "4  2020-07-11  \n",
       "5  2020-12-01  \n",
       "6  2020-02-07  \n",
       "7  2020-05-03  \n",
       "8  2020-03-10  \n",
       "9  2020-05-11  \n",
       "10 2021-01-07  \n",
       "11 2020-07-01  \n",
       "12 2020-11-12  \n",
       "13 2020-10-07  "
      ]
     },
     "execution_count": 26,
     "metadata": {},
     "output_type": "execute_result"
    }
   ],
   "source": [
    "try:\n",
    "    marketing_events = pd.read_csv('ab_project_marketing_events_us.csv', parse_dates=[\"start_dt\", \"finish_dt\"])\n",
    "except:\n",
    "    marketing_events = pd.read_csv('/datasets/ab_project_marketing_events_us.csv', parse_dates=[\"start_dt\", \"finish_dt\"])\n",
    "marketing_events"
   ]
  },
  {
   "cell_type": "code",
   "execution_count": 27,
   "metadata": {},
   "outputs": [
    {
     "name": "stdout",
     "output_type": "stream",
     "text": [
      "<class 'pandas.core.frame.DataFrame'>\n",
      "RangeIndex: 14 entries, 0 to 13\n",
      "Data columns (total 4 columns):\n",
      "name         14 non-null object\n",
      "regions      14 non-null object\n",
      "start_dt     14 non-null datetime64[ns]\n",
      "finish_dt    14 non-null datetime64[ns]\n",
      "dtypes: datetime64[ns](2), object(2)\n",
      "memory usage: 576.0+ bytes\n"
     ]
    }
   ],
   "source": [
    "marketing_events.info()"
   ]
  },
  {
   "cell_type": "code",
   "execution_count": 28,
   "metadata": {},
   "outputs": [
    {
     "data": {
      "text/plain": [
       "6"
      ]
     },
     "execution_count": 28,
     "metadata": {},
     "output_type": "execute_result"
    }
   ],
   "source": [
    "marketing_events.regions.nunique()"
   ]
  },
  {
   "cell_type": "markdown",
   "metadata": {},
   "source": [
    "The dataset is really tiny: we can see all the data in the output. It seems, that we don't really need this data to complete the project. "
   ]
  },
  {
   "cell_type": "markdown",
   "metadata": {},
   "source": [
    "#### Step 2. EDA\n",
    "\n",
    "<a class=\"anchor\" id=\"part2\"></a>"
   ]
  },
  {
   "cell_type": "markdown",
   "metadata": {},
   "source": [
    "##### Step 2.1 Data preprocessing\n",
    "\n",
    "<a class=\"anchor\" id=\"part21\"></a>"
   ]
  },
  {
   "cell_type": "markdown",
   "metadata": {},
   "source": [
    "Before we go any further we are going to look a bit closer on the datasets we have and check if we can trust our data. "
   ]
  },
  {
   "cell_type": "code",
   "execution_count": 29,
   "metadata": {},
   "outputs": [
    {
     "data": {
      "text/plain": [
       "(423761, 4)"
      ]
     },
     "execution_count": 29,
     "metadata": {},
     "output_type": "execute_result"
    }
   ],
   "source": [
    "final_events.shape"
   ]
  },
  {
   "cell_type": "code",
   "execution_count": 30,
   "metadata": {},
   "outputs": [
    {
     "data": {
      "text/html": [
       "<div>\n",
       "<style scoped>\n",
       "    .dataframe tbody tr th:only-of-type {\n",
       "        vertical-align: middle;\n",
       "    }\n",
       "\n",
       "    .dataframe tbody tr th {\n",
       "        vertical-align: top;\n",
       "    }\n",
       "\n",
       "    .dataframe thead th {\n",
       "        text-align: right;\n",
       "    }\n",
       "</style>\n",
       "<table border=\"1\" class=\"dataframe\">\n",
       "  <thead>\n",
       "    <tr style=\"text-align: right;\">\n",
       "      <th></th>\n",
       "      <th>user_id</th>\n",
       "      <th>event_dt</th>\n",
       "      <th>event_name</th>\n",
       "      <th>details</th>\n",
       "    </tr>\n",
       "  </thead>\n",
       "  <tbody>\n",
       "    <tr>\n",
       "      <td>423756</td>\n",
       "      <td>245E85F65C358E08</td>\n",
       "      <td>2020-12-30 19:35:55</td>\n",
       "      <td>login</td>\n",
       "      <td>0.0</td>\n",
       "    </tr>\n",
       "    <tr>\n",
       "      <td>423757</td>\n",
       "      <td>9385A108F5A0A7A7</td>\n",
       "      <td>2020-12-30 10:54:15</td>\n",
       "      <td>login</td>\n",
       "      <td>0.0</td>\n",
       "    </tr>\n",
       "    <tr>\n",
       "      <td>423758</td>\n",
       "      <td>DB650B7559AC6EAC</td>\n",
       "      <td>2020-12-30 10:59:09</td>\n",
       "      <td>login</td>\n",
       "      <td>0.0</td>\n",
       "    </tr>\n",
       "    <tr>\n",
       "      <td>423759</td>\n",
       "      <td>F80C9BDDEA02E53C</td>\n",
       "      <td>2020-12-30 09:53:39</td>\n",
       "      <td>login</td>\n",
       "      <td>0.0</td>\n",
       "    </tr>\n",
       "    <tr>\n",
       "      <td>423760</td>\n",
       "      <td>7AEC61159B672CC5</td>\n",
       "      <td>2020-12-30 11:36:13</td>\n",
       "      <td>login</td>\n",
       "      <td>0.0</td>\n",
       "    </tr>\n",
       "  </tbody>\n",
       "</table>\n",
       "</div>"
      ],
      "text/plain": [
       "                 user_id            event_dt event_name  details\n",
       "423756  245E85F65C358E08 2020-12-30 19:35:55      login      0.0\n",
       "423757  9385A108F5A0A7A7 2020-12-30 10:54:15      login      0.0\n",
       "423758  DB650B7559AC6EAC 2020-12-30 10:59:09      login      0.0\n",
       "423759  F80C9BDDEA02E53C 2020-12-30 09:53:39      login      0.0\n",
       "423760  7AEC61159B672CC5 2020-12-30 11:36:13      login      0.0"
      ]
     },
     "execution_count": 30,
     "metadata": {},
     "output_type": "execute_result"
    }
   ],
   "source": [
    "final_events.tail()"
   ]
  },
  {
   "cell_type": "code",
   "execution_count": 31,
   "metadata": {},
   "outputs": [
    {
     "data": {
      "text/plain": [
       "0"
      ]
     },
     "execution_count": 31,
     "metadata": {},
     "output_type": "execute_result"
    }
   ],
   "source": [
    "(final_events.details < 0).sum()"
   ]
  },
  {
   "cell_type": "markdown",
   "metadata": {},
   "source": [
    "We have nor orders with negative price. It's good sign. "
   ]
  },
  {
   "cell_type": "code",
   "execution_count": 32,
   "metadata": {},
   "outputs": [
    {
     "data": {
      "text/plain": [
       "Timestamp('2020-12-07 00:00:33')"
      ]
     },
     "execution_count": 32,
     "metadata": {},
     "output_type": "execute_result"
    }
   ],
   "source": [
    "final_events.event_dt.min()"
   ]
  },
  {
   "cell_type": "code",
   "execution_count": 33,
   "metadata": {},
   "outputs": [
    {
     "data": {
      "text/plain": [
       "Timestamp('2020-12-30 23:36:33')"
      ]
     },
     "execution_count": 33,
     "metadata": {},
     "output_type": "execute_result"
    }
   ],
   "source": [
    "final_events.event_dt.max()"
   ]
  },
  {
   "cell_type": "code",
   "execution_count": 34,
   "metadata": {},
   "outputs": [
    {
     "data": {
      "text/plain": [
       "Timestamp('2020-12-07 00:00:00')"
      ]
     },
     "execution_count": 34,
     "metadata": {},
     "output_type": "execute_result"
    }
   ],
   "source": [
    "users.first_date.min()"
   ]
  },
  {
   "cell_type": "code",
   "execution_count": 35,
   "metadata": {},
   "outputs": [
    {
     "data": {
      "text/plain": [
       "Timestamp('2020-12-23 00:00:00')"
      ]
     },
     "execution_count": 35,
     "metadata": {},
     "output_type": "execute_result"
    }
   ],
   "source": [
    "users.first_date.max()"
   ]
  },
  {
   "cell_type": "code",
   "execution_count": 36,
   "metadata": {},
   "outputs": [
    {
     "data": {
      "text/plain": [
       "Timestamp('2020-01-25 00:00:00')"
      ]
     },
     "execution_count": 36,
     "metadata": {},
     "output_type": "execute_result"
    }
   ],
   "source": [
    "marketing_events.start_dt.min()"
   ]
  },
  {
   "cell_type": "code",
   "execution_count": 37,
   "metadata": {},
   "outputs": [
    {
     "data": {
      "text/plain": [
       "Timestamp('2020-12-30 00:00:00')"
      ]
     },
     "execution_count": 37,
     "metadata": {},
     "output_type": "execute_result"
    }
   ],
   "source": [
    "marketing_events.start_dt.max()"
   ]
  },
  {
   "cell_type": "code",
   "execution_count": 38,
   "metadata": {},
   "outputs": [
    {
     "data": {
      "text/plain": [
       "Timestamp('2020-02-07 00:00:00')"
      ]
     },
     "execution_count": 38,
     "metadata": {},
     "output_type": "execute_result"
    }
   ],
   "source": [
    "marketing_events.finish_dt.min()"
   ]
  },
  {
   "cell_type": "code",
   "execution_count": 39,
   "metadata": {},
   "outputs": [
    {
     "data": {
      "text/plain": [
       "Timestamp('2021-01-07 00:00:00')"
      ]
     },
     "execution_count": 39,
     "metadata": {},
     "output_type": "execute_result"
    }
   ],
   "source": [
    "marketing_events.finish_dt.max()"
   ]
  },
  {
   "cell_type": "markdown",
   "metadata": {},
   "source": [
    "The data looks good: we are dealing with (almost) the same time period in _*users*_ and _*final_events*_ datasets. It's 100% plausible that users were signed up first and after that they took part in the some events. \n",
    "\n",
    "In the _*marketing_events*_ dataset dates are also believable: start dates are before final dates; we have data for the whole 2020 and even the start of 2021, that corresponds with our marketing datasets. "
   ]
  },
  {
   "cell_type": "markdown",
   "metadata": {},
   "source": [
    "We are going to check the test data we have. We saw in the previous step, we have data of two different tests. \n",
    "\n",
    "At first we merge test data (_*participants*_ dataset)  with _*final_events*_ dataset: otherwise we can not really work with the 1st one since it is not really informative. "
   ]
  },
  {
   "cell_type": "code",
   "execution_count": 40,
   "metadata": {},
   "outputs": [
    {
     "name": "stdout",
     "output_type": "stream",
     "text": [
      "<class 'pandas.core.frame.DataFrame'>\n",
      "Int64Index: 13638 entries, 0 to 14524\n",
      "Data columns (total 3 columns):\n",
      "user_id    13638 non-null object\n",
      "group      13638 non-null category\n",
      "ab_test    13638 non-null category\n",
      "dtypes: category(2), object(1)\n",
      "memory usage: 239.8+ KB\n"
     ]
    }
   ],
   "source": [
    "participants.info()"
   ]
  },
  {
   "cell_type": "code",
   "execution_count": 41,
   "metadata": {},
   "outputs": [
    {
     "name": "stdout",
     "output_type": "stream",
     "text": [
      "<class 'pandas.core.frame.DataFrame'>\n",
      "RangeIndex: 423761 entries, 0 to 423760\n",
      "Data columns (total 4 columns):\n",
      "user_id       423761 non-null object\n",
      "event_dt      423761 non-null datetime64[ns]\n",
      "event_name    423761 non-null category\n",
      "details       423761 non-null float64\n",
      "dtypes: category(1), datetime64[ns](1), float64(1), object(1)\n",
      "memory usage: 10.1+ MB\n"
     ]
    }
   ],
   "source": [
    "final_events.info()"
   ]
  },
  {
   "cell_type": "code",
   "execution_count": 42,
   "metadata": {},
   "outputs": [],
   "source": [
    "df = final_events.merge(participants, on='user_id')"
   ]
  },
  {
   "cell_type": "code",
   "execution_count": 43,
   "metadata": {},
   "outputs": [
    {
     "data": {
      "text/html": [
       "<div>\n",
       "<style scoped>\n",
       "    .dataframe tbody tr th:only-of-type {\n",
       "        vertical-align: middle;\n",
       "    }\n",
       "\n",
       "    .dataframe tbody tr th {\n",
       "        vertical-align: top;\n",
       "    }\n",
       "\n",
       "    .dataframe thead th {\n",
       "        text-align: right;\n",
       "    }\n",
       "</style>\n",
       "<table border=\"1\" class=\"dataframe\">\n",
       "  <thead>\n",
       "    <tr style=\"text-align: right;\">\n",
       "      <th></th>\n",
       "      <th>user_id</th>\n",
       "      <th>event_dt</th>\n",
       "      <th>event_name</th>\n",
       "      <th>details</th>\n",
       "      <th>group</th>\n",
       "      <th>ab_test</th>\n",
       "    </tr>\n",
       "  </thead>\n",
       "  <tbody>\n",
       "    <tr>\n",
       "      <td>26926</td>\n",
       "      <td>3F930D9D6D1F1262</td>\n",
       "      <td>2020-12-17 11:34:58</td>\n",
       "      <td>login</td>\n",
       "      <td>0.0</td>\n",
       "      <td>A</td>\n",
       "      <td>interface_eu_test</td>\n",
       "    </tr>\n",
       "    <tr>\n",
       "      <td>89235</td>\n",
       "      <td>06C45950CF7E4B2E</td>\n",
       "      <td>2020-12-28 17:17:55</td>\n",
       "      <td>product_page</td>\n",
       "      <td>0.0</td>\n",
       "      <td>B</td>\n",
       "      <td>interface_eu_test</td>\n",
       "    </tr>\n",
       "    <tr>\n",
       "      <td>95023</td>\n",
       "      <td>D9715C63505DA68F</td>\n",
       "      <td>2020-12-20 17:07:44</td>\n",
       "      <td>login</td>\n",
       "      <td>0.0</td>\n",
       "      <td>A</td>\n",
       "      <td>interface_eu_test</td>\n",
       "    </tr>\n",
       "    <tr>\n",
       "      <td>66769</td>\n",
       "      <td>4D2F97258975A026</td>\n",
       "      <td>2020-12-09 18:52:49</td>\n",
       "      <td>login</td>\n",
       "      <td>0.0</td>\n",
       "      <td>A</td>\n",
       "      <td>interface_eu_test</td>\n",
       "    </tr>\n",
       "    <tr>\n",
       "      <td>85521</td>\n",
       "      <td>42C60981E2D02234</td>\n",
       "      <td>2020-12-24 02:34:50</td>\n",
       "      <td>product_page</td>\n",
       "      <td>0.0</td>\n",
       "      <td>B</td>\n",
       "      <td>interface_eu_test</td>\n",
       "    </tr>\n",
       "  </tbody>\n",
       "</table>\n",
       "</div>"
      ],
      "text/plain": [
       "                user_id            event_dt    event_name  details group  \\\n",
       "26926  3F930D9D6D1F1262 2020-12-17 11:34:58         login      0.0     A   \n",
       "89235  06C45950CF7E4B2E 2020-12-28 17:17:55  product_page      0.0     B   \n",
       "95023  D9715C63505DA68F 2020-12-20 17:07:44         login      0.0     A   \n",
       "66769  4D2F97258975A026 2020-12-09 18:52:49         login      0.0     A   \n",
       "85521  42C60981E2D02234 2020-12-24 02:34:50  product_page      0.0     B   \n",
       "\n",
       "                 ab_test  \n",
       "26926  interface_eu_test  \n",
       "89235  interface_eu_test  \n",
       "95023  interface_eu_test  \n",
       "66769  interface_eu_test  \n",
       "85521  interface_eu_test  "
      ]
     },
     "execution_count": 43,
     "metadata": {},
     "output_type": "execute_result"
    }
   ],
   "source": [
    "df.sample(5)"
   ]
  },
  {
   "cell_type": "code",
   "execution_count": 44,
   "metadata": {},
   "outputs": [
    {
     "name": "stdout",
     "output_type": "stream",
     "text": [
      "<class 'pandas.core.frame.DataFrame'>\n",
      "Int64Index: 97123 entries, 0 to 97122\n",
      "Data columns (total 6 columns):\n",
      "user_id       97123 non-null object\n",
      "event_dt      97123 non-null datetime64[ns]\n",
      "event_name    97123 non-null category\n",
      "details       97123 non-null float64\n",
      "group         97123 non-null category\n",
      "ab_test       97123 non-null category\n",
      "dtypes: category(3), datetime64[ns](1), float64(1), object(1)\n",
      "memory usage: 3.2+ MB\n"
     ]
    }
   ],
   "source": [
    "df.info()"
   ]
  },
  {
   "cell_type": "code",
   "execution_count": 45,
   "metadata": {},
   "outputs": [
    {
     "data": {
      "text/plain": [
       "13638"
      ]
     },
     "execution_count": 45,
     "metadata": {},
     "output_type": "execute_result"
    }
   ],
   "source": [
    "df.user_id.nunique()"
   ]
  },
  {
   "cell_type": "markdown",
   "metadata": {},
   "source": [
    "So we have now a dataset with 97123 rows of event data of 13638 unique test participants only. \n",
    "\n",
    "Let's have a closer look on the tests data."
   ]
  },
  {
   "cell_type": "code",
   "execution_count": 46,
   "metadata": {},
   "outputs": [
    {
     "data": {
      "text/plain": [
       "9963"
      ]
     },
     "execution_count": 46,
     "metadata": {},
     "output_type": "execute_result"
    }
   ],
   "source": [
    "eu_test = df[df['ab_test'] == 'interface_eu_test']\n",
    "eu_test.user_id.nunique()"
   ]
  },
  {
   "cell_type": "code",
   "execution_count": 47,
   "metadata": {},
   "outputs": [
    {
     "data": {
      "text/plain": [
       "3675"
      ]
     },
     "execution_count": 47,
     "metadata": {},
     "output_type": "execute_result"
    }
   ],
   "source": [
    "rst = df[df['ab_test'] == 'recommender_system_test']\n",
    "rst.user_id.nunique()"
   ]
  },
  {
   "cell_type": "markdown",
   "metadata": {},
   "source": [
    "At this point we have to notice, that the data of 'recommender_system_test' does not meet the test's requirements (we need at least 6000 participants, we have less than 4000). \n",
    "\n",
    "Let's check, if the 2nd test data meets the other requirements. "
   ]
  },
  {
   "cell_type": "code",
   "execution_count": 48,
   "metadata": {},
   "outputs": [
    {
     "data": {
      "text/html": [
       "<div>\n",
       "<style scoped>\n",
       "    .dataframe tbody tr th:only-of-type {\n",
       "        vertical-align: middle;\n",
       "    }\n",
       "\n",
       "    .dataframe tbody tr th {\n",
       "        vertical-align: top;\n",
       "    }\n",
       "\n",
       "    .dataframe thead th {\n",
       "        text-align: right;\n",
       "    }\n",
       "</style>\n",
       "<table border=\"1\" class=\"dataframe\">\n",
       "  <thead>\n",
       "    <tr style=\"text-align: right;\">\n",
       "      <th></th>\n",
       "      <th>user_id</th>\n",
       "      <th>event_dt</th>\n",
       "      <th>event_name</th>\n",
       "      <th>details</th>\n",
       "      <th>group</th>\n",
       "      <th>ab_test</th>\n",
       "    </tr>\n",
       "  </thead>\n",
       "  <tbody>\n",
       "    <tr>\n",
       "      <td>28383</td>\n",
       "      <td>FAFF30D9DB812AC4</td>\n",
       "      <td>2020-12-21 07:46:14</td>\n",
       "      <td>product_cart</td>\n",
       "      <td>0.0</td>\n",
       "      <td>B</td>\n",
       "      <td>interface_eu_test</td>\n",
       "    </tr>\n",
       "  </tbody>\n",
       "</table>\n",
       "</div>"
      ],
      "text/plain": [
       "                user_id            event_dt    event_name  details group  \\\n",
       "28383  FAFF30D9DB812AC4 2020-12-21 07:46:14  product_cart      0.0     B   \n",
       "\n",
       "                 ab_test  \n",
       "28383  interface_eu_test  "
      ]
     },
     "execution_count": 48,
     "metadata": {},
     "output_type": "execute_result"
    }
   ],
   "source": [
    "eu_test.sample()"
   ]
  },
  {
   "cell_type": "code",
   "execution_count": 49,
   "metadata": {},
   "outputs": [],
   "source": [
    "eu_test = eu_test.merge(users, on = \"user_id\")"
   ]
  },
  {
   "cell_type": "code",
   "execution_count": 50,
   "metadata": {},
   "outputs": [
    {
     "data": {
      "text/html": [
       "<div>\n",
       "<style scoped>\n",
       "    .dataframe tbody tr th:only-of-type {\n",
       "        vertical-align: middle;\n",
       "    }\n",
       "\n",
       "    .dataframe tbody tr th {\n",
       "        vertical-align: top;\n",
       "    }\n",
       "\n",
       "    .dataframe thead th {\n",
       "        text-align: right;\n",
       "    }\n",
       "</style>\n",
       "<table border=\"1\" class=\"dataframe\">\n",
       "  <thead>\n",
       "    <tr style=\"text-align: right;\">\n",
       "      <th></th>\n",
       "      <th>user_id</th>\n",
       "      <th>event_dt</th>\n",
       "      <th>event_name</th>\n",
       "      <th>details</th>\n",
       "      <th>group</th>\n",
       "      <th>ab_test</th>\n",
       "      <th>first_date</th>\n",
       "      <th>region</th>\n",
       "      <th>device</th>\n",
       "    </tr>\n",
       "  </thead>\n",
       "  <tbody>\n",
       "    <tr>\n",
       "      <td>23806</td>\n",
       "      <td>9AA3EE102047947D</td>\n",
       "      <td>2020-12-20 23:56:10</td>\n",
       "      <td>purchase</td>\n",
       "      <td>499.99</td>\n",
       "      <td>B</td>\n",
       "      <td>interface_eu_test</td>\n",
       "      <td>2020-12-19</td>\n",
       "      <td>EU</td>\n",
       "      <td>Android</td>\n",
       "    </tr>\n",
       "    <tr>\n",
       "      <td>35771</td>\n",
       "      <td>1E63518899831413</td>\n",
       "      <td>2020-12-10 14:13:20</td>\n",
       "      <td>product_page</td>\n",
       "      <td>0.00</td>\n",
       "      <td>A</td>\n",
       "      <td>interface_eu_test</td>\n",
       "      <td>2020-12-09</td>\n",
       "      <td>EU</td>\n",
       "      <td>iPhone</td>\n",
       "    </tr>\n",
       "    <tr>\n",
       "      <td>27853</td>\n",
       "      <td>7CCCC6057ADD3A46</td>\n",
       "      <td>2020-12-23 11:08:03</td>\n",
       "      <td>login</td>\n",
       "      <td>0.00</td>\n",
       "      <td>B</td>\n",
       "      <td>interface_eu_test</td>\n",
       "      <td>2020-12-21</td>\n",
       "      <td>EU</td>\n",
       "      <td>Android</td>\n",
       "    </tr>\n",
       "    <tr>\n",
       "      <td>44701</td>\n",
       "      <td>9FA5B0E128A57229</td>\n",
       "      <td>2020-12-18 16:11:47</td>\n",
       "      <td>product_cart</td>\n",
       "      <td>0.00</td>\n",
       "      <td>B</td>\n",
       "      <td>interface_eu_test</td>\n",
       "      <td>2020-12-17</td>\n",
       "      <td>EU</td>\n",
       "      <td>Mac</td>\n",
       "    </tr>\n",
       "    <tr>\n",
       "      <td>67850</td>\n",
       "      <td>7C821E010A225D28</td>\n",
       "      <td>2020-12-27 18:42:48</td>\n",
       "      <td>login</td>\n",
       "      <td>0.00</td>\n",
       "      <td>A</td>\n",
       "      <td>interface_eu_test</td>\n",
       "      <td>2020-12-22</td>\n",
       "      <td>EU</td>\n",
       "      <td>Mac</td>\n",
       "    </tr>\n",
       "    <tr>\n",
       "      <td>44917</td>\n",
       "      <td>FD2CFB46A7C73C63</td>\n",
       "      <td>2020-12-23 17:33:45</td>\n",
       "      <td>product_page</td>\n",
       "      <td>0.00</td>\n",
       "      <td>B</td>\n",
       "      <td>interface_eu_test</td>\n",
       "      <td>2020-12-17</td>\n",
       "      <td>EU</td>\n",
       "      <td>PC</td>\n",
       "    </tr>\n",
       "    <tr>\n",
       "      <td>41271</td>\n",
       "      <td>8FBA32D5208B685A</td>\n",
       "      <td>2020-12-14 03:14:39</td>\n",
       "      <td>product_page</td>\n",
       "      <td>0.00</td>\n",
       "      <td>A</td>\n",
       "      <td>interface_eu_test</td>\n",
       "      <td>2020-12-14</td>\n",
       "      <td>EU</td>\n",
       "      <td>iPhone</td>\n",
       "    </tr>\n",
       "    <tr>\n",
       "      <td>23853</td>\n",
       "      <td>2E6D5E5DD865146C</td>\n",
       "      <td>2020-12-21 06:38:48</td>\n",
       "      <td>product_page</td>\n",
       "      <td>0.00</td>\n",
       "      <td>A</td>\n",
       "      <td>interface_eu_test</td>\n",
       "      <td>2020-12-19</td>\n",
       "      <td>EU</td>\n",
       "      <td>iPhone</td>\n",
       "    </tr>\n",
       "    <tr>\n",
       "      <td>37008</td>\n",
       "      <td>E64A29E168C91D92</td>\n",
       "      <td>2020-12-10 07:45:14</td>\n",
       "      <td>product_page</td>\n",
       "      <td>0.00</td>\n",
       "      <td>B</td>\n",
       "      <td>interface_eu_test</td>\n",
       "      <td>2020-12-10</td>\n",
       "      <td>EU</td>\n",
       "      <td>Mac</td>\n",
       "    </tr>\n",
       "    <tr>\n",
       "      <td>7434</td>\n",
       "      <td>2A95B8EEF2C290DA</td>\n",
       "      <td>2020-12-22 05:46:29</td>\n",
       "      <td>purchase</td>\n",
       "      <td>4.99</td>\n",
       "      <td>B</td>\n",
       "      <td>interface_eu_test</td>\n",
       "      <td>2020-12-10</td>\n",
       "      <td>EU</td>\n",
       "      <td>Android</td>\n",
       "    </tr>\n",
       "  </tbody>\n",
       "</table>\n",
       "</div>"
      ],
      "text/plain": [
       "                user_id            event_dt    event_name  details group  \\\n",
       "23806  9AA3EE102047947D 2020-12-20 23:56:10      purchase   499.99     B   \n",
       "35771  1E63518899831413 2020-12-10 14:13:20  product_page     0.00     A   \n",
       "27853  7CCCC6057ADD3A46 2020-12-23 11:08:03         login     0.00     B   \n",
       "44701  9FA5B0E128A57229 2020-12-18 16:11:47  product_cart     0.00     B   \n",
       "67850  7C821E010A225D28 2020-12-27 18:42:48         login     0.00     A   \n",
       "44917  FD2CFB46A7C73C63 2020-12-23 17:33:45  product_page     0.00     B   \n",
       "41271  8FBA32D5208B685A 2020-12-14 03:14:39  product_page     0.00     A   \n",
       "23853  2E6D5E5DD865146C 2020-12-21 06:38:48  product_page     0.00     A   \n",
       "37008  E64A29E168C91D92 2020-12-10 07:45:14  product_page     0.00     B   \n",
       "7434   2A95B8EEF2C290DA 2020-12-22 05:46:29      purchase     4.99     B   \n",
       "\n",
       "                 ab_test first_date region   device  \n",
       "23806  interface_eu_test 2020-12-19     EU  Android  \n",
       "35771  interface_eu_test 2020-12-09     EU   iPhone  \n",
       "27853  interface_eu_test 2020-12-21     EU  Android  \n",
       "44701  interface_eu_test 2020-12-17     EU      Mac  \n",
       "67850  interface_eu_test 2020-12-22     EU      Mac  \n",
       "44917  interface_eu_test 2020-12-17     EU       PC  \n",
       "41271  interface_eu_test 2020-12-14     EU   iPhone  \n",
       "23853  interface_eu_test 2020-12-19     EU   iPhone  \n",
       "37008  interface_eu_test 2020-12-10     EU      Mac  \n",
       "7434   interface_eu_test 2020-12-10     EU  Android  "
      ]
     },
     "execution_count": 50,
     "metadata": {},
     "output_type": "execute_result"
    }
   ],
   "source": [
    "eu_test.sample(10)"
   ]
  },
  {
   "cell_type": "code",
   "execution_count": 51,
   "metadata": {},
   "outputs": [
    {
     "data": {
      "text/plain": [
       "9963"
      ]
     },
     "execution_count": 51,
     "metadata": {},
     "output_type": "execute_result"
    }
   ],
   "source": [
    "eu_test.user_id.nunique()"
   ]
  },
  {
   "cell_type": "code",
   "execution_count": 52,
   "metadata": {},
   "outputs": [
    {
     "name": "stdout",
     "output_type": "stream",
     "text": [
      "<class 'pandas.core.frame.DataFrame'>\n",
      "Int64Index: 73214 entries, 0 to 73213\n",
      "Data columns (total 9 columns):\n",
      "user_id       73214 non-null object\n",
      "event_dt      73214 non-null datetime64[ns]\n",
      "event_name    73214 non-null category\n",
      "details       73214 non-null float64\n",
      "group         73214 non-null category\n",
      "ab_test       73214 non-null category\n",
      "first_date    73214 non-null datetime64[ns]\n",
      "region        73214 non-null category\n",
      "device        73214 non-null category\n",
      "dtypes: category(5), datetime64[ns](2), float64(1), object(1)\n",
      "memory usage: 3.1+ MB\n"
     ]
    }
   ],
   "source": [
    "eu_test.info()"
   ]
  },
  {
   "cell_type": "code",
   "execution_count": 53,
   "metadata": {},
   "outputs": [
    {
     "data": {
      "text/plain": [
       "1"
      ]
     },
     "execution_count": 53,
     "metadata": {},
     "output_type": "execute_result"
    }
   ],
   "source": [
    "eu_test.region.nunique()"
   ]
  },
  {
   "cell_type": "markdown",
   "metadata": {},
   "source": [
    "It's not very surprising, that in the 'eu_test' participate users from EU only. But it does not meet one of our test's requirements(\"Audience: 15% of the new users from the EU region\"). \n",
    "\n",
    "Maybe we have to use 'recommender_system_test' data? Let's check the geographic there. "
   ]
  },
  {
   "cell_type": "code",
   "execution_count": 54,
   "metadata": {},
   "outputs": [],
   "source": [
    "rst = rst.merge(users, on = \"user_id\")"
   ]
  },
  {
   "cell_type": "code",
   "execution_count": 55,
   "metadata": {},
   "outputs": [
    {
     "data": {
      "text/plain": [
       "4"
      ]
     },
     "execution_count": 55,
     "metadata": {},
     "output_type": "execute_result"
    }
   ],
   "source": [
    "rst.region.nunique()"
   ]
  },
  {
   "cell_type": "code",
   "execution_count": 56,
   "metadata": {},
   "outputs": [
    {
     "data": {
      "text/plain": [
       "[EU, N.America, CIS, APAC]\n",
       "Categories (4, object): [EU, N.America, CIS, APAC]"
      ]
     },
     "execution_count": 56,
     "metadata": {},
     "output_type": "execute_result"
    }
   ],
   "source": [
    "rst.region.unique()"
   ]
  },
  {
   "cell_type": "code",
   "execution_count": 57,
   "metadata": {},
   "outputs": [
    {
     "name": "stdout",
     "output_type": "stream",
     "text": [
      "<class 'pandas.core.frame.DataFrame'>\n",
      "Int64Index: 23909 entries, 0 to 23908\n",
      "Data columns (total 9 columns):\n",
      "user_id       23909 non-null object\n",
      "event_dt      23909 non-null datetime64[ns]\n",
      "event_name    23909 non-null category\n",
      "details       23909 non-null float64\n",
      "group         23909 non-null category\n",
      "ab_test       23909 non-null category\n",
      "first_date    23909 non-null datetime64[ns]\n",
      "region        23909 non-null category\n",
      "device        23909 non-null category\n",
      "dtypes: category(5), datetime64[ns](2), float64(1), object(1)\n",
      "memory usage: 1.0+ MB\n"
     ]
    }
   ],
   "source": [
    "rst.info()"
   ]
  },
  {
   "cell_type": "code",
   "execution_count": 58,
   "metadata": {},
   "outputs": [
    {
     "data": {
      "text/plain": [
       "3675"
      ]
     },
     "execution_count": 58,
     "metadata": {},
     "output_type": "execute_result"
    }
   ],
   "source": [
    "rst_u = rst[['user_id','region']].drop_duplicates()\n",
    "len(rst_u)"
   ]
  },
  {
   "cell_type": "code",
   "execution_count": 59,
   "metadata": {},
   "outputs": [
    {
     "data": {
      "text/plain": [
       "0.9472108843537415"
      ]
     },
     "execution_count": 59,
     "metadata": {},
     "output_type": "execute_result"
    }
   ],
   "source": [
    "len(rst_u[rst_u['region']=='EU']) / len(rst_u)"
   ]
  },
  {
   "cell_type": "markdown",
   "metadata": {},
   "source": [
    "Almost all (95%) of the 'recommender_system_test' participants were from EU. It does not meet the reqirements either. "
   ]
  },
  {
   "cell_type": "code",
   "execution_count": 60,
   "metadata": {},
   "outputs": [
    {
     "data": {
      "text/plain": [
       "0.779079007904973"
      ]
     },
     "execution_count": 60,
     "metadata": {},
     "output_type": "execute_result"
    }
   ],
   "source": [
    "len(rst[rst['group']=='A']) / len(rst)"
   ]
  },
  {
   "cell_type": "code",
   "execution_count": 61,
   "metadata": {},
   "outputs": [
    {
     "data": {
      "text/plain": [
       "0.22092099209502697"
      ]
     },
     "execution_count": 61,
     "metadata": {},
     "output_type": "execute_result"
    }
   ],
   "source": [
    "len(rst[rst['group']=='B']) / len(rst)"
   ]
  },
  {
   "cell_type": "markdown",
   "metadata": {},
   "source": [
    "Partition into groups during 'recommender_system_test' was performed very strange with ratio 78% to 22%. It seems, that the test was not performed correctly or data was not collected correctly and it makes this data unusable for our further processing. \n",
    "\n",
    "Let's check the other test's group partition. "
   ]
  },
  {
   "cell_type": "code",
   "execution_count": 62,
   "metadata": {},
   "outputs": [
    {
     "data": {
      "text/plain": [
       "0.5072117354604311"
      ]
     },
     "execution_count": 62,
     "metadata": {},
     "output_type": "execute_result"
    }
   ],
   "source": [
    "len(eu_test[eu_test['group']=='A']) / len(eu_test)"
   ]
  },
  {
   "cell_type": "code",
   "execution_count": 63,
   "metadata": {},
   "outputs": [
    {
     "data": {
      "text/plain": [
       "0.4927882645395689"
      ]
     },
     "execution_count": 63,
     "metadata": {},
     "output_type": "execute_result"
    }
   ],
   "source": [
    "len(eu_test[eu_test['group']=='B']) / len(eu_test)"
   ]
  },
  {
   "cell_type": "markdown",
   "metadata": {},
   "source": [
    "It looks much better. It seems, that data can be used for statistical tests later. "
   ]
  },
  {
   "cell_type": "markdown",
   "metadata": {},
   "source": [
    "##################################################################################################"
   ]
  },
  {
   "cell_type": "markdown",
   "metadata": {},
   "source": [
    "##### Step 2.2 Conversion\n",
    "\n",
    "<a class=\"anchor\" id=\"part22\"></a>"
   ]
  },
  {
   "cell_type": "markdown",
   "metadata": {},
   "source": [
    "We can go for the conversion at different funnel stages now. We need data, how many logins we had, how many of users visited product page, added something to the cart and purchased something. "
   ]
  },
  {
   "cell_type": "code",
   "execution_count": 64,
   "metadata": {},
   "outputs": [
    {
     "data": {
      "text/html": [
       "<div>\n",
       "<style scoped>\n",
       "    .dataframe tbody tr th:only-of-type {\n",
       "        vertical-align: middle;\n",
       "    }\n",
       "\n",
       "    .dataframe tbody tr th {\n",
       "        vertical-align: top;\n",
       "    }\n",
       "\n",
       "    .dataframe thead tr th {\n",
       "        text-align: left;\n",
       "    }\n",
       "\n",
       "    .dataframe thead tr:last-of-type th {\n",
       "        text-align: right;\n",
       "    }\n",
       "</style>\n",
       "<table border=\"1\" class=\"dataframe\">\n",
       "  <thead>\n",
       "    <tr>\n",
       "      <th></th>\n",
       "      <th colspan=\"2\" halign=\"left\">nunique</th>\n",
       "    </tr>\n",
       "    <tr>\n",
       "      <th></th>\n",
       "      <th>event_dt</th>\n",
       "      <th>event_name</th>\n",
       "    </tr>\n",
       "    <tr>\n",
       "      <th>event_name</th>\n",
       "      <th></th>\n",
       "      <th></th>\n",
       "    </tr>\n",
       "  </thead>\n",
       "  <tbody>\n",
       "    <tr>\n",
       "      <td>product_cart</td>\n",
       "      <td>10422</td>\n",
       "      <td>1</td>\n",
       "    </tr>\n",
       "    <tr>\n",
       "      <td>product_page</td>\n",
       "      <td>20534</td>\n",
       "      <td>1</td>\n",
       "    </tr>\n",
       "    <tr>\n",
       "      <td>purchase</td>\n",
       "      <td>10785</td>\n",
       "      <td>1</td>\n",
       "    </tr>\n",
       "    <tr>\n",
       "      <td>login</td>\n",
       "      <td>30978</td>\n",
       "      <td>1</td>\n",
       "    </tr>\n",
       "  </tbody>\n",
       "</table>\n",
       "</div>"
      ],
      "text/plain": [
       "              nunique           \n",
       "             event_dt event_name\n",
       "event_name                      \n",
       "product_cart    10422          1\n",
       "product_page    20534          1\n",
       "purchase        10785          1\n",
       "login           30978          1"
      ]
     },
     "execution_count": 64,
     "metadata": {},
     "output_type": "execute_result"
    }
   ],
   "source": [
    "by_events = pd.pivot_table(eu_test, index = ['event_name'], values =['event_dt'], aggfunc=['nunique'])\n",
    "by_events"
   ]
  },
  {
   "cell_type": "code",
   "execution_count": 65,
   "metadata": {},
   "outputs": [],
   "source": [
    "by_events.columns = by_events.columns.droplevel(0)"
   ]
  },
  {
   "cell_type": "code",
   "execution_count": 66,
   "metadata": {},
   "outputs": [],
   "source": [
    "del by_events['event_name']"
   ]
  },
  {
   "cell_type": "code",
   "execution_count": 67,
   "metadata": {},
   "outputs": [],
   "source": [
    "by_events.columns = ['count']"
   ]
  },
  {
   "cell_type": "code",
   "execution_count": 68,
   "metadata": {
    "scrolled": true
   },
   "outputs": [
    {
     "data": {
      "text/html": [
       "<div>\n",
       "<style scoped>\n",
       "    .dataframe tbody tr th:only-of-type {\n",
       "        vertical-align: middle;\n",
       "    }\n",
       "\n",
       "    .dataframe tbody tr th {\n",
       "        vertical-align: top;\n",
       "    }\n",
       "\n",
       "    .dataframe thead th {\n",
       "        text-align: right;\n",
       "    }\n",
       "</style>\n",
       "<table border=\"1\" class=\"dataframe\">\n",
       "  <thead>\n",
       "    <tr style=\"text-align: right;\">\n",
       "      <th></th>\n",
       "      <th>event_name</th>\n",
       "      <th>count</th>\n",
       "    </tr>\n",
       "  </thead>\n",
       "  <tbody>\n",
       "    <tr>\n",
       "      <td>0</td>\n",
       "      <td>login</td>\n",
       "      <td>30978</td>\n",
       "    </tr>\n",
       "    <tr>\n",
       "      <td>1</td>\n",
       "      <td>product_page</td>\n",
       "      <td>20534</td>\n",
       "    </tr>\n",
       "    <tr>\n",
       "      <td>2</td>\n",
       "      <td>purchase</td>\n",
       "      <td>10785</td>\n",
       "    </tr>\n",
       "    <tr>\n",
       "      <td>3</td>\n",
       "      <td>product_cart</td>\n",
       "      <td>10422</td>\n",
       "    </tr>\n",
       "  </tbody>\n",
       "</table>\n",
       "</div>"
      ],
      "text/plain": [
       "     event_name  count\n",
       "0         login  30978\n",
       "1  product_page  20534\n",
       "2      purchase  10785\n",
       "3  product_cart  10422"
      ]
     },
     "execution_count": 68,
     "metadata": {},
     "output_type": "execute_result"
    }
   ],
   "source": [
    "by_events = by_events.sort_values(by='count', ascending = False)\n",
    "by_events.reset_index()"
   ]
  },
  {
   "cell_type": "markdown",
   "metadata": {},
   "source": [
    "Here we can already see the funnel. \n",
    "\n",
    "The funnel for has not typical form: the number of orders is bigger, then the number of placing of product to a cart. \n",
    "\n",
    "Probably part of the users got a direct link for purchase without using a cart (or they possibly used a \"Buy in one click\" button). "
   ]
  },
  {
   "cell_type": "code",
   "execution_count": 69,
   "metadata": {},
   "outputs": [],
   "source": [
    "event_users = eu_test.groupby('event_name')['user_id'].nunique().sort_values(ascending=False) \n",
    "event_users = event_users.reset_index()\n",
    "event_users.columns = ['event_name', 'nuser_unique']\n",
    "event_users['ratio'] = (event_users['nuser_unique'] / eu_test.user_id.nunique()) * 100"
   ]
  },
  {
   "cell_type": "code",
   "execution_count": 70,
   "metadata": {},
   "outputs": [
    {
     "data": {
      "text/html": [
       "<div>\n",
       "<style scoped>\n",
       "    .dataframe tbody tr th:only-of-type {\n",
       "        vertical-align: middle;\n",
       "    }\n",
       "\n",
       "    .dataframe tbody tr th {\n",
       "        vertical-align: top;\n",
       "    }\n",
       "\n",
       "    .dataframe thead th {\n",
       "        text-align: right;\n",
       "    }\n",
       "</style>\n",
       "<table border=\"1\" class=\"dataframe\">\n",
       "  <thead>\n",
       "    <tr style=\"text-align: right;\">\n",
       "      <th></th>\n",
       "      <th>event_name</th>\n",
       "      <th>nuser_unique</th>\n",
       "      <th>ratio</th>\n",
       "    </tr>\n",
       "  </thead>\n",
       "  <tbody>\n",
       "    <tr>\n",
       "      <td>0</td>\n",
       "      <td>login</td>\n",
       "      <td>9962</td>\n",
       "      <td>99.989963</td>\n",
       "    </tr>\n",
       "    <tr>\n",
       "      <td>1</td>\n",
       "      <td>product_page</td>\n",
       "      <td>6620</td>\n",
       "      <td>66.445850</td>\n",
       "    </tr>\n",
       "    <tr>\n",
       "      <td>2</td>\n",
       "      <td>purchase</td>\n",
       "      <td>3435</td>\n",
       "      <td>34.477567</td>\n",
       "    </tr>\n",
       "    <tr>\n",
       "      <td>3</td>\n",
       "      <td>product_cart</td>\n",
       "      <td>3315</td>\n",
       "      <td>33.273111</td>\n",
       "    </tr>\n",
       "  </tbody>\n",
       "</table>\n",
       "</div>"
      ],
      "text/plain": [
       "     event_name  nuser_unique      ratio\n",
       "0         login          9962  99.989963\n",
       "1  product_page          6620  66.445850\n",
       "2      purchase          3435  34.477567\n",
       "3  product_cart          3315  33.273111"
      ]
     },
     "execution_count": 70,
     "metadata": {},
     "output_type": "execute_result"
    }
   ],
   "source": [
    "event_users"
   ]
  },
  {
   "cell_type": "markdown",
   "metadata": {},
   "source": [
    "If we filter users who skip the cart stage, we will probably get classical funnel _*login -> product_page -> product_cart -> purchase.*_ But our tutor says,  such filtration would be redundant. "
   ]
  },
  {
   "cell_type": "markdown",
   "metadata": {},
   "source": [
    "##### Step 2.3 Number of events per user in the samples\n",
    "\n",
    "<a class=\"anchor\" id=\"part23\"></a>"
   ]
  },
  {
   "cell_type": "markdown",
   "metadata": {},
   "source": [
    "We are assuming, that under \"samples\" are meant test groups here. "
   ]
  },
  {
   "cell_type": "code",
   "execution_count": 71,
   "metadata": {},
   "outputs": [
    {
     "data": {
      "text/plain": [
       "37135"
      ]
     },
     "execution_count": 71,
     "metadata": {},
     "output_type": "execute_result"
    }
   ],
   "source": [
    "eu_test_A = eu_test[eu_test['group']=='A']\n",
    "len(eu_test_A)"
   ]
  },
  {
   "cell_type": "code",
   "execution_count": 72,
   "metadata": {},
   "outputs": [
    {
     "data": {
      "text/plain": [
       "36079"
      ]
     },
     "execution_count": 72,
     "metadata": {},
     "output_type": "execute_result"
    }
   ],
   "source": [
    "eu_test_B = eu_test[eu_test['group']=='B']\n",
    "len(eu_test_B)"
   ]
  },
  {
   "cell_type": "code",
   "execution_count": 73,
   "metadata": {},
   "outputs": [],
   "source": [
    "event_users_A = eu_test_A.groupby('event_name')['user_id'].nunique().sort_values(ascending=False) \n",
    "event_users_A = event_users_A.reset_index()\n",
    "event_users_A.columns = ['event_name', 'nuser_unique']\n",
    "event_users_A['ratio'] = (event_users_A['nuser_unique'] / eu_test_A.user_id.nunique()) * 100"
   ]
  },
  {
   "cell_type": "code",
   "execution_count": 74,
   "metadata": {},
   "outputs": [
    {
     "data": {
      "text/html": [
       "<div>\n",
       "<style scoped>\n",
       "    .dataframe tbody tr th:only-of-type {\n",
       "        vertical-align: middle;\n",
       "    }\n",
       "\n",
       "    .dataframe tbody tr th {\n",
       "        vertical-align: top;\n",
       "    }\n",
       "\n",
       "    .dataframe thead th {\n",
       "        text-align: right;\n",
       "    }\n",
       "</style>\n",
       "<table border=\"1\" class=\"dataframe\">\n",
       "  <thead>\n",
       "    <tr style=\"text-align: right;\">\n",
       "      <th></th>\n",
       "      <th>event_name</th>\n",
       "      <th>nuser_unique</th>\n",
       "      <th>ratio</th>\n",
       "    </tr>\n",
       "  </thead>\n",
       "  <tbody>\n",
       "    <tr>\n",
       "      <td>0</td>\n",
       "      <td>login</td>\n",
       "      <td>5010</td>\n",
       "      <td>99.980044</td>\n",
       "    </tr>\n",
       "    <tr>\n",
       "      <td>1</td>\n",
       "      <td>product_page</td>\n",
       "      <td>3366</td>\n",
       "      <td>67.172221</td>\n",
       "    </tr>\n",
       "    <tr>\n",
       "      <td>2</td>\n",
       "      <td>purchase</td>\n",
       "      <td>1782</td>\n",
       "      <td>35.561764</td>\n",
       "    </tr>\n",
       "    <tr>\n",
       "      <td>3</td>\n",
       "      <td>product_cart</td>\n",
       "      <td>1629</td>\n",
       "      <td>32.508481</td>\n",
       "    </tr>\n",
       "  </tbody>\n",
       "</table>\n",
       "</div>"
      ],
      "text/plain": [
       "     event_name  nuser_unique      ratio\n",
       "0         login          5010  99.980044\n",
       "1  product_page          3366  67.172221\n",
       "2      purchase          1782  35.561764\n",
       "3  product_cart          1629  32.508481"
      ]
     },
     "execution_count": 74,
     "metadata": {},
     "output_type": "execute_result"
    }
   ],
   "source": [
    "event_users_A"
   ]
  },
  {
   "cell_type": "code",
   "execution_count": 75,
   "metadata": {},
   "outputs": [],
   "source": [
    "event_users_B = eu_test_B.groupby('event_name')['user_id'].nunique().sort_values(ascending=False) \n",
    "event_users_B = event_users_B.reset_index()\n",
    "event_users_B.columns = ['event_name', 'nuser_unique']\n",
    "event_users_B['ratio'] = (event_users_B['nuser_unique'] / eu_test_B.user_id.nunique()) * 100"
   ]
  },
  {
   "cell_type": "code",
   "execution_count": 76,
   "metadata": {},
   "outputs": [
    {
     "data": {
      "text/html": [
       "<div>\n",
       "<style scoped>\n",
       "    .dataframe tbody tr th:only-of-type {\n",
       "        vertical-align: middle;\n",
       "    }\n",
       "\n",
       "    .dataframe tbody tr th {\n",
       "        vertical-align: top;\n",
       "    }\n",
       "\n",
       "    .dataframe thead th {\n",
       "        text-align: right;\n",
       "    }\n",
       "</style>\n",
       "<table border=\"1\" class=\"dataframe\">\n",
       "  <thead>\n",
       "    <tr style=\"text-align: right;\">\n",
       "      <th></th>\n",
       "      <th>event_name</th>\n",
       "      <th>nuser_unique</th>\n",
       "      <th>ratio</th>\n",
       "    </tr>\n",
       "  </thead>\n",
       "  <tbody>\n",
       "    <tr>\n",
       "      <td>0</td>\n",
       "      <td>login</td>\n",
       "      <td>4952</td>\n",
       "      <td>100.000000</td>\n",
       "    </tr>\n",
       "    <tr>\n",
       "      <td>1</td>\n",
       "      <td>product_page</td>\n",
       "      <td>3254</td>\n",
       "      <td>65.710824</td>\n",
       "    </tr>\n",
       "    <tr>\n",
       "      <td>2</td>\n",
       "      <td>product_cart</td>\n",
       "      <td>1686</td>\n",
       "      <td>34.046850</td>\n",
       "    </tr>\n",
       "    <tr>\n",
       "      <td>3</td>\n",
       "      <td>purchase</td>\n",
       "      <td>1653</td>\n",
       "      <td>33.380452</td>\n",
       "    </tr>\n",
       "  </tbody>\n",
       "</table>\n",
       "</div>"
      ],
      "text/plain": [
       "     event_name  nuser_unique       ratio\n",
       "0         login          4952  100.000000\n",
       "1  product_page          3254   65.710824\n",
       "2  product_cart          1686   34.046850\n",
       "3      purchase          1653   33.380452"
      ]
     },
     "execution_count": 76,
     "metadata": {},
     "output_type": "execute_result"
    }
   ],
   "source": [
    "event_users_B"
   ]
  },
  {
   "cell_type": "markdown",
   "metadata": {},
   "source": [
    "The calculation data above let us to make a couple of conclusions. \n",
    "\n",
    "1st of all, it does not seem, that the group B has any significantly better figures. \n",
    "\n",
    "2nd of all, while the funnel for the group B looks absolutly \"normal\" ( _*login -> product_page -> product_cart -> purchase.*_), the funnel for the group A has not typical form we mentioned above: the number of orders is bigger, then the number of placing of product to a cart. \n",
    "\n",
    "Probably that were mostly part of group A members who got a direct link for purchase without using a cart (or they used a \"Buy in one click\" button). "
   ]
  },
  {
   "cell_type": "markdown",
   "metadata": {},
   "source": [
    "##### Step 2.4 Are there users who enter both samples?  \n",
    "\n",
    "<a class=\"anchor\" id=\"part24\"></a> "
   ]
  },
  {
   "cell_type": "markdown",
   "metadata": {},
   "source": [
    "At this point we want to check, if we have users who are in the both groups simultaneously. "
   ]
  },
  {
   "cell_type": "code",
   "execution_count": 77,
   "metadata": {},
   "outputs": [
    {
     "data": {
      "text/plain": [
       "0"
      ]
     },
     "execution_count": 77,
     "metadata": {},
     "output_type": "execute_result"
    }
   ],
   "source": [
    "eu_test_A.user_id.isin(eu_test_B.user_id).sum()"
   ]
  },
  {
   "cell_type": "markdown",
   "metadata": {},
   "source": [
    "It seems, that the users were partitioned in the groups correctly. (Probably we get rid all the problem cases in earlier stages.)"
   ]
  },
  {
   "cell_type": "markdown",
   "metadata": {},
   "source": [
    "##### Step 2.5 How is the number of events distributed by days? \n",
    "\n",
    "<a class=\"anchor\" id=\"part25\"></a> "
   ]
  },
  {
   "cell_type": "code",
   "execution_count": 78,
   "metadata": {},
   "outputs": [
    {
     "data": {
      "text/html": [
       "<div>\n",
       "<style scoped>\n",
       "    .dataframe tbody tr th:only-of-type {\n",
       "        vertical-align: middle;\n",
       "    }\n",
       "\n",
       "    .dataframe tbody tr th {\n",
       "        vertical-align: top;\n",
       "    }\n",
       "\n",
       "    .dataframe thead th {\n",
       "        text-align: right;\n",
       "    }\n",
       "</style>\n",
       "<table border=\"1\" class=\"dataframe\">\n",
       "  <thead>\n",
       "    <tr style=\"text-align: right;\">\n",
       "      <th></th>\n",
       "      <th>user_id</th>\n",
       "      <th>event_dt</th>\n",
       "      <th>event_name</th>\n",
       "      <th>details</th>\n",
       "      <th>group</th>\n",
       "      <th>ab_test</th>\n",
       "      <th>first_date</th>\n",
       "      <th>region</th>\n",
       "      <th>device</th>\n",
       "    </tr>\n",
       "  </thead>\n",
       "  <tbody>\n",
       "    <tr>\n",
       "      <td>0</td>\n",
       "      <td>96F27A054B191457</td>\n",
       "      <td>2020-12-07 04:02:40</td>\n",
       "      <td>purchase</td>\n",
       "      <td>4.99</td>\n",
       "      <td>B</td>\n",
       "      <td>interface_eu_test</td>\n",
       "      <td>2020-12-07</td>\n",
       "      <td>EU</td>\n",
       "      <td>iPhone</td>\n",
       "    </tr>\n",
       "    <tr>\n",
       "      <td>1</td>\n",
       "      <td>96F27A054B191457</td>\n",
       "      <td>2020-12-08 09:43:14</td>\n",
       "      <td>purchase</td>\n",
       "      <td>4.99</td>\n",
       "      <td>B</td>\n",
       "      <td>interface_eu_test</td>\n",
       "      <td>2020-12-07</td>\n",
       "      <td>EU</td>\n",
       "      <td>iPhone</td>\n",
       "    </tr>\n",
       "    <tr>\n",
       "      <td>2</td>\n",
       "      <td>96F27A054B191457</td>\n",
       "      <td>2020-12-09 00:44:10</td>\n",
       "      <td>purchase</td>\n",
       "      <td>4.99</td>\n",
       "      <td>B</td>\n",
       "      <td>interface_eu_test</td>\n",
       "      <td>2020-12-07</td>\n",
       "      <td>EU</td>\n",
       "      <td>iPhone</td>\n",
       "    </tr>\n",
       "    <tr>\n",
       "      <td>3</td>\n",
       "      <td>96F27A054B191457</td>\n",
       "      <td>2020-12-26 00:33:57</td>\n",
       "      <td>purchase</td>\n",
       "      <td>9.99</td>\n",
       "      <td>B</td>\n",
       "      <td>interface_eu_test</td>\n",
       "      <td>2020-12-07</td>\n",
       "      <td>EU</td>\n",
       "      <td>iPhone</td>\n",
       "    </tr>\n",
       "    <tr>\n",
       "      <td>4</td>\n",
       "      <td>96F27A054B191457</td>\n",
       "      <td>2020-12-07 04:02:41</td>\n",
       "      <td>product_page</td>\n",
       "      <td>0.00</td>\n",
       "      <td>B</td>\n",
       "      <td>interface_eu_test</td>\n",
       "      <td>2020-12-07</td>\n",
       "      <td>EU</td>\n",
       "      <td>iPhone</td>\n",
       "    </tr>\n",
       "    <tr>\n",
       "      <td>...</td>\n",
       "      <td>...</td>\n",
       "      <td>...</td>\n",
       "      <td>...</td>\n",
       "      <td>...</td>\n",
       "      <td>...</td>\n",
       "      <td>...</td>\n",
       "      <td>...</td>\n",
       "      <td>...</td>\n",
       "      <td>...</td>\n",
       "    </tr>\n",
       "    <tr>\n",
       "      <td>73209</td>\n",
       "      <td>40076B77CFC12421</td>\n",
       "      <td>2020-12-23 03:43:28</td>\n",
       "      <td>login</td>\n",
       "      <td>0.00</td>\n",
       "      <td>B</td>\n",
       "      <td>interface_eu_test</td>\n",
       "      <td>2020-12-23</td>\n",
       "      <td>EU</td>\n",
       "      <td>iPhone</td>\n",
       "    </tr>\n",
       "    <tr>\n",
       "      <td>73210</td>\n",
       "      <td>40076B77CFC12421</td>\n",
       "      <td>2020-12-24 04:21:53</td>\n",
       "      <td>login</td>\n",
       "      <td>0.00</td>\n",
       "      <td>B</td>\n",
       "      <td>interface_eu_test</td>\n",
       "      <td>2020-12-23</td>\n",
       "      <td>EU</td>\n",
       "      <td>iPhone</td>\n",
       "    </tr>\n",
       "    <tr>\n",
       "      <td>73211</td>\n",
       "      <td>40076B77CFC12421</td>\n",
       "      <td>2020-12-26 03:50:17</td>\n",
       "      <td>login</td>\n",
       "      <td>0.00</td>\n",
       "      <td>B</td>\n",
       "      <td>interface_eu_test</td>\n",
       "      <td>2020-12-23</td>\n",
       "      <td>EU</td>\n",
       "      <td>iPhone</td>\n",
       "    </tr>\n",
       "    <tr>\n",
       "      <td>73212</td>\n",
       "      <td>301C602AF78BABAD</td>\n",
       "      <td>2020-12-23 10:39:25</td>\n",
       "      <td>login</td>\n",
       "      <td>0.00</td>\n",
       "      <td>B</td>\n",
       "      <td>interface_eu_test</td>\n",
       "      <td>2020-12-23</td>\n",
       "      <td>EU</td>\n",
       "      <td>Android</td>\n",
       "    </tr>\n",
       "    <tr>\n",
       "      <td>73213</td>\n",
       "      <td>85500F5DD194ADBA</td>\n",
       "      <td>2020-12-23 09:33:24</td>\n",
       "      <td>login</td>\n",
       "      <td>0.00</td>\n",
       "      <td>B</td>\n",
       "      <td>interface_eu_test</td>\n",
       "      <td>2020-12-23</td>\n",
       "      <td>EU</td>\n",
       "      <td>Android</td>\n",
       "    </tr>\n",
       "  </tbody>\n",
       "</table>\n",
       "<p>73214 rows × 9 columns</p>\n",
       "</div>"
      ],
      "text/plain": [
       "                user_id            event_dt    event_name  details group  \\\n",
       "0      96F27A054B191457 2020-12-07 04:02:40      purchase     4.99     B   \n",
       "1      96F27A054B191457 2020-12-08 09:43:14      purchase     4.99     B   \n",
       "2      96F27A054B191457 2020-12-09 00:44:10      purchase     4.99     B   \n",
       "3      96F27A054B191457 2020-12-26 00:33:57      purchase     9.99     B   \n",
       "4      96F27A054B191457 2020-12-07 04:02:41  product_page     0.00     B   \n",
       "...                 ...                 ...           ...      ...   ...   \n",
       "73209  40076B77CFC12421 2020-12-23 03:43:28         login     0.00     B   \n",
       "73210  40076B77CFC12421 2020-12-24 04:21:53         login     0.00     B   \n",
       "73211  40076B77CFC12421 2020-12-26 03:50:17         login     0.00     B   \n",
       "73212  301C602AF78BABAD 2020-12-23 10:39:25         login     0.00     B   \n",
       "73213  85500F5DD194ADBA 2020-12-23 09:33:24         login     0.00     B   \n",
       "\n",
       "                 ab_test first_date region   device  \n",
       "0      interface_eu_test 2020-12-07     EU   iPhone  \n",
       "1      interface_eu_test 2020-12-07     EU   iPhone  \n",
       "2      interface_eu_test 2020-12-07     EU   iPhone  \n",
       "3      interface_eu_test 2020-12-07     EU   iPhone  \n",
       "4      interface_eu_test 2020-12-07     EU   iPhone  \n",
       "...                  ...        ...    ...      ...  \n",
       "73209  interface_eu_test 2020-12-23     EU   iPhone  \n",
       "73210  interface_eu_test 2020-12-23     EU   iPhone  \n",
       "73211  interface_eu_test 2020-12-23     EU   iPhone  \n",
       "73212  interface_eu_test 2020-12-23     EU  Android  \n",
       "73213  interface_eu_test 2020-12-23     EU  Android  \n",
       "\n",
       "[73214 rows x 9 columns]"
      ]
     },
     "metadata": {},
     "output_type": "display_data"
    }
   ],
   "source": [
    "display(eu_test)"
   ]
  },
  {
   "cell_type": "code",
   "execution_count": 79,
   "metadata": {},
   "outputs": [],
   "source": [
    "eu_test['date'] = eu_test['event_dt'].dt.date"
   ]
  },
  {
   "cell_type": "code",
   "execution_count": 80,
   "metadata": {},
   "outputs": [
    {
     "data": {
      "text/html": [
       "<div>\n",
       "<style scoped>\n",
       "    .dataframe tbody tr th:only-of-type {\n",
       "        vertical-align: middle;\n",
       "    }\n",
       "\n",
       "    .dataframe tbody tr th {\n",
       "        vertical-align: top;\n",
       "    }\n",
       "\n",
       "    .dataframe thead th {\n",
       "        text-align: right;\n",
       "    }\n",
       "</style>\n",
       "<table border=\"1\" class=\"dataframe\">\n",
       "  <thead>\n",
       "    <tr style=\"text-align: right;\">\n",
       "      <th></th>\n",
       "      <th>date</th>\n",
       "      <th># of events</th>\n",
       "    </tr>\n",
       "  </thead>\n",
       "  <tbody>\n",
       "    <tr>\n",
       "      <td>0</td>\n",
       "      <td>2020-12-07</td>\n",
       "      <td>1883</td>\n",
       "    </tr>\n",
       "    <tr>\n",
       "      <td>1</td>\n",
       "      <td>2020-12-08</td>\n",
       "      <td>2168</td>\n",
       "    </tr>\n",
       "    <tr>\n",
       "      <td>2</td>\n",
       "      <td>2020-12-09</td>\n",
       "      <td>2156</td>\n",
       "    </tr>\n",
       "    <tr>\n",
       "      <td>3</td>\n",
       "      <td>2020-12-10</td>\n",
       "      <td>2399</td>\n",
       "    </tr>\n",
       "    <tr>\n",
       "      <td>4</td>\n",
       "      <td>2020-12-11</td>\n",
       "      <td>2465</td>\n",
       "    </tr>\n",
       "    <tr>\n",
       "      <td>5</td>\n",
       "      <td>2020-12-12</td>\n",
       "      <td>3360</td>\n",
       "    </tr>\n",
       "    <tr>\n",
       "      <td>6</td>\n",
       "      <td>2020-12-13</td>\n",
       "      <td>3838</td>\n",
       "    </tr>\n",
       "    <tr>\n",
       "      <td>7</td>\n",
       "      <td>2020-12-14</td>\n",
       "      <td>4468</td>\n",
       "    </tr>\n",
       "    <tr>\n",
       "      <td>8</td>\n",
       "      <td>2020-12-15</td>\n",
       "      <td>4025</td>\n",
       "    </tr>\n",
       "    <tr>\n",
       "      <td>9</td>\n",
       "      <td>2020-12-16</td>\n",
       "      <td>3663</td>\n",
       "    </tr>\n",
       "    <tr>\n",
       "      <td>10</td>\n",
       "      <td>2020-12-17</td>\n",
       "      <td>3703</td>\n",
       "    </tr>\n",
       "    <tr>\n",
       "      <td>11</td>\n",
       "      <td>2020-12-18</td>\n",
       "      <td>3824</td>\n",
       "    </tr>\n",
       "    <tr>\n",
       "      <td>12</td>\n",
       "      <td>2020-12-19</td>\n",
       "      <td>3958</td>\n",
       "    </tr>\n",
       "    <tr>\n",
       "      <td>13</td>\n",
       "      <td>2020-12-20</td>\n",
       "      <td>4422</td>\n",
       "    </tr>\n",
       "    <tr>\n",
       "      <td>14</td>\n",
       "      <td>2020-12-21</td>\n",
       "      <td>5516</td>\n",
       "    </tr>\n",
       "    <tr>\n",
       "      <td>15</td>\n",
       "      <td>2020-12-22</td>\n",
       "      <td>5021</td>\n",
       "    </tr>\n",
       "    <tr>\n",
       "      <td>16</td>\n",
       "      <td>2020-12-23</td>\n",
       "      <td>4623</td>\n",
       "    </tr>\n",
       "    <tr>\n",
       "      <td>17</td>\n",
       "      <td>2020-12-24</td>\n",
       "      <td>3433</td>\n",
       "    </tr>\n",
       "    <tr>\n",
       "      <td>18</td>\n",
       "      <td>2020-12-26</td>\n",
       "      <td>2431</td>\n",
       "    </tr>\n",
       "    <tr>\n",
       "      <td>19</td>\n",
       "      <td>2020-12-27</td>\n",
       "      <td>2248</td>\n",
       "    </tr>\n",
       "    <tr>\n",
       "      <td>20</td>\n",
       "      <td>2020-12-28</td>\n",
       "      <td>1937</td>\n",
       "    </tr>\n",
       "    <tr>\n",
       "      <td>21</td>\n",
       "      <td>2020-12-29</td>\n",
       "      <td>1659</td>\n",
       "    </tr>\n",
       "    <tr>\n",
       "      <td>22</td>\n",
       "      <td>2020-12-30</td>\n",
       "      <td>14</td>\n",
       "    </tr>\n",
       "  </tbody>\n",
       "</table>\n",
       "</div>"
      ],
      "text/plain": [
       "          date  # of events\n",
       "0   2020-12-07         1883\n",
       "1   2020-12-08         2168\n",
       "2   2020-12-09         2156\n",
       "3   2020-12-10         2399\n",
       "4   2020-12-11         2465\n",
       "5   2020-12-12         3360\n",
       "6   2020-12-13         3838\n",
       "7   2020-12-14         4468\n",
       "8   2020-12-15         4025\n",
       "9   2020-12-16         3663\n",
       "10  2020-12-17         3703\n",
       "11  2020-12-18         3824\n",
       "12  2020-12-19         3958\n",
       "13  2020-12-20         4422\n",
       "14  2020-12-21         5516\n",
       "15  2020-12-22         5021\n",
       "16  2020-12-23         4623\n",
       "17  2020-12-24         3433\n",
       "18  2020-12-26         2431\n",
       "19  2020-12-27         2248\n",
       "20  2020-12-28         1937\n",
       "21  2020-12-29         1659\n",
       "22  2020-12-30           14"
      ]
     },
     "execution_count": 80,
     "metadata": {},
     "output_type": "execute_result"
    }
   ],
   "source": [
    "events_per_day = pd.pivot_table(eu_test, index = ['date'], values = ['event_name'], aggfunc=['count']).reset_index()\n",
    "\n",
    "events_per_day.columns = ['date','# of events']\n",
    "\n",
    "events_per_day"
   ]
  },
  {
   "cell_type": "code",
   "execution_count": 81,
   "metadata": {},
   "outputs": [
    {
     "data": {
      "image/png": "[encoded data removed]",
      "text/plain": [
       "<Figure size 720x504 with 1 Axes>"
      ]
     },
     "metadata": {
      "needs_background": "light"
     },
     "output_type": "display_data"
    }
   ],
   "source": [
    "# line graph\n",
    "plt.figure(figsize=(10,7))\n",
    "dates = mpl.dates.date2num(events_per_day['date'])\n",
    "plt.plot_date(dates, events_per_day['# of events'])\n",
    "plt.gca().xaxis.set_major_formatter(mpl.dates.DateFormatter('%m/%d/%Y'))\n",
    "plt.gca().xaxis.set_major_locator(mpl.dates.DayLocator())\n",
    "plt.plot(dates, events_per_day['# of events'])\n",
    "plt.gcf().autofmt_xdate()\n",
    "plt.title('Number of Events Per Date')\n",
    "plt.xlabel('Dates')\n",
    "plt.ylabel('Number of Events');"
   ]
  },
  {
   "cell_type": "markdown",
   "metadata": {},
   "source": [
    "As we mentioned above, there is absolutly no events on the 25. of December. The reason may be the holiday or rather some technical problem on this day which was not fixed in a short time because of the holiday.  \n",
    "\n",
    "It seems, that on weekends the number of events is above average (two peeks on the graph), but we have not enough data: only two weekends after the test was launched and before the Christmas holidays began. \n",
    "\n",
    "It's absolutely logical, that after holidays the numbers tend to go down: there are no new users after the 2020-12-21; people were distracted by Christmas, many of them are spending holiday not at home; most of the gifts are already purchesed and so on. "
   ]
  },
  {
   "cell_type": "markdown",
   "metadata": {},
   "source": [
    "##### Step 2.6 Before the A/B test \n",
    "\n",
    "<a class=\"anchor\" id=\"part26\"></a> "
   ]
  },
  {
   "cell_type": "markdown",
   "metadata": {},
   "source": [
    "We didn't find something else we hadn't discussed earlier. "
   ]
  },
  {
   "cell_type": "markdown",
   "metadata": {},
   "source": [
    "#### Step 3. A/B Test Evaluation\n",
    "\n",
    "<a class=\"anchor\" id=\"part3\"></a>"
   ]
  },
  {
   "cell_type": "markdown",
   "metadata": {},
   "source": [
    "Actually we concidered the test's group conversion in the [step 2.3](#part23). \n",
    "\n",
    "The main conclusion we made is that the group B has not any significantly better figures. With other words, A/B test showed, that the new payment funnel does not bring any better performance. "
   ]
  },
  {
   "cell_type": "markdown",
   "metadata": {},
   "source": [
    "We have two different experiment groups. In such cases it is important to ensure that that the results from these groups are based on fair numbers. \n",
    "\n",
    "To do so, we want to check if there is a statistically significant difference between the groups. \n",
    "\n",
    "If we find that there is a significant difference, then the control groups have not be split up equally and any results we deduct will not accurately represent the customers.\n",
    "\n",
    "We want to test the statistical significance of the difference in conversion between groups A and B. This can be done with Z-test. \n",
    "\n",
    "which returns the expected probability for observing a value (number of unique users per event in group A) less than or equal to a given value (number of unique users per event in group B)."
   ]
  },
  {
   "cell_type": "markdown",
   "metadata": {},
   "source": [
    "To run a Z-tes, a few conditions should match: \n",
    "\n",
    "- Sample size is greater than 30. Otherwise, use a t test. (Is okay in our case)\n",
    "- Data points should be independent from each other. (Is okay in our case)\n",
    "- Data should be normally distributed. (We have to check it.)\n",
    "- Data should be randomly selected from a population, where each item has an equal chance of being selected. (We are assuming, it is okay in our case)\n",
    "- Sample sizes should be equal if at all possible. (The difference in sample size is around 3% in our case; we'll keep it in mind.)"
   ]
  },
  {
   "cell_type": "markdown",
   "metadata": {},
   "source": [
    "So let's check if the data is normally distributed. "
   ]
  },
  {
   "cell_type": "code",
   "execution_count": 82,
   "metadata": {},
   "outputs": [
    {
     "data": {
      "text/html": [
       "<div>\n",
       "<style scoped>\n",
       "    .dataframe tbody tr th:only-of-type {\n",
       "        vertical-align: middle;\n",
       "    }\n",
       "\n",
       "    .dataframe tbody tr th {\n",
       "        vertical-align: top;\n",
       "    }\n",
       "\n",
       "    .dataframe thead th {\n",
       "        text-align: right;\n",
       "    }\n",
       "</style>\n",
       "<table border=\"1\" class=\"dataframe\">\n",
       "  <thead>\n",
       "    <tr style=\"text-align: right;\">\n",
       "      <th></th>\n",
       "      <th>user_id</th>\n",
       "      <th>event_dt</th>\n",
       "      <th>event_name</th>\n",
       "      <th>details</th>\n",
       "      <th>group</th>\n",
       "      <th>ab_test</th>\n",
       "      <th>first_date</th>\n",
       "      <th>region</th>\n",
       "      <th>device</th>\n",
       "    </tr>\n",
       "  </thead>\n",
       "  <tbody>\n",
       "    <tr>\n",
       "      <td>12</td>\n",
       "      <td>A92195E3CFB83DBD</td>\n",
       "      <td>2020-12-07 00:32:07</td>\n",
       "      <td>purchase</td>\n",
       "      <td>4.99</td>\n",
       "      <td>A</td>\n",
       "      <td>interface_eu_test</td>\n",
       "      <td>2020-12-07</td>\n",
       "      <td>EU</td>\n",
       "      <td>Android</td>\n",
       "    </tr>\n",
       "    <tr>\n",
       "      <td>13</td>\n",
       "      <td>A92195E3CFB83DBD</td>\n",
       "      <td>2020-12-08 18:59:26</td>\n",
       "      <td>purchase</td>\n",
       "      <td>4.99</td>\n",
       "      <td>A</td>\n",
       "      <td>interface_eu_test</td>\n",
       "      <td>2020-12-07</td>\n",
       "      <td>EU</td>\n",
       "      <td>Android</td>\n",
       "    </tr>\n",
       "    <tr>\n",
       "      <td>14</td>\n",
       "      <td>A92195E3CFB83DBD</td>\n",
       "      <td>2020-12-11 19:16:25</td>\n",
       "      <td>purchase</td>\n",
       "      <td>4.99</td>\n",
       "      <td>A</td>\n",
       "      <td>interface_eu_test</td>\n",
       "      <td>2020-12-07</td>\n",
       "      <td>EU</td>\n",
       "      <td>Android</td>\n",
       "    </tr>\n",
       "    <tr>\n",
       "      <td>15</td>\n",
       "      <td>A92195E3CFB83DBD</td>\n",
       "      <td>2020-12-07 00:32:07</td>\n",
       "      <td>login</td>\n",
       "      <td>0.00</td>\n",
       "      <td>A</td>\n",
       "      <td>interface_eu_test</td>\n",
       "      <td>2020-12-07</td>\n",
       "      <td>EU</td>\n",
       "      <td>Android</td>\n",
       "    </tr>\n",
       "    <tr>\n",
       "      <td>16</td>\n",
       "      <td>A92195E3CFB83DBD</td>\n",
       "      <td>2020-12-08 18:59:26</td>\n",
       "      <td>login</td>\n",
       "      <td>0.00</td>\n",
       "      <td>A</td>\n",
       "      <td>interface_eu_test</td>\n",
       "      <td>2020-12-07</td>\n",
       "      <td>EU</td>\n",
       "      <td>Android</td>\n",
       "    </tr>\n",
       "  </tbody>\n",
       "</table>\n",
       "</div>"
      ],
      "text/plain": [
       "             user_id            event_dt event_name  details group  \\\n",
       "12  A92195E3CFB83DBD 2020-12-07 00:32:07   purchase     4.99     A   \n",
       "13  A92195E3CFB83DBD 2020-12-08 18:59:26   purchase     4.99     A   \n",
       "14  A92195E3CFB83DBD 2020-12-11 19:16:25   purchase     4.99     A   \n",
       "15  A92195E3CFB83DBD 2020-12-07 00:32:07      login     0.00     A   \n",
       "16  A92195E3CFB83DBD 2020-12-08 18:59:26      login     0.00     A   \n",
       "\n",
       "              ab_test first_date region   device  \n",
       "12  interface_eu_test 2020-12-07     EU  Android  \n",
       "13  interface_eu_test 2020-12-07     EU  Android  \n",
       "14  interface_eu_test 2020-12-07     EU  Android  \n",
       "15  interface_eu_test 2020-12-07     EU  Android  \n",
       "16  interface_eu_test 2020-12-07     EU  Android  "
      ]
     },
     "execution_count": 82,
     "metadata": {},
     "output_type": "execute_result"
    }
   ],
   "source": [
    "eu_test_A.head()"
   ]
  },
  {
   "cell_type": "code",
   "execution_count": 83,
   "metadata": {},
   "outputs": [
    {
     "name": "stdout",
     "output_type": "stream",
     "text": [
      "Group A µ 3.653391409721287\n",
      "\n",
      "Group B µ 3.35175780925192\n",
      "\n",
      "Group A SD 29.59412441761708\n",
      "\n",
      "Group B SD 28.32589388982594\n"
     ]
    }
   ],
   "source": [
    "eu_test_A_mu = eu_test_A.details.mean()\n",
    "eu_test_B_mu = eu_test_B.details.mean()\n",
    "eu_test_A_sd = eu_test_A.details.std()\n",
    "eu_test_B_sd = eu_test_B.details.std()\n",
    "\n",
    "print('Group A µ', eu_test_A_mu)\n",
    "print()\n",
    "print('Group B µ',eu_test_B_mu)\n",
    "print()\n",
    "print('Group A SD', eu_test_A_sd)\n",
    "print()\n",
    "print('Group B SD',eu_test_B_sd)"
   ]
  },
  {
   "cell_type": "markdown",
   "metadata": {},
   "source": [
    "The difference between standart deviation in groups is relatively small. We assume, we can perform a Z-test. "
   ]
  },
  {
   "cell_type": "markdown",
   "metadata": {},
   "source": [
    "We formulate our null Hypothesis(H0): There is no significant difference in conversion between groups A and B. \n",
    "\n",
    "Alternative Hypothesis(H1): There is a significant difference in conversion between groups A and B.\n",
    "\n",
    "We use standart alpha level 0.05. \n",
    "\n"
   ]
  },
  {
   "cell_type": "code",
   "execution_count": 84,
   "metadata": {},
   "outputs": [],
   "source": [
    "eu_test['event_name']=eu_test['event_name'].astype('str')\n",
    "eu_test['group']=eu_test['group'].astype('str')"
   ]
  },
  {
   "cell_type": "code",
   "execution_count": 85,
   "metadata": {},
   "outputs": [],
   "source": [
    "exp_groups = eu_test.pivot_table(index='event_name', values='user_id', columns='group', aggfunc=lambda x: x.nunique()).reset_index()\n",
    "group1 = 'A'\n",
    "group2 = 'B'\n",
    "alpha = 0.05"
   ]
  },
  {
   "cell_type": "code",
   "execution_count": 86,
   "metadata": {},
   "outputs": [
    {
     "name": "stdout",
     "output_type": "stream",
     "text": [
      "p_value:  0.3201520788748984\n",
      "Fail to Reject H0 for login and groups  A  and  B \n",
      "\n",
      "p_value:  0.10323395997153062\n",
      "Fail to Reject H0 for product_cart and groups  A  and  B \n",
      "\n",
      "p_value:  0.12244077100223438\n",
      "Fail to Reject H0 for product_page and groups  A  and  B \n",
      "\n",
      "p_value:  0.021997971549269524\n",
      "Reject H0 for purchase and groups  A  and  B \n",
      "\n"
     ]
    }
   ],
   "source": [
    "# find statistical significance for each group for each event\n",
    "for event in exp_groups.event_name.unique():\n",
    "\n",
    "    # define successes \n",
    "    successes1 = exp_groups[exp_groups.event_name == event][group1].iloc[0]\n",
    "    successes2 = exp_groups[exp_groups.event_name == event][group2].iloc[0]\n",
    "\n",
    "    # define trials\n",
    "    trials1 = eu_test[eu_test.group == group1]['user_id'].nunique()\n",
    "    trials2 = eu_test[eu_test.group == group2]['user_id'].nunique()\n",
    "\n",
    "    # proportion for success in group 1\n",
    "    p1 = successes1 / trials1\n",
    "\n",
    "    # proportion for success in group 2\n",
    "    p2 = successes2 / trials2\n",
    "\n",
    "    # proportion in a combined dataset\n",
    "    p_combined = (successes1 + successes2) / (trials1 + trials2)\n",
    "\n",
    "    # define difference and z value\n",
    "    difference = p1 - p2\n",
    "    z_value = difference / math.sqrt(p_combined * (1 - p_combined) * (1/trials1 + 1/trials2))\n",
    "\n",
    "    # calculate distribution\n",
    "    distr = stats.norm(0,1)\n",
    "\n",
    "    # calculate p_value\n",
    "    p_value = (1 - distr.cdf(abs(z_value))) * 2\n",
    "    print('p_value: ', p_value)\n",
    "    if (p_value < alpha):\n",
    "        print(\"Reject H0 for\",event, 'and groups ',group1,' and ', group2, '\\n')\n",
    "    else:\n",
    "        print(\"Fail to Reject H0 for\", event,'and groups ',group1,' and ', group2, '\\n')"
   ]
  },
  {
   "cell_type": "markdown",
   "metadata": {},
   "source": [
    "For the events login, product page and product cart, the p_value is greater than the defined alpha level of 0.05 which means that we cannot reject the null hypothesis. With other words, we can claim, there is a statistically significant difference between the two control groups for each event.\n",
    "\n",
    "For the purchase event, the p_value is less than the defined alpha level of 0.05 which means that we have to reject the null hypothesis. With other words, we can claim, there is not a statistically significant difference between the two control groups for the purchase event."
   ]
  },
  {
   "cell_type": "markdown",
   "metadata": {},
   "source": [
    "#### Step 4. Overall conclusion\n",
    "\n",
    "<a class=\"anchor\" id=\"conclusion\"></a>"
   ]
  },
  {
   "cell_type": "markdown",
   "metadata": {},
   "source": [
    "The goal of our project was to determine whether the introduction of an improved recommendation system impacts conversion of users of an online store. It was expected that with this new system, users will show a 10% increase in conversion.\n",
    "\n",
    "We found out during EDA, it was found that 17% of users in group A (the control group) converted (made a purchase) while 16.4% of users in group B (the improved recommendation systerm) converted. This data suggests that the improved recommendation system did not lead to an increase in conversion but in fact led to a slight decrease in conversion.\n",
    "\n",
    "From A/B testing, it was found that there was a statistically significant difference between groups A and B for login, product page view and product cart view. The recommendation system worked for these events. However, for the purchase event, it was determined that there is not a statistically significant difference between the two control groups for the purchase event.\n",
    "\n",
    "As a result, the analysis of the data suggests not to apply the improved recommendation system to the international online store. Perhaps the store should stick with its current model or enhance the recommendation system."
   ]
  }
 ],
 "metadata": {
  "ExecuteTimeLog": [
   {
    "duration": 21608,
    "start_time": "2021-06-30T20:58:30.107Z"
   },
   {
    "duration": 1831,
    "start_time": "2021-06-30T20:58:51.718Z"
   },
   {
    "duration": 42,
    "start_time": "2021-06-30T20:58:53.552Z"
   },
   {
    "duration": 64,
    "start_time": "2021-06-30T20:58:53.596Z"
   },
   {
    "duration": 24,
    "start_time": "2021-06-30T20:58:53.662Z"
   },
   {
    "duration": 32,
    "start_time": "2021-06-30T20:58:53.688Z"
   },
   {
    "duration": 232,
    "start_time": "2021-06-30T20:58:53.722Z"
   },
   {
    "duration": 285,
    "start_time": "2021-06-30T20:58:53.956Z"
   },
   {
    "duration": 13,
    "start_time": "2021-06-30T20:58:54.245Z"
   },
   {
    "duration": 24,
    "start_time": "2021-06-30T20:58:54.261Z"
   },
   {
    "duration": 7,
    "start_time": "2021-06-30T20:58:54.287Z"
   },
   {
    "duration": 32,
    "start_time": "2021-06-30T20:58:54.296Z"
   },
   {
    "duration": 221,
    "start_time": "2021-06-30T20:58:54.330Z"
   },
   {
    "duration": 9,
    "start_time": "2021-06-30T20:58:54.554Z"
   },
   {
    "duration": 12,
    "start_time": "2021-06-30T20:58:54.565Z"
   },
   {
    "duration": 6,
    "start_time": "2021-06-30T20:58:54.579Z"
   },
   {
    "duration": 10,
    "start_time": "2021-06-30T20:58:54.587Z"
   },
   {
    "duration": 23,
    "start_time": "2021-06-30T20:58:54.599Z"
   },
   {
    "duration": 10,
    "start_time": "2021-06-30T20:58:54.625Z"
   },
   {
    "duration": 46,
    "start_time": "2021-06-30T20:58:54.637Z"
   },
   {
    "duration": 15,
    "start_time": "2021-06-30T20:58:54.686Z"
   },
   {
    "duration": 31,
    "start_time": "2021-06-30T20:58:54.704Z"
   },
   {
    "duration": 14,
    "start_time": "2021-06-30T20:58:54.738Z"
   },
   {
    "duration": 11,
    "start_time": "2021-06-30T20:58:54.754Z"
   },
   {
    "duration": 10,
    "start_time": "2021-06-30T20:58:54.784Z"
   },
   {
    "duration": 204,
    "start_time": "2021-06-30T20:58:54.796Z"
   },
   {
    "duration": 9,
    "start_time": "2021-06-30T20:58:55.006Z"
   },
   {
    "duration": 12,
    "start_time": "2021-06-30T20:58:55.020Z"
   },
   {
    "duration": 10,
    "start_time": "2021-06-30T20:58:55.034Z"
   },
   {
    "duration": 39,
    "start_time": "2021-06-30T20:58:55.047Z"
   },
   {
    "duration": 11,
    "start_time": "2021-06-30T20:58:55.089Z"
   },
   {
    "duration": 8,
    "start_time": "2021-06-30T20:58:55.102Z"
   },
   {
    "duration": 10,
    "start_time": "2021-06-30T20:58:55.113Z"
   },
   {
    "duration": 6,
    "start_time": "2021-06-30T20:58:55.127Z"
   },
   {
    "duration": 50,
    "start_time": "2021-06-30T20:58:55.135Z"
   },
   {
    "duration": 6,
    "start_time": "2021-06-30T20:58:55.188Z"
   },
   {
    "duration": 23,
    "start_time": "2021-06-30T20:58:55.197Z"
   },
   {
    "duration": 17,
    "start_time": "2021-06-30T20:58:55.223Z"
   },
   {
    "duration": 11,
    "start_time": "2021-06-30T20:58:55.243Z"
   },
   {
    "duration": 31,
    "start_time": "2021-06-30T20:58:55.257Z"
   },
   {
    "duration": 44,
    "start_time": "2021-06-30T20:58:55.290Z"
   },
   {
    "duration": 175,
    "start_time": "2021-06-30T20:58:55.337Z"
   },
   {
    "duration": 21,
    "start_time": "2021-06-30T20:58:55.515Z"
   },
   {
    "duration": 27,
    "start_time": "2021-06-30T20:58:55.539Z"
   },
   {
    "duration": 35,
    "start_time": "2021-06-30T20:58:55.568Z"
   },
   {
    "duration": 24,
    "start_time": "2021-06-30T20:58:55.605Z"
   },
   {
    "duration": 15,
    "start_time": "2021-06-30T20:58:55.631Z"
   },
   {
    "duration": 50,
    "start_time": "2021-06-30T20:58:55.648Z"
   },
   {
    "duration": 62,
    "start_time": "2021-06-30T20:58:55.700Z"
   },
   {
    "duration": 42,
    "start_time": "2021-06-30T20:58:55.764Z"
   },
   {
    "duration": 17,
    "start_time": "2021-06-30T20:58:55.808Z"
   },
   {
    "duration": 17,
    "start_time": "2021-06-30T20:58:55.828Z"
   },
   {
    "duration": 37,
    "start_time": "2021-06-30T20:58:55.848Z"
   },
   {
    "duration": 46,
    "start_time": "2021-06-30T20:58:55.887Z"
   },
   {
    "duration": 7,
    "start_time": "2021-06-30T20:58:55.936Z"
   },
   {
    "duration": 39,
    "start_time": "2021-06-30T20:58:55.945Z"
   },
   {
    "duration": 13,
    "start_time": "2021-06-30T20:58:55.987Z"
   },
   {
    "duration": 15,
    "start_time": "2021-06-30T20:58:56.003Z"
   },
   {
    "duration": 7,
    "start_time": "2021-06-30T20:58:56.021Z"
   },
   {
    "duration": 51,
    "start_time": "2021-06-30T20:58:56.031Z"
   },
   {
    "duration": 9,
    "start_time": "2021-06-30T20:58:56.085Z"
   },
   {
    "duration": 15,
    "start_time": "2021-06-30T20:58:56.096Z"
   },
   {
    "duration": 14,
    "start_time": "2021-06-30T20:58:56.114Z"
   },
   {
    "duration": 1210,
    "start_time": "2021-06-30T20:58:56.130Z"
   },
   {
    "duration": -64,
    "start_time": "2021-06-30T20:58:57.407Z"
   },
   {
    "duration": -66,
    "start_time": "2021-06-30T20:58:57.410Z"
   },
   {
    "duration": -72,
    "start_time": "2021-06-30T20:58:57.418Z"
   },
   {
    "duration": -72,
    "start_time": "2021-06-30T20:58:57.419Z"
   },
   {
    "duration": -73,
    "start_time": "2021-06-30T20:58:57.421Z"
   },
   {
    "duration": -73,
    "start_time": "2021-06-30T20:58:57.422Z"
   },
   {
    "duration": -72,
    "start_time": "2021-06-30T20:58:57.423Z"
   },
   {
    "duration": -72,
    "start_time": "2021-06-30T20:58:57.425Z"
   },
   {
    "duration": -76,
    "start_time": "2021-06-30T20:58:57.430Z"
   },
   {
    "duration": -76,
    "start_time": "2021-06-30T20:58:57.431Z"
   },
   {
    "duration": -76,
    "start_time": "2021-06-30T20:58:57.432Z"
   },
   {
    "duration": -76,
    "start_time": "2021-06-30T20:58:57.433Z"
   },
   {
    "duration": -76,
    "start_time": "2021-06-30T20:58:57.435Z"
   },
   {
    "duration": -75,
    "start_time": "2021-06-30T20:58:57.435Z"
   },
   {
    "duration": -75,
    "start_time": "2021-06-30T20:58:57.436Z"
   },
   {
    "duration": -76,
    "start_time": "2021-06-30T20:58:57.438Z"
   },
   {
    "duration": -75,
    "start_time": "2021-06-30T20:58:57.438Z"
   },
   {
    "duration": -74,
    "start_time": "2021-06-30T20:58:57.439Z"
   },
   {
    "duration": 1916,
    "start_time": "2021-06-30T23:09:37.320Z"
   },
   {
    "duration": 1013,
    "start_time": "2021-06-30T23:09:39.239Z"
   },
   {
    "duration": 39,
    "start_time": "2021-06-30T23:09:40.254Z"
   },
   {
    "duration": 95,
    "start_time": "2021-06-30T23:09:40.296Z"
   },
   {
    "duration": 8,
    "start_time": "2021-06-30T23:09:40.393Z"
   },
   {
    "duration": 36,
    "start_time": "2021-06-30T23:09:40.403Z"
   },
   {
    "duration": 218,
    "start_time": "2021-06-30T23:09:40.441Z"
   },
   {
    "duration": 304,
    "start_time": "2021-06-30T23:09:40.662Z"
   },
   {
    "duration": 11,
    "start_time": "2021-06-30T23:09:40.969Z"
   },
   {
    "duration": 14,
    "start_time": "2021-06-30T23:09:40.982Z"
   },
   {
    "duration": 13,
    "start_time": "2021-06-30T23:09:40.998Z"
   },
   {
    "duration": 54,
    "start_time": "2021-06-30T23:09:41.013Z"
   },
   {
    "duration": 289,
    "start_time": "2021-06-30T23:09:41.070Z"
   },
   {
    "duration": 8,
    "start_time": "2021-06-30T23:09:41.362Z"
   },
   {
    "duration": 10,
    "start_time": "2021-06-30T23:09:41.372Z"
   },
   {
    "duration": 6,
    "start_time": "2021-06-30T23:09:41.384Z"
   },
   {
    "duration": 8,
    "start_time": "2021-06-30T23:09:41.392Z"
   },
   {
    "duration": 19,
    "start_time": "2021-06-30T23:09:41.402Z"
   },
   {
    "duration": 48,
    "start_time": "2021-06-30T23:09:41.423Z"
   },
   {
    "duration": 14,
    "start_time": "2021-06-30T23:09:41.473Z"
   },
   {
    "duration": 14,
    "start_time": "2021-06-30T23:09:41.490Z"
   },
   {
    "duration": 17,
    "start_time": "2021-06-30T23:09:41.507Z"
   },
   {
    "duration": 10,
    "start_time": "2021-06-30T23:09:41.570Z"
   },
   {
    "duration": 11,
    "start_time": "2021-06-30T23:09:41.585Z"
   },
   {
    "duration": 10,
    "start_time": "2021-06-30T23:09:41.598Z"
   },
   {
    "duration": 247,
    "start_time": "2021-06-30T23:09:41.611Z"
   },
   {
    "duration": 8,
    "start_time": "2021-06-30T23:09:41.860Z"
   },
   {
    "duration": 9,
    "start_time": "2021-06-30T23:09:41.870Z"
   },
   {
    "duration": 6,
    "start_time": "2021-06-30T23:09:41.881Z"
   },
   {
    "duration": 14,
    "start_time": "2021-06-30T23:09:41.889Z"
   },
   {
    "duration": 9,
    "start_time": "2021-06-30T23:09:41.906Z"
   },
   {
    "duration": 50,
    "start_time": "2021-06-30T23:09:41.917Z"
   },
   {
    "duration": 7,
    "start_time": "2021-06-30T23:09:41.969Z"
   },
   {
    "duration": 7,
    "start_time": "2021-06-30T23:09:41.979Z"
   },
   {
    "duration": 6,
    "start_time": "2021-06-30T23:09:41.989Z"
   },
   {
    "duration": 6,
    "start_time": "2021-06-30T23:09:41.997Z"
   },
   {
    "duration": 8,
    "start_time": "2021-06-30T23:09:42.005Z"
   },
   {
    "duration": 6,
    "start_time": "2021-06-30T23:09:42.067Z"
   },
   {
    "duration": 8,
    "start_time": "2021-06-30T23:09:42.075Z"
   },
   {
    "duration": 14,
    "start_time": "2021-06-30T23:09:42.085Z"
   },
   {
    "duration": 68,
    "start_time": "2021-06-30T23:09:42.102Z"
   },
   {
    "duration": 163,
    "start_time": "2021-06-30T23:09:42.172Z"
   },
   {
    "duration": 31,
    "start_time": "2021-06-30T23:09:42.337Z"
   },
   {
    "duration": 19,
    "start_time": "2021-06-30T23:09:42.371Z"
   },
   {
    "duration": 23,
    "start_time": "2021-06-30T23:09:42.392Z"
   },
   {
    "duration": 64,
    "start_time": "2021-06-30T23:09:42.417Z"
   },
   {
    "duration": 17,
    "start_time": "2021-06-30T23:09:42.484Z"
   },
   {
    "duration": 21,
    "start_time": "2021-06-30T23:09:42.503Z"
   },
   {
    "duration": 94,
    "start_time": "2021-06-30T23:09:42.526Z"
   },
   {
    "duration": 27,
    "start_time": "2021-06-30T23:09:42.622Z"
   },
   {
    "duration": 31,
    "start_time": "2021-06-30T23:09:42.651Z"
   },
   {
    "duration": 19,
    "start_time": "2021-06-30T23:09:42.684Z"
   },
   {
    "duration": 7,
    "start_time": "2021-06-30T23:09:42.705Z"
   },
   {
    "duration": 89,
    "start_time": "2021-06-30T23:09:42.714Z"
   },
   {
    "duration": 7,
    "start_time": "2021-06-30T23:09:42.805Z"
   },
   {
    "duration": 8,
    "start_time": "2021-06-30T23:09:42.814Z"
   },
   {
    "duration": 15,
    "start_time": "2021-06-30T23:09:42.824Z"
   },
   {
    "duration": 39,
    "start_time": "2021-06-30T23:09:42.841Z"
   },
   {
    "duration": 7,
    "start_time": "2021-06-30T23:09:42.882Z"
   },
   {
    "duration": 12,
    "start_time": "2021-06-30T23:09:42.891Z"
   },
   {
    "duration": 9,
    "start_time": "2021-06-30T23:09:42.905Z"
   },
   {
    "duration": 57,
    "start_time": "2021-06-30T23:09:42.916Z"
   },
   {
    "duration": 11,
    "start_time": "2021-06-30T23:09:42.976Z"
   },
   {
    "duration": 1509,
    "start_time": "2021-06-30T23:09:42.989Z"
   },
   {
    "duration": 109,
    "start_time": "2021-06-30T23:09:44.392Z"
   },
   {
    "duration": 104,
    "start_time": "2021-06-30T23:09:44.399Z"
   },
   {
    "duration": 98,
    "start_time": "2021-06-30T23:09:44.406Z"
   },
   {
    "duration": 94,
    "start_time": "2021-06-30T23:09:44.412Z"
   },
   {
    "duration": 88,
    "start_time": "2021-06-30T23:09:44.419Z"
   },
   {
    "duration": 83,
    "start_time": "2021-06-30T23:09:44.425Z"
   },
   {
    "duration": 79,
    "start_time": "2021-06-30T23:09:44.431Z"
   },
   {
    "duration": 74,
    "start_time": "2021-06-30T23:09:44.437Z"
   },
   {
    "duration": 69,
    "start_time": "2021-06-30T23:09:44.444Z"
   },
   {
    "duration": 62,
    "start_time": "2021-06-30T23:09:44.452Z"
   },
   {
    "duration": 57,
    "start_time": "2021-06-30T23:09:44.458Z"
   },
   {
    "duration": 53,
    "start_time": "2021-06-30T23:09:44.464Z"
   },
   {
    "duration": 22,
    "start_time": "2021-06-30T23:09:44.496Z"
   },
   {
    "duration": -9,
    "start_time": "2021-06-30T23:09:44.528Z"
   },
   {
    "duration": -19,
    "start_time": "2021-06-30T23:09:44.540Z"
   },
   {
    "duration": -38,
    "start_time": "2021-06-30T23:09:44.560Z"
   },
   {
    "duration": -44,
    "start_time": "2021-06-30T23:09:44.567Z"
   },
   {
    "duration": -49,
    "start_time": "2021-06-30T23:09:44.574Z"
   },
   {
    "duration": 62,
    "start_time": "2021-06-30T23:10:34.539Z"
   },
   {
    "duration": 11,
    "start_time": "2021-06-30T23:10:54.397Z"
   },
   {
    "duration": 4,
    "start_time": "2021-06-30T23:11:06.787Z"
   },
   {
    "duration": 9,
    "start_time": "2021-06-30T23:11:12.427Z"
   },
   {
    "duration": 326,
    "start_time": "2021-06-30T23:11:41.553Z"
   },
   {
    "duration": 8800,
    "start_time": "2021-06-30T23:13:18.636Z"
   },
   {
    "duration": 8494,
    "start_time": "2021-06-30T23:13:45.724Z"
   },
   {
    "duration": 7,
    "start_time": "2021-06-30T23:13:56.938Z"
   },
   {
    "duration": 4,
    "start_time": "2021-06-30T23:14:03.499Z"
   },
   {
    "duration": 22566,
    "start_time": "2021-07-01T20:41:33.557Z"
   },
   {
    "duration": 924,
    "start_time": "2021-07-01T20:41:56.126Z"
   },
   {
    "duration": 36,
    "start_time": "2021-07-01T20:41:57.054Z"
   },
   {
    "duration": 92,
    "start_time": "2021-07-01T20:41:57.094Z"
   },
   {
    "duration": 8,
    "start_time": "2021-07-01T20:41:57.189Z"
   },
   {
    "duration": 56,
    "start_time": "2021-07-01T20:41:57.200Z"
   },
   {
    "duration": 208,
    "start_time": "2021-07-01T20:41:57.258Z"
   },
   {
    "duration": 286,
    "start_time": "2021-07-01T20:41:57.470Z"
   },
   {
    "duration": 12,
    "start_time": "2021-07-01T20:41:57.759Z"
   },
   {
    "duration": 7,
    "start_time": "2021-07-01T20:41:57.773Z"
   },
   {
    "duration": 7,
    "start_time": "2021-07-01T20:41:57.782Z"
   },
   {
    "duration": 68,
    "start_time": "2021-07-01T20:41:57.791Z"
   },
   {
    "duration": 212,
    "start_time": "2021-07-01T20:41:57.861Z"
   },
   {
    "duration": 10,
    "start_time": "2021-07-01T20:41:58.075Z"
   },
   {
    "duration": 15,
    "start_time": "2021-07-01T20:41:58.087Z"
   },
   {
    "duration": 6,
    "start_time": "2021-07-01T20:41:58.105Z"
   },
   {
    "duration": 19,
    "start_time": "2021-07-01T20:41:58.113Z"
   },
   {
    "duration": 20,
    "start_time": "2021-07-01T20:41:58.134Z"
   },
   {
    "duration": 9,
    "start_time": "2021-07-01T20:41:58.157Z"
   },
   {
    "duration": 15,
    "start_time": "2021-07-01T20:41:58.168Z"
   },
   {
    "duration": 61,
    "start_time": "2021-07-01T20:41:58.185Z"
   },
   {
    "duration": 28,
    "start_time": "2021-07-01T20:41:58.248Z"
   },
   {
    "duration": 10,
    "start_time": "2021-07-01T20:41:58.283Z"
   },
   {
    "duration": 21,
    "start_time": "2021-07-01T20:41:58.297Z"
   },
   {
    "duration": 19,
    "start_time": "2021-07-01T20:41:58.321Z"
   },
   {
    "duration": 208,
    "start_time": "2021-07-01T20:41:58.343Z"
   },
   {
    "duration": 8,
    "start_time": "2021-07-01T20:41:58.554Z"
   },
   {
    "duration": 8,
    "start_time": "2021-07-01T20:41:58.565Z"
   },
   {
    "duration": 10,
    "start_time": "2021-07-01T20:41:58.575Z"
   },
   {
    "duration": 21,
    "start_time": "2021-07-01T20:41:58.587Z"
   },
   {
    "duration": 29,
    "start_time": "2021-07-01T20:41:58.610Z"
   },
   {
    "duration": 6,
    "start_time": "2021-07-01T20:41:58.641Z"
   },
   {
    "duration": 9,
    "start_time": "2021-07-01T20:41:58.650Z"
   },
   {
    "duration": 6,
    "start_time": "2021-07-01T20:41:58.662Z"
   },
   {
    "duration": 10,
    "start_time": "2021-07-01T20:41:58.670Z"
   },
   {
    "duration": 44,
    "start_time": "2021-07-01T20:41:58.682Z"
   },
   {
    "duration": 6,
    "start_time": "2021-07-01T20:41:58.737Z"
   },
   {
    "duration": 11,
    "start_time": "2021-07-01T20:41:58.745Z"
   },
   {
    "duration": 7,
    "start_time": "2021-07-01T20:41:58.758Z"
   },
   {
    "duration": 12,
    "start_time": "2021-07-01T20:41:58.767Z"
   },
   {
    "duration": 64,
    "start_time": "2021-07-01T20:41:58.782Z"
   },
   {
    "duration": 157,
    "start_time": "2021-07-01T20:41:58.848Z"
   },
   {
    "duration": 34,
    "start_time": "2021-07-01T20:41:59.007Z"
   },
   {
    "duration": 29,
    "start_time": "2021-07-01T20:41:59.044Z"
   },
   {
    "duration": 18,
    "start_time": "2021-07-01T20:41:59.076Z"
   },
   {
    "duration": 47,
    "start_time": "2021-07-01T20:41:59.097Z"
   },
   {
    "duration": 18,
    "start_time": "2021-07-01T20:41:59.147Z"
   },
   {
    "duration": 21,
    "start_time": "2021-07-01T20:41:59.168Z"
   },
   {
    "duration": 89,
    "start_time": "2021-07-01T20:41:59.192Z"
   },
   {
    "duration": 43,
    "start_time": "2021-07-01T20:41:59.283Z"
   },
   {
    "duration": 19,
    "start_time": "2021-07-01T20:41:59.328Z"
   },
   {
    "duration": 20,
    "start_time": "2021-07-01T20:41:59.349Z"
   },
   {
    "duration": 5,
    "start_time": "2021-07-01T20:41:59.372Z"
   },
   {
    "duration": 90,
    "start_time": "2021-07-01T20:41:59.380Z"
   },
   {
    "duration": 6,
    "start_time": "2021-07-01T20:41:59.473Z"
   },
   {
    "duration": 9,
    "start_time": "2021-07-01T20:41:59.481Z"
   },
   {
    "duration": 16,
    "start_time": "2021-07-01T20:41:59.492Z"
   },
   {
    "duration": 32,
    "start_time": "2021-07-01T20:41:59.510Z"
   },
   {
    "duration": 9,
    "start_time": "2021-07-01T20:41:59.545Z"
   },
   {
    "duration": 10,
    "start_time": "2021-07-01T20:41:59.556Z"
   },
   {
    "duration": 8,
    "start_time": "2021-07-01T20:41:59.569Z"
   },
   {
    "duration": 60,
    "start_time": "2021-07-01T20:41:59.579Z"
   },
   {
    "duration": 13,
    "start_time": "2021-07-01T20:41:59.643Z"
   },
   {
    "duration": 96,
    "start_time": "2021-07-01T20:41:59.659Z"
   },
   {
    "duration": 765,
    "start_time": "2021-07-01T20:41:59.757Z"
   },
   {
    "duration": -676,
    "start_time": "2021-07-01T20:42:01.202Z"
   },
   {
    "duration": -679,
    "start_time": "2021-07-01T20:42:01.207Z"
   },
   {
    "duration": -685,
    "start_time": "2021-07-01T20:42:01.215Z"
   },
   {
    "duration": -688,
    "start_time": "2021-07-01T20:42:01.219Z"
   },
   {
    "duration": -685,
    "start_time": "2021-07-01T20:42:01.223Z"
   },
   {
    "duration": -688,
    "start_time": "2021-07-01T20:42:01.228Z"
   },
   {
    "duration": -693,
    "start_time": "2021-07-01T20:42:01.234Z"
   },
   {
    "duration": -697,
    "start_time": "2021-07-01T20:42:01.239Z"
   },
   {
    "duration": -699,
    "start_time": "2021-07-01T20:42:01.243Z"
   },
   {
    "duration": -705,
    "start_time": "2021-07-01T20:42:01.250Z"
   },
   {
    "duration": -707,
    "start_time": "2021-07-01T20:42:01.254Z"
   },
   {
    "duration": -711,
    "start_time": "2021-07-01T20:42:01.259Z"
   },
   {
    "duration": -717,
    "start_time": "2021-07-01T20:42:01.266Z"
   },
   {
    "duration": -720,
    "start_time": "2021-07-01T20:42:01.270Z"
   },
   {
    "duration": -722,
    "start_time": "2021-07-01T20:42:01.274Z"
   },
   {
    "duration": -724,
    "start_time": "2021-07-01T20:42:01.277Z"
   },
   {
    "duration": -730,
    "start_time": "2021-07-01T20:42:01.285Z"
   },
   {
    "duration": -733,
    "start_time": "2021-07-01T20:42:01.289Z"
   },
   {
    "duration": -735,
    "start_time": "2021-07-01T20:42:01.293Z"
   },
   {
    "duration": -741,
    "start_time": "2021-07-01T20:42:01.300Z"
   },
   {
    "duration": -744,
    "start_time": "2021-07-01T20:42:01.304Z"
   },
   {
    "duration": 4,
    "start_time": "2021-07-01T21:11:17.670Z"
   },
   {
    "duration": 1367,
    "start_time": "2021-07-01T21:11:18.552Z"
   },
   {
    "duration": -73,
    "start_time": "2021-07-01T21:11:19.995Z"
   },
   {
    "duration": 268,
    "start_time": "2021-07-01T21:11:23.617Z"
   },
   {
    "duration": 100,
    "start_time": "2021-07-01T21:11:28.231Z"
   },
   {
    "duration": 12,
    "start_time": "2021-07-01T21:11:28.445Z"
   },
   {
    "duration": 21,
    "start_time": "2021-07-01T21:11:32.722Z"
   },
   {
    "duration": 14,
    "start_time": "2021-07-01T21:11:33.388Z"
   },
   {
    "duration": 57,
    "start_time": "2021-07-01T21:11:33.826Z"
   },
   {
    "duration": 14,
    "start_time": "2021-07-01T21:11:35.546Z"
   },
   {
    "duration": 62,
    "start_time": "2021-07-01T21:11:35.674Z"
   },
   {
    "duration": 13,
    "start_time": "2021-07-01T21:11:35.832Z"
   },
   {
    "duration": 12,
    "start_time": "2021-07-01T21:11:39.150Z"
   },
   {
    "duration": 39,
    "start_time": "2021-07-01T21:11:39.980Z"
   },
   {
    "duration": 44,
    "start_time": "2021-07-01T21:11:40.088Z"
   },
   {
    "duration": 58,
    "start_time": "2021-07-01T21:11:40.257Z"
   },
   {
    "duration": 582,
    "start_time": "2021-07-01T21:11:40.445Z"
   },
   {
    "duration": 21,
    "start_time": "2021-07-01T21:11:55.435Z"
   },
   {
    "duration": 10,
    "start_time": "2021-07-01T21:11:55.562Z"
   },
   {
    "duration": 37,
    "start_time": "2021-07-01T21:11:58.450Z"
   },
   {
    "duration": 86,
    "start_time": "2021-07-01T21:11:58.644Z"
   },
   {
    "duration": 188,
    "start_time": "2021-07-01T21:11:59.035Z"
   },
   {
    "duration": 2064,
    "start_time": "2021-07-02T10:16:30.966Z"
   },
   {
    "duration": 972,
    "start_time": "2021-07-02T10:16:33.032Z"
   },
   {
    "duration": 33,
    "start_time": "2021-07-02T10:16:34.006Z"
   },
   {
    "duration": 87,
    "start_time": "2021-07-02T10:16:34.042Z"
   },
   {
    "duration": 7,
    "start_time": "2021-07-02T10:16:34.131Z"
   },
   {
    "duration": 64,
    "start_time": "2021-07-02T10:16:34.141Z"
   },
   {
    "duration": 219,
    "start_time": "2021-07-02T10:16:34.208Z"
   },
   {
    "duration": 330,
    "start_time": "2021-07-02T10:16:34.429Z"
   },
   {
    "duration": 16,
    "start_time": "2021-07-02T10:16:34.763Z"
   },
   {
    "duration": 11,
    "start_time": "2021-07-02T10:16:34.783Z"
   },
   {
    "duration": 15,
    "start_time": "2021-07-02T10:16:34.796Z"
   },
   {
    "duration": 57,
    "start_time": "2021-07-02T10:16:34.814Z"
   },
   {
    "duration": 251,
    "start_time": "2021-07-02T10:16:34.878Z"
   },
   {
    "duration": 9,
    "start_time": "2021-07-02T10:16:35.131Z"
   },
   {
    "duration": 11,
    "start_time": "2021-07-02T10:16:35.143Z"
   },
   {
    "duration": 6,
    "start_time": "2021-07-02T10:16:35.157Z"
   },
   {
    "duration": 9,
    "start_time": "2021-07-02T10:16:35.167Z"
   },
   {
    "duration": 20,
    "start_time": "2021-07-02T10:16:35.179Z"
   },
   {
    "duration": 10,
    "start_time": "2021-07-02T10:16:35.202Z"
   },
   {
    "duration": 51,
    "start_time": "2021-07-02T10:16:35.215Z"
   },
   {
    "duration": 25,
    "start_time": "2021-07-02T10:16:35.272Z"
   },
   {
    "duration": 16,
    "start_time": "2021-07-02T10:16:35.300Z"
   },
   {
    "duration": 11,
    "start_time": "2021-07-02T10:16:35.318Z"
   },
   {
    "duration": 41,
    "start_time": "2021-07-02T10:16:35.332Z"
   },
   {
    "duration": 15,
    "start_time": "2021-07-02T10:16:35.376Z"
   },
   {
    "duration": 224,
    "start_time": "2021-07-02T10:16:35.394Z"
   },
   {
    "duration": 10,
    "start_time": "2021-07-02T10:16:35.627Z"
   },
   {
    "duration": 7,
    "start_time": "2021-07-02T10:16:35.641Z"
   },
   {
    "duration": 8,
    "start_time": "2021-07-02T10:16:35.650Z"
   },
   {
    "duration": 22,
    "start_time": "2021-07-02T10:16:35.661Z"
   },
   {
    "duration": 19,
    "start_time": "2021-07-02T10:16:35.686Z"
   },
   {
    "duration": 19,
    "start_time": "2021-07-02T10:16:35.707Z"
   },
   {
    "duration": 9,
    "start_time": "2021-07-02T10:16:35.729Z"
   },
   {
    "duration": 33,
    "start_time": "2021-07-02T10:16:35.742Z"
   },
   {
    "duration": 8,
    "start_time": "2021-07-02T10:16:35.778Z"
   },
   {
    "duration": 9,
    "start_time": "2021-07-02T10:16:35.788Z"
   },
   {
    "duration": 8,
    "start_time": "2021-07-02T10:16:35.800Z"
   },
   {
    "duration": 58,
    "start_time": "2021-07-02T10:16:35.811Z"
   },
   {
    "duration": 7,
    "start_time": "2021-07-02T10:16:35.873Z"
   },
   {
    "duration": 13,
    "start_time": "2021-07-02T10:16:35.884Z"
   },
   {
    "duration": 33,
    "start_time": "2021-07-02T10:16:35.899Z"
   },
   {
    "duration": 226,
    "start_time": "2021-07-02T10:16:35.934Z"
   },
   {
    "duration": 33,
    "start_time": "2021-07-02T10:16:36.164Z"
   },
   {
    "duration": 30,
    "start_time": "2021-07-02T10:16:36.200Z"
   },
   {
    "duration": 51,
    "start_time": "2021-07-02T10:16:36.233Z"
   },
   {
    "duration": 24,
    "start_time": "2021-07-02T10:16:36.287Z"
   },
   {
    "duration": 53,
    "start_time": "2021-07-02T10:16:36.314Z"
   },
   {
    "duration": 28,
    "start_time": "2021-07-02T10:16:36.376Z"
   },
   {
    "duration": 94,
    "start_time": "2021-07-02T10:16:36.407Z"
   },
   {
    "duration": 28,
    "start_time": "2021-07-02T10:16:36.503Z"
   },
   {
    "duration": 15,
    "start_time": "2021-07-02T10:16:36.534Z"
   },
   {
    "duration": 20,
    "start_time": "2021-07-02T10:16:36.568Z"
   },
   {
    "duration": 9,
    "start_time": "2021-07-02T10:16:36.591Z"
   },
   {
    "duration": 77,
    "start_time": "2021-07-02T10:16:36.602Z"
   },
   {
    "duration": 6,
    "start_time": "2021-07-02T10:16:36.682Z"
   },
   {
    "duration": 8,
    "start_time": "2021-07-02T10:16:36.690Z"
   },
   {
    "duration": 13,
    "start_time": "2021-07-02T10:16:36.700Z"
   },
   {
    "duration": 64,
    "start_time": "2021-07-02T10:16:36.715Z"
   },
   {
    "duration": 8,
    "start_time": "2021-07-02T10:16:36.782Z"
   },
   {
    "duration": 12,
    "start_time": "2021-07-02T10:16:36.792Z"
   },
   {
    "duration": 8,
    "start_time": "2021-07-02T10:16:36.806Z"
   },
   {
    "duration": 12,
    "start_time": "2021-07-02T10:16:36.816Z"
   },
   {
    "duration": 13,
    "start_time": "2021-07-02T10:16:36.876Z"
   },
   {
    "duration": 110,
    "start_time": "2021-07-02T10:16:36.892Z"
   },
   {
    "duration": 576,
    "start_time": "2021-07-02T10:16:37.005Z"
   },
   {
    "duration": -1250,
    "start_time": "2021-07-02T10:16:38.834Z"
   },
   {
    "duration": -1255,
    "start_time": "2021-07-02T10:16:38.842Z"
   },
   {
    "duration": -1263,
    "start_time": "2021-07-02T10:16:38.851Z"
   },
   {
    "duration": -1267,
    "start_time": "2021-07-02T10:16:38.857Z"
   },
   {
    "duration": -1274,
    "start_time": "2021-07-02T10:16:38.865Z"
   },
   {
    "duration": -1277,
    "start_time": "2021-07-02T10:16:38.870Z"
   },
   {
    "duration": -1285,
    "start_time": "2021-07-02T10:16:38.879Z"
   },
   {
    "duration": -1289,
    "start_time": "2021-07-02T10:16:38.885Z"
   },
   {
    "duration": -1298,
    "start_time": "2021-07-02T10:16:38.895Z"
   },
   {
    "duration": -1316,
    "start_time": "2021-07-02T10:16:38.915Z"
   },
   {
    "duration": -1321,
    "start_time": "2021-07-02T10:16:38.923Z"
   },
   {
    "duration": -1340,
    "start_time": "2021-07-02T10:16:38.943Z"
   },
   {
    "duration": -1358,
    "start_time": "2021-07-02T10:16:38.962Z"
   },
   {
    "duration": -1361,
    "start_time": "2021-07-02T10:16:38.967Z"
   },
   {
    "duration": -1367,
    "start_time": "2021-07-02T10:16:38.974Z"
   },
   {
    "duration": -1374,
    "start_time": "2021-07-02T10:16:38.982Z"
   },
   {
    "duration": -1397,
    "start_time": "2021-07-02T10:16:39.007Z"
   },
   {
    "duration": -1418,
    "start_time": "2021-07-02T10:16:39.029Z"
   },
   {
    "duration": -1435,
    "start_time": "2021-07-02T10:16:39.048Z"
   },
   {
    "duration": -1454,
    "start_time": "2021-07-02T10:16:39.068Z"
   },
   {
    "duration": -1461,
    "start_time": "2021-07-02T10:16:39.077Z"
   },
   {
    "duration": 114,
    "start_time": "2021-07-02T10:18:05.891Z"
   },
   {
    "duration": 3,
    "start_time": "2021-07-02T10:18:32.661Z"
   },
   {
    "duration": 7,
    "start_time": "2021-07-02T10:18:37.197Z"
   },
   {
    "duration": 7,
    "start_time": "2021-07-02T10:18:41.215Z"
   },
   {
    "duration": 5,
    "start_time": "2021-07-02T10:18:44.075Z"
   },
   {
    "duration": 20,
    "start_time": "2021-07-02T10:18:46.619Z"
   },
   {
    "duration": 106,
    "start_time": "2021-07-02T10:18:52.514Z"
   },
   {
    "duration": 15,
    "start_time": "2021-07-02T10:18:55.468Z"
   },
   {
    "duration": 2070,
    "start_time": "2021-07-02T10:19:10.634Z"
   },
   {
    "duration": 1044,
    "start_time": "2021-07-02T10:19:12.707Z"
   },
   {
    "duration": 46,
    "start_time": "2021-07-02T10:19:13.755Z"
   },
   {
    "duration": 98,
    "start_time": "2021-07-02T10:19:13.804Z"
   },
   {
    "duration": 8,
    "start_time": "2021-07-02T10:19:13.904Z"
   },
   {
    "duration": 53,
    "start_time": "2021-07-02T10:19:13.914Z"
   },
   {
    "duration": 330,
    "start_time": "2021-07-02T10:19:13.971Z"
   },
   {
    "duration": 298,
    "start_time": "2021-07-02T10:19:14.304Z"
   },
   {
    "duration": 16,
    "start_time": "2021-07-02T10:19:14.607Z"
   },
   {
    "duration": 7,
    "start_time": "2021-07-02T10:19:14.627Z"
   },
   {
    "duration": 36,
    "start_time": "2021-07-02T10:19:14.637Z"
   },
   {
    "duration": 35,
    "start_time": "2021-07-02T10:19:14.676Z"
   },
   {
    "duration": 248,
    "start_time": "2021-07-02T10:19:14.713Z"
   },
   {
    "duration": 14,
    "start_time": "2021-07-02T10:19:14.965Z"
   },
   {
    "duration": 25,
    "start_time": "2021-07-02T10:19:14.988Z"
   },
   {
    "duration": 27,
    "start_time": "2021-07-02T10:19:15.016Z"
   },
   {
    "duration": 18,
    "start_time": "2021-07-02T10:19:15.045Z"
   },
   {
    "duration": 35,
    "start_time": "2021-07-02T10:19:15.065Z"
   },
   {
    "duration": 10,
    "start_time": "2021-07-02T10:19:15.102Z"
   },
   {
    "duration": 17,
    "start_time": "2021-07-02T10:19:15.114Z"
   },
   {
    "duration": 14,
    "start_time": "2021-07-02T10:19:15.133Z"
   },
   {
    "duration": 17,
    "start_time": "2021-07-02T10:19:15.172Z"
   },
   {
    "duration": 9,
    "start_time": "2021-07-02T10:19:15.192Z"
   },
   {
    "duration": 12,
    "start_time": "2021-07-02T10:19:15.204Z"
   },
   {
    "duration": 16,
    "start_time": "2021-07-02T10:19:15.218Z"
   },
   {
    "duration": 239,
    "start_time": "2021-07-02T10:19:15.269Z"
   },
   {
    "duration": 9,
    "start_time": "2021-07-02T10:19:15.515Z"
   },
   {
    "duration": 7,
    "start_time": "2021-07-02T10:19:15.528Z"
   },
   {
    "duration": 8,
    "start_time": "2021-07-02T10:19:15.537Z"
   },
   {
    "duration": 16,
    "start_time": "2021-07-02T10:19:15.547Z"
   },
   {
    "duration": 23,
    "start_time": "2021-07-02T10:19:15.565Z"
   },
   {
    "duration": 6,
    "start_time": "2021-07-02T10:19:15.591Z"
   },
   {
    "duration": 7,
    "start_time": "2021-07-02T10:19:15.599Z"
   },
   {
    "duration": 20,
    "start_time": "2021-07-02T10:19:15.609Z"
   },
   {
    "duration": 10,
    "start_time": "2021-07-02T10:19:15.631Z"
   },
   {
    "duration": 14,
    "start_time": "2021-07-02T10:19:15.675Z"
   },
   {
    "duration": 17,
    "start_time": "2021-07-02T10:19:15.692Z"
   },
   {
    "duration": 12,
    "start_time": "2021-07-02T10:19:15.712Z"
   },
   {
    "duration": 8,
    "start_time": "2021-07-02T10:19:15.726Z"
   },
   {
    "duration": 9,
    "start_time": "2021-07-02T10:19:15.737Z"
   },
   {
    "duration": 58,
    "start_time": "2021-07-02T10:19:15.748Z"
   },
   {
    "duration": 164,
    "start_time": "2021-07-02T10:19:15.809Z"
   },
   {
    "duration": 25,
    "start_time": "2021-07-02T10:19:15.975Z"
   },
   {
    "duration": 26,
    "start_time": "2021-07-02T10:19:16.003Z"
   },
   {
    "duration": 48,
    "start_time": "2021-07-02T10:19:16.032Z"
   },
   {
    "duration": 32,
    "start_time": "2021-07-02T10:19:16.084Z"
   },
   {
    "duration": 48,
    "start_time": "2021-07-02T10:19:16.119Z"
   },
   {
    "duration": 26,
    "start_time": "2021-07-02T10:19:16.170Z"
   },
   {
    "duration": 79,
    "start_time": "2021-07-02T10:19:16.199Z"
   },
   {
    "duration": 28,
    "start_time": "2021-07-02T10:19:16.282Z"
   },
   {
    "duration": 22,
    "start_time": "2021-07-02T10:19:16.313Z"
   },
   {
    "duration": 48,
    "start_time": "2021-07-02T10:19:16.337Z"
   },
   {
    "duration": 17,
    "start_time": "2021-07-02T10:19:16.388Z"
   },
   {
    "duration": 64,
    "start_time": "2021-07-02T10:19:16.407Z"
   },
   {
    "duration": 8,
    "start_time": "2021-07-02T10:19:16.474Z"
   },
   {
    "duration": 10,
    "start_time": "2021-07-02T10:19:16.486Z"
   },
   {
    "duration": 15,
    "start_time": "2021-07-02T10:19:16.498Z"
   },
   {
    "duration": 14,
    "start_time": "2021-07-02T10:19:16.515Z"
   },
   {
    "duration": 47,
    "start_time": "2021-07-02T10:19:16.531Z"
   },
   {
    "duration": 12,
    "start_time": "2021-07-02T10:19:16.581Z"
   },
   {
    "duration": 14,
    "start_time": "2021-07-02T10:19:16.597Z"
   },
   {
    "duration": 59,
    "start_time": "2021-07-02T10:19:16.613Z"
   },
   {
    "duration": 17,
    "start_time": "2021-07-02T10:19:16.675Z"
   },
   {
    "duration": 100,
    "start_time": "2021-07-02T10:19:16.694Z"
   },
   {
    "duration": 4,
    "start_time": "2021-07-02T10:19:16.797Z"
   },
   {
    "duration": 7,
    "start_time": "2021-07-02T10:19:16.805Z"
   },
   {
    "duration": 7,
    "start_time": "2021-07-02T10:19:16.815Z"
   },
   {
    "duration": 52,
    "start_time": "2021-07-02T10:19:16.825Z"
   },
   {
    "duration": 106,
    "start_time": "2021-07-02T10:19:16.881Z"
   },
   {
    "duration": 12,
    "start_time": "2021-07-02T10:19:16.990Z"
   },
   {
    "duration": 17,
    "start_time": "2021-07-02T10:19:17.004Z"
   },
   {
    "duration": 12,
    "start_time": "2021-07-02T10:19:17.023Z"
   },
   {
    "duration": 87,
    "start_time": "2021-07-02T10:19:17.038Z"
   },
   {
    "duration": 10,
    "start_time": "2021-07-02T10:19:17.128Z"
   },
   {
    "duration": 72,
    "start_time": "2021-07-02T10:19:17.141Z"
   },
   {
    "duration": 10,
    "start_time": "2021-07-02T10:19:17.216Z"
   },
   {
    "duration": 15,
    "start_time": "2021-07-02T10:19:17.229Z"
   },
   {
    "duration": 63,
    "start_time": "2021-07-02T10:19:17.247Z"
   },
   {
    "duration": 38,
    "start_time": "2021-07-02T10:19:17.313Z"
   },
   {
    "duration": 48,
    "start_time": "2021-07-02T10:19:17.367Z"
   },
   {
    "duration": 577,
    "start_time": "2021-07-02T10:19:17.424Z"
   },
   {
    "duration": 22,
    "start_time": "2021-07-02T10:19:18.005Z"
   },
   {
    "duration": 39,
    "start_time": "2021-07-02T10:19:18.030Z"
   },
   {
    "duration": 36,
    "start_time": "2021-07-02T10:19:18.077Z"
   },
   {
    "duration": 117,
    "start_time": "2021-07-02T10:19:18.116Z"
   },
   {
    "duration": 189,
    "start_time": "2021-07-02T10:19:18.236Z"
   },
   {
    "duration": 517,
    "start_time": "2021-07-02T10:21:41.046Z"
   },
   {
    "duration": 2296,
    "start_time": "2021-07-02T10:22:16.250Z"
   },
   {
    "duration": 1222,
    "start_time": "2021-07-02T10:22:18.549Z"
   },
   {
    "duration": 50,
    "start_time": "2021-07-02T10:22:19.775Z"
   },
   {
    "duration": 124,
    "start_time": "2021-07-02T10:22:19.829Z"
   },
   {
    "duration": 10,
    "start_time": "2021-07-02T10:22:19.968Z"
   },
   {
    "duration": 49,
    "start_time": "2021-07-02T10:22:19.982Z"
   },
   {
    "duration": 306,
    "start_time": "2021-07-02T10:22:20.034Z"
   },
   {
    "duration": 414,
    "start_time": "2021-07-02T10:22:20.344Z"
   },
   {
    "duration": 17,
    "start_time": "2021-07-02T10:22:20.762Z"
   },
   {
    "duration": 11,
    "start_time": "2021-07-02T10:22:20.782Z"
   },
   {
    "duration": 11,
    "start_time": "2021-07-02T10:22:20.795Z"
   },
   {
    "duration": 67,
    "start_time": "2021-07-02T10:22:20.809Z"
   },
   {
    "duration": 271,
    "start_time": "2021-07-02T10:22:20.878Z"
   },
   {
    "duration": 12,
    "start_time": "2021-07-02T10:22:21.151Z"
   },
   {
    "duration": 12,
    "start_time": "2021-07-02T10:22:21.166Z"
   },
   {
    "duration": 12,
    "start_time": "2021-07-02T10:22:21.180Z"
   },
   {
    "duration": 7,
    "start_time": "2021-07-02T10:22:21.194Z"
   },
   {
    "duration": 18,
    "start_time": "2021-07-02T10:22:21.203Z"
   },
   {
    "duration": 57,
    "start_time": "2021-07-02T10:22:21.223Z"
   },
   {
    "duration": 15,
    "start_time": "2021-07-02T10:22:21.283Z"
   },
   {
    "duration": 15,
    "start_time": "2021-07-02T10:22:21.301Z"
   },
   {
    "duration": 20,
    "start_time": "2021-07-02T10:22:21.318Z"
   },
   {
    "duration": 11,
    "start_time": "2021-07-02T10:22:21.370Z"
   },
   {
    "duration": 14,
    "start_time": "2021-07-02T10:22:21.386Z"
   },
   {
    "duration": 12,
    "start_time": "2021-07-02T10:22:21.403Z"
   },
   {
    "duration": 234,
    "start_time": "2021-07-02T10:22:21.417Z"
   },
   {
    "duration": 9,
    "start_time": "2021-07-02T10:22:21.653Z"
   },
   {
    "duration": 11,
    "start_time": "2021-07-02T10:22:21.664Z"
   },
   {
    "duration": 7,
    "start_time": "2021-07-02T10:22:21.678Z"
   },
   {
    "duration": 14,
    "start_time": "2021-07-02T10:22:21.688Z"
   },
   {
    "duration": 8,
    "start_time": "2021-07-02T10:22:21.705Z"
   },
   {
    "duration": 54,
    "start_time": "2021-07-02T10:22:21.715Z"
   },
   {
    "duration": 8,
    "start_time": "2021-07-02T10:22:21.772Z"
   },
   {
    "duration": 8,
    "start_time": "2021-07-02T10:22:21.783Z"
   },
   {
    "duration": 6,
    "start_time": "2021-07-02T10:22:21.793Z"
   },
   {
    "duration": 6,
    "start_time": "2021-07-02T10:22:21.801Z"
   },
   {
    "duration": 59,
    "start_time": "2021-07-02T10:22:21.809Z"
   },
   {
    "duration": 10,
    "start_time": "2021-07-02T10:22:21.876Z"
   },
   {
    "duration": 6,
    "start_time": "2021-07-02T10:22:21.889Z"
   },
   {
    "duration": 10,
    "start_time": "2021-07-02T10:22:21.898Z"
   },
   {
    "duration": 77,
    "start_time": "2021-07-02T10:22:21.910Z"
   },
   {
    "duration": 237,
    "start_time": "2021-07-02T10:22:21.990Z"
   },
   {
    "duration": 21,
    "start_time": "2021-07-02T10:22:22.229Z"
   },
   {
    "duration": 28,
    "start_time": "2021-07-02T10:22:22.272Z"
   },
   {
    "duration": 30,
    "start_time": "2021-07-02T10:22:22.303Z"
   },
   {
    "duration": 68,
    "start_time": "2021-07-02T10:22:22.337Z"
   },
   {
    "duration": 20,
    "start_time": "2021-07-02T10:22:22.407Z"
   },
   {
    "duration": 46,
    "start_time": "2021-07-02T10:22:22.429Z"
   },
   {
    "duration": 97,
    "start_time": "2021-07-02T10:22:22.478Z"
   },
   {
    "duration": 34,
    "start_time": "2021-07-02T10:22:22.577Z"
   },
   {
    "duration": 21,
    "start_time": "2021-07-02T10:22:22.614Z"
   },
   {
    "duration": 47,
    "start_time": "2021-07-02T10:22:22.638Z"
   },
   {
    "duration": 6,
    "start_time": "2021-07-02T10:22:22.688Z"
   },
   {
    "duration": 74,
    "start_time": "2021-07-02T10:22:22.696Z"
   },
   {
    "duration": 10,
    "start_time": "2021-07-02T10:22:22.774Z"
   },
   {
    "duration": 18,
    "start_time": "2021-07-02T10:22:22.787Z"
   },
   {
    "duration": 18,
    "start_time": "2021-07-02T10:22:22.807Z"
   },
   {
    "duration": 22,
    "start_time": "2021-07-02T10:22:22.827Z"
   },
   {
    "duration": 35,
    "start_time": "2021-07-02T10:22:22.851Z"
   },
   {
    "duration": 24,
    "start_time": "2021-07-02T10:22:22.889Z"
   },
   {
    "duration": 18,
    "start_time": "2021-07-02T10:22:22.916Z"
   },
   {
    "duration": 23,
    "start_time": "2021-07-02T10:22:22.937Z"
   },
   {
    "duration": 16,
    "start_time": "2021-07-02T10:22:22.967Z"
   },
   {
    "duration": 98,
    "start_time": "2021-07-02T10:22:22.986Z"
   },
   {
    "duration": 4,
    "start_time": "2021-07-02T10:22:23.087Z"
   },
   {
    "duration": 16,
    "start_time": "2021-07-02T10:22:23.094Z"
   },
   {
    "duration": 16,
    "start_time": "2021-07-02T10:22:23.113Z"
   },
   {
    "duration": 12,
    "start_time": "2021-07-02T10:22:23.138Z"
   },
   {
    "duration": 122,
    "start_time": "2021-07-02T10:22:23.153Z"
   },
   {
    "duration": 12,
    "start_time": "2021-07-02T10:22:23.278Z"
   },
   {
    "duration": 14,
    "start_time": "2021-07-02T10:22:23.292Z"
   },
   {
    "duration": 11,
    "start_time": "2021-07-02T10:22:23.308Z"
   },
   {
    "duration": 84,
    "start_time": "2021-07-02T10:22:23.322Z"
   },
   {
    "duration": 11,
    "start_time": "2021-07-02T10:22:23.409Z"
   },
   {
    "duration": 72,
    "start_time": "2021-07-02T10:22:23.422Z"
   },
   {
    "duration": 10,
    "start_time": "2021-07-02T10:22:23.496Z"
   },
   {
    "duration": 15,
    "start_time": "2021-07-02T10:22:23.508Z"
   },
   {
    "duration": 66,
    "start_time": "2021-07-02T10:22:23.525Z"
   },
   {
    "duration": 57,
    "start_time": "2021-07-02T10:22:23.593Z"
   },
   {
    "duration": 49,
    "start_time": "2021-07-02T10:22:23.666Z"
   },
   {
    "duration": 572,
    "start_time": "2021-07-02T10:22:23.717Z"
   },
   {
    "duration": 20,
    "start_time": "2021-07-02T10:22:24.291Z"
   },
   {
    "duration": 11,
    "start_time": "2021-07-02T10:22:24.314Z"
   },
   {
    "duration": 74,
    "start_time": "2021-07-02T10:22:24.328Z"
   },
   {
    "duration": 74,
    "start_time": "2021-07-02T10:22:24.404Z"
   },
   {
    "duration": 174,
    "start_time": "2021-07-02T10:22:24.483Z"
   },
   {
    "duration": 8,
    "start_time": "2021-07-02T10:23:35.480Z"
   },
   {
    "duration": 1955,
    "start_time": "2021-07-02T10:23:46.199Z"
   },
   {
    "duration": 997,
    "start_time": "2021-07-02T10:23:48.157Z"
   },
   {
    "duration": 39,
    "start_time": "2021-07-02T10:23:49.167Z"
   },
   {
    "duration": 111,
    "start_time": "2021-07-02T10:23:49.210Z"
   },
   {
    "duration": 8,
    "start_time": "2021-07-02T10:23:49.325Z"
   },
   {
    "duration": 55,
    "start_time": "2021-07-02T10:23:49.335Z"
   },
   {
    "duration": 213,
    "start_time": "2021-07-02T10:23:49.392Z"
   },
   {
    "duration": 323,
    "start_time": "2021-07-02T10:23:49.607Z"
   },
   {
    "duration": 13,
    "start_time": "2021-07-02T10:23:49.936Z"
   },
   {
    "duration": 19,
    "start_time": "2021-07-02T10:23:49.954Z"
   },
   {
    "duration": 14,
    "start_time": "2021-07-02T10:23:49.976Z"
   },
   {
    "duration": 33,
    "start_time": "2021-07-02T10:23:49.993Z"
   },
   {
    "duration": 281,
    "start_time": "2021-07-02T10:23:50.028Z"
   },
   {
    "duration": 8,
    "start_time": "2021-07-02T10:23:50.311Z"
   },
   {
    "duration": 29,
    "start_time": "2021-07-02T10:23:50.322Z"
   },
   {
    "duration": 9,
    "start_time": "2021-07-02T10:23:50.354Z"
   },
   {
    "duration": 14,
    "start_time": "2021-07-02T10:23:50.373Z"
   },
   {
    "duration": 21,
    "start_time": "2021-07-02T10:23:50.389Z"
   },
   {
    "duration": 11,
    "start_time": "2021-07-02T10:23:50.413Z"
   },
   {
    "duration": 56,
    "start_time": "2021-07-02T10:23:50.426Z"
   },
   {
    "duration": 16,
    "start_time": "2021-07-02T10:23:50.485Z"
   },
   {
    "duration": 16,
    "start_time": "2021-07-02T10:23:50.503Z"
   },
   {
    "duration": 12,
    "start_time": "2021-07-02T10:23:50.521Z"
   },
   {
    "duration": 40,
    "start_time": "2021-07-02T10:23:50.535Z"
   },
   {
    "duration": 16,
    "start_time": "2021-07-02T10:23:50.578Z"
   },
   {
    "duration": 259,
    "start_time": "2021-07-02T10:23:50.597Z"
   },
   {
    "duration": 9,
    "start_time": "2021-07-02T10:23:50.862Z"
   },
   {
    "duration": 7,
    "start_time": "2021-07-02T10:23:50.875Z"
   },
   {
    "duration": 10,
    "start_time": "2021-07-02T10:23:50.884Z"
   },
   {
    "duration": 15,
    "start_time": "2021-07-02T10:23:50.897Z"
   },
   {
    "duration": 6,
    "start_time": "2021-07-02T10:23:50.914Z"
   },
   {
    "duration": 52,
    "start_time": "2021-07-02T10:23:50.923Z"
   },
   {
    "duration": 9,
    "start_time": "2021-07-02T10:23:50.977Z"
   },
   {
    "duration": 12,
    "start_time": "2021-07-02T10:23:50.989Z"
   },
   {
    "duration": 11,
    "start_time": "2021-07-02T10:23:51.003Z"
   },
   {
    "duration": 10,
    "start_time": "2021-07-02T10:23:51.016Z"
   },
   {
    "duration": 45,
    "start_time": "2021-07-02T10:23:51.028Z"
   },
   {
    "duration": 10,
    "start_time": "2021-07-02T10:23:51.076Z"
   },
   {
    "duration": 9,
    "start_time": "2021-07-02T10:23:51.088Z"
   },
   {
    "duration": 17,
    "start_time": "2021-07-02T10:23:51.099Z"
   },
   {
    "duration": 56,
    "start_time": "2021-07-02T10:23:51.119Z"
   },
   {
    "duration": 160,
    "start_time": "2021-07-02T10:23:51.177Z"
   },
   {
    "duration": 34,
    "start_time": "2021-07-02T10:23:51.339Z"
   },
   {
    "duration": 20,
    "start_time": "2021-07-02T10:23:51.384Z"
   },
   {
    "duration": 20,
    "start_time": "2021-07-02T10:23:51.407Z"
   },
   {
    "duration": 58,
    "start_time": "2021-07-02T10:23:51.429Z"
   },
   {
    "duration": 17,
    "start_time": "2021-07-02T10:23:51.489Z"
   },
   {
    "duration": 18,
    "start_time": "2021-07-02T10:23:51.508Z"
   },
   {
    "duration": 97,
    "start_time": "2021-07-02T10:23:51.529Z"
   },
   {
    "duration": 26,
    "start_time": "2021-07-02T10:23:51.628Z"
   },
   {
    "duration": 18,
    "start_time": "2021-07-02T10:23:51.667Z"
   },
   {
    "duration": 17,
    "start_time": "2021-07-02T10:23:51.688Z"
   },
   {
    "duration": 5,
    "start_time": "2021-07-02T10:23:51.708Z"
   },
   {
    "duration": 87,
    "start_time": "2021-07-02T10:23:51.716Z"
   },
   {
    "duration": 7,
    "start_time": "2021-07-02T10:23:51.805Z"
   },
   {
    "duration": 7,
    "start_time": "2021-07-02T10:23:51.815Z"
   },
   {
    "duration": 12,
    "start_time": "2021-07-02T10:23:51.825Z"
   },
   {
    "duration": 22,
    "start_time": "2021-07-02T10:23:51.869Z"
   },
   {
    "duration": 8,
    "start_time": "2021-07-02T10:23:51.893Z"
   },
   {
    "duration": 21,
    "start_time": "2021-07-02T10:23:51.903Z"
   },
   {
    "duration": 9,
    "start_time": "2021-07-02T10:23:51.927Z"
   },
   {
    "duration": 13,
    "start_time": "2021-07-02T10:23:51.968Z"
   },
   {
    "duration": 22,
    "start_time": "2021-07-02T10:23:51.988Z"
   },
   {
    "duration": 130,
    "start_time": "2021-07-02T10:23:52.013Z"
   },
   {
    "duration": 4,
    "start_time": "2021-07-02T10:23:52.145Z"
   },
   {
    "duration": 13,
    "start_time": "2021-07-02T10:23:52.151Z"
   },
   {
    "duration": 32,
    "start_time": "2021-07-02T10:23:52.167Z"
   },
   {
    "duration": 23,
    "start_time": "2021-07-02T10:23:52.202Z"
   },
   {
    "duration": 117,
    "start_time": "2021-07-02T10:23:52.227Z"
   },
   {
    "duration": 9,
    "start_time": "2021-07-02T10:23:52.347Z"
   },
   {
    "duration": 25,
    "start_time": "2021-07-02T10:23:52.358Z"
   },
   {
    "duration": 13,
    "start_time": "2021-07-02T10:23:52.386Z"
   },
   {
    "duration": 70,
    "start_time": "2021-07-02T10:23:52.401Z"
   },
   {
    "duration": 14,
    "start_time": "2021-07-02T10:23:52.475Z"
   },
   {
    "duration": 46,
    "start_time": "2021-07-02T10:23:52.492Z"
   },
   {
    "duration": 31,
    "start_time": "2021-07-02T10:23:52.541Z"
   },
   {
    "duration": 17,
    "start_time": "2021-07-02T10:23:52.575Z"
   },
   {
    "duration": 45,
    "start_time": "2021-07-02T10:23:52.594Z"
   },
   {
    "duration": 71,
    "start_time": "2021-07-02T10:23:52.641Z"
   },
   {
    "duration": 65,
    "start_time": "2021-07-02T10:23:52.715Z"
   },
   {
    "duration": 629,
    "start_time": "2021-07-02T10:23:52.791Z"
   },
   {
    "duration": 20,
    "start_time": "2021-07-02T10:23:53.422Z"
   },
   {
    "duration": 35,
    "start_time": "2021-07-02T10:23:53.444Z"
   },
   {
    "duration": 52,
    "start_time": "2021-07-02T10:23:53.482Z"
   },
   {
    "duration": 104,
    "start_time": "2021-07-02T10:23:53.537Z"
   },
   {
    "duration": 180,
    "start_time": "2021-07-02T10:23:53.644Z"
   },
   {
    "duration": 23017,
    "start_time": "2021-07-02T17:38:46.602Z"
   },
   {
    "duration": 887,
    "start_time": "2021-07-02T17:39:09.623Z"
   },
   {
    "duration": 50,
    "start_time": "2021-07-02T17:39:10.516Z"
   },
   {
    "duration": 110,
    "start_time": "2021-07-02T17:39:10.569Z"
   },
   {
    "duration": 38,
    "start_time": "2021-07-02T17:39:10.681Z"
   },
   {
    "duration": 46,
    "start_time": "2021-07-02T17:39:10.723Z"
   },
   {
    "duration": 245,
    "start_time": "2021-07-02T17:39:10.771Z"
   },
   {
    "duration": 209,
    "start_time": "2021-07-02T17:39:11.023Z"
   },
   {
    "duration": 21,
    "start_time": "2021-07-02T17:39:11.237Z"
   },
   {
    "duration": 19,
    "start_time": "2021-07-02T17:39:11.260Z"
   },
   {
    "duration": 37,
    "start_time": "2021-07-02T17:39:11.281Z"
   },
   {
    "duration": 41,
    "start_time": "2021-07-02T17:39:11.320Z"
   },
   {
    "duration": 166,
    "start_time": "2021-07-02T17:39:11.364Z"
   },
   {
    "duration": 18,
    "start_time": "2021-07-02T17:39:11.533Z"
   },
   {
    "duration": 16,
    "start_time": "2021-07-02T17:39:11.554Z"
   },
   {
    "duration": 25,
    "start_time": "2021-07-02T17:39:11.573Z"
   },
   {
    "duration": 11,
    "start_time": "2021-07-02T17:39:11.611Z"
   },
   {
    "duration": 37,
    "start_time": "2021-07-02T17:39:11.627Z"
   },
   {
    "duration": 20,
    "start_time": "2021-07-02T17:39:11.667Z"
   },
   {
    "duration": 51,
    "start_time": "2021-07-02T17:39:11.689Z"
   },
   {
    "duration": 26,
    "start_time": "2021-07-02T17:39:11.743Z"
   },
   {
    "duration": 26,
    "start_time": "2021-07-02T17:39:11.772Z"
   },
   {
    "duration": 27,
    "start_time": "2021-07-02T17:39:11.808Z"
   },
   {
    "duration": 25,
    "start_time": "2021-07-02T17:39:11.840Z"
   },
   {
    "duration": 13,
    "start_time": "2021-07-02T17:39:11.868Z"
   },
   {
    "duration": 145,
    "start_time": "2021-07-02T17:39:11.884Z"
   },
   {
    "duration": 17,
    "start_time": "2021-07-02T17:39:12.031Z"
   },
   {
    "duration": 11,
    "start_time": "2021-07-02T17:39:12.051Z"
   },
   {
    "duration": 28,
    "start_time": "2021-07-02T17:39:12.064Z"
   },
   {
    "duration": 53,
    "start_time": "2021-07-02T17:39:12.094Z"
   },
   {
    "duration": 14,
    "start_time": "2021-07-02T17:39:12.149Z"
   },
   {
    "duration": 33,
    "start_time": "2021-07-02T17:39:12.166Z"
   },
   {
    "duration": 28,
    "start_time": "2021-07-02T17:39:12.208Z"
   },
   {
    "duration": 18,
    "start_time": "2021-07-02T17:39:12.238Z"
   },
   {
    "duration": 18,
    "start_time": "2021-07-02T17:39:12.259Z"
   },
   {
    "duration": 32,
    "start_time": "2021-07-02T17:39:12.279Z"
   },
   {
    "duration": 35,
    "start_time": "2021-07-02T17:39:12.314Z"
   },
   {
    "duration": 31,
    "start_time": "2021-07-02T17:39:12.352Z"
   },
   {
    "duration": 29,
    "start_time": "2021-07-02T17:39:12.386Z"
   },
   {
    "duration": 47,
    "start_time": "2021-07-02T17:39:12.417Z"
   },
   {
    "duration": 59,
    "start_time": "2021-07-02T17:39:12.468Z"
   },
   {
    "duration": 207,
    "start_time": "2021-07-02T17:39:12.531Z"
   },
   {
    "duration": 21,
    "start_time": "2021-07-02T17:39:12.741Z"
   },
   {
    "duration": 47,
    "start_time": "2021-07-02T17:39:12.764Z"
   },
   {
    "duration": 45,
    "start_time": "2021-07-02T17:39:12.817Z"
   },
   {
    "duration": 31,
    "start_time": "2021-07-02T17:39:12.865Z"
   },
   {
    "duration": 27,
    "start_time": "2021-07-02T17:39:12.898Z"
   },
   {
    "duration": 22,
    "start_time": "2021-07-02T17:39:12.929Z"
   },
   {
    "duration": 85,
    "start_time": "2021-07-02T17:39:12.954Z"
   },
   {
    "duration": 28,
    "start_time": "2021-07-02T17:39:13.042Z"
   },
   {
    "duration": 39,
    "start_time": "2021-07-02T17:39:13.072Z"
   },
   {
    "duration": 30,
    "start_time": "2021-07-02T17:39:13.115Z"
   },
   {
    "duration": 5,
    "start_time": "2021-07-02T17:39:13.148Z"
   },
   {
    "duration": 80,
    "start_time": "2021-07-02T17:39:13.155Z"
   },
   {
    "duration": 8,
    "start_time": "2021-07-02T17:39:13.240Z"
   },
   {
    "duration": 7,
    "start_time": "2021-07-02T17:39:13.252Z"
   },
   {
    "duration": 56,
    "start_time": "2021-07-02T17:39:13.261Z"
   },
   {
    "duration": 19,
    "start_time": "2021-07-02T17:39:13.319Z"
   },
   {
    "duration": 10,
    "start_time": "2021-07-02T17:39:13.341Z"
   },
   {
    "duration": 10,
    "start_time": "2021-07-02T17:39:13.353Z"
   },
   {
    "duration": 52,
    "start_time": "2021-07-02T17:39:13.365Z"
   },
   {
    "duration": 16,
    "start_time": "2021-07-02T17:39:13.420Z"
   },
   {
    "duration": 13,
    "start_time": "2021-07-02T17:39:13.440Z"
   },
   {
    "duration": 60,
    "start_time": "2021-07-02T17:39:13.456Z"
   },
   {
    "duration": 5,
    "start_time": "2021-07-02T17:39:13.518Z"
   },
   {
    "duration": 3812,
    "start_time": "2021-07-02T17:39:13.526Z"
   },
   {
    "duration": -58,
    "start_time": "2021-07-02T17:39:17.401Z"
   },
   {
    "duration": -107,
    "start_time": "2021-07-02T17:39:17.452Z"
   },
   {
    "duration": -137,
    "start_time": "2021-07-02T17:39:17.484Z"
   },
   {
    "duration": -155,
    "start_time": "2021-07-02T17:39:17.504Z"
   },
   {
    "duration": -161,
    "start_time": "2021-07-02T17:39:17.511Z"
   },
   {
    "duration": -167,
    "start_time": "2021-07-02T17:39:17.518Z"
   },
   {
    "duration": -171,
    "start_time": "2021-07-02T17:39:17.524Z"
   },
   {
    "duration": -174,
    "start_time": "2021-07-02T17:39:17.528Z"
   },
   {
    "duration": -178,
    "start_time": "2021-07-02T17:39:17.534Z"
   },
   {
    "duration": -181,
    "start_time": "2021-07-02T17:39:17.538Z"
   },
   {
    "duration": -185,
    "start_time": "2021-07-02T17:39:17.544Z"
   },
   {
    "duration": -189,
    "start_time": "2021-07-02T17:39:17.549Z"
   },
   {
    "duration": -193,
    "start_time": "2021-07-02T17:39:17.555Z"
   },
   {
    "duration": -196,
    "start_time": "2021-07-02T17:39:17.559Z"
   },
   {
    "duration": -200,
    "start_time": "2021-07-02T17:39:17.564Z"
   },
   {
    "duration": -202,
    "start_time": "2021-07-02T17:39:17.568Z"
   },
   {
    "duration": -207,
    "start_time": "2021-07-02T17:39:17.574Z"
   },
   {
    "duration": -210,
    "start_time": "2021-07-02T17:39:17.579Z"
   },
   {
    "duration": -214,
    "start_time": "2021-07-02T17:39:17.584Z"
   },
   {
    "duration": -217,
    "start_time": "2021-07-02T17:39:17.589Z"
   },
   {
    "duration": 445,
    "start_time": "2021-07-02T20:07:35.953Z"
   },
   {
    "duration": 2072,
    "start_time": "2021-07-02T20:07:46.268Z"
   },
   {
    "duration": 1252,
    "start_time": "2021-07-02T20:07:48.343Z"
   },
   {
    "duration": 41,
    "start_time": "2021-07-02T20:07:49.599Z"
   },
   {
    "duration": 96,
    "start_time": "2021-07-02T20:07:49.642Z"
   },
   {
    "duration": 8,
    "start_time": "2021-07-02T20:07:49.740Z"
   },
   {
    "duration": 45,
    "start_time": "2021-07-02T20:07:49.751Z"
   },
   {
    "duration": 222,
    "start_time": "2021-07-02T20:07:49.798Z"
   },
   {
    "duration": 432,
    "start_time": "2021-07-02T20:07:50.024Z"
   },
   {
    "duration": 13,
    "start_time": "2021-07-02T20:07:50.459Z"
   },
   {
    "duration": 17,
    "start_time": "2021-07-02T20:07:50.474Z"
   },
   {
    "duration": 18,
    "start_time": "2021-07-02T20:07:50.493Z"
   },
   {
    "duration": 59,
    "start_time": "2021-07-02T20:07:50.514Z"
   },
   {
    "duration": 300,
    "start_time": "2021-07-02T20:07:50.575Z"
   },
   {
    "duration": 8,
    "start_time": "2021-07-02T20:07:50.877Z"
   },
   {
    "duration": 19,
    "start_time": "2021-07-02T20:07:50.888Z"
   },
   {
    "duration": 25,
    "start_time": "2021-07-02T20:07:50.909Z"
   },
   {
    "duration": 17,
    "start_time": "2021-07-02T20:07:50.936Z"
   },
   {
    "duration": 35,
    "start_time": "2021-07-02T20:07:50.955Z"
   },
   {
    "duration": 39,
    "start_time": "2021-07-02T20:07:50.992Z"
   },
   {
    "duration": 30,
    "start_time": "2021-07-02T20:07:51.033Z"
   },
   {
    "duration": 28,
    "start_time": "2021-07-02T20:07:51.065Z"
   },
   {
    "duration": 25,
    "start_time": "2021-07-02T20:07:51.096Z"
   },
   {
    "duration": 25,
    "start_time": "2021-07-02T20:07:51.128Z"
   },
   {
    "duration": 20,
    "start_time": "2021-07-02T20:07:51.157Z"
   },
   {
    "duration": 14,
    "start_time": "2021-07-02T20:07:51.180Z"
   },
   {
    "duration": 257,
    "start_time": "2021-07-02T20:07:51.196Z"
   },
   {
    "duration": 8,
    "start_time": "2021-07-02T20:07:51.455Z"
   },
   {
    "duration": 26,
    "start_time": "2021-07-02T20:07:51.465Z"
   },
   {
    "duration": 17,
    "start_time": "2021-07-02T20:07:51.493Z"
   },
   {
    "duration": 27,
    "start_time": "2021-07-02T20:07:51.512Z"
   },
   {
    "duration": 36,
    "start_time": "2021-07-02T20:07:51.541Z"
   },
   {
    "duration": 10,
    "start_time": "2021-07-02T20:07:51.579Z"
   },
   {
    "duration": 19,
    "start_time": "2021-07-02T20:07:51.592Z"
   },
   {
    "duration": 14,
    "start_time": "2021-07-02T20:07:51.613Z"
   },
   {
    "duration": 18,
    "start_time": "2021-07-02T20:07:51.629Z"
   },
   {
    "duration": 18,
    "start_time": "2021-07-02T20:07:51.649Z"
   },
   {
    "duration": 21,
    "start_time": "2021-07-02T20:07:51.670Z"
   },
   {
    "duration": 18,
    "start_time": "2021-07-02T20:07:51.693Z"
   },
   {
    "duration": 18,
    "start_time": "2021-07-02T20:07:51.713Z"
   },
   {
    "duration": 17,
    "start_time": "2021-07-02T20:07:51.734Z"
   },
   {
    "duration": 49,
    "start_time": "2021-07-02T20:07:51.753Z"
   },
   {
    "duration": 156,
    "start_time": "2021-07-02T20:07:51.804Z"
   },
   {
    "duration": 19,
    "start_time": "2021-07-02T20:07:51.963Z"
   },
   {
    "duration": 36,
    "start_time": "2021-07-02T20:07:51.985Z"
   },
   {
    "duration": 21,
    "start_time": "2021-07-02T20:07:52.023Z"
   },
   {
    "duration": 34,
    "start_time": "2021-07-02T20:07:52.047Z"
   },
   {
    "duration": 31,
    "start_time": "2021-07-02T20:07:52.084Z"
   },
   {
    "duration": 21,
    "start_time": "2021-07-02T20:07:52.117Z"
   },
   {
    "duration": 89,
    "start_time": "2021-07-02T20:07:52.140Z"
   },
   {
    "duration": 26,
    "start_time": "2021-07-02T20:07:52.232Z"
   },
   {
    "duration": 29,
    "start_time": "2021-07-02T20:07:52.260Z"
   },
   {
    "duration": 33,
    "start_time": "2021-07-02T20:07:52.292Z"
   },
   {
    "duration": 25,
    "start_time": "2021-07-02T20:07:52.327Z"
   },
   {
    "duration": 60,
    "start_time": "2021-07-02T20:07:52.354Z"
   },
   {
    "duration": 6,
    "start_time": "2021-07-02T20:07:52.416Z"
   },
   {
    "duration": 26,
    "start_time": "2021-07-02T20:07:52.425Z"
   },
   {
    "duration": 21,
    "start_time": "2021-07-02T20:07:52.454Z"
   },
   {
    "duration": 20,
    "start_time": "2021-07-02T20:07:52.478Z"
   },
   {
    "duration": 14,
    "start_time": "2021-07-02T20:07:52.500Z"
   },
   {
    "duration": 21,
    "start_time": "2021-07-02T20:07:52.517Z"
   },
   {
    "duration": 27,
    "start_time": "2021-07-02T20:07:52.540Z"
   },
   {
    "duration": 27,
    "start_time": "2021-07-02T20:07:52.569Z"
   },
   {
    "duration": 40,
    "start_time": "2021-07-02T20:07:52.598Z"
   },
   {
    "duration": 100,
    "start_time": "2021-07-02T20:07:52.641Z"
   },
   {
    "duration": 4,
    "start_time": "2021-07-02T20:07:52.744Z"
   },
   {
    "duration": 8,
    "start_time": "2021-07-02T20:07:52.751Z"
   },
   {
    "duration": 7,
    "start_time": "2021-07-02T20:07:52.761Z"
   },
   {
    "duration": 39,
    "start_time": "2021-07-02T20:07:52.777Z"
   },
   {
    "duration": 110,
    "start_time": "2021-07-02T20:07:52.819Z"
   },
   {
    "duration": 12,
    "start_time": "2021-07-02T20:07:52.932Z"
   },
   {
    "duration": 26,
    "start_time": "2021-07-02T20:07:52.947Z"
   },
   {
    "duration": 19,
    "start_time": "2021-07-02T20:07:52.976Z"
   },
   {
    "duration": 52,
    "start_time": "2021-07-02T20:07:53.011Z"
   },
   {
    "duration": 12,
    "start_time": "2021-07-02T20:07:53.065Z"
   },
   {
    "duration": 51,
    "start_time": "2021-07-02T20:07:53.108Z"
   },
   {
    "duration": 12,
    "start_time": "2021-07-02T20:07:53.161Z"
   },
   {
    "duration": 37,
    "start_time": "2021-07-02T20:07:53.176Z"
   },
   {
    "duration": 50,
    "start_time": "2021-07-02T20:07:53.216Z"
   },
   {
    "duration": 45,
    "start_time": "2021-07-02T20:07:53.269Z"
   },
   {
    "duration": 55,
    "start_time": "2021-07-02T20:07:53.317Z"
   },
   {
    "duration": 511,
    "start_time": "2021-07-02T20:07:53.375Z"
   },
   {
    "duration": 31,
    "start_time": "2021-07-02T20:07:53.888Z"
   },
   {
    "duration": 23,
    "start_time": "2021-07-02T20:07:53.921Z"
   },
   {
    "duration": 66,
    "start_time": "2021-07-02T20:07:53.947Z"
   },
   {
    "duration": 68,
    "start_time": "2021-07-02T20:07:54.016Z"
   },
   {
    "duration": 205,
    "start_time": "2021-07-02T20:07:54.086Z"
   },
   {
    "duration": 540,
    "start_time": "2021-07-02T20:08:19.002Z"
   },
   {
    "duration": 140,
    "start_time": "2021-07-02T20:08:31.599Z"
   },
   {
    "duration": 4,
    "start_time": "2021-07-02T20:08:35.186Z"
   },
   {
    "duration": 4,
    "start_time": "2021-07-02T20:08:42.697Z"
   },
   {
    "duration": 4,
    "start_time": "2021-07-02T20:08:54.365Z"
   },
   {
    "duration": 14,
    "start_time": "2021-07-02T20:08:58.855Z"
   },
   {
    "duration": 2085,
    "start_time": "2021-07-02T20:09:14.654Z"
   },
   {
    "duration": 1039,
    "start_time": "2021-07-02T20:09:16.742Z"
   },
   {
    "duration": 44,
    "start_time": "2021-07-02T20:09:17.784Z"
   },
   {
    "duration": 134,
    "start_time": "2021-07-02T20:09:17.830Z"
   },
   {
    "duration": 8,
    "start_time": "2021-07-02T20:09:17.967Z"
   },
   {
    "duration": 51,
    "start_time": "2021-07-02T20:09:17.977Z"
   },
   {
    "duration": 316,
    "start_time": "2021-07-02T20:09:18.030Z"
   },
   {
    "duration": 351,
    "start_time": "2021-07-02T20:09:18.350Z"
   },
   {
    "duration": 14,
    "start_time": "2021-07-02T20:09:18.704Z"
   },
   {
    "duration": 6,
    "start_time": "2021-07-02T20:09:18.721Z"
   },
   {
    "duration": 6,
    "start_time": "2021-07-02T20:09:18.729Z"
   },
   {
    "duration": 72,
    "start_time": "2021-07-02T20:09:18.738Z"
   },
   {
    "duration": 275,
    "start_time": "2021-07-02T20:09:18.812Z"
   },
   {
    "duration": 11,
    "start_time": "2021-07-02T20:09:19.090Z"
   },
   {
    "duration": 12,
    "start_time": "2021-07-02T20:09:19.104Z"
   },
   {
    "duration": 6,
    "start_time": "2021-07-02T20:09:19.119Z"
   },
   {
    "duration": 8,
    "start_time": "2021-07-02T20:09:19.127Z"
   },
   {
    "duration": 20,
    "start_time": "2021-07-02T20:09:19.137Z"
   },
   {
    "duration": 53,
    "start_time": "2021-07-02T20:09:19.159Z"
   },
   {
    "duration": 17,
    "start_time": "2021-07-02T20:09:19.214Z"
   },
   {
    "duration": 27,
    "start_time": "2021-07-02T20:09:19.234Z"
   },
   {
    "duration": 15,
    "start_time": "2021-07-02T20:09:19.264Z"
   },
   {
    "duration": 12,
    "start_time": "2021-07-02T20:09:19.310Z"
   },
   {
    "duration": 12,
    "start_time": "2021-07-02T20:09:19.327Z"
   },
   {
    "duration": 11,
    "start_time": "2021-07-02T20:09:19.342Z"
   },
   {
    "duration": 261,
    "start_time": "2021-07-02T20:09:19.356Z"
   },
   {
    "duration": 9,
    "start_time": "2021-07-02T20:09:19.620Z"
   },
   {
    "duration": 10,
    "start_time": "2021-07-02T20:09:19.632Z"
   },
   {
    "duration": 11,
    "start_time": "2021-07-02T20:09:19.645Z"
   },
   {
    "duration": 50,
    "start_time": "2021-07-02T20:09:19.659Z"
   },
   {
    "duration": 8,
    "start_time": "2021-07-02T20:09:19.713Z"
   },
   {
    "duration": 9,
    "start_time": "2021-07-02T20:09:19.724Z"
   },
   {
    "duration": 7,
    "start_time": "2021-07-02T20:09:19.736Z"
   },
   {
    "duration": 7,
    "start_time": "2021-07-02T20:09:19.746Z"
   },
   {
    "duration": 7,
    "start_time": "2021-07-02T20:09:19.808Z"
   },
   {
    "duration": 8,
    "start_time": "2021-07-02T20:09:19.818Z"
   },
   {
    "duration": 7,
    "start_time": "2021-07-02T20:09:19.829Z"
   },
   {
    "duration": 9,
    "start_time": "2021-07-02T20:09:19.840Z"
   },
   {
    "duration": 61,
    "start_time": "2021-07-02T20:09:19.851Z"
   },
   {
    "duration": 14,
    "start_time": "2021-07-02T20:09:19.915Z"
   },
   {
    "duration": 46,
    "start_time": "2021-07-02T20:09:19.932Z"
   },
   {
    "duration": 184,
    "start_time": "2021-07-02T20:09:19.982Z"
   },
   {
    "duration": 22,
    "start_time": "2021-07-02T20:09:20.169Z"
   },
   {
    "duration": 33,
    "start_time": "2021-07-02T20:09:20.193Z"
   },
   {
    "duration": 21,
    "start_time": "2021-07-02T20:09:20.228Z"
   },
   {
    "duration": 22,
    "start_time": "2021-07-02T20:09:20.251Z"
   },
   {
    "duration": 15,
    "start_time": "2021-07-02T20:09:20.308Z"
   },
   {
    "duration": 20,
    "start_time": "2021-07-02T20:09:20.325Z"
   },
   {
    "duration": 89,
    "start_time": "2021-07-02T20:09:20.347Z"
   },
   {
    "duration": 27,
    "start_time": "2021-07-02T20:09:20.438Z"
   },
   {
    "duration": 17,
    "start_time": "2021-07-02T20:09:20.467Z"
   },
   {
    "duration": 39,
    "start_time": "2021-07-02T20:09:20.487Z"
   },
   {
    "duration": 6,
    "start_time": "2021-07-02T20:09:20.528Z"
   },
   {
    "duration": 76,
    "start_time": "2021-07-02T20:09:20.536Z"
   },
   {
    "duration": 6,
    "start_time": "2021-07-02T20:09:20.615Z"
   },
   {
    "duration": 15,
    "start_time": "2021-07-02T20:09:20.623Z"
   },
   {
    "duration": 16,
    "start_time": "2021-07-02T20:09:20.640Z"
   },
   {
    "duration": 21,
    "start_time": "2021-07-02T20:09:20.658Z"
   },
   {
    "duration": 33,
    "start_time": "2021-07-02T20:09:20.681Z"
   },
   {
    "duration": 17,
    "start_time": "2021-07-02T20:09:20.716Z"
   },
   {
    "duration": 14,
    "start_time": "2021-07-02T20:09:20.735Z"
   },
   {
    "duration": 13,
    "start_time": "2021-07-02T20:09:20.751Z"
   },
   {
    "duration": 48,
    "start_time": "2021-07-02T20:09:20.767Z"
   },
   {
    "duration": 69,
    "start_time": "2021-07-02T20:09:20.817Z"
   },
   {
    "duration": 21,
    "start_time": "2021-07-02T20:09:20.888Z"
   },
   {
    "duration": 4,
    "start_time": "2021-07-02T20:09:20.911Z"
   },
   {
    "duration": 13,
    "start_time": "2021-07-02T20:09:20.917Z"
   },
   {
    "duration": 12,
    "start_time": "2021-07-02T20:09:20.939Z"
   },
   {
    "duration": 129,
    "start_time": "2021-07-02T20:09:20.954Z"
   },
   {
    "duration": 11,
    "start_time": "2021-07-02T20:09:21.085Z"
   },
   {
    "duration": 15,
    "start_time": "2021-07-02T20:09:21.110Z"
   },
   {
    "duration": 14,
    "start_time": "2021-07-02T20:09:21.128Z"
   },
   {
    "duration": 85,
    "start_time": "2021-07-02T20:09:21.144Z"
   },
   {
    "duration": 12,
    "start_time": "2021-07-02T20:09:21.232Z"
   },
   {
    "duration": 80,
    "start_time": "2021-07-02T20:09:21.247Z"
   },
   {
    "duration": 12,
    "start_time": "2021-07-02T20:09:21.329Z"
   },
   {
    "duration": 14,
    "start_time": "2021-07-02T20:09:21.344Z"
   },
   {
    "duration": 84,
    "start_time": "2021-07-02T20:09:21.361Z"
   },
   {
    "duration": 41,
    "start_time": "2021-07-02T20:09:21.448Z"
   },
   {
    "duration": 44,
    "start_time": "2021-07-02T20:09:21.510Z"
   },
   {
    "duration": 535,
    "start_time": "2021-07-02T20:09:21.557Z"
   },
   {
    "duration": 26,
    "start_time": "2021-07-02T20:09:22.095Z"
   },
   {
    "duration": 14,
    "start_time": "2021-07-02T20:09:22.124Z"
   },
   {
    "duration": 73,
    "start_time": "2021-07-02T20:09:22.141Z"
   },
   {
    "duration": 73,
    "start_time": "2021-07-02T20:09:22.217Z"
   },
   {
    "duration": 196,
    "start_time": "2021-07-02T20:09:22.292Z"
   },
   {
    "duration": 2044,
    "start_time": "2021-07-02T20:10:19.324Z"
   },
   {
    "duration": 1020,
    "start_time": "2021-07-02T20:10:21.371Z"
   },
   {
    "duration": 44,
    "start_time": "2021-07-02T20:10:22.394Z"
   },
   {
    "duration": 96,
    "start_time": "2021-07-02T20:10:22.440Z"
   },
   {
    "duration": 8,
    "start_time": "2021-07-02T20:10:22.539Z"
   },
   {
    "duration": 56,
    "start_time": "2021-07-02T20:10:22.550Z"
   },
   {
    "duration": 229,
    "start_time": "2021-07-02T20:10:22.608Z"
   },
   {
    "duration": 335,
    "start_time": "2021-07-02T20:10:22.841Z"
   },
   {
    "duration": 12,
    "start_time": "2021-07-02T20:10:23.179Z"
   },
   {
    "duration": 7,
    "start_time": "2021-07-02T20:10:23.208Z"
   },
   {
    "duration": 11,
    "start_time": "2021-07-02T20:10:23.218Z"
   },
   {
    "duration": 38,
    "start_time": "2021-07-02T20:10:23.232Z"
   },
   {
    "duration": 264,
    "start_time": "2021-07-02T20:10:23.272Z"
   },
   {
    "duration": 9,
    "start_time": "2021-07-02T20:10:23.538Z"
   },
   {
    "duration": 13,
    "start_time": "2021-07-02T20:10:23.549Z"
   },
   {
    "duration": 6,
    "start_time": "2021-07-02T20:10:23.564Z"
   },
   {
    "duration": 38,
    "start_time": "2021-07-02T20:10:23.572Z"
   },
   {
    "duration": 23,
    "start_time": "2021-07-02T20:10:23.613Z"
   },
   {
    "duration": 13,
    "start_time": "2021-07-02T20:10:23.639Z"
   },
   {
    "duration": 17,
    "start_time": "2021-07-02T20:10:23.655Z"
   },
   {
    "duration": 18,
    "start_time": "2021-07-02T20:10:23.710Z"
   },
   {
    "duration": 17,
    "start_time": "2021-07-02T20:10:23.731Z"
   },
   {
    "duration": 53,
    "start_time": "2021-07-02T20:10:23.756Z"
   },
   {
    "duration": 11,
    "start_time": "2021-07-02T20:10:23.813Z"
   },
   {
    "duration": 13,
    "start_time": "2021-07-02T20:10:23.827Z"
   },
   {
    "duration": 278,
    "start_time": "2021-07-02T20:10:23.843Z"
   },
   {
    "duration": 9,
    "start_time": "2021-07-02T20:10:24.123Z"
   },
   {
    "duration": 11,
    "start_time": "2021-07-02T20:10:24.134Z"
   },
   {
    "duration": 9,
    "start_time": "2021-07-02T20:10:24.148Z"
   },
   {
    "duration": 27,
    "start_time": "2021-07-02T20:10:24.159Z"
   },
   {
    "duration": 26,
    "start_time": "2021-07-02T20:10:24.188Z"
   },
   {
    "duration": 11,
    "start_time": "2021-07-02T20:10:24.216Z"
   },
   {
    "duration": 15,
    "start_time": "2021-07-02T20:10:24.229Z"
   },
   {
    "duration": 9,
    "start_time": "2021-07-02T20:10:24.247Z"
   },
   {
    "duration": 9,
    "start_time": "2021-07-02T20:10:24.258Z"
   },
   {
    "duration": 41,
    "start_time": "2021-07-02T20:10:24.269Z"
   },
   {
    "duration": 11,
    "start_time": "2021-07-02T20:10:24.313Z"
   },
   {
    "duration": 10,
    "start_time": "2021-07-02T20:10:24.326Z"
   },
   {
    "duration": 8,
    "start_time": "2021-07-02T20:10:24.338Z"
   },
   {
    "duration": 14,
    "start_time": "2021-07-02T20:10:24.349Z"
   },
   {
    "duration": 68,
    "start_time": "2021-07-02T20:10:24.367Z"
   },
   {
    "duration": 172,
    "start_time": "2021-07-02T20:10:24.438Z"
   },
   {
    "duration": 23,
    "start_time": "2021-07-02T20:10:24.613Z"
   },
   {
    "duration": 25,
    "start_time": "2021-07-02T20:10:24.638Z"
   },
   {
    "duration": 47,
    "start_time": "2021-07-02T20:10:24.666Z"
   },
   {
    "duration": 23,
    "start_time": "2021-07-02T20:10:24.716Z"
   },
   {
    "duration": 13,
    "start_time": "2021-07-02T20:10:24.742Z"
   },
   {
    "duration": 54,
    "start_time": "2021-07-02T20:10:24.757Z"
   },
   {
    "duration": 57,
    "start_time": "2021-07-02T20:10:24.814Z"
   },
   {
    "duration": 47,
    "start_time": "2021-07-02T20:10:24.874Z"
   },
   {
    "duration": 17,
    "start_time": "2021-07-02T20:10:24.924Z"
   },
   {
    "duration": 17,
    "start_time": "2021-07-02T20:10:24.944Z"
   },
   {
    "duration": 6,
    "start_time": "2021-07-02T20:10:24.963Z"
   },
   {
    "duration": 49,
    "start_time": "2021-07-02T20:10:25.009Z"
   },
   {
    "duration": 6,
    "start_time": "2021-07-02T20:10:25.061Z"
   },
   {
    "duration": 10,
    "start_time": "2021-07-02T20:10:25.070Z"
   },
   {
    "duration": 13,
    "start_time": "2021-07-02T20:10:25.109Z"
   },
   {
    "duration": 16,
    "start_time": "2021-07-02T20:10:25.125Z"
   },
   {
    "duration": 8,
    "start_time": "2021-07-02T20:10:25.144Z"
   },
   {
    "duration": 14,
    "start_time": "2021-07-02T20:10:25.154Z"
   },
   {
    "duration": 46,
    "start_time": "2021-07-02T20:10:25.171Z"
   },
   {
    "duration": 17,
    "start_time": "2021-07-02T20:10:25.220Z"
   },
   {
    "duration": 12,
    "start_time": "2021-07-02T20:10:25.240Z"
   },
   {
    "duration": 108,
    "start_time": "2021-07-02T20:10:25.255Z"
   },
   {
    "duration": 5,
    "start_time": "2021-07-02T20:10:25.366Z"
   },
   {
    "duration": 8,
    "start_time": "2021-07-02T20:10:25.374Z"
   },
   {
    "duration": 25,
    "start_time": "2021-07-02T20:10:25.385Z"
   },
   {
    "duration": 13,
    "start_time": "2021-07-02T20:10:25.418Z"
   },
   {
    "duration": 121,
    "start_time": "2021-07-02T20:10:25.434Z"
   },
   {
    "duration": 10,
    "start_time": "2021-07-02T20:10:25.557Z"
   },
   {
    "duration": 14,
    "start_time": "2021-07-02T20:10:25.570Z"
   },
   {
    "duration": 28,
    "start_time": "2021-07-02T20:10:25.587Z"
   },
   {
    "duration": 49,
    "start_time": "2021-07-02T20:10:25.617Z"
   },
   {
    "duration": 10,
    "start_time": "2021-07-02T20:10:25.669Z"
   },
   {
    "duration": 76,
    "start_time": "2021-07-02T20:10:25.681Z"
   },
   {
    "duration": 10,
    "start_time": "2021-07-02T20:10:25.759Z"
   },
   {
    "duration": 40,
    "start_time": "2021-07-02T20:10:25.771Z"
   },
   {
    "duration": 44,
    "start_time": "2021-07-02T20:10:25.814Z"
   },
   {
    "duration": 54,
    "start_time": "2021-07-02T20:10:25.861Z"
   },
   {
    "duration": 46,
    "start_time": "2021-07-02T20:10:25.918Z"
   },
   {
    "duration": 532,
    "start_time": "2021-07-02T20:10:25.967Z"
   },
   {
    "duration": 20,
    "start_time": "2021-07-02T20:10:26.508Z"
   },
   {
    "duration": 15,
    "start_time": "2021-07-02T20:10:26.531Z"
   },
   {
    "duration": 60,
    "start_time": "2021-07-02T20:10:26.548Z"
   },
   {
    "duration": 68,
    "start_time": "2021-07-02T20:10:26.611Z"
   },
   {
    "duration": 194,
    "start_time": "2021-07-02T20:10:26.682Z"
   },
   {
    "duration": 1956,
    "start_time": "2021-07-02T20:25:23.967Z"
   },
   {
    "duration": 1018,
    "start_time": "2021-07-02T20:25:25.925Z"
   },
   {
    "duration": 35,
    "start_time": "2021-07-02T20:25:26.946Z"
   },
   {
    "duration": 91,
    "start_time": "2021-07-02T20:25:26.983Z"
   },
   {
    "duration": 7,
    "start_time": "2021-07-02T20:25:27.077Z"
   },
   {
    "duration": 54,
    "start_time": "2021-07-02T20:25:27.087Z"
   },
   {
    "duration": 256,
    "start_time": "2021-07-02T20:25:27.143Z"
   },
   {
    "duration": 482,
    "start_time": "2021-07-02T20:25:27.402Z"
   },
   {
    "duration": 22,
    "start_time": "2021-07-02T20:25:27.887Z"
   },
   {
    "duration": 7,
    "start_time": "2021-07-02T20:25:27.911Z"
   },
   {
    "duration": 15,
    "start_time": "2021-07-02T20:25:27.920Z"
   },
   {
    "duration": 35,
    "start_time": "2021-07-02T20:25:27.938Z"
   },
   {
    "duration": 276,
    "start_time": "2021-07-02T20:25:27.976Z"
   },
   {
    "duration": 10,
    "start_time": "2021-07-02T20:25:28.255Z"
   },
   {
    "duration": 18,
    "start_time": "2021-07-02T20:25:28.267Z"
   },
   {
    "duration": 7,
    "start_time": "2021-07-02T20:25:28.288Z"
   },
   {
    "duration": 6,
    "start_time": "2021-07-02T20:25:28.310Z"
   },
   {
    "duration": 25,
    "start_time": "2021-07-02T20:25:28.319Z"
   },
   {
    "duration": 11,
    "start_time": "2021-07-02T20:25:28.346Z"
   },
   {
    "duration": 51,
    "start_time": "2021-07-02T20:25:28.360Z"
   },
   {
    "duration": 23,
    "start_time": "2021-07-02T20:25:28.413Z"
   },
   {
    "duration": 18,
    "start_time": "2021-07-02T20:25:28.439Z"
   },
   {
    "duration": 10,
    "start_time": "2021-07-02T20:25:28.463Z"
   },
   {
    "duration": 37,
    "start_time": "2021-07-02T20:25:28.477Z"
   },
   {
    "duration": 10,
    "start_time": "2021-07-02T20:25:28.516Z"
   },
   {
    "duration": 277,
    "start_time": "2021-07-02T20:25:28.529Z"
   },
   {
    "duration": 9,
    "start_time": "2021-07-02T20:25:28.809Z"
   },
   {
    "duration": 9,
    "start_time": "2021-07-02T20:25:28.822Z"
   },
   {
    "duration": 7,
    "start_time": "2021-07-02T20:25:28.834Z"
   },
   {
    "duration": 16,
    "start_time": "2021-07-02T20:25:28.844Z"
   },
   {
    "duration": 58,
    "start_time": "2021-07-02T20:25:28.863Z"
   },
   {
    "duration": 7,
    "start_time": "2021-07-02T20:25:28.924Z"
   },
   {
    "duration": 20,
    "start_time": "2021-07-02T20:25:28.933Z"
   },
   {
    "duration": 13,
    "start_time": "2021-07-02T20:25:28.955Z"
   },
   {
    "duration": 15,
    "start_time": "2021-07-02T20:25:28.971Z"
   },
   {
    "duration": 22,
    "start_time": "2021-07-02T20:25:28.988Z"
   },
   {
    "duration": 9,
    "start_time": "2021-07-02T20:25:29.013Z"
   },
   {
    "duration": 8,
    "start_time": "2021-07-02T20:25:29.025Z"
   },
   {
    "duration": 7,
    "start_time": "2021-07-02T20:25:29.036Z"
   },
   {
    "duration": 17,
    "start_time": "2021-07-02T20:25:29.046Z"
   },
   {
    "duration": 34,
    "start_time": "2021-07-02T20:25:29.109Z"
   },
   {
    "duration": 180,
    "start_time": "2021-07-02T20:25:29.146Z"
   },
   {
    "duration": 22,
    "start_time": "2021-07-02T20:25:29.329Z"
   },
   {
    "duration": 22,
    "start_time": "2021-07-02T20:25:29.354Z"
   },
   {
    "duration": 51,
    "start_time": "2021-07-02T20:25:29.379Z"
   },
   {
    "duration": 27,
    "start_time": "2021-07-02T20:25:29.433Z"
   },
   {
    "duration": 48,
    "start_time": "2021-07-02T20:25:29.462Z"
   },
   {
    "duration": 20,
    "start_time": "2021-07-02T20:25:29.512Z"
   },
   {
    "duration": 76,
    "start_time": "2021-07-02T20:25:29.534Z"
   },
   {
    "duration": 26,
    "start_time": "2021-07-02T20:25:29.612Z"
   },
   {
    "duration": 18,
    "start_time": "2021-07-02T20:25:29.641Z"
   },
   {
    "duration": 47,
    "start_time": "2021-07-02T20:25:29.662Z"
   },
   {
    "duration": 7,
    "start_time": "2021-07-02T20:25:29.711Z"
   },
   {
    "duration": 49,
    "start_time": "2021-07-02T20:25:29.720Z"
   },
   {
    "duration": 6,
    "start_time": "2021-07-02T20:25:29.771Z"
   },
   {
    "duration": 34,
    "start_time": "2021-07-02T20:25:29.780Z"
   },
   {
    "duration": 21,
    "start_time": "2021-07-02T20:25:29.817Z"
   },
   {
    "duration": 15,
    "start_time": "2021-07-02T20:25:29.840Z"
   },
   {
    "duration": 7,
    "start_time": "2021-07-02T20:25:29.858Z"
   },
   {
    "duration": 47,
    "start_time": "2021-07-02T20:25:29.868Z"
   },
   {
    "duration": 9,
    "start_time": "2021-07-02T20:25:29.917Z"
   },
   {
    "duration": 13,
    "start_time": "2021-07-02T20:25:29.929Z"
   },
   {
    "duration": 16,
    "start_time": "2021-07-02T20:25:29.945Z"
   },
   {
    "duration": 105,
    "start_time": "2021-07-02T20:25:29.963Z"
   },
   {
    "duration": 3,
    "start_time": "2021-07-02T20:25:30.071Z"
   },
   {
    "duration": 15,
    "start_time": "2021-07-02T20:25:30.076Z"
   },
   {
    "duration": 27,
    "start_time": "2021-07-02T20:25:30.094Z"
   },
   {
    "duration": 18,
    "start_time": "2021-07-02T20:25:30.131Z"
   },
   {
    "duration": 115,
    "start_time": "2021-07-02T20:25:30.151Z"
   },
   {
    "duration": 10,
    "start_time": "2021-07-02T20:25:30.269Z"
   },
   {
    "duration": 32,
    "start_time": "2021-07-02T20:25:30.281Z"
   },
   {
    "duration": 16,
    "start_time": "2021-07-02T20:25:30.315Z"
   },
   {
    "duration": 74,
    "start_time": "2021-07-02T20:25:30.333Z"
   },
   {
    "duration": 9,
    "start_time": "2021-07-02T20:25:30.410Z"
   },
   {
    "duration": 59,
    "start_time": "2021-07-02T20:25:30.421Z"
   },
   {
    "duration": 10,
    "start_time": "2021-07-02T20:25:30.482Z"
   },
   {
    "duration": 13,
    "start_time": "2021-07-02T20:25:30.509Z"
   },
   {
    "duration": 44,
    "start_time": "2021-07-02T20:25:30.525Z"
   },
   {
    "duration": 59,
    "start_time": "2021-07-02T20:25:30.571Z"
   },
   {
    "duration": 72,
    "start_time": "2021-07-02T20:25:30.632Z"
   },
   {
    "duration": 514,
    "start_time": "2021-07-02T20:25:30.706Z"
   },
   {
    "duration": 21,
    "start_time": "2021-07-02T20:25:31.223Z"
   },
   {
    "duration": 41,
    "start_time": "2021-07-02T20:25:31.246Z"
   },
   {
    "duration": 41,
    "start_time": "2021-07-02T20:25:31.289Z"
   },
   {
    "duration": 77,
    "start_time": "2021-07-02T20:25:31.332Z"
   },
   {
    "duration": 186,
    "start_time": "2021-07-02T20:25:31.412Z"
   },
   {
    "duration": 22327,
    "start_time": "2021-07-03T11:09:52.485Z"
   },
   {
    "duration": 999,
    "start_time": "2021-07-03T11:10:14.815Z"
   },
   {
    "duration": 35,
    "start_time": "2021-07-03T11:10:15.820Z"
   },
   {
    "duration": 98,
    "start_time": "2021-07-03T11:10:15.857Z"
   },
   {
    "duration": 7,
    "start_time": "2021-07-03T11:10:15.958Z"
   },
   {
    "duration": 57,
    "start_time": "2021-07-03T11:10:15.968Z"
   },
   {
    "duration": 217,
    "start_time": "2021-07-03T11:10:16.029Z"
   },
   {
    "duration": 334,
    "start_time": "2021-07-03T11:10:16.249Z"
   },
   {
    "duration": 25,
    "start_time": "2021-07-03T11:10:16.585Z"
   },
   {
    "duration": 7,
    "start_time": "2021-07-03T11:10:16.613Z"
   },
   {
    "duration": 13,
    "start_time": "2021-07-03T11:10:16.622Z"
   },
   {
    "duration": 41,
    "start_time": "2021-07-03T11:10:16.638Z"
   },
   {
    "duration": 275,
    "start_time": "2021-07-03T11:10:16.681Z"
   },
   {
    "duration": 10,
    "start_time": "2021-07-03T11:10:16.958Z"
   },
   {
    "duration": 11,
    "start_time": "2021-07-03T11:10:16.971Z"
   },
   {
    "duration": 6,
    "start_time": "2021-07-03T11:10:16.985Z"
   },
   {
    "duration": 20,
    "start_time": "2021-07-03T11:10:16.993Z"
   },
   {
    "duration": 18,
    "start_time": "2021-07-03T11:10:17.016Z"
   },
   {
    "duration": 13,
    "start_time": "2021-07-03T11:10:17.037Z"
   },
   {
    "duration": 14,
    "start_time": "2021-07-03T11:10:17.052Z"
   },
   {
    "duration": 52,
    "start_time": "2021-07-03T11:10:17.069Z"
   },
   {
    "duration": 26,
    "start_time": "2021-07-03T11:10:17.128Z"
   },
   {
    "duration": 9,
    "start_time": "2021-07-03T11:10:17.158Z"
   },
   {
    "duration": 10,
    "start_time": "2021-07-03T11:10:17.169Z"
   },
   {
    "duration": 10,
    "start_time": "2021-07-03T11:10:17.209Z"
   },
   {
    "duration": 246,
    "start_time": "2021-07-03T11:10:17.221Z"
   },
   {
    "duration": 8,
    "start_time": "2021-07-03T11:10:17.469Z"
   },
   {
    "duration": 8,
    "start_time": "2021-07-03T11:10:17.480Z"
   },
   {
    "duration": 5,
    "start_time": "2021-07-03T11:10:17.491Z"
   },
   {
    "duration": 17,
    "start_time": "2021-07-03T11:10:17.498Z"
   },
   {
    "duration": 15,
    "start_time": "2021-07-03T11:10:17.517Z"
   },
   {
    "duration": 6,
    "start_time": "2021-07-03T11:10:17.535Z"
   },
   {
    "duration": 10,
    "start_time": "2021-07-03T11:10:17.543Z"
   },
   {
    "duration": 7,
    "start_time": "2021-07-03T11:10:17.556Z"
   },
   {
    "duration": 7,
    "start_time": "2021-07-03T11:10:17.566Z"
   },
   {
    "duration": 38,
    "start_time": "2021-07-03T11:10:17.576Z"
   },
   {
    "duration": 8,
    "start_time": "2021-07-03T11:10:17.616Z"
   },
   {
    "duration": 14,
    "start_time": "2021-07-03T11:10:17.626Z"
   },
   {
    "duration": 10,
    "start_time": "2021-07-03T11:10:17.642Z"
   },
   {
    "duration": 13,
    "start_time": "2021-07-03T11:10:17.654Z"
   },
   {
    "duration": 67,
    "start_time": "2021-07-03T11:10:17.670Z"
   },
   {
    "duration": 176,
    "start_time": "2021-07-03T11:10:17.739Z"
   },
   {
    "duration": 20,
    "start_time": "2021-07-03T11:10:17.918Z"
   },
   {
    "duration": 20,
    "start_time": "2021-07-03T11:10:17.940Z"
   },
   {
    "duration": 50,
    "start_time": "2021-07-03T11:10:17.962Z"
   },
   {
    "duration": 23,
    "start_time": "2021-07-03T11:10:18.015Z"
   },
   {
    "duration": 15,
    "start_time": "2021-07-03T11:10:18.040Z"
   },
   {
    "duration": 52,
    "start_time": "2021-07-03T11:10:18.057Z"
   },
   {
    "duration": 57,
    "start_time": "2021-07-03T11:10:18.111Z"
   },
   {
    "duration": 44,
    "start_time": "2021-07-03T11:10:18.170Z"
   },
   {
    "duration": 18,
    "start_time": "2021-07-03T11:10:18.216Z"
   },
   {
    "duration": 17,
    "start_time": "2021-07-03T11:10:18.237Z"
   },
   {
    "duration": 6,
    "start_time": "2021-07-03T11:10:18.257Z"
   },
   {
    "duration": 92,
    "start_time": "2021-07-03T11:10:18.266Z"
   },
   {
    "duration": 9,
    "start_time": "2021-07-03T11:10:18.360Z"
   },
   {
    "duration": 7,
    "start_time": "2021-07-03T11:10:18.372Z"
   },
   {
    "duration": 18,
    "start_time": "2021-07-03T11:10:18.410Z"
   },
   {
    "duration": 16,
    "start_time": "2021-07-03T11:10:18.431Z"
   },
   {
    "duration": 60,
    "start_time": "2021-07-03T11:10:18.450Z"
   },
   {
    "duration": 11,
    "start_time": "2021-07-03T11:10:18.512Z"
   },
   {
    "duration": 9,
    "start_time": "2021-07-03T11:10:18.525Z"
   },
   {
    "duration": 17,
    "start_time": "2021-07-03T11:10:18.536Z"
   },
   {
    "duration": 12,
    "start_time": "2021-07-03T11:10:18.555Z"
   },
   {
    "duration": 108,
    "start_time": "2021-07-03T11:10:18.570Z"
   },
   {
    "duration": 4,
    "start_time": "2021-07-03T11:10:18.680Z"
   },
   {
    "duration": 4,
    "start_time": "2021-07-03T11:10:18.709Z"
   },
   {
    "duration": 3,
    "start_time": "2021-07-03T11:10:18.721Z"
   },
   {
    "duration": 16,
    "start_time": "2021-07-03T11:10:18.727Z"
   },
   {
    "duration": 123,
    "start_time": "2021-07-03T11:10:18.746Z"
   },
   {
    "duration": 10,
    "start_time": "2021-07-03T11:10:18.872Z"
   },
   {
    "duration": 28,
    "start_time": "2021-07-03T11:10:18.884Z"
   },
   {
    "duration": 12,
    "start_time": "2021-07-03T11:10:18.914Z"
   },
   {
    "duration": 49,
    "start_time": "2021-07-03T11:10:18.929Z"
   },
   {
    "duration": 36,
    "start_time": "2021-07-03T11:10:18.981Z"
   },
   {
    "duration": 48,
    "start_time": "2021-07-03T11:10:19.021Z"
   },
   {
    "duration": 44,
    "start_time": "2021-07-03T11:10:19.072Z"
   },
   {
    "duration": 12,
    "start_time": "2021-07-03T11:10:19.119Z"
   },
   {
    "duration": 39,
    "start_time": "2021-07-03T11:10:19.133Z"
   },
   {
    "duration": 70,
    "start_time": "2021-07-03T11:10:19.175Z"
   },
   {
    "duration": 64,
    "start_time": "2021-07-03T11:10:19.247Z"
   },
   {
    "duration": 511,
    "start_time": "2021-07-03T11:10:19.313Z"
   },
   {
    "duration": 22,
    "start_time": "2021-07-03T11:10:19.827Z"
   },
   {
    "duration": 14,
    "start_time": "2021-07-03T11:10:19.851Z"
   },
   {
    "duration": 67,
    "start_time": "2021-07-03T11:10:19.867Z"
   },
   {
    "duration": 72,
    "start_time": "2021-07-03T11:10:19.937Z"
   },
   {
    "duration": 175,
    "start_time": "2021-07-03T11:10:20.011Z"
   }
  ],
  "kernelspec": {
   "display_name": "Python 3",
   "language": "python",
   "name": "python3"
  },
  "language_info": {
   "codemirror_mode": {
    "name": "ipython",
    "version": 3
   },
   "file_extension": ".py",
   "mimetype": "text/x-python",
   "name": "python",
   "nbconvert_exporter": "python",
   "pygments_lexer": "ipython3",
   "version": "3.8.5"
  },
  "toc": {
   "base_numbering": 1,
   "nav_menu": {},
   "number_sections": true,
   "sideBar": true,
   "skip_h1_title": true,
   "title_cell": "Table of Contents",
   "title_sidebar": "Contents",
   "toc_cell": false,
   "toc_position": {},
   "toc_section_display": true,
   "toc_window_display": false
  }
 },
 "nbformat": 4,
 "nbformat_minor": 4
}
