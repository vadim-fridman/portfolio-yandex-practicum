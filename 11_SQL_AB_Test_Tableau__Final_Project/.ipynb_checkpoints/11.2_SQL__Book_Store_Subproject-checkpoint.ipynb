{
 "cells": [
  {
   "cell_type": "markdown",
   "metadata": {},
   "source": [
    "# SQL"
   ]
  },
  {
   "cell_type": "markdown",
   "metadata": {},
   "source": [
    "## Practicum 100 "
   ]
  },
  {
   "cell_type": "markdown",
   "metadata": {},
   "source": [
    "## Final Project. Part 2"
   ]
  },
  {
   "cell_type": "markdown",
   "metadata": {},
   "source": [
    "### by Vadim Fridman"
   ]
  },
  {
   "cell_type": "markdown",
   "metadata": {},
   "source": [
    "#### Step 0. Intro & Table of content\n",
    "\n",
    "<a class=\"anchor\" id=\"introduction\"></a>"
   ]
  },
  {
   "cell_type": "markdown",
   "metadata": {},
   "source": [
    "### Table of content \n",
    "\n",
    "\n",
    "0. [Step 0: Intro & Table of content](#introduction)\n",
    "\n",
    "\n",
    "1. [Step 1. Set up a connection and study tables were given](#part1)\n",
    "\n",
    "\n",
    "2. [Step 2. Study the tables (print the first rows)](#part3)\n",
    "\n",
    "\n",
    "3. [Step 3. Make an SQL query for each of the tasks.](#part2)\n",
    "    - [Task1](#part21)\n",
    "    \n",
    "    - [Task2](#part22)\n",
    "    \n",
    "    - [Task3](#part23)\n",
    "    \n",
    "    - [Task4](#part24)  \n",
    "    \n",
    "    - [Task5](#part25)\n",
    "   \n",
    "\n",
    "4. [Step 4. Overall conclusion](#conclusion)"
   ]
  },
  {
   "cell_type": "markdown",
   "metadata": {},
   "source": [
    "__Describe the goals of the study.__"
   ]
  },
  {
   "cell_type": "markdown",
   "metadata": {},
   "source": [
    "Last year coronavirus took the entire world by surprise, changing everyone's daily routine. City dwellers no longer spent their free time outside, going to cafes and malls; more people were at home, reading books. That attracted the attention of startups that rushed to develop new apps for book lovers. \n",
    "\n",
    "We are working as a junior Data Analyst. We've been given a SQL database of one of the services competing in this market. It contains data on books, publishers, authors, and customer ratings and reviews of books. \n",
    "\n",
    "We are going to use this information to generate a value proposition for a new product."
   ]
  },
  {
   "cell_type": "markdown",
   "metadata": {},
   "source": [
    "#### Step 1. Set up a connection and study tables were given\n",
    "<a class=\"anchor\" id=\"part1\"></a>"
   ]
  },
  {
   "cell_type": "code",
   "execution_count": 1,
   "metadata": {},
   "outputs": [],
   "source": [
    "# import libraries\n",
    "import pandas as pd\n",
    "from sqlalchemy import create_engine\n",
    "pd.set_option('display.max_columns', 500)\n",
    "pd.set_option('display.width', 1000)"
   ]
  },
  {
   "cell_type": "code",
   "execution_count": 2,
   "metadata": {},
   "outputs": [],
   "source": [
    "# pip install psycopg2-binary\n",
    "# probably you won't need it"
   ]
  },
  {
   "cell_type": "code",
   "execution_count": 3,
   "metadata": {},
   "outputs": [],
   "source": [
    "db_config = {'user': 'praktikum_student',         # user name\n",
    "             'pwd': '***', # password\n",
    "             'host': 'rc1.mdb.yandexcloud.net',\n",
    "             'port': 6432,              # connection port\n",
    "             'db': 'data-analyst-final-project-db'}          # the name of the data base\n",
    "\n",
    "connection_string = 'postgresql://{}:{}@{}:{}/{}'.format(db_config['user'],\n",
    "                                                                     db_config['pwd'],\n",
    "                                                                       db_config['host'],\n",
    "                                                                       db_config['port'],\n",
    "                                                                       db_config['db'])\n",
    "\n",
    "engine = create_engine(connection_string, connect_args={'sslmode':'require'})"
   ]
  },
  {
   "cell_type": "markdown",
   "metadata": {},
   "source": [
    "Here we set up the connection to the database we are going to use. \n",
    "\n",
    "Let's have a first look into a tables."
   ]
  },
  {
   "cell_type": "markdown",
   "metadata": {},
   "source": [
    "__Step 2. Study the tables (print the first rows)__\n",
    "\n",
    "<a class=\"anchor\" id=\"part3\"></a>"
   ]
  },
  {
   "cell_type": "code",
   "execution_count": 4,
   "metadata": {
    "scrolled": true
   },
   "outputs": [
    {
     "name": "stdout",
     "output_type": "stream",
     "text": [
      "Table name:  books\n",
      "First 5 rows: \n",
      "\n",
      "   book_id  author_id                                              title  num_pages publication_date  publisher_id\n",
      "0        1        546                                       'Salem's Lot        594       2005-11-01            93\n",
      "1        2        465                 1 000 Places to See Before You Die        992       2003-05-22           336\n",
      "2        3        407  13 Little Blue Envelopes (Little Blue Envelope...        322       2010-12-21           135\n",
      "3        4         82  1491: New Revelations of the Americas Before C...        541       2006-10-10           309\n",
      "4        5        125                                               1776        386       2006-07-04           268\n",
      "\n",
      "\n",
      "Table name:  authors\n",
      "First 5 rows: \n",
      "\n",
      "   author_id                          author\n",
      "0          1                      A.S. Byatt\n",
      "1          2  Aesop/Laura Harris/Laura Gibbs\n",
      "2          3                 Agatha Christie\n",
      "3          4                   Alan Brennert\n",
      "4          5        Alan Moore/David   Lloyd\n",
      "\n",
      "\n",
      "Table name:  publishers\n",
      "First 5 rows: \n",
      "\n",
      "   publisher_id                          publisher\n",
      "0             1                                Ace\n",
      "1             2                           Ace Book\n",
      "2             3                          Ace Books\n",
      "3             4                      Ace Hardcover\n",
      "4             5  Addison Wesley Publishing Company\n",
      "\n",
      "\n",
      "Table name:  ratings\n",
      "First 5 rows: \n",
      "\n",
      "   rating_id  book_id       username  rating\n",
      "0          1        1     ryanfranco       4\n",
      "1          2        1  grantpatricia       2\n",
      "2          3        1   brandtandrea       5\n",
      "3          4        2       lorichen       3\n",
      "4          5        2    mariokeller       2\n",
      "\n",
      "\n",
      "Table name:  reviews\n",
      "First 5 rows: \n",
      "\n",
      "   review_id  book_id       username                                               text\n",
      "0          1        1   brandtandrea  Mention society tell send professor analysis. ...\n",
      "1          2        1     ryanfranco  Foot glass pretty audience hit themselves. Amo...\n",
      "2          3        2       lorichen  Listen treat keep worry. Miss husband tax but ...\n",
      "3          4        3  johnsonamanda  Finally month interesting blue could nature cu...\n",
      "4          5        3    scotttamara  Nation purpose heavy give wait song will. List...\n",
      "\n",
      "\n"
     ]
    }
   ],
   "source": [
    "tables = ['books', 'authors', 'publishers', 'ratings', 'reviews']\n",
    "for i in tables:\n",
    "    query = \"SELECT * FROM \" + i + \" LIMIT 5\" \n",
    "    print(\"Table name: \", i)\n",
    "    print(\"First 5 rows: \")\n",
    "    print()\n",
    "    print(pd.io.sql.read_sql(query, con = engine))\n",
    "    print()\n",
    "    print()\n",
    "    \n",
    "    "
   ]
  },
  {
   "cell_type": "markdown",
   "metadata": {},
   "source": [
    "So we have seen how all of the tables we have look like. It will help us to perform the rest of the tasks."
   ]
  },
  {
   "cell_type": "markdown",
   "metadata": {},
   "source": [
    "__Step 3. Make an SQL query for each of the tasks.__\n",
    "\n",
    "<a class=\"anchor\" id=\"part2\"></a>\n",
    "\n",
    "__1. Find the number of books released after January 1, 2000.__\n",
    "\n",
    "<a class=\"anchor\" id=\"part21\"></a>"
   ]
  },
  {
   "cell_type": "code",
   "execution_count": 17,
   "metadata": {},
   "outputs": [],
   "source": [
    "after_2000 = '''SELECT\n",
    "\n",
    "COUNT( book_id) \n",
    "\n",
    "FROM\n",
    "\n",
    "books\n",
    "\n",
    "WHERE\n",
    "\n",
    "publication_date > '2000-01-01' '''"
   ]
  },
  {
   "cell_type": "code",
   "execution_count": 18,
   "metadata": {},
   "outputs": [
    {
     "data": {
      "text/html": [
       "<div>\n",
       "<style scoped>\n",
       "    .dataframe tbody tr th:only-of-type {\n",
       "        vertical-align: middle;\n",
       "    }\n",
       "\n",
       "    .dataframe tbody tr th {\n",
       "        vertical-align: top;\n",
       "    }\n",
       "\n",
       "    .dataframe thead th {\n",
       "        text-align: right;\n",
       "    }\n",
       "</style>\n",
       "<table border=\"1\" class=\"dataframe\">\n",
       "  <thead>\n",
       "    <tr style=\"text-align: right;\">\n",
       "      <th></th>\n",
       "      <th>count</th>\n",
       "    </tr>\n",
       "  </thead>\n",
       "  <tbody>\n",
       "    <tr>\n",
       "      <th>0</th>\n",
       "      <td>819</td>\n",
       "    </tr>\n",
       "  </tbody>\n",
       "</table>\n",
       "</div>"
      ],
      "text/plain": [
       "   count\n",
       "0    819"
      ]
     },
     "execution_count": 18,
     "metadata": {},
     "output_type": "execute_result"
    }
   ],
   "source": [
    "pd.io.sql.read_sql(after_2000, con = engine)"
   ]
  },
  {
   "cell_type": "markdown",
   "metadata": {},
   "source": [
    "So the number is  821.  We just counted the number of _*book_id*_'s (assuming that they are unique) in the _*books*_ table."
   ]
  },
  {
   "cell_type": "markdown",
   "metadata": {},
   "source": [
    "__2. Find the number of user reviews and the average rating for each book.__\n",
    "<a class=\"anchor\" id=\"part22\"></a>"
   ]
  },
  {
   "cell_type": "code",
   "execution_count": 7,
   "metadata": {},
   "outputs": [],
   "source": [
    "# variant with sorting by review with book_title\n",
    "top_reviews = ''' \n",
    "\n",
    "SELECT\n",
    "\n",
    "books.title, \n",
    "AVG(ratings.rating),\n",
    "COUNT (reviews.review_id) as cnt\n",
    "\n",
    "FROM\n",
    "\n",
    "books\n",
    "\n",
    "INNER JOIN ratings ON ratings.book_id = books.book_id\n",
    "INNER JOIN reviews ON reviews.book_id = books.book_id\n",
    "\n",
    "GROUP BY books.book_id\n",
    "\n",
    "ORDER BY cnt DESC'''\n"
   ]
  },
  {
   "cell_type": "code",
   "execution_count": 8,
   "metadata": {},
   "outputs": [
    {
     "data": {
      "text/html": [
       "<div>\n",
       "<style scoped>\n",
       "    .dataframe tbody tr th:only-of-type {\n",
       "        vertical-align: middle;\n",
       "    }\n",
       "\n",
       "    .dataframe tbody tr th {\n",
       "        vertical-align: top;\n",
       "    }\n",
       "\n",
       "    .dataframe thead th {\n",
       "        text-align: right;\n",
       "    }\n",
       "</style>\n",
       "<table border=\"1\" class=\"dataframe\">\n",
       "  <thead>\n",
       "    <tr style=\"text-align: right;\">\n",
       "      <th></th>\n",
       "      <th>title</th>\n",
       "      <th>avg</th>\n",
       "      <th>cnt</th>\n",
       "    </tr>\n",
       "  </thead>\n",
       "  <tbody>\n",
       "    <tr>\n",
       "      <th>0</th>\n",
       "      <td>Twilight (Twilight  #1)</td>\n",
       "      <td>3.662500</td>\n",
       "      <td>1120</td>\n",
       "    </tr>\n",
       "    <tr>\n",
       "      <th>1</th>\n",
       "      <td>The Hobbit  or There and Back Again</td>\n",
       "      <td>4.125000</td>\n",
       "      <td>528</td>\n",
       "    </tr>\n",
       "    <tr>\n",
       "      <th>2</th>\n",
       "      <td>The Catcher in the Rye</td>\n",
       "      <td>3.825581</td>\n",
       "      <td>516</td>\n",
       "    </tr>\n",
       "    <tr>\n",
       "      <th>3</th>\n",
       "      <td>Harry Potter and the Prisoner of Azkaban (Harr...</td>\n",
       "      <td>4.414634</td>\n",
       "      <td>492</td>\n",
       "    </tr>\n",
       "    <tr>\n",
       "      <th>4</th>\n",
       "      <td>Harry Potter and the Chamber of Secrets (Harry...</td>\n",
       "      <td>4.287500</td>\n",
       "      <td>480</td>\n",
       "    </tr>\n",
       "    <tr>\n",
       "      <th>...</th>\n",
       "      <td>...</td>\n",
       "      <td>...</td>\n",
       "      <td>...</td>\n",
       "    </tr>\n",
       "    <tr>\n",
       "      <th>989</th>\n",
       "      <td>Debt of Honor (Jack Ryan  #7)</td>\n",
       "      <td>3.000000</td>\n",
       "      <td>2</td>\n",
       "    </tr>\n",
       "    <tr>\n",
       "      <th>990</th>\n",
       "      <td>Winter Prey (Lucas Davenport  #5)</td>\n",
       "      <td>4.500000</td>\n",
       "      <td>2</td>\n",
       "    </tr>\n",
       "    <tr>\n",
       "      <th>991</th>\n",
       "      <td>Death: The High Cost of Living</td>\n",
       "      <td>3.000000</td>\n",
       "      <td>2</td>\n",
       "    </tr>\n",
       "    <tr>\n",
       "      <th>992</th>\n",
       "      <td>The Iliad/The Odyssey</td>\n",
       "      <td>4.000000</td>\n",
       "      <td>2</td>\n",
       "    </tr>\n",
       "    <tr>\n",
       "      <th>993</th>\n",
       "      <td>First Things First</td>\n",
       "      <td>4.000000</td>\n",
       "      <td>2</td>\n",
       "    </tr>\n",
       "  </tbody>\n",
       "</table>\n",
       "<p>994 rows × 3 columns</p>\n",
       "</div>"
      ],
      "text/plain": [
       "                                                 title       avg   cnt\n",
       "0                              Twilight (Twilight  #1)  3.662500  1120\n",
       "1                  The Hobbit  or There and Back Again  4.125000   528\n",
       "2                               The Catcher in the Rye  3.825581   516\n",
       "3    Harry Potter and the Prisoner of Azkaban (Harr...  4.414634   492\n",
       "4    Harry Potter and the Chamber of Secrets (Harry...  4.287500   480\n",
       "..                                                 ...       ...   ...\n",
       "989                      Debt of Honor (Jack Ryan  #7)  3.000000     2\n",
       "990                  Winter Prey (Lucas Davenport  #5)  4.500000     2\n",
       "991                     Death: The High Cost of Living  3.000000     2\n",
       "992                              The Iliad/The Odyssey  4.000000     2\n",
       "993                                 First Things First  4.000000     2\n",
       "\n",
       "[994 rows x 3 columns]"
      ]
     },
     "execution_count": 8,
     "metadata": {},
     "output_type": "execute_result"
    }
   ],
   "source": [
    "pd.io.sql.read_sql(top_reviews, con = engine)"
   ]
  },
  {
   "cell_type": "markdown",
   "metadata": {},
   "source": [
    "To find a solution, we had to join _*reviews*_ and _*raitings*_ tables, and calculate desired figures. "
   ]
  },
  {
   "cell_type": "markdown",
   "metadata": {},
   "source": [
    "__3. Identify the publisher that has released the greatest number of books with more than 50 pages (this will help you exclude brochures and similar publications from your analysis).__\n",
    "\n",
    "<a class=\"anchor\" id=\"part23\"></a>"
   ]
  },
  {
   "cell_type": "code",
   "execution_count": 9,
   "metadata": {},
   "outputs": [],
   "source": [
    "publishers = '''\n",
    "SELECT\n",
    "\n",
    "distinct publisher_id,\n",
    "\n",
    "COUNT (book_id) as cnt\n",
    "\n",
    "FROM\n",
    "\n",
    "books \n",
    "\n",
    "WHERE \n",
    "\n",
    "num_pages > 50\n",
    "\n",
    "GROUP BY \n",
    "\n",
    "publisher_id\n",
    "\n",
    "ORDER BY \n",
    "\n",
    "cnt desc\n",
    "\n",
    "limit 1;\n",
    "\n",
    "'''"
   ]
  },
  {
   "cell_type": "code",
   "execution_count": 10,
   "metadata": {},
   "outputs": [
    {
     "data": {
      "text/html": [
       "<div>\n",
       "<style scoped>\n",
       "    .dataframe tbody tr th:only-of-type {\n",
       "        vertical-align: middle;\n",
       "    }\n",
       "\n",
       "    .dataframe tbody tr th {\n",
       "        vertical-align: top;\n",
       "    }\n",
       "\n",
       "    .dataframe thead th {\n",
       "        text-align: right;\n",
       "    }\n",
       "</style>\n",
       "<table border=\"1\" class=\"dataframe\">\n",
       "  <thead>\n",
       "    <tr style=\"text-align: right;\">\n",
       "      <th></th>\n",
       "      <th>publisher_id</th>\n",
       "      <th>cnt</th>\n",
       "    </tr>\n",
       "  </thead>\n",
       "  <tbody>\n",
       "    <tr>\n",
       "      <th>0</th>\n",
       "      <td>212</td>\n",
       "      <td>42</td>\n",
       "    </tr>\n",
       "  </tbody>\n",
       "</table>\n",
       "</div>"
      ],
      "text/plain": [
       "   publisher_id  cnt\n",
       "0           212   42"
      ]
     },
     "execution_count": 10,
     "metadata": {},
     "output_type": "execute_result"
    }
   ],
   "source": [
    "pd.io.sql.read_sql(publishers, con = engine)"
   ]
  },
  {
   "cell_type": "markdown",
   "metadata": {},
   "source": [
    "We found that the publisher with ID 212 has released the greatest number of books with more than 50 pages (42 books) by filtering out books with 50 pages or less and sorting publishers by a number of books they had published. \n",
    "\n",
    "(We were not explicitly asked about the name of the publisher, so we are assuming, that ID is enough. Otherwise we can additionaly request the publishers's name in the corresponding table.)"
   ]
  },
  {
   "cell_type": "markdown",
   "metadata": {},
   "source": [
    "__4. Identify the author with the highest average book rating (look only at books with at least 50 ratings).__\n",
    "\n",
    "<a class=\"anchor\" id=\"part24\"></a>"
   ]
  },
  {
   "cell_type": "code",
   "execution_count": 11,
   "metadata": {},
   "outputs": [],
   "source": [
    "author = ''' \n",
    "SELECT \n",
    "    authors.author as author_name,\n",
    "    AVG(ratings.rating) as avg_rating\n",
    "    \n",
    "FROM \n",
    "\n",
    "authors\n",
    "\n",
    "INNER JOIN books on books.author_id = authors.author_id\n",
    "\n",
    "INNER JOIN ratings on ratings.book_id = books.book_id\n",
    "\n",
    "GROUP BY author_name\n",
    "\n",
    "HAVING COUNT(ratings.rating) > 50\n",
    "\n",
    "ORDER BY avg_rating DESC\n",
    "\n",
    "LIMIT\n",
    "\n",
    "1\n",
    "'''"
   ]
  },
  {
   "cell_type": "code",
   "execution_count": 12,
   "metadata": {},
   "outputs": [
    {
     "data": {
      "text/html": [
       "<div>\n",
       "<style scoped>\n",
       "    .dataframe tbody tr th:only-of-type {\n",
       "        vertical-align: middle;\n",
       "    }\n",
       "\n",
       "    .dataframe tbody tr th {\n",
       "        vertical-align: top;\n",
       "    }\n",
       "\n",
       "    .dataframe thead th {\n",
       "        text-align: right;\n",
       "    }\n",
       "</style>\n",
       "<table border=\"1\" class=\"dataframe\">\n",
       "  <thead>\n",
       "    <tr style=\"text-align: right;\">\n",
       "      <th></th>\n",
       "      <th>author_name</th>\n",
       "      <th>avg_rating</th>\n",
       "    </tr>\n",
       "  </thead>\n",
       "  <tbody>\n",
       "    <tr>\n",
       "      <th>0</th>\n",
       "      <td>J.K. Rowling/Mary GrandPré</td>\n",
       "      <td>4.288462</td>\n",
       "    </tr>\n",
       "  </tbody>\n",
       "</table>\n",
       "</div>"
      ],
      "text/plain": [
       "                  author_name  avg_rating\n",
       "0  J.K. Rowling/Mary GrandPré    4.288462"
      ]
     },
     "execution_count": 12,
     "metadata": {},
     "output_type": "execute_result"
    }
   ],
   "source": [
    "pd.io.sql.read_sql(author, con = engine)"
   ]
  },
  {
   "cell_type": "markdown",
   "metadata": {},
   "source": [
    "The author with the highest average book rating is J.K. Rowling. "
   ]
  },
  {
   "cell_type": "markdown",
   "metadata": {},
   "source": [
    "__5. Find the average number of text reviews among users who rated more than 50 books.__\n",
    "\n",
    "<a class=\"anchor\" id=\"part25\"></a>"
   ]
  },
  {
   "cell_type": "code",
   "execution_count": 13,
   "metadata": {},
   "outputs": [],
   "source": [
    "reviews_number = '''\n",
    "\n",
    "SELECT avg(cnt)\n",
    "\n",
    "\n",
    "FROM \n",
    "\n",
    "    (SELECT\n",
    "\n",
    "    count(reviews.review_id) as cnt\n",
    "\n",
    "    FROM\n",
    "\n",
    "    reviews\n",
    "\n",
    "    WHERE\n",
    "\n",
    "    reviews.username in \n",
    "\n",
    "    (SELECT \n",
    "\n",
    "    ratings.username AS user   \n",
    "\n",
    "    FROM ratings\n",
    "\n",
    "    GROUP BY ratings.username\n",
    "\n",
    "    HAVING COUNT(ratings.rating_id) > 50) \n",
    "\n",
    "    GROUP BY\n",
    "\n",
    "    reviews.username\n",
    "\n",
    "    ORDER BY\n",
    "\n",
    "    cnt DESC) as counts'''\n",
    "\n",
    "\n"
   ]
  },
  {
   "cell_type": "code",
   "execution_count": 14,
   "metadata": {},
   "outputs": [
    {
     "data": {
      "text/html": [
       "<div>\n",
       "<style scoped>\n",
       "    .dataframe tbody tr th:only-of-type {\n",
       "        vertical-align: middle;\n",
       "    }\n",
       "\n",
       "    .dataframe tbody tr th {\n",
       "        vertical-align: top;\n",
       "    }\n",
       "\n",
       "    .dataframe thead th {\n",
       "        text-align: right;\n",
       "    }\n",
       "</style>\n",
       "<table border=\"1\" class=\"dataframe\">\n",
       "  <thead>\n",
       "    <tr style=\"text-align: right;\">\n",
       "      <th></th>\n",
       "      <th>avg</th>\n",
       "    </tr>\n",
       "  </thead>\n",
       "  <tbody>\n",
       "    <tr>\n",
       "      <th>0</th>\n",
       "      <td>24.333333</td>\n",
       "    </tr>\n",
       "  </tbody>\n",
       "</table>\n",
       "</div>"
      ],
      "text/plain": [
       "         avg\n",
       "0  24.333333"
      ]
     },
     "execution_count": 14,
     "metadata": {},
     "output_type": "execute_result"
    }
   ],
   "source": [
    "pd.io.sql.read_sql(reviews_number, con = engine)"
   ]
  },
  {
   "cell_type": "markdown",
   "metadata": {},
   "source": [
    "The average number of text reviews among users who rated more then 50 books is in output in the previous cell. As we can see, there only 6 users who rated more than 50 books. "
   ]
  },
  {
   "cell_type": "markdown",
   "metadata": {},
   "source": [
    "__Step 4. Overall conclusion__\n",
    "\n",
    "<a class=\"anchor\" id=\"conclusion\"></a>"
   ]
  },
  {
   "cell_type": "markdown",
   "metadata": {},
   "source": [
    "We found all the requiered information in the database which consist from 5 tables.\n",
    "\n",
    "We obtained all the information using SQL and used Python only to print out the data in the notebook. "
   ]
  }
 ],
 "metadata": {
  "ExecuteTimeLog": [
   {
    "duration": 624,
    "start_time": "2021-07-03T20:58:53.169Z"
   },
   {
    "duration": 2,
    "start_time": "2021-07-03T20:58:53.795Z"
   },
   {
    "duration": 50,
    "start_time": "2021-07-03T20:58:53.800Z"
   },
   {
    "duration": 523,
    "start_time": "2021-07-03T20:58:53.852Z"
   },
   {
    "duration": 3,
    "start_time": "2021-07-03T20:58:54.377Z"
   },
   {
    "duration": 83,
    "start_time": "2021-07-03T20:58:54.382Z"
   },
   {
    "duration": 3,
    "start_time": "2021-07-03T20:58:54.467Z"
   },
   {
    "duration": 121,
    "start_time": "2021-07-03T20:58:54.473Z"
   },
   {
    "duration": 2,
    "start_time": "2021-07-03T20:58:54.596Z"
   },
   {
    "duration": 91,
    "start_time": "2021-07-03T20:58:54.599Z"
   },
   {
    "duration": 2,
    "start_time": "2021-07-03T20:58:54.691Z"
   },
   {
    "duration": 87,
    "start_time": "2021-07-03T20:58:54.695Z"
   },
   {
    "duration": 2,
    "start_time": "2021-07-03T20:58:54.784Z"
   },
   {
    "duration": 86,
    "start_time": "2021-07-03T20:58:54.787Z"
   },
   {
    "duration": 2,
    "start_time": "2021-07-03T20:58:54.874Z"
   },
   {
    "duration": 83,
    "start_time": "2021-07-03T20:58:54.878Z"
   },
   {
    "duration": 593,
    "start_time": "2021-07-04T10:44:27.022Z"
   },
   {
    "duration": 27,
    "start_time": "2021-07-04T10:44:30.467Z"
   },
   {
    "duration": 4,
    "start_time": "2021-07-04T10:44:33.934Z"
   },
   {
    "duration": 506,
    "start_time": "2021-07-04T10:44:37.042Z"
   },
   {
    "duration": 606,
    "start_time": "2021-07-04T10:57:10.988Z"
   },
   {
    "duration": 28,
    "start_time": "2021-07-04T10:57:13.999Z"
   },
   {
    "duration": 3,
    "start_time": "2021-07-04T10:57:20.305Z"
   },
   {
    "duration": 475,
    "start_time": "2021-07-04T10:57:23.064Z"
   },
   {
    "duration": 3,
    "start_time": "2021-07-04T11:01:30.326Z"
   },
   {
    "duration": 72,
    "start_time": "2021-07-04T11:01:34.291Z"
   },
   {
    "duration": 2,
    "start_time": "2021-07-04T11:13:31.877Z"
   },
   {
    "duration": 235,
    "start_time": "2021-07-04T11:13:35.456Z"
   },
   {
    "duration": 251,
    "start_time": "2021-07-04T11:13:46.999Z"
   },
   {
    "duration": 4,
    "start_time": "2021-07-04T11:14:39.427Z"
   },
   {
    "duration": 243,
    "start_time": "2021-07-04T11:14:42.512Z"
   },
   {
    "duration": 3,
    "start_time": "2021-07-04T11:15:08.648Z"
   },
   {
    "duration": 255,
    "start_time": "2021-07-04T11:15:10.785Z"
   },
   {
    "duration": 3,
    "start_time": "2021-07-04T11:16:43.486Z"
   },
   {
    "duration": 245,
    "start_time": "2021-07-04T11:16:45.934Z"
   },
   {
    "duration": 2,
    "start_time": "2021-07-04T11:18:38.943Z"
   },
   {
    "duration": 258,
    "start_time": "2021-07-04T11:18:41.604Z"
   },
   {
    "duration": 3,
    "start_time": "2021-07-04T11:19:06.498Z"
   },
   {
    "duration": 99,
    "start_time": "2021-07-04T11:19:08.566Z"
   },
   {
    "duration": 4,
    "start_time": "2021-07-04T11:23:34.661Z"
   },
   {
    "duration": 3,
    "start_time": "2021-07-04T11:23:45.470Z"
   },
   {
    "duration": 97,
    "start_time": "2021-07-04T11:23:47.939Z"
   },
   {
    "duration": 3,
    "start_time": "2021-07-04T11:30:52.754Z"
   },
   {
    "duration": 181,
    "start_time": "2021-07-04T11:30:56.660Z"
   },
   {
    "duration": 69,
    "start_time": "2021-07-04T11:31:03.586Z"
   },
   {
    "duration": 3,
    "start_time": "2021-07-04T11:33:49.950Z"
   },
   {
    "duration": 67,
    "start_time": "2021-07-04T11:33:53.366Z"
   },
   {
    "duration": 3,
    "start_time": "2021-07-04T11:34:39.467Z"
   },
   {
    "duration": 71,
    "start_time": "2021-07-04T11:34:44.020Z"
   },
   {
    "duration": 3,
    "start_time": "2021-07-04T11:34:57.403Z"
   },
   {
    "duration": 70,
    "start_time": "2021-07-04T11:35:01.059Z"
   },
   {
    "duration": 3,
    "start_time": "2021-07-04T11:36:42.047Z"
   },
   {
    "duration": 4,
    "start_time": "2021-07-04T11:37:08.136Z"
   },
   {
    "duration": 3,
    "start_time": "2021-07-04T11:37:23.584Z"
   },
   {
    "duration": 2,
    "start_time": "2021-07-04T11:41:48.886Z"
   },
   {
    "duration": 248,
    "start_time": "2021-07-04T11:41:52.377Z"
   },
   {
    "duration": 2,
    "start_time": "2021-07-04T11:44:22.330Z"
   },
   {
    "duration": 67,
    "start_time": "2021-07-04T11:44:26.116Z"
   },
   {
    "duration": 3,
    "start_time": "2021-07-04T11:45:13.356Z"
   },
   {
    "duration": 242,
    "start_time": "2021-07-04T11:45:17.446Z"
   },
   {
    "duration": 3,
    "start_time": "2021-07-04T12:13:34.951Z"
   },
   {
    "duration": 67,
    "start_time": "2021-07-04T12:13:39.336Z"
   },
   {
    "duration": 2,
    "start_time": "2021-07-04T12:14:37.098Z"
   },
   {
    "duration": 245,
    "start_time": "2021-07-04T12:14:42.504Z"
   },
   {
    "duration": 252,
    "start_time": "2021-07-04T12:17:20.837Z"
   },
   {
    "duration": 3,
    "start_time": "2021-07-04T12:18:15.124Z"
   },
   {
    "duration": 250,
    "start_time": "2021-07-04T12:18:18.914Z"
   },
   {
    "duration": 2,
    "start_time": "2021-07-04T12:18:37.702Z"
   },
   {
    "duration": 234,
    "start_time": "2021-07-04T12:18:43.324Z"
   },
   {
    "duration": 2,
    "start_time": "2021-07-04T12:20:40.755Z"
   },
   {
    "duration": 67,
    "start_time": "2021-07-04T12:20:42.734Z"
   },
   {
    "duration": 3,
    "start_time": "2021-07-04T12:23:05.364Z"
   },
   {
    "duration": 240,
    "start_time": "2021-07-04T12:23:09.484Z"
   },
   {
    "duration": 239,
    "start_time": "2021-07-04T12:24:35.133Z"
   },
   {
    "duration": 3,
    "start_time": "2021-07-04T12:25:21.754Z"
   },
   {
    "duration": 67,
    "start_time": "2021-07-04T12:25:24.812Z"
   },
   {
    "duration": 797,
    "start_time": "2021-07-04T22:22:25.858Z"
   },
   {
    "duration": 3,
    "start_time": "2021-07-04T22:22:26.657Z"
   },
   {
    "duration": 59,
    "start_time": "2021-07-04T22:22:26.666Z"
   },
   {
    "duration": 74,
    "start_time": "2021-07-04T22:22:26.727Z"
   },
   {
    "duration": 4,
    "start_time": "2021-07-04T22:22:26.803Z"
   },
   {
    "duration": 30,
    "start_time": "2021-07-04T22:22:26.809Z"
   },
   {
    "duration": 3,
    "start_time": "2021-07-04T22:22:26.843Z"
   },
   {
    "duration": 40,
    "start_time": "2021-07-04T22:22:26.849Z"
   },
   {
    "duration": 9,
    "start_time": "2021-07-04T22:22:26.892Z"
   },
   {
    "duration": 18,
    "start_time": "2021-07-04T22:22:26.904Z"
   },
   {
    "duration": 3,
    "start_time": "2021-07-04T22:22:26.924Z"
   },
   {
    "duration": 21,
    "start_time": "2021-07-04T22:22:26.929Z"
   },
   {
    "duration": 3,
    "start_time": "2021-07-04T22:22:26.952Z"
   },
   {
    "duration": 50,
    "start_time": "2021-07-04T22:22:26.958Z"
   },
   {
    "duration": 3,
    "start_time": "2021-07-04T22:25:17.896Z"
   },
   {
    "duration": 13,
    "start_time": "2021-07-04T22:25:18.577Z"
   },
   {
    "duration": 3,
    "start_time": "2021-07-04T22:25:23.408Z"
   },
   {
    "duration": 13,
    "start_time": "2021-07-04T22:25:23.785Z"
   }
  ],
  "kernelspec": {
   "display_name": "Python 3",
   "language": "python",
   "name": "python3"
  },
  "language_info": {
   "codemirror_mode": {
    "name": "ipython",
    "version": 3
   },
   "file_extension": ".py",
   "mimetype": "text/x-python",
   "name": "python",
   "nbconvert_exporter": "python",
   "pygments_lexer": "ipython3",
   "version": "3.8.5"
  },
  "toc": {
   "base_numbering": 1,
   "nav_menu": {},
   "number_sections": true,
   "sideBar": true,
   "skip_h1_title": true,
   "title_cell": "Table of Contents",
   "title_sidebar": "Contents",
   "toc_cell": false,
   "toc_position": {},
   "toc_section_display": true,
   "toc_window_display": false
  }
 },
 "nbformat": 4,
 "nbformat_minor": 4
}
