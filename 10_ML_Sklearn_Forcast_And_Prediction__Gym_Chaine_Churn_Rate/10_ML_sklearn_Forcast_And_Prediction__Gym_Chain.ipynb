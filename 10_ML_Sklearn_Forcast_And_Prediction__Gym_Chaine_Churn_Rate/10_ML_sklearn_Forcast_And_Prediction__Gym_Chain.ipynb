{
 "cells": [
  {
   "cell_type": "markdown",
   "metadata": {},
   "source": [
    "## Forecasts and Prediction"
   ]
  },
  {
   "cell_type": "markdown",
   "metadata": {},
   "source": [
    "### Sprint Project"
   ]
  },
  {
   "cell_type": "markdown",
   "metadata": {},
   "source": [
    "#### by _Vadim Fridman_"
   ]
  },
  {
   "cell_type": "markdown",
   "metadata": {},
   "source": [
    "### Step 0. Intro and table of content"
   ]
  },
  {
   "cell_type": "markdown",
   "metadata": {},
   "source": [
    "#### Table of contents\n",
    "\n",
    "0. [Step 0. Intro and table of content](#introduction)\n",
    "\n",
    "\n",
    "1. [Step 1. Prepare the data](#part1)\n",
    "    - [Step 1: Conclusion](#introduction1)\n",
    "    \n",
    "2. [Step 2. Carry out exploratory data analysis](#part2)\n",
    "    - [Step 2: Conclusion](#step2)  \n",
    "    \n",
    "3. [Step 3. Build a model to predict user churn](#part3)\n",
    "    - [Step 3: Conclusion](#part31) \n",
    "    \n",
    "4. [Step 4. Create user clusters](#part4)\n",
    "    - [Step 4: Conclusion](#part41) \n",
    "    \n",
    "5. [Step 5. Come up with conclusions and basic recommendations on working with customers](#part5) "
   ]
  },
  {
   "cell_type": "markdown",
   "metadata": {},
   "source": [
    "####  Intro"
   ]
  },
  {
   "cell_type": "markdown",
   "metadata": {},
   "source": [
    "One of the most common problems gyms and other services face is customer churn. How do you know if a customer is no longer with you?\n",
    "\n",
    "The gym chain Model Fitness is developing a customer interaction strategy based on analytical data. In this project we are going to: \n",
    "\n",
    "* Learn to predict the probability of churn (for the upcoming month) for each customer\n",
    "* Draw up typical user portraits: select the most outstanding groups and describe their main features\n",
    "* Analyze the factors that impact churn most\n",
    "* Draw basic conclusions and develop recommendations on how to improve customer service:\n",
    "* Identify target groups\n",
    "* Suggest measures to cut churn\n",
    "* Describe any other patterns you see with respect to interaction with customers\n"
   ]
  },
  {
   "cell_type": "markdown",
   "metadata": {},
   "source": [
    "### Step 1. Download the data"
   ]
  },
  {
   "cell_type": "code",
   "execution_count": 1,
   "metadata": {},
   "outputs": [],
   "source": [
    "import numpy as np\n",
    "import pandas as pd\n",
    "import matplotlib.pyplot as plt\n",
    "import matplotlib.patches as mpatches\n",
    "import seaborn as sns\n",
    "from sklearn.linear_model import LogisticRegression\n",
    "from sklearn.model_selection import train_test_split\n",
    "from sklearn.ensemble import RandomForestRegressor\n",
    "from sklearn.ensemble import RandomForestClassifier\n",
    "from sklearn.preprocessing import StandardScaler\n",
    "from sklearn.metrics import accuracy_score, precision_score, recall_score, f1_score\n",
    "from sklearn.cluster import KMeans\n",
    "from scipy.cluster.hierarchy import dendrogram, linkage\n",
    "from sklearn.metrics import silhouette_score\n",
    "\n",
    "import warnings\n",
    "warnings.filterwarnings('ignore')"
   ]
  },
  {
   "cell_type": "code",
   "execution_count": 3,
   "metadata": {},
   "outputs": [],
   "source": [
    "try:\n",
    "    df = pd.read_csv('gym_churn_us.csv')\n",
    "except:\n",
    "     df = pd.read_csv('/datasets/gym_churn_us.csv')"
   ]
  },
  {
   "cell_type": "code",
   "execution_count": 4,
   "metadata": {},
   "outputs": [
    {
     "name": "stdout",
     "output_type": "stream",
     "text": [
      "<class 'pandas.core.frame.DataFrame'>\n",
      "RangeIndex: 4000 entries, 0 to 3999\n",
      "Data columns (total 14 columns):\n",
      "gender                               4000 non-null int64\n",
      "Near_Location                        4000 non-null int64\n",
      "Partner                              4000 non-null int64\n",
      "Promo_friends                        4000 non-null int64\n",
      "Phone                                4000 non-null int64\n",
      "Contract_period                      4000 non-null int64\n",
      "Group_visits                         4000 non-null int64\n",
      "Age                                  4000 non-null int64\n",
      "Avg_additional_charges_total         4000 non-null float64\n",
      "Month_to_end_contract                4000 non-null float64\n",
      "Lifetime                             4000 non-null int64\n",
      "Avg_class_frequency_total            4000 non-null float64\n",
      "Avg_class_frequency_current_month    4000 non-null float64\n",
      "Churn                                4000 non-null int64\n",
      "dtypes: float64(4), int64(10)\n",
      "memory usage: 437.6 KB\n"
     ]
    }
   ],
   "source": [
    "df.info(memory_usage='deep')"
   ]
  },
  {
   "cell_type": "code",
   "execution_count": 5,
   "metadata": {},
   "outputs": [
    {
     "data": {
      "text/html": [
       "<div>\n",
       "<style scoped>\n",
       "    .dataframe tbody tr th:only-of-type {\n",
       "        vertical-align: middle;\n",
       "    }\n",
       "\n",
       "    .dataframe tbody tr th {\n",
       "        vertical-align: top;\n",
       "    }\n",
       "\n",
       "    .dataframe thead th {\n",
       "        text-align: right;\n",
       "    }\n",
       "</style>\n",
       "<table border=\"1\" class=\"dataframe\">\n",
       "  <thead>\n",
       "    <tr style=\"text-align: right;\">\n",
       "      <th></th>\n",
       "      <th>gender</th>\n",
       "      <th>Near_Location</th>\n",
       "      <th>Partner</th>\n",
       "      <th>Promo_friends</th>\n",
       "      <th>Phone</th>\n",
       "      <th>Contract_period</th>\n",
       "      <th>Group_visits</th>\n",
       "      <th>Age</th>\n",
       "      <th>Avg_additional_charges_total</th>\n",
       "      <th>Month_to_end_contract</th>\n",
       "      <th>Lifetime</th>\n",
       "      <th>Avg_class_frequency_total</th>\n",
       "      <th>Avg_class_frequency_current_month</th>\n",
       "      <th>Churn</th>\n",
       "    </tr>\n",
       "  </thead>\n",
       "  <tbody>\n",
       "    <tr>\n",
       "      <td>3766</td>\n",
       "      <td>1</td>\n",
       "      <td>1</td>\n",
       "      <td>1</td>\n",
       "      <td>1</td>\n",
       "      <td>1</td>\n",
       "      <td>12</td>\n",
       "      <td>0</td>\n",
       "      <td>31</td>\n",
       "      <td>115.735523</td>\n",
       "      <td>11.0</td>\n",
       "      <td>1</td>\n",
       "      <td>1.704852</td>\n",
       "      <td>1.769573</td>\n",
       "      <td>0</td>\n",
       "    </tr>\n",
       "    <tr>\n",
       "      <td>3142</td>\n",
       "      <td>0</td>\n",
       "      <td>0</td>\n",
       "      <td>1</td>\n",
       "      <td>0</td>\n",
       "      <td>1</td>\n",
       "      <td>12</td>\n",
       "      <td>0</td>\n",
       "      <td>20</td>\n",
       "      <td>12.668363</td>\n",
       "      <td>12.0</td>\n",
       "      <td>1</td>\n",
       "      <td>1.822603</td>\n",
       "      <td>2.046784</td>\n",
       "      <td>1</td>\n",
       "    </tr>\n",
       "    <tr>\n",
       "      <td>1985</td>\n",
       "      <td>1</td>\n",
       "      <td>1</td>\n",
       "      <td>1</td>\n",
       "      <td>1</td>\n",
       "      <td>1</td>\n",
       "      <td>1</td>\n",
       "      <td>0</td>\n",
       "      <td>31</td>\n",
       "      <td>82.584162</td>\n",
       "      <td>1.0</td>\n",
       "      <td>8</td>\n",
       "      <td>2.053784</td>\n",
       "      <td>1.915962</td>\n",
       "      <td>0</td>\n",
       "    </tr>\n",
       "    <tr>\n",
       "      <td>3804</td>\n",
       "      <td>1</td>\n",
       "      <td>1</td>\n",
       "      <td>1</td>\n",
       "      <td>1</td>\n",
       "      <td>1</td>\n",
       "      <td>1</td>\n",
       "      <td>0</td>\n",
       "      <td>36</td>\n",
       "      <td>210.079025</td>\n",
       "      <td>1.0</td>\n",
       "      <td>3</td>\n",
       "      <td>2.273009</td>\n",
       "      <td>2.265810</td>\n",
       "      <td>0</td>\n",
       "    </tr>\n",
       "    <tr>\n",
       "      <td>3855</td>\n",
       "      <td>1</td>\n",
       "      <td>1</td>\n",
       "      <td>1</td>\n",
       "      <td>1</td>\n",
       "      <td>1</td>\n",
       "      <td>12</td>\n",
       "      <td>0</td>\n",
       "      <td>28</td>\n",
       "      <td>64.642913</td>\n",
       "      <td>12.0</td>\n",
       "      <td>1</td>\n",
       "      <td>2.555142</td>\n",
       "      <td>2.402152</td>\n",
       "      <td>0</td>\n",
       "    </tr>\n",
       "    <tr>\n",
       "      <td>914</td>\n",
       "      <td>0</td>\n",
       "      <td>1</td>\n",
       "      <td>0</td>\n",
       "      <td>0</td>\n",
       "      <td>1</td>\n",
       "      <td>1</td>\n",
       "      <td>0</td>\n",
       "      <td>24</td>\n",
       "      <td>149.858635</td>\n",
       "      <td>1.0</td>\n",
       "      <td>3</td>\n",
       "      <td>2.192316</td>\n",
       "      <td>1.255207</td>\n",
       "      <td>1</td>\n",
       "    </tr>\n",
       "    <tr>\n",
       "      <td>651</td>\n",
       "      <td>1</td>\n",
       "      <td>1</td>\n",
       "      <td>1</td>\n",
       "      <td>0</td>\n",
       "      <td>1</td>\n",
       "      <td>1</td>\n",
       "      <td>1</td>\n",
       "      <td>31</td>\n",
       "      <td>122.979894</td>\n",
       "      <td>1.0</td>\n",
       "      <td>7</td>\n",
       "      <td>0.428686</td>\n",
       "      <td>0.359863</td>\n",
       "      <td>0</td>\n",
       "    </tr>\n",
       "    <tr>\n",
       "      <td>2311</td>\n",
       "      <td>0</td>\n",
       "      <td>1</td>\n",
       "      <td>0</td>\n",
       "      <td>0</td>\n",
       "      <td>1</td>\n",
       "      <td>1</td>\n",
       "      <td>0</td>\n",
       "      <td>29</td>\n",
       "      <td>20.076299</td>\n",
       "      <td>1.0</td>\n",
       "      <td>0</td>\n",
       "      <td>1.632647</td>\n",
       "      <td>1.988690</td>\n",
       "      <td>1</td>\n",
       "    </tr>\n",
       "    <tr>\n",
       "      <td>1118</td>\n",
       "      <td>1</td>\n",
       "      <td>1</td>\n",
       "      <td>0</td>\n",
       "      <td>0</td>\n",
       "      <td>1</td>\n",
       "      <td>1</td>\n",
       "      <td>0</td>\n",
       "      <td>30</td>\n",
       "      <td>41.767164</td>\n",
       "      <td>1.0</td>\n",
       "      <td>1</td>\n",
       "      <td>1.523790</td>\n",
       "      <td>1.392351</td>\n",
       "      <td>1</td>\n",
       "    </tr>\n",
       "    <tr>\n",
       "      <td>370</td>\n",
       "      <td>1</td>\n",
       "      <td>1</td>\n",
       "      <td>1</td>\n",
       "      <td>1</td>\n",
       "      <td>0</td>\n",
       "      <td>1</td>\n",
       "      <td>0</td>\n",
       "      <td>30</td>\n",
       "      <td>167.880902</td>\n",
       "      <td>1.0</td>\n",
       "      <td>1</td>\n",
       "      <td>2.759734</td>\n",
       "      <td>2.527020</td>\n",
       "      <td>1</td>\n",
       "    </tr>\n",
       "  </tbody>\n",
       "</table>\n",
       "</div>"
      ],
      "text/plain": [
       "      gender  Near_Location  Partner  Promo_friends  Phone  Contract_period  \\\n",
       "3766       1              1        1              1      1               12   \n",
       "3142       0              0        1              0      1               12   \n",
       "1985       1              1        1              1      1                1   \n",
       "3804       1              1        1              1      1                1   \n",
       "3855       1              1        1              1      1               12   \n",
       "914        0              1        0              0      1                1   \n",
       "651        1              1        1              0      1                1   \n",
       "2311       0              1        0              0      1                1   \n",
       "1118       1              1        0              0      1                1   \n",
       "370        1              1        1              1      0                1   \n",
       "\n",
       "      Group_visits  Age  Avg_additional_charges_total  Month_to_end_contract  \\\n",
       "3766             0   31                    115.735523                   11.0   \n",
       "3142             0   20                     12.668363                   12.0   \n",
       "1985             0   31                     82.584162                    1.0   \n",
       "3804             0   36                    210.079025                    1.0   \n",
       "3855             0   28                     64.642913                   12.0   \n",
       "914              0   24                    149.858635                    1.0   \n",
       "651              1   31                    122.979894                    1.0   \n",
       "2311             0   29                     20.076299                    1.0   \n",
       "1118             0   30                     41.767164                    1.0   \n",
       "370              0   30                    167.880902                    1.0   \n",
       "\n",
       "      Lifetime  Avg_class_frequency_total  Avg_class_frequency_current_month  \\\n",
       "3766         1                   1.704852                           1.769573   \n",
       "3142         1                   1.822603                           2.046784   \n",
       "1985         8                   2.053784                           1.915962   \n",
       "3804         3                   2.273009                           2.265810   \n",
       "3855         1                   2.555142                           2.402152   \n",
       "914          3                   2.192316                           1.255207   \n",
       "651          7                   0.428686                           0.359863   \n",
       "2311         0                   1.632647                           1.988690   \n",
       "1118         1                   1.523790                           1.392351   \n",
       "370          1                   2.759734                           2.527020   \n",
       "\n",
       "      Churn  \n",
       "3766      0  \n",
       "3142      1  \n",
       "1985      0  \n",
       "3804      0  \n",
       "3855      0  \n",
       "914       1  \n",
       "651       0  \n",
       "2311      1  \n",
       "1118      1  \n",
       "370       1  "
      ]
     },
     "execution_count": 5,
     "metadata": {},
     "output_type": "execute_result"
    }
   ],
   "source": [
    "df.sample(10)"
   ]
  },
  {
   "cell_type": "markdown",
   "metadata": {},
   "source": [
    "We are going to rename columns in accord with Style Guide for Python Code and optimize the memory usage a bit, i.e. there is no sense to use 64 bits to store 1 or 0, as well as there is no sense to store the column \"Month_to_end_contract\" as floats. "
   ]
  },
  {
   "cell_type": "code",
   "execution_count": 6,
   "metadata": {},
   "outputs": [],
   "source": [
    "df.columns = df.columns.str.lower()"
   ]
  },
  {
   "cell_type": "code",
   "execution_count": 7,
   "metadata": {},
   "outputs": [
    {
     "data": {
      "text/plain": [
       "12.0"
      ]
     },
     "execution_count": 7,
     "metadata": {},
     "output_type": "execute_result"
    }
   ],
   "source": [
    "df.month_to_end_contract.max()"
   ]
  },
  {
   "cell_type": "code",
   "execution_count": 8,
   "metadata": {},
   "outputs": [],
   "source": [
    "df.month_to_end_contract = df.month_to_end_contract.astype('int8')"
   ]
  },
  {
   "cell_type": "code",
   "execution_count": 9,
   "metadata": {},
   "outputs": [],
   "source": [
    "df.gender = df.gender.astype('int8')\n",
    "df.near_location = df.near_location.astype('int8')\n",
    "df.partner = df.partner.astype('int8')\n",
    "df.promo_friends = df.promo_friends.astype('int8')\n",
    "df.age = df.age.astype('int8')\n",
    "df.phone = df.phone.astype('int8')\n",
    "df.contract_period = df.contract_period.astype('int8')\n",
    "df.group_visits = df.group_visits.astype('int8')\n",
    "df.lifetime = df.lifetime.astype('int8')\n",
    "df.churn = df.churn.astype('int8')\n",
    "df.month_to_end_contract = df.month_to_end_contract.astype('int8')"
   ]
  },
  {
   "cell_type": "code",
   "execution_count": 10,
   "metadata": {},
   "outputs": [
    {
     "name": "stdout",
     "output_type": "stream",
     "text": [
      "<class 'pandas.core.frame.DataFrame'>\n",
      "RangeIndex: 4000 entries, 0 to 3999\n",
      "Data columns (total 14 columns):\n",
      "gender                               4000 non-null int8\n",
      "near_location                        4000 non-null int8\n",
      "partner                              4000 non-null int8\n",
      "promo_friends                        4000 non-null int8\n",
      "phone                                4000 non-null int8\n",
      "contract_period                      4000 non-null int8\n",
      "group_visits                         4000 non-null int8\n",
      "age                                  4000 non-null int8\n",
      "avg_additional_charges_total         4000 non-null float64\n",
      "month_to_end_contract                4000 non-null int8\n",
      "lifetime                             4000 non-null int8\n",
      "avg_class_frequency_total            4000 non-null float64\n",
      "avg_class_frequency_current_month    4000 non-null float64\n",
      "churn                                4000 non-null int8\n",
      "dtypes: float64(3), int8(11)\n",
      "memory usage: 136.8 KB\n"
     ]
    }
   ],
   "source": [
    "df.info(memory_usage='deep')"
   ]
  },
  {
   "cell_type": "markdown",
   "metadata": {},
   "source": [
    "Almost 70% less memory usage (437.6 KB -> 136.8 KB) to store the same amount of information is quite impressive, huh?  "
   ]
  },
  {
   "cell_type": "code",
   "execution_count": 11,
   "metadata": {},
   "outputs": [
    {
     "data": {
      "text/plain": [
       "0"
      ]
     },
     "execution_count": 11,
     "metadata": {},
     "output_type": "execute_result"
    }
   ],
   "source": [
    "df.duplicated().sum()"
   ]
  },
  {
   "cell_type": "code",
   "execution_count": 12,
   "metadata": {},
   "outputs": [
    {
     "data": {
      "text/html": [
       "<div>\n",
       "<style scoped>\n",
       "    .dataframe tbody tr th:only-of-type {\n",
       "        vertical-align: middle;\n",
       "    }\n",
       "\n",
       "    .dataframe tbody tr th {\n",
       "        vertical-align: top;\n",
       "    }\n",
       "\n",
       "    .dataframe thead th {\n",
       "        text-align: right;\n",
       "    }\n",
       "</style>\n",
       "<table border=\"1\" class=\"dataframe\">\n",
       "  <thead>\n",
       "    <tr style=\"text-align: right;\">\n",
       "      <th></th>\n",
       "      <th>gender</th>\n",
       "      <th>near_location</th>\n",
       "      <th>partner</th>\n",
       "      <th>promo_friends</th>\n",
       "      <th>phone</th>\n",
       "      <th>contract_period</th>\n",
       "      <th>group_visits</th>\n",
       "      <th>age</th>\n",
       "      <th>avg_additional_charges_total</th>\n",
       "      <th>month_to_end_contract</th>\n",
       "      <th>lifetime</th>\n",
       "      <th>avg_class_frequency_total</th>\n",
       "      <th>avg_class_frequency_current_month</th>\n",
       "      <th>churn</th>\n",
       "    </tr>\n",
       "  </thead>\n",
       "  <tbody>\n",
       "    <tr>\n",
       "      <td>3995</td>\n",
       "      <td>1</td>\n",
       "      <td>1</td>\n",
       "      <td>1</td>\n",
       "      <td>0</td>\n",
       "      <td>1</td>\n",
       "      <td>12</td>\n",
       "      <td>0</td>\n",
       "      <td>33</td>\n",
       "      <td>2.406023</td>\n",
       "      <td>12</td>\n",
       "      <td>8</td>\n",
       "      <td>2.284497</td>\n",
       "      <td>2.349070</td>\n",
       "      <td>0</td>\n",
       "    </tr>\n",
       "    <tr>\n",
       "      <td>3996</td>\n",
       "      <td>0</td>\n",
       "      <td>1</td>\n",
       "      <td>0</td>\n",
       "      <td>0</td>\n",
       "      <td>1</td>\n",
       "      <td>1</td>\n",
       "      <td>1</td>\n",
       "      <td>29</td>\n",
       "      <td>68.883764</td>\n",
       "      <td>1</td>\n",
       "      <td>1</td>\n",
       "      <td>1.277168</td>\n",
       "      <td>0.292859</td>\n",
       "      <td>1</td>\n",
       "    </tr>\n",
       "    <tr>\n",
       "      <td>3997</td>\n",
       "      <td>1</td>\n",
       "      <td>1</td>\n",
       "      <td>1</td>\n",
       "      <td>1</td>\n",
       "      <td>1</td>\n",
       "      <td>12</td>\n",
       "      <td>0</td>\n",
       "      <td>28</td>\n",
       "      <td>78.250542</td>\n",
       "      <td>11</td>\n",
       "      <td>2</td>\n",
       "      <td>2.786146</td>\n",
       "      <td>2.831439</td>\n",
       "      <td>0</td>\n",
       "    </tr>\n",
       "    <tr>\n",
       "      <td>3998</td>\n",
       "      <td>0</td>\n",
       "      <td>1</td>\n",
       "      <td>1</td>\n",
       "      <td>1</td>\n",
       "      <td>1</td>\n",
       "      <td>6</td>\n",
       "      <td>0</td>\n",
       "      <td>32</td>\n",
       "      <td>61.912657</td>\n",
       "      <td>5</td>\n",
       "      <td>3</td>\n",
       "      <td>1.630108</td>\n",
       "      <td>1.596237</td>\n",
       "      <td>0</td>\n",
       "    </tr>\n",
       "    <tr>\n",
       "      <td>3999</td>\n",
       "      <td>1</td>\n",
       "      <td>0</td>\n",
       "      <td>1</td>\n",
       "      <td>0</td>\n",
       "      <td>0</td>\n",
       "      <td>12</td>\n",
       "      <td>1</td>\n",
       "      <td>30</td>\n",
       "      <td>178.861814</td>\n",
       "      <td>12</td>\n",
       "      <td>1</td>\n",
       "      <td>1.101832</td>\n",
       "      <td>1.035270</td>\n",
       "      <td>0</td>\n",
       "    </tr>\n",
       "  </tbody>\n",
       "</table>\n",
       "</div>"
      ],
      "text/plain": [
       "      gender  near_location  partner  promo_friends  phone  contract_period  \\\n",
       "3995       1              1        1              0      1               12   \n",
       "3996       0              1        0              0      1                1   \n",
       "3997       1              1        1              1      1               12   \n",
       "3998       0              1        1              1      1                6   \n",
       "3999       1              0        1              0      0               12   \n",
       "\n",
       "      group_visits  age  avg_additional_charges_total  month_to_end_contract  \\\n",
       "3995             0   33                      2.406023                     12   \n",
       "3996             1   29                     68.883764                      1   \n",
       "3997             0   28                     78.250542                     11   \n",
       "3998             0   32                     61.912657                      5   \n",
       "3999             1   30                    178.861814                     12   \n",
       "\n",
       "      lifetime  avg_class_frequency_total  avg_class_frequency_current_month  \\\n",
       "3995         8                   2.284497                           2.349070   \n",
       "3996         1                   1.277168                           0.292859   \n",
       "3997         2                   2.786146                           2.831439   \n",
       "3998         3                   1.630108                           1.596237   \n",
       "3999         1                   1.101832                           1.035270   \n",
       "\n",
       "      churn  \n",
       "3995      0  \n",
       "3996      1  \n",
       "3997      0  \n",
       "3998      0  \n",
       "3999      0  "
      ]
     },
     "execution_count": 12,
     "metadata": {},
     "output_type": "execute_result"
    }
   ],
   "source": [
    "df.tail()"
   ]
  },
  {
   "cell_type": "markdown",
   "metadata": {},
   "source": [
    "### Step 1. Conclusion\n",
    "<a class=\"anchor\" id=\"part11\"></a>"
   ]
  },
  {
   "cell_type": "markdown",
   "metadata": {},
   "source": [
    "In this tiny step we just imported data to Jupiter Notebook, renamed the columns, checked if we have duplicates and optimized the memory usage. "
   ]
  },
  {
   "cell_type": "markdown",
   "metadata": {},
   "source": [
    "## Step 2. Carry out exploratory data analysis\n",
    "<a class=\"anchor\" id=\"part2\"></a>"
   ]
  },
  {
   "cell_type": "markdown",
   "metadata": {},
   "source": [
    "__Look at the dataset: does it contain any missing features? Study the mean values and standard deviation (use the describe() method).__"
   ]
  },
  {
   "cell_type": "markdown",
   "metadata": {},
   "source": [
    "As we can notice in the output of _.info()_ method above, there is no missing values in our dataset. "
   ]
  },
  {
   "cell_type": "code",
   "execution_count": 13,
   "metadata": {},
   "outputs": [
    {
     "data": {
      "text/html": [
       "<div>\n",
       "<style scoped>\n",
       "    .dataframe tbody tr th:only-of-type {\n",
       "        vertical-align: middle;\n",
       "    }\n",
       "\n",
       "    .dataframe tbody tr th {\n",
       "        vertical-align: top;\n",
       "    }\n",
       "\n",
       "    .dataframe thead th {\n",
       "        text-align: right;\n",
       "    }\n",
       "</style>\n",
       "<table border=\"1\" class=\"dataframe\">\n",
       "  <thead>\n",
       "    <tr style=\"text-align: right;\">\n",
       "      <th></th>\n",
       "      <th>gender</th>\n",
       "      <th>near_location</th>\n",
       "      <th>partner</th>\n",
       "      <th>promo_friends</th>\n",
       "      <th>phone</th>\n",
       "      <th>contract_period</th>\n",
       "      <th>group_visits</th>\n",
       "      <th>age</th>\n",
       "      <th>avg_additional_charges_total</th>\n",
       "      <th>month_to_end_contract</th>\n",
       "      <th>lifetime</th>\n",
       "      <th>avg_class_frequency_total</th>\n",
       "      <th>avg_class_frequency_current_month</th>\n",
       "      <th>churn</th>\n",
       "    </tr>\n",
       "  </thead>\n",
       "  <tbody>\n",
       "    <tr>\n",
       "      <td>count</td>\n",
       "      <td>4000.000000</td>\n",
       "      <td>4000.000000</td>\n",
       "      <td>4000.000000</td>\n",
       "      <td>4000.000000</td>\n",
       "      <td>4000.000000</td>\n",
       "      <td>4000.000000</td>\n",
       "      <td>4000.000000</td>\n",
       "      <td>4000.000000</td>\n",
       "      <td>4000.000000</td>\n",
       "      <td>4000.000000</td>\n",
       "      <td>4000.000000</td>\n",
       "      <td>4000.000000</td>\n",
       "      <td>4000.000000</td>\n",
       "      <td>4000.000000</td>\n",
       "    </tr>\n",
       "    <tr>\n",
       "      <td>mean</td>\n",
       "      <td>0.510250</td>\n",
       "      <td>0.845250</td>\n",
       "      <td>0.486750</td>\n",
       "      <td>0.308500</td>\n",
       "      <td>0.903500</td>\n",
       "      <td>4.681250</td>\n",
       "      <td>0.412250</td>\n",
       "      <td>29.184250</td>\n",
       "      <td>146.943728</td>\n",
       "      <td>4.322750</td>\n",
       "      <td>3.724750</td>\n",
       "      <td>1.879020</td>\n",
       "      <td>1.767052</td>\n",
       "      <td>0.265250</td>\n",
       "    </tr>\n",
       "    <tr>\n",
       "      <td>std</td>\n",
       "      <td>0.499957</td>\n",
       "      <td>0.361711</td>\n",
       "      <td>0.499887</td>\n",
       "      <td>0.461932</td>\n",
       "      <td>0.295313</td>\n",
       "      <td>4.549706</td>\n",
       "      <td>0.492301</td>\n",
       "      <td>3.258367</td>\n",
       "      <td>96.355602</td>\n",
       "      <td>4.191297</td>\n",
       "      <td>3.749267</td>\n",
       "      <td>0.972245</td>\n",
       "      <td>1.052906</td>\n",
       "      <td>0.441521</td>\n",
       "    </tr>\n",
       "    <tr>\n",
       "      <td>min</td>\n",
       "      <td>0.000000</td>\n",
       "      <td>0.000000</td>\n",
       "      <td>0.000000</td>\n",
       "      <td>0.000000</td>\n",
       "      <td>0.000000</td>\n",
       "      <td>1.000000</td>\n",
       "      <td>0.000000</td>\n",
       "      <td>18.000000</td>\n",
       "      <td>0.148205</td>\n",
       "      <td>1.000000</td>\n",
       "      <td>0.000000</td>\n",
       "      <td>0.000000</td>\n",
       "      <td>0.000000</td>\n",
       "      <td>0.000000</td>\n",
       "    </tr>\n",
       "    <tr>\n",
       "      <td>25%</td>\n",
       "      <td>0.000000</td>\n",
       "      <td>1.000000</td>\n",
       "      <td>0.000000</td>\n",
       "      <td>0.000000</td>\n",
       "      <td>1.000000</td>\n",
       "      <td>1.000000</td>\n",
       "      <td>0.000000</td>\n",
       "      <td>27.000000</td>\n",
       "      <td>68.868830</td>\n",
       "      <td>1.000000</td>\n",
       "      <td>1.000000</td>\n",
       "      <td>1.180875</td>\n",
       "      <td>0.963003</td>\n",
       "      <td>0.000000</td>\n",
       "    </tr>\n",
       "    <tr>\n",
       "      <td>50%</td>\n",
       "      <td>1.000000</td>\n",
       "      <td>1.000000</td>\n",
       "      <td>0.000000</td>\n",
       "      <td>0.000000</td>\n",
       "      <td>1.000000</td>\n",
       "      <td>1.000000</td>\n",
       "      <td>0.000000</td>\n",
       "      <td>29.000000</td>\n",
       "      <td>136.220159</td>\n",
       "      <td>1.000000</td>\n",
       "      <td>3.000000</td>\n",
       "      <td>1.832768</td>\n",
       "      <td>1.719574</td>\n",
       "      <td>0.000000</td>\n",
       "    </tr>\n",
       "    <tr>\n",
       "      <td>75%</td>\n",
       "      <td>1.000000</td>\n",
       "      <td>1.000000</td>\n",
       "      <td>1.000000</td>\n",
       "      <td>1.000000</td>\n",
       "      <td>1.000000</td>\n",
       "      <td>6.000000</td>\n",
       "      <td>1.000000</td>\n",
       "      <td>31.000000</td>\n",
       "      <td>210.949625</td>\n",
       "      <td>6.000000</td>\n",
       "      <td>5.000000</td>\n",
       "      <td>2.536078</td>\n",
       "      <td>2.510336</td>\n",
       "      <td>1.000000</td>\n",
       "    </tr>\n",
       "    <tr>\n",
       "      <td>max</td>\n",
       "      <td>1.000000</td>\n",
       "      <td>1.000000</td>\n",
       "      <td>1.000000</td>\n",
       "      <td>1.000000</td>\n",
       "      <td>1.000000</td>\n",
       "      <td>12.000000</td>\n",
       "      <td>1.000000</td>\n",
       "      <td>41.000000</td>\n",
       "      <td>552.590740</td>\n",
       "      <td>12.000000</td>\n",
       "      <td>31.000000</td>\n",
       "      <td>6.023668</td>\n",
       "      <td>6.146783</td>\n",
       "      <td>1.000000</td>\n",
       "    </tr>\n",
       "  </tbody>\n",
       "</table>\n",
       "</div>"
      ],
      "text/plain": [
       "            gender  near_location      partner  promo_friends        phone  \\\n",
       "count  4000.000000    4000.000000  4000.000000    4000.000000  4000.000000   \n",
       "mean      0.510250       0.845250     0.486750       0.308500     0.903500   \n",
       "std       0.499957       0.361711     0.499887       0.461932     0.295313   \n",
       "min       0.000000       0.000000     0.000000       0.000000     0.000000   \n",
       "25%       0.000000       1.000000     0.000000       0.000000     1.000000   \n",
       "50%       1.000000       1.000000     0.000000       0.000000     1.000000   \n",
       "75%       1.000000       1.000000     1.000000       1.000000     1.000000   \n",
       "max       1.000000       1.000000     1.000000       1.000000     1.000000   \n",
       "\n",
       "       contract_period  group_visits          age  \\\n",
       "count      4000.000000   4000.000000  4000.000000   \n",
       "mean          4.681250      0.412250    29.184250   \n",
       "std           4.549706      0.492301     3.258367   \n",
       "min           1.000000      0.000000    18.000000   \n",
       "25%           1.000000      0.000000    27.000000   \n",
       "50%           1.000000      0.000000    29.000000   \n",
       "75%           6.000000      1.000000    31.000000   \n",
       "max          12.000000      1.000000    41.000000   \n",
       "\n",
       "       avg_additional_charges_total  month_to_end_contract     lifetime  \\\n",
       "count                   4000.000000            4000.000000  4000.000000   \n",
       "mean                     146.943728               4.322750     3.724750   \n",
       "std                       96.355602               4.191297     3.749267   \n",
       "min                        0.148205               1.000000     0.000000   \n",
       "25%                       68.868830               1.000000     1.000000   \n",
       "50%                      136.220159               1.000000     3.000000   \n",
       "75%                      210.949625               6.000000     5.000000   \n",
       "max                      552.590740              12.000000    31.000000   \n",
       "\n",
       "       avg_class_frequency_total  avg_class_frequency_current_month  \\\n",
       "count                4000.000000                        4000.000000   \n",
       "mean                    1.879020                           1.767052   \n",
       "std                     0.972245                           1.052906   \n",
       "min                     0.000000                           0.000000   \n",
       "25%                     1.180875                           0.963003   \n",
       "50%                     1.832768                           1.719574   \n",
       "75%                     2.536078                           2.510336   \n",
       "max                     6.023668                           6.146783   \n",
       "\n",
       "             churn  \n",
       "count  4000.000000  \n",
       "mean      0.265250  \n",
       "std       0.441521  \n",
       "min       0.000000  \n",
       "25%       0.000000  \n",
       "50%       0.000000  \n",
       "75%       1.000000  \n",
       "max       1.000000  "
      ]
     },
     "execution_count": 13,
     "metadata": {},
     "output_type": "execute_result"
    }
   ],
   "source": [
    "df.describe()"
   ]
  },
  {
   "cell_type": "markdown",
   "metadata": {},
   "source": [
    "The output is very interesting: we can see in the table a lot of useful information about clients of fitness club. So, i.e. men/women ratio is around 50/50. Most of the customers (ca. 85%) live or work near a club and so on. \n",
    "\n",
    "It is striking to see that the oldest client is 41 year old. In contrast 18 as a minimal age seems to be logical. As well as logical is the fact, that all the binary values has standart deviation less than 0.5 \n",
    "\n",
    "For our project is also important to notice, that the mean of churn value is 0.26. It seems to be really high value, if monthly every fourth client cancels the contract. \n",
    "\n",
    "But the standart deviation value 0.44 says, that the churn rate is probably a bit lower than 0.26. "
   ]
  },
  {
   "cell_type": "markdown",
   "metadata": {},
   "source": [
    "__Look at the mean feature values in two groups: for those who left (churn) and for those who stayed (use the groupby() method).__"
   ]
  },
  {
   "cell_type": "code",
   "execution_count": 14,
   "metadata": {
    "scrolled": false
   },
   "outputs": [
    {
     "data": {
      "text/html": [
       "<div>\n",
       "<style scoped>\n",
       "    .dataframe tbody tr th:only-of-type {\n",
       "        vertical-align: middle;\n",
       "    }\n",
       "\n",
       "    .dataframe tbody tr th {\n",
       "        vertical-align: top;\n",
       "    }\n",
       "\n",
       "    .dataframe thead th {\n",
       "        text-align: right;\n",
       "    }\n",
       "</style>\n",
       "<table border=\"1\" class=\"dataframe\">\n",
       "  <thead>\n",
       "    <tr style=\"text-align: right;\">\n",
       "      <th></th>\n",
       "      <th>churn</th>\n",
       "      <th>0</th>\n",
       "      <th>1</th>\n",
       "    </tr>\n",
       "  </thead>\n",
       "  <tbody>\n",
       "    <tr>\n",
       "      <td rowspan=\"8\" valign=\"top\">gender</td>\n",
       "      <td>count</td>\n",
       "      <td>2939.000000</td>\n",
       "      <td>1061.000000</td>\n",
       "    </tr>\n",
       "    <tr>\n",
       "      <td>mean</td>\n",
       "      <td>0.510037</td>\n",
       "      <td>0.510839</td>\n",
       "    </tr>\n",
       "    <tr>\n",
       "      <td>std</td>\n",
       "      <td>0.499984</td>\n",
       "      <td>0.500118</td>\n",
       "    </tr>\n",
       "    <tr>\n",
       "      <td>min</td>\n",
       "      <td>0.000000</td>\n",
       "      <td>0.000000</td>\n",
       "    </tr>\n",
       "    <tr>\n",
       "      <td>25%</td>\n",
       "      <td>0.000000</td>\n",
       "      <td>0.000000</td>\n",
       "    </tr>\n",
       "    <tr>\n",
       "      <td>50%</td>\n",
       "      <td>1.000000</td>\n",
       "      <td>1.000000</td>\n",
       "    </tr>\n",
       "    <tr>\n",
       "      <td>75%</td>\n",
       "      <td>1.000000</td>\n",
       "      <td>1.000000</td>\n",
       "    </tr>\n",
       "    <tr>\n",
       "      <td>max</td>\n",
       "      <td>1.000000</td>\n",
       "      <td>1.000000</td>\n",
       "    </tr>\n",
       "    <tr>\n",
       "      <td rowspan=\"8\" valign=\"top\">near_location</td>\n",
       "      <td>count</td>\n",
       "      <td>2939.000000</td>\n",
       "      <td>1061.000000</td>\n",
       "    </tr>\n",
       "    <tr>\n",
       "      <td>mean</td>\n",
       "      <td>0.873086</td>\n",
       "      <td>0.768143</td>\n",
       "    </tr>\n",
       "    <tr>\n",
       "      <td>std</td>\n",
       "      <td>0.332933</td>\n",
       "      <td>0.422217</td>\n",
       "    </tr>\n",
       "    <tr>\n",
       "      <td>min</td>\n",
       "      <td>0.000000</td>\n",
       "      <td>0.000000</td>\n",
       "    </tr>\n",
       "    <tr>\n",
       "      <td>25%</td>\n",
       "      <td>1.000000</td>\n",
       "      <td>1.000000</td>\n",
       "    </tr>\n",
       "    <tr>\n",
       "      <td>50%</td>\n",
       "      <td>1.000000</td>\n",
       "      <td>1.000000</td>\n",
       "    </tr>\n",
       "    <tr>\n",
       "      <td>75%</td>\n",
       "      <td>1.000000</td>\n",
       "      <td>1.000000</td>\n",
       "    </tr>\n",
       "    <tr>\n",
       "      <td>max</td>\n",
       "      <td>1.000000</td>\n",
       "      <td>1.000000</td>\n",
       "    </tr>\n",
       "    <tr>\n",
       "      <td rowspan=\"8\" valign=\"top\">partner</td>\n",
       "      <td>count</td>\n",
       "      <td>2939.000000</td>\n",
       "      <td>1061.000000</td>\n",
       "    </tr>\n",
       "    <tr>\n",
       "      <td>mean</td>\n",
       "      <td>0.534195</td>\n",
       "      <td>0.355325</td>\n",
       "    </tr>\n",
       "    <tr>\n",
       "      <td>std</td>\n",
       "      <td>0.498914</td>\n",
       "      <td>0.478837</td>\n",
       "    </tr>\n",
       "    <tr>\n",
       "      <td>min</td>\n",
       "      <td>0.000000</td>\n",
       "      <td>0.000000</td>\n",
       "    </tr>\n",
       "    <tr>\n",
       "      <td>25%</td>\n",
       "      <td>0.000000</td>\n",
       "      <td>0.000000</td>\n",
       "    </tr>\n",
       "    <tr>\n",
       "      <td>50%</td>\n",
       "      <td>1.000000</td>\n",
       "      <td>0.000000</td>\n",
       "    </tr>\n",
       "    <tr>\n",
       "      <td>75%</td>\n",
       "      <td>1.000000</td>\n",
       "      <td>1.000000</td>\n",
       "    </tr>\n",
       "    <tr>\n",
       "      <td>max</td>\n",
       "      <td>1.000000</td>\n",
       "      <td>1.000000</td>\n",
       "    </tr>\n",
       "    <tr>\n",
       "      <td rowspan=\"8\" valign=\"top\">promo_friends</td>\n",
       "      <td>count</td>\n",
       "      <td>2939.000000</td>\n",
       "      <td>1061.000000</td>\n",
       "    </tr>\n",
       "    <tr>\n",
       "      <td>mean</td>\n",
       "      <td>0.353522</td>\n",
       "      <td>0.183789</td>\n",
       "    </tr>\n",
       "    <tr>\n",
       "      <td>std</td>\n",
       "      <td>0.478144</td>\n",
       "      <td>0.387495</td>\n",
       "    </tr>\n",
       "    <tr>\n",
       "      <td>min</td>\n",
       "      <td>0.000000</td>\n",
       "      <td>0.000000</td>\n",
       "    </tr>\n",
       "    <tr>\n",
       "      <td>25%</td>\n",
       "      <td>0.000000</td>\n",
       "      <td>0.000000</td>\n",
       "    </tr>\n",
       "    <tr>\n",
       "      <td>50%</td>\n",
       "      <td>0.000000</td>\n",
       "      <td>0.000000</td>\n",
       "    </tr>\n",
       "    <tr>\n",
       "      <td>75%</td>\n",
       "      <td>1.000000</td>\n",
       "      <td>0.000000</td>\n",
       "    </tr>\n",
       "    <tr>\n",
       "      <td>max</td>\n",
       "      <td>1.000000</td>\n",
       "      <td>1.000000</td>\n",
       "    </tr>\n",
       "    <tr>\n",
       "      <td rowspan=\"8\" valign=\"top\">phone</td>\n",
       "      <td>count</td>\n",
       "      <td>2939.000000</td>\n",
       "      <td>1061.000000</td>\n",
       "    </tr>\n",
       "    <tr>\n",
       "      <td>mean</td>\n",
       "      <td>0.903709</td>\n",
       "      <td>0.902922</td>\n",
       "    </tr>\n",
       "    <tr>\n",
       "      <td>std</td>\n",
       "      <td>0.295040</td>\n",
       "      <td>0.296204</td>\n",
       "    </tr>\n",
       "    <tr>\n",
       "      <td>min</td>\n",
       "      <td>0.000000</td>\n",
       "      <td>0.000000</td>\n",
       "    </tr>\n",
       "    <tr>\n",
       "      <td>25%</td>\n",
       "      <td>1.000000</td>\n",
       "      <td>1.000000</td>\n",
       "    </tr>\n",
       "    <tr>\n",
       "      <td>50%</td>\n",
       "      <td>1.000000</td>\n",
       "      <td>1.000000</td>\n",
       "    </tr>\n",
       "    <tr>\n",
       "      <td>75%</td>\n",
       "      <td>1.000000</td>\n",
       "      <td>1.000000</td>\n",
       "    </tr>\n",
       "    <tr>\n",
       "      <td>max</td>\n",
       "      <td>1.000000</td>\n",
       "      <td>1.000000</td>\n",
       "    </tr>\n",
       "    <tr>\n",
       "      <td rowspan=\"8\" valign=\"top\">contract_period</td>\n",
       "      <td>count</td>\n",
       "      <td>2939.000000</td>\n",
       "      <td>1061.000000</td>\n",
       "    </tr>\n",
       "    <tr>\n",
       "      <td>mean</td>\n",
       "      <td>5.747193</td>\n",
       "      <td>1.728558</td>\n",
       "    </tr>\n",
       "    <tr>\n",
       "      <td>std</td>\n",
       "      <td>4.716942</td>\n",
       "      <td>2.132371</td>\n",
       "    </tr>\n",
       "    <tr>\n",
       "      <td>min</td>\n",
       "      <td>1.000000</td>\n",
       "      <td>1.000000</td>\n",
       "    </tr>\n",
       "    <tr>\n",
       "      <td>25%</td>\n",
       "      <td>1.000000</td>\n",
       "      <td>1.000000</td>\n",
       "    </tr>\n",
       "    <tr>\n",
       "      <td>50%</td>\n",
       "      <td>6.000000</td>\n",
       "      <td>1.000000</td>\n",
       "    </tr>\n",
       "    <tr>\n",
       "      <td>75%</td>\n",
       "      <td>12.000000</td>\n",
       "      <td>1.000000</td>\n",
       "    </tr>\n",
       "    <tr>\n",
       "      <td>max</td>\n",
       "      <td>12.000000</td>\n",
       "      <td>12.000000</td>\n",
       "    </tr>\n",
       "    <tr>\n",
       "      <td rowspan=\"8\" valign=\"top\">group_visits</td>\n",
       "      <td>count</td>\n",
       "      <td>2939.000000</td>\n",
       "      <td>1061.000000</td>\n",
       "    </tr>\n",
       "    <tr>\n",
       "      <td>mean</td>\n",
       "      <td>0.464103</td>\n",
       "      <td>0.268615</td>\n",
       "    </tr>\n",
       "    <tr>\n",
       "      <td>std</td>\n",
       "      <td>0.498795</td>\n",
       "      <td>0.443448</td>\n",
       "    </tr>\n",
       "    <tr>\n",
       "      <td>min</td>\n",
       "      <td>0.000000</td>\n",
       "      <td>0.000000</td>\n",
       "    </tr>\n",
       "    <tr>\n",
       "      <td>25%</td>\n",
       "      <td>0.000000</td>\n",
       "      <td>0.000000</td>\n",
       "    </tr>\n",
       "    <tr>\n",
       "      <td>50%</td>\n",
       "      <td>0.000000</td>\n",
       "      <td>0.000000</td>\n",
       "    </tr>\n",
       "    <tr>\n",
       "      <td>75%</td>\n",
       "      <td>1.000000</td>\n",
       "      <td>1.000000</td>\n",
       "    </tr>\n",
       "    <tr>\n",
       "      <td>max</td>\n",
       "      <td>1.000000</td>\n",
       "      <td>1.000000</td>\n",
       "    </tr>\n",
       "    <tr>\n",
       "      <td rowspan=\"8\" valign=\"top\">age</td>\n",
       "      <td>count</td>\n",
       "      <td>2939.000000</td>\n",
       "      <td>1061.000000</td>\n",
       "    </tr>\n",
       "    <tr>\n",
       "      <td>mean</td>\n",
       "      <td>29.976523</td>\n",
       "      <td>26.989632</td>\n",
       "    </tr>\n",
       "    <tr>\n",
       "      <td>std</td>\n",
       "      <td>3.009933</td>\n",
       "      <td>2.895163</td>\n",
       "    </tr>\n",
       "    <tr>\n",
       "      <td>min</td>\n",
       "      <td>19.000000</td>\n",
       "      <td>18.000000</td>\n",
       "    </tr>\n",
       "    <tr>\n",
       "      <td>25%</td>\n",
       "      <td>28.000000</td>\n",
       "      <td>25.000000</td>\n",
       "    </tr>\n",
       "    <tr>\n",
       "      <td>50%</td>\n",
       "      <td>30.000000</td>\n",
       "      <td>27.000000</td>\n",
       "    </tr>\n",
       "    <tr>\n",
       "      <td>75%</td>\n",
       "      <td>32.000000</td>\n",
       "      <td>29.000000</td>\n",
       "    </tr>\n",
       "    <tr>\n",
       "      <td>max</td>\n",
       "      <td>41.000000</td>\n",
       "      <td>38.000000</td>\n",
       "    </tr>\n",
       "    <tr>\n",
       "      <td rowspan=\"8\" valign=\"top\">avg_additional_charges_total</td>\n",
       "      <td>count</td>\n",
       "      <td>2939.000000</td>\n",
       "      <td>1061.000000</td>\n",
       "    </tr>\n",
       "    <tr>\n",
       "      <td>mean</td>\n",
       "      <td>158.445715</td>\n",
       "      <td>115.082899</td>\n",
       "    </tr>\n",
       "    <tr>\n",
       "      <td>std</td>\n",
       "      <td>99.801599</td>\n",
       "      <td>77.696419</td>\n",
       "    </tr>\n",
       "    <tr>\n",
       "      <td>min</td>\n",
       "      <td>0.171862</td>\n",
       "      <td>0.148205</td>\n",
       "    </tr>\n",
       "    <tr>\n",
       "      <td>25%</td>\n",
       "      <td>76.920993</td>\n",
       "      <td>50.629127</td>\n",
       "    </tr>\n",
       "    <tr>\n",
       "      <td>50%</td>\n",
       "      <td>149.881171</td>\n",
       "      <td>103.814686</td>\n",
       "    </tr>\n",
       "    <tr>\n",
       "      <td>75%</td>\n",
       "      <td>224.448274</td>\n",
       "      <td>165.616858</td>\n",
       "    </tr>\n",
       "    <tr>\n",
       "      <td>max</td>\n",
       "      <td>552.590740</td>\n",
       "      <td>425.535220</td>\n",
       "    </tr>\n",
       "    <tr>\n",
       "      <td rowspan=\"8\" valign=\"top\">month_to_end_contract</td>\n",
       "      <td>count</td>\n",
       "      <td>2939.000000</td>\n",
       "      <td>1061.000000</td>\n",
       "    </tr>\n",
       "    <tr>\n",
       "      <td>mean</td>\n",
       "      <td>5.283089</td>\n",
       "      <td>1.662582</td>\n",
       "    </tr>\n",
       "    <tr>\n",
       "      <td>std</td>\n",
       "      <td>4.363522</td>\n",
       "      <td>1.964593</td>\n",
       "    </tr>\n",
       "    <tr>\n",
       "      <td>min</td>\n",
       "      <td>1.000000</td>\n",
       "      <td>1.000000</td>\n",
       "    </tr>\n",
       "    <tr>\n",
       "      <td>25%</td>\n",
       "      <td>1.000000</td>\n",
       "      <td>1.000000</td>\n",
       "    </tr>\n",
       "    <tr>\n",
       "      <td>50%</td>\n",
       "      <td>6.000000</td>\n",
       "      <td>1.000000</td>\n",
       "    </tr>\n",
       "    <tr>\n",
       "      <td>75%</td>\n",
       "      <td>10.000000</td>\n",
       "      <td>1.000000</td>\n",
       "    </tr>\n",
       "    <tr>\n",
       "      <td>max</td>\n",
       "      <td>12.000000</td>\n",
       "      <td>12.000000</td>\n",
       "    </tr>\n",
       "    <tr>\n",
       "      <td rowspan=\"8\" valign=\"top\">lifetime</td>\n",
       "      <td>count</td>\n",
       "      <td>2939.000000</td>\n",
       "      <td>1061.000000</td>\n",
       "    </tr>\n",
       "    <tr>\n",
       "      <td>mean</td>\n",
       "      <td>4.711807</td>\n",
       "      <td>0.990575</td>\n",
       "    </tr>\n",
       "    <tr>\n",
       "      <td>std</td>\n",
       "      <td>3.874780</td>\n",
       "      <td>1.110799</td>\n",
       "    </tr>\n",
       "    <tr>\n",
       "      <td>min</td>\n",
       "      <td>0.000000</td>\n",
       "      <td>0.000000</td>\n",
       "    </tr>\n",
       "    <tr>\n",
       "      <td>25%</td>\n",
       "      <td>2.000000</td>\n",
       "      <td>0.000000</td>\n",
       "    </tr>\n",
       "    <tr>\n",
       "      <td>50%</td>\n",
       "      <td>4.000000</td>\n",
       "      <td>1.000000</td>\n",
       "    </tr>\n",
       "    <tr>\n",
       "      <td>75%</td>\n",
       "      <td>6.000000</td>\n",
       "      <td>1.000000</td>\n",
       "    </tr>\n",
       "    <tr>\n",
       "      <td>max</td>\n",
       "      <td>31.000000</td>\n",
       "      <td>9.000000</td>\n",
       "    </tr>\n",
       "    <tr>\n",
       "      <td rowspan=\"8\" valign=\"top\">avg_class_frequency_total</td>\n",
       "      <td>count</td>\n",
       "      <td>2939.000000</td>\n",
       "      <td>1061.000000</td>\n",
       "    </tr>\n",
       "    <tr>\n",
       "      <td>mean</td>\n",
       "      <td>2.024876</td>\n",
       "      <td>1.474995</td>\n",
       "    </tr>\n",
       "    <tr>\n",
       "      <td>std</td>\n",
       "      <td>1.016006</td>\n",
       "      <td>0.694705</td>\n",
       "    </tr>\n",
       "    <tr>\n",
       "      <td>min</td>\n",
       "      <td>0.000000</td>\n",
       "      <td>0.000000</td>\n",
       "    </tr>\n",
       "    <tr>\n",
       "      <td>25%</td>\n",
       "      <td>1.283137</td>\n",
       "      <td>1.010771</td>\n",
       "    </tr>\n",
       "    <tr>\n",
       "      <td>50%</td>\n",
       "      <td>2.043252</td>\n",
       "      <td>1.491187</td>\n",
       "    </tr>\n",
       "    <tr>\n",
       "      <td>75%</td>\n",
       "      <td>2.732944</td>\n",
       "      <td>1.956438</td>\n",
       "    </tr>\n",
       "    <tr>\n",
       "      <td>max</td>\n",
       "      <td>6.023668</td>\n",
       "      <td>3.478646</td>\n",
       "    </tr>\n",
       "    <tr>\n",
       "      <td rowspan=\"8\" valign=\"top\">avg_class_frequency_current_month</td>\n",
       "      <td>count</td>\n",
       "      <td>2939.000000</td>\n",
       "      <td>1061.000000</td>\n",
       "    </tr>\n",
       "    <tr>\n",
       "      <td>mean</td>\n",
       "      <td>2.027882</td>\n",
       "      <td>1.044546</td>\n",
       "    </tr>\n",
       "    <tr>\n",
       "      <td>std</td>\n",
       "      <td>1.018994</td>\n",
       "      <td>0.770237</td>\n",
       "    </tr>\n",
       "    <tr>\n",
       "      <td>min</td>\n",
       "      <td>0.000000</td>\n",
       "      <td>0.000000</td>\n",
       "    </tr>\n",
       "    <tr>\n",
       "      <td>25%</td>\n",
       "      <td>1.297021</td>\n",
       "      <td>0.421337</td>\n",
       "    </tr>\n",
       "    <tr>\n",
       "      <td>50%</td>\n",
       "      <td>2.046697</td>\n",
       "      <td>0.979445</td>\n",
       "    </tr>\n",
       "    <tr>\n",
       "      <td>75%</td>\n",
       "      <td>2.740648</td>\n",
       "      <td>1.588576</td>\n",
       "    </tr>\n",
       "    <tr>\n",
       "      <td>max</td>\n",
       "      <td>6.146783</td>\n",
       "      <td>3.540271</td>\n",
       "    </tr>\n",
       "  </tbody>\n",
       "</table>\n",
       "</div>"
      ],
      "text/plain": [
       "churn                                              0            1\n",
       "gender                            count  2939.000000  1061.000000\n",
       "                                  mean      0.510037     0.510839\n",
       "                                  std       0.499984     0.500118\n",
       "                                  min       0.000000     0.000000\n",
       "                                  25%       0.000000     0.000000\n",
       "                                  50%       1.000000     1.000000\n",
       "                                  75%       1.000000     1.000000\n",
       "                                  max       1.000000     1.000000\n",
       "near_location                     count  2939.000000  1061.000000\n",
       "                                  mean      0.873086     0.768143\n",
       "                                  std       0.332933     0.422217\n",
       "                                  min       0.000000     0.000000\n",
       "                                  25%       1.000000     1.000000\n",
       "                                  50%       1.000000     1.000000\n",
       "                                  75%       1.000000     1.000000\n",
       "                                  max       1.000000     1.000000\n",
       "partner                           count  2939.000000  1061.000000\n",
       "                                  mean      0.534195     0.355325\n",
       "                                  std       0.498914     0.478837\n",
       "                                  min       0.000000     0.000000\n",
       "                                  25%       0.000000     0.000000\n",
       "                                  50%       1.000000     0.000000\n",
       "                                  75%       1.000000     1.000000\n",
       "                                  max       1.000000     1.000000\n",
       "promo_friends                     count  2939.000000  1061.000000\n",
       "                                  mean      0.353522     0.183789\n",
       "                                  std       0.478144     0.387495\n",
       "                                  min       0.000000     0.000000\n",
       "                                  25%       0.000000     0.000000\n",
       "                                  50%       0.000000     0.000000\n",
       "                                  75%       1.000000     0.000000\n",
       "                                  max       1.000000     1.000000\n",
       "phone                             count  2939.000000  1061.000000\n",
       "                                  mean      0.903709     0.902922\n",
       "                                  std       0.295040     0.296204\n",
       "                                  min       0.000000     0.000000\n",
       "                                  25%       1.000000     1.000000\n",
       "                                  50%       1.000000     1.000000\n",
       "                                  75%       1.000000     1.000000\n",
       "                                  max       1.000000     1.000000\n",
       "contract_period                   count  2939.000000  1061.000000\n",
       "                                  mean      5.747193     1.728558\n",
       "                                  std       4.716942     2.132371\n",
       "                                  min       1.000000     1.000000\n",
       "                                  25%       1.000000     1.000000\n",
       "                                  50%       6.000000     1.000000\n",
       "                                  75%      12.000000     1.000000\n",
       "                                  max      12.000000    12.000000\n",
       "group_visits                      count  2939.000000  1061.000000\n",
       "                                  mean      0.464103     0.268615\n",
       "                                  std       0.498795     0.443448\n",
       "                                  min       0.000000     0.000000\n",
       "                                  25%       0.000000     0.000000\n",
       "                                  50%       0.000000     0.000000\n",
       "                                  75%       1.000000     1.000000\n",
       "                                  max       1.000000     1.000000\n",
       "age                               count  2939.000000  1061.000000\n",
       "                                  mean     29.976523    26.989632\n",
       "                                  std       3.009933     2.895163\n",
       "                                  min      19.000000    18.000000\n",
       "                                  25%      28.000000    25.000000\n",
       "                                  50%      30.000000    27.000000\n",
       "                                  75%      32.000000    29.000000\n",
       "                                  max      41.000000    38.000000\n",
       "avg_additional_charges_total      count  2939.000000  1061.000000\n",
       "                                  mean    158.445715   115.082899\n",
       "                                  std      99.801599    77.696419\n",
       "                                  min       0.171862     0.148205\n",
       "                                  25%      76.920993    50.629127\n",
       "                                  50%     149.881171   103.814686\n",
       "                                  75%     224.448274   165.616858\n",
       "                                  max     552.590740   425.535220\n",
       "month_to_end_contract             count  2939.000000  1061.000000\n",
       "                                  mean      5.283089     1.662582\n",
       "                                  std       4.363522     1.964593\n",
       "                                  min       1.000000     1.000000\n",
       "                                  25%       1.000000     1.000000\n",
       "                                  50%       6.000000     1.000000\n",
       "                                  75%      10.000000     1.000000\n",
       "                                  max      12.000000    12.000000\n",
       "lifetime                          count  2939.000000  1061.000000\n",
       "                                  mean      4.711807     0.990575\n",
       "                                  std       3.874780     1.110799\n",
       "                                  min       0.000000     0.000000\n",
       "                                  25%       2.000000     0.000000\n",
       "                                  50%       4.000000     1.000000\n",
       "                                  75%       6.000000     1.000000\n",
       "                                  max      31.000000     9.000000\n",
       "avg_class_frequency_total         count  2939.000000  1061.000000\n",
       "                                  mean      2.024876     1.474995\n",
       "                                  std       1.016006     0.694705\n",
       "                                  min       0.000000     0.000000\n",
       "                                  25%       1.283137     1.010771\n",
       "                                  50%       2.043252     1.491187\n",
       "                                  75%       2.732944     1.956438\n",
       "                                  max       6.023668     3.478646\n",
       "avg_class_frequency_current_month count  2939.000000  1061.000000\n",
       "                                  mean      2.027882     1.044546\n",
       "                                  std       1.018994     0.770237\n",
       "                                  min       0.000000     0.000000\n",
       "                                  25%       1.297021     0.421337\n",
       "                                  50%       2.046697     0.979445\n",
       "                                  75%       2.740648     1.588576\n",
       "                                  max       6.146783     3.540271"
      ]
     },
     "execution_count": 14,
     "metadata": {},
     "output_type": "execute_result"
    }
   ],
   "source": [
    "pd.set_option(\"display.max_rows\", 105, \"display.max_columns\", 20)\n",
    "df.groupby('churn').describe().transpose()"
   ]
  },
  {
   "cell_type": "markdown",
   "metadata": {},
   "source": [
    "It is a very intersting question. \n",
    "\n",
    "We can claim, that the customers, who cancel/not renewed their contract their contracts: \n",
    "\n",
    "- are equally men and women (0.5100370.510839) (_hereinafter the first number describes mean value of customers, who continue exercising, the second one - the mean value of customers who cancel/not renewed their contracts_)\n",
    "- more often does not live or work near a club (0.873086\t0.768143)\n",
    "- less often  originally signed up as an employee of a parner company (0.534195\t 0.355325)\n",
    "- less often originally signed up through a referal programm (0.353522\t0.183789)\n",
    "- equally often provided their phone number as customers, who continue exercising (0.903709\t0.902922)\n",
    "- mostly have short-term one-month long contracts (5.747193\t1.728558)\n",
    "- less often took part in the group sessions (0.464103\t0.268615)\n",
    "- are in average 3 years younger (29.976523\t26.989632)\n",
    "- spent less for additional services (158.445715\t115.082899)\n",
    "- as we've noticed above, have the short-term one month long contracts (4.711807\t0.990575)\n",
    "- showes up in the club in average around 1,5 times per month only (2.024876\t1.474995)\n",
    "- or even less (~1 time) during their last month (2.027882\t1.044546)"
   ]
  },
  {
   "cell_type": "markdown",
   "metadata": {},
   "source": [
    "After this analysis we are not sure if we need to build a machine learning model to answer the main projects questions (how to predict the probability of churn, draw up typical user portrait, analyze the factors that impact churn most etc.)\n",
    "But it'd be also interesting to compare our analys and AI output.  :-) "
   ]
  },
  {
   "cell_type": "markdown",
   "metadata": {},
   "source": [
    "__Plot bar histograms and feature distributions for those who left (churn) and those who stayed.__"
   ]
  },
  {
   "cell_type": "code",
   "execution_count": 15,
   "metadata": {},
   "outputs": [
    {
     "data": {
      "text/html": [
       "<div>\n",
       "<style scoped>\n",
       "    .dataframe tbody tr th:only-of-type {\n",
       "        vertical-align: middle;\n",
       "    }\n",
       "\n",
       "    .dataframe tbody tr th {\n",
       "        vertical-align: top;\n",
       "    }\n",
       "\n",
       "    .dataframe thead th {\n",
       "        text-align: right;\n",
       "    }\n",
       "</style>\n",
       "<table border=\"1\" class=\"dataframe\">\n",
       "  <thead>\n",
       "    <tr style=\"text-align: right;\">\n",
       "      <th></th>\n",
       "      <th>index</th>\n",
       "      <th>churn</th>\n",
       "      <th>gender</th>\n",
       "      <th>near_location</th>\n",
       "      <th>partner</th>\n",
       "      <th>promo_friends</th>\n",
       "      <th>phone</th>\n",
       "      <th>contract_period</th>\n",
       "      <th>group_visits</th>\n",
       "      <th>age</th>\n",
       "      <th>avg_additional_charges_total</th>\n",
       "      <th>month_to_end_contract</th>\n",
       "      <th>lifetime</th>\n",
       "      <th>avg_class_frequency_total</th>\n",
       "      <th>avg_class_frequency_current_month</th>\n",
       "    </tr>\n",
       "  </thead>\n",
       "  <tbody>\n",
       "    <tr>\n",
       "      <td>0</td>\n",
       "      <td>0</td>\n",
       "      <td>0</td>\n",
       "      <td>0.510037</td>\n",
       "      <td>0.873086</td>\n",
       "      <td>0.534195</td>\n",
       "      <td>0.353522</td>\n",
       "      <td>0.903709</td>\n",
       "      <td>5.747193</td>\n",
       "      <td>0.464103</td>\n",
       "      <td>29.976523</td>\n",
       "      <td>158.445715</td>\n",
       "      <td>5.283089</td>\n",
       "      <td>4.711807</td>\n",
       "      <td>2.024876</td>\n",
       "      <td>2.027882</td>\n",
       "    </tr>\n",
       "    <tr>\n",
       "      <td>1</td>\n",
       "      <td>1</td>\n",
       "      <td>1</td>\n",
       "      <td>0.510839</td>\n",
       "      <td>0.768143</td>\n",
       "      <td>0.355325</td>\n",
       "      <td>0.183789</td>\n",
       "      <td>0.902922</td>\n",
       "      <td>1.728558</td>\n",
       "      <td>0.268615</td>\n",
       "      <td>26.989632</td>\n",
       "      <td>115.082899</td>\n",
       "      <td>1.662582</td>\n",
       "      <td>0.990575</td>\n",
       "      <td>1.474995</td>\n",
       "      <td>1.044546</td>\n",
       "    </tr>\n",
       "  </tbody>\n",
       "</table>\n",
       "</div>"
      ],
      "text/plain": [
       "   index  churn    gender  near_location   partner  promo_friends     phone  \\\n",
       "0      0      0  0.510037       0.873086  0.534195       0.353522  0.903709   \n",
       "1      1      1  0.510839       0.768143  0.355325       0.183789  0.902922   \n",
       "\n",
       "   contract_period  group_visits        age  avg_additional_charges_total  \\\n",
       "0         5.747193      0.464103  29.976523                    158.445715   \n",
       "1         1.728558      0.268615  26.989632                    115.082899   \n",
       "\n",
       "   month_to_end_contract  lifetime  avg_class_frequency_total  \\\n",
       "0               5.283089  4.711807                   2.024876   \n",
       "1               1.662582  0.990575                   1.474995   \n",
       "\n",
       "   avg_class_frequency_current_month  \n",
       "0                           2.027882  \n",
       "1                           1.044546  "
      ]
     },
     "execution_count": 15,
     "metadata": {},
     "output_type": "execute_result"
    }
   ],
   "source": [
    "by_churn = df.groupby('churn', as_index=False).mean()\n",
    "by_churn.reset_index()"
   ]
  },
  {
   "cell_type": "markdown",
   "metadata": {},
   "source": [
    "The task is not absolutly clear formulated. \n",
    "\n",
    "We are going to plot separat histograms for binary/non binary columns. (Otherwise it would look very strange if we mix up columns with real life and binary values.)"
   ]
  },
  {
   "cell_type": "code",
   "execution_count": 16,
   "metadata": {},
   "outputs": [
    {
     "data": {
      "text/plain": [
       "7"
      ]
     },
     "execution_count": 16,
     "metadata": {},
     "output_type": "execute_result"
    }
   ],
   "source": [
    "binary = [col for col in df.columns if df[col].nunique() <= 2]\n",
    "len(binary)"
   ]
  },
  {
   "cell_type": "code",
   "execution_count": 17,
   "metadata": {},
   "outputs": [],
   "source": [
    "def modifyChart(ax,\n",
    "                columnLabel,\n",
    "                labelSize,\n",
    "                titleSize=False,\n",
    "                maxs=False,\n",
    "                xLabel='',\n",
    "                yLabel=''):\n",
    "    \"\"\"\n",
    "    Function that takes in graph variables for the purpose of customizing \n",
    "    their default settings (ie. setting label size)\n",
    "    \"\"\"\n",
    "    if titleSize != False:\n",
    "        ax.set_title(columnLabel,\n",
    "                     fontsize=titleSize,\n",
    "                     fontweight='semibold',\n",
    "                     pad=10)\n",
    "    else:\n",
    "        ax.set_title(columnLabel)\n",
    "\n",
    "    # spines\n",
    "    sns.despine()\n",
    "    ax.spines['bottom'].set_color('gray')\n",
    "    ax.spines['left'].set_color('lightgrey')\n",
    "\n",
    "    # labels\n",
    "    ax.set_ylabel(yLabel, labelpad=5, fontsize=16)\n",
    "    ax.set_xlabel(xLabel, labelpad=5, fontsize=16)\n",
    "\n",
    "    # tick settings\n",
    "    ax.tick_params(labelsize=labelSize)\n",
    "    ax.tick_params(axis='both', left=False, bottom=False)\n",
    "    ax.grid(axis='y', alpha=.4)\n",
    "\n",
    "    # if a max value is passed\n",
    "    if maxs:\n",
    "        midCenterQuarter = (ax.get_yticks()[1] - ax.get_yticks()[0]) / 4  # to ensure that the tick labels don't overlap\n",
    "        \n",
    "        ax.set_ylim(0, maxs)  # set the yticks\n",
    "        # keep all except last  tick - ensure that the ticks don't overlap\n",
    "        # add the last tick value\n",
    "        y_ticks = np.append(\n",
    "            [i for i in ax.get_yticks() if i < (maxs - midCenterQuarter)],[maxs])\n",
    "        # set the modified y ticks\n",
    "        ax.set_yticks(y_ticks)"
   ]
  },
  {
   "cell_type": "code",
   "execution_count": 18,
   "metadata": {},
   "outputs": [
    {
     "data": {
      "image/png": "[encoded data removed]",
      "text/plain": [
       "<Figure size 1080x864 with 8 Axes>"
      ]
     },
     "metadata": {
      "needs_background": "light"
     },
     "output_type": "display_data"
    }
   ],
   "source": [
    "fig, ax = plt.subplots(figsize=(15, 12), ncols=2, nrows=4)\n",
    "\n",
    "axes = [(row, col) for row in range(4) for col in range(2)]\n",
    "\n",
    "for col, i in zip(binary, axes):\n",
    "    #unique values and their counts per column (normalized -> %)\n",
    "    toChart = df[col].value_counts(normalize=True)\n",
    "    #bar plot\n",
    "    toChart.plot.bar(ax=ax[i], rot=0, alpha=.6)\n",
    "    #calculate maximum value\n",
    "    maxs = max(df[col].value_counts(normalize=True))\n",
    "    #modify chart\n",
    "    modifyChart(ax[i], col, 12, maxs=maxs)\n",
    "    #set y tick values in % format\n",
    "    ax[i].set_yticklabels(\n",
    "        [\"{}%\".format(int(i * 100)) for i in ax[i].get_yticks()[:]])\n",
    "\n",
    "#turn off the last chart value as it's empty\n",
    "plt.suptitle('Binary Variables',fontsize=25,y=1.03)\n",
    "ax[axes[-1]].axis('off')\n",
    "plt.tight_layout()"
   ]
  },
  {
   "cell_type": "markdown",
   "metadata": {},
   "source": [
    "What we can say about this graphs:\n",
    "\n",
    "- ca. 58% of users take part in group sessions\n",
    "- ca. 84% live or work near the neighborhood\n",
    "- roughly 50% are an employees of a partner company\n",
    "- ca. 1/3 signed up through a \"bring a friend\" referal offer\n",
    "- churn rate ca. 25% as mentioned above seems to be really high\n",
    "\n",
    "\n",
    "In addition, it looks like the phone variable will not be needed given it's overwhelming 1 relative value as well as it's low relevancy to the target variable.\n",
    "\n",
    "We'll tolerate the location variables as it has > 15% of values placed in the least common unique value and might provided some useful info (it's expected that the closer the gym location, the less the churn rate)."
   ]
  },
  {
   "cell_type": "code",
   "execution_count": 19,
   "metadata": {},
   "outputs": [],
   "source": [
    "df.drop(columns='phone',inplace=True)"
   ]
  },
  {
   "cell_type": "markdown",
   "metadata": {},
   "source": [
    "And now we are going to visualize the non-binary variables using a distribution plot."
   ]
  },
  {
   "cell_type": "code",
   "execution_count": 20,
   "metadata": {},
   "outputs": [
    {
     "data": {
      "text/plain": [
       "7"
      ]
     },
     "execution_count": 20,
     "metadata": {},
     "output_type": "execute_result"
    }
   ],
   "source": [
    "nonBinary = [col for col in df.columns if df[col].nunique() > 2]\n",
    "len(nonBinary)"
   ]
  },
  {
   "cell_type": "code",
   "execution_count": 21,
   "metadata": {},
   "outputs": [
    {
     "data": {
      "image/png": "[encoded data removed]",
      "text/plain": [
       "<Figure size 1080x864 with 8 Axes>"
      ]
     },
     "metadata": {
      "needs_background": "light"
     },
     "output_type": "display_data"
    }
   ],
   "source": [
    "fig, ax = plt.subplots(figsize=(15, 12), ncols=2, nrows=4)\n",
    "\n",
    "axes = [(row, col) for row in range(4) for col in range(2)]\n",
    "\n",
    "for col, i in zip(nonBinary, axes):\n",
    "    sns.distplot(df[col], ax=ax[i])\n",
    "    modifyChart(ax[i], col, 12)\n",
    "\n",
    "    ax[i].axvline(df[col].median(), color='blue')\n",
    "    ax[i].axvline(df[col].mean(), color='black')\n",
    "\n",
    "    #referring to axes in order to use the pyplot module\n",
    "    plt.sca(ax[i])\n",
    "    #custom legend\n",
    "    azure_patch = mpatches.Patch(color='blue', label='Median')\n",
    "    orange_patch = mpatches.Patch(color='black', label='Mean')\n",
    "    plt.legend(handles=[azure_patch, orange_patch])\n",
    "plt.suptitle('Non-Binary Variables - Density Plots',fontsize=25,y=1.03)\n",
    "plt.tight_layout()\n",
    "ax[axes[-1]].axis('off');"
   ]
  },
  {
   "cell_type": "markdown",
   "metadata": {},
   "source": [
    "Here we start seeing some interesting patterns. \n",
    "\n",
    "- a lot of customers are new customers: ca. the half of users are less then 4 month with the company (!)\n",
    "- only very few users (ca. 10%) are customers for 1 year or more\n",
    "- most of the users (over 80%) have one-month contract (seems to be pretty unusual for western countries)\n",
    "- number of average weekly visits is very low (around 2 per week!)"
   ]
  },
  {
   "cell_type": "markdown",
   "metadata": {},
   "source": [
    "Let's compare Churn vs No Churn Variables. "
   ]
  },
  {
   "cell_type": "code",
   "execution_count": 22,
   "metadata": {},
   "outputs": [
    {
     "name": "stdout",
     "output_type": "stream",
     "text": [
      "12\n",
      "Int64Index([0, 1], dtype='int64', name='churn')\n"
     ]
    }
   ],
   "source": [
    "toChart = df.groupby(\"churn\").mean()\n",
    "\n",
    "#how many columns and unique values\n",
    "print(len(toChart.columns))\n",
    "print(toChart.index)"
   ]
  },
  {
   "cell_type": "code",
   "execution_count": 23,
   "metadata": {},
   "outputs": [
    {
     "data": {
      "text/html": [
       "<div>\n",
       "<style scoped>\n",
       "    .dataframe tbody tr th:only-of-type {\n",
       "        vertical-align: middle;\n",
       "    }\n",
       "\n",
       "    .dataframe tbody tr th {\n",
       "        vertical-align: top;\n",
       "    }\n",
       "\n",
       "    .dataframe thead th {\n",
       "        text-align: right;\n",
       "    }\n",
       "</style>\n",
       "<table border=\"1\" class=\"dataframe\">\n",
       "  <thead>\n",
       "    <tr style=\"text-align: right;\">\n",
       "      <th></th>\n",
       "      <th>gender</th>\n",
       "      <th>near_location</th>\n",
       "      <th>partner</th>\n",
       "      <th>promo_friends</th>\n",
       "      <th>contract_period</th>\n",
       "      <th>group_visits</th>\n",
       "      <th>age</th>\n",
       "      <th>avg_additional_charges_total</th>\n",
       "      <th>month_to_end_contract</th>\n",
       "      <th>lifetime</th>\n",
       "      <th>avg_class_frequency_total</th>\n",
       "      <th>avg_class_frequency_current_month</th>\n",
       "    </tr>\n",
       "    <tr>\n",
       "      <th>churn</th>\n",
       "      <th></th>\n",
       "      <th></th>\n",
       "      <th></th>\n",
       "      <th></th>\n",
       "      <th></th>\n",
       "      <th></th>\n",
       "      <th></th>\n",
       "      <th></th>\n",
       "      <th></th>\n",
       "      <th></th>\n",
       "      <th></th>\n",
       "      <th></th>\n",
       "    </tr>\n",
       "  </thead>\n",
       "  <tbody>\n",
       "    <tr>\n",
       "      <td>No Churn</td>\n",
       "      <td>0.510037</td>\n",
       "      <td>0.873086</td>\n",
       "      <td>0.534195</td>\n",
       "      <td>0.353522</td>\n",
       "      <td>5.747193</td>\n",
       "      <td>0.464103</td>\n",
       "      <td>29.976523</td>\n",
       "      <td>158.445715</td>\n",
       "      <td>5.283089</td>\n",
       "      <td>4.711807</td>\n",
       "      <td>2.024876</td>\n",
       "      <td>2.027882</td>\n",
       "    </tr>\n",
       "    <tr>\n",
       "      <td>Churn</td>\n",
       "      <td>0.510839</td>\n",
       "      <td>0.768143</td>\n",
       "      <td>0.355325</td>\n",
       "      <td>0.183789</td>\n",
       "      <td>1.728558</td>\n",
       "      <td>0.268615</td>\n",
       "      <td>26.989632</td>\n",
       "      <td>115.082899</td>\n",
       "      <td>1.662582</td>\n",
       "      <td>0.990575</td>\n",
       "      <td>1.474995</td>\n",
       "      <td>1.044546</td>\n",
       "    </tr>\n",
       "  </tbody>\n",
       "</table>\n",
       "</div>"
      ],
      "text/plain": [
       "            gender  near_location   partner  promo_friends  contract_period  \\\n",
       "churn                                                                         \n",
       "No Churn  0.510037       0.873086  0.534195       0.353522         5.747193   \n",
       "Churn     0.510839       0.768143  0.355325       0.183789         1.728558   \n",
       "\n",
       "          group_visits        age  avg_additional_charges_total  \\\n",
       "churn                                                             \n",
       "No Churn      0.464103  29.976523                    158.445715   \n",
       "Churn         0.268615  26.989632                    115.082899   \n",
       "\n",
       "          month_to_end_contract  lifetime  avg_class_frequency_total  \\\n",
       "churn                                                                  \n",
       "No Churn               5.283089  4.711807                   2.024876   \n",
       "Churn                  1.662582  0.990575                   1.474995   \n",
       "\n",
       "          avg_class_frequency_current_month  \n",
       "churn                                        \n",
       "No Churn                           2.027882  \n",
       "Churn                              1.044546  "
      ]
     },
     "execution_count": 23,
     "metadata": {},
     "output_type": "execute_result"
    }
   ],
   "source": [
    "toChart = toChart.rename(index={0:'No Churn',1:\"Churn\"})\n",
    "toChart"
   ]
  },
  {
   "cell_type": "code",
   "execution_count": 24,
   "metadata": {},
   "outputs": [
    {
     "data": {
      "image/png": "[encoded data removed]",
      "text/plain": [
       "<Figure size 1080x864 with 12 Axes>"
      ]
     },
     "metadata": {
      "needs_background": "light"
     },
     "output_type": "display_data"
    }
   ],
   "source": [
    "fig, ax = plt.subplots(figsize=(15, 12), ncols=3, nrows=4)\n",
    "axes = [(row, col) for row in range(4) for col in range(3)]\n",
    "\n",
    "for col, i in zip(toChart.columns, axes):\n",
    "    toChart[col].plot.bar(ax=ax[i], rot=0, alpha=.6)\n",
    "\n",
    "    maxs = max(toChart[col])\n",
    "    modifyChart(ax[i], col, 12, maxs=maxs)\n",
    "\n",
    "    ax[i].set_yticklabels([\"{:.1f}\".format(i) for i in ax[i].get_yticks()])\n",
    "\n",
    "plt.suptitle(\"Mean Feature Values - Churn and Not Churn\", fontsize=20, y=1.03)\n",
    "plt.tight_layout()"
   ]
  },
  {
   "cell_type": "markdown",
   "metadata": {},
   "source": [
    "Compared to no churn users, customers who cancel theit contracts:\n",
    "\n",
    "- are less likely to be an employee from a partner company\n",
    "- are less likely to enroll through a promotions program\n",
    "- has a short-time contract\n",
    "- are less likely to come to group visits\n",
    "- spend less in additional charges\n",
    "- visit the club rearly(in average 1-1.5 visits per month only)"
   ]
  },
  {
   "cell_type": "markdown",
   "metadata": {},
   "source": [
    "__Build a correlation matrix and display it.__"
   ]
  },
  {
   "cell_type": "markdown",
   "metadata": {},
   "source": [
    "Let's build a correlation matrix and plot the distribution graphs. "
   ]
  },
  {
   "cell_type": "code",
   "execution_count": 25,
   "metadata": {},
   "outputs": [
    {
     "data": {
      "text/html": [
       "<div>\n",
       "<style scoped>\n",
       "    .dataframe tbody tr th:only-of-type {\n",
       "        vertical-align: middle;\n",
       "    }\n",
       "\n",
       "    .dataframe tbody tr th {\n",
       "        vertical-align: top;\n",
       "    }\n",
       "\n",
       "    .dataframe thead th {\n",
       "        text-align: right;\n",
       "    }\n",
       "</style>\n",
       "<table border=\"1\" class=\"dataframe\">\n",
       "  <thead>\n",
       "    <tr style=\"text-align: right;\">\n",
       "      <th></th>\n",
       "      <th>gender</th>\n",
       "      <th>near_location</th>\n",
       "      <th>partner</th>\n",
       "      <th>promo_friends</th>\n",
       "      <th>contract_period</th>\n",
       "      <th>group_visits</th>\n",
       "      <th>age</th>\n",
       "      <th>avg_additional_charges_total</th>\n",
       "      <th>month_to_end_contract</th>\n",
       "      <th>lifetime</th>\n",
       "      <th>avg_class_frequency_total</th>\n",
       "      <th>avg_class_frequency_current_month</th>\n",
       "      <th>churn</th>\n",
       "    </tr>\n",
       "  </thead>\n",
       "  <tbody>\n",
       "    <tr>\n",
       "      <td>gender</td>\n",
       "      <td>1.000000</td>\n",
       "      <td>0.006699</td>\n",
       "      <td>-0.010463</td>\n",
       "      <td>-0.005033</td>\n",
       "      <td>0.000502</td>\n",
       "      <td>0.017879</td>\n",
       "      <td>0.013807</td>\n",
       "      <td>-0.009334</td>\n",
       "      <td>-0.001281</td>\n",
       "      <td>0.013579</td>\n",
       "      <td>0.014620</td>\n",
       "      <td>0.009156</td>\n",
       "      <td>0.000708</td>\n",
       "    </tr>\n",
       "    <tr>\n",
       "      <td>near_location</td>\n",
       "      <td>0.006699</td>\n",
       "      <td>1.000000</td>\n",
       "      <td>-0.005119</td>\n",
       "      <td>0.210964</td>\n",
       "      <td>0.150233</td>\n",
       "      <td>0.154728</td>\n",
       "      <td>0.058358</td>\n",
       "      <td>0.040761</td>\n",
       "      <td>0.143961</td>\n",
       "      <td>0.070921</td>\n",
       "      <td>0.043127</td>\n",
       "      <td>0.062664</td>\n",
       "      <td>-0.128098</td>\n",
       "    </tr>\n",
       "    <tr>\n",
       "      <td>partner</td>\n",
       "      <td>-0.010463</td>\n",
       "      <td>-0.005119</td>\n",
       "      <td>1.000000</td>\n",
       "      <td>0.451960</td>\n",
       "      <td>0.306166</td>\n",
       "      <td>0.022710</td>\n",
       "      <td>0.047480</td>\n",
       "      <td>0.022941</td>\n",
       "      <td>0.294632</td>\n",
       "      <td>0.061229</td>\n",
       "      <td>0.024938</td>\n",
       "      <td>0.045561</td>\n",
       "      <td>-0.157986</td>\n",
       "    </tr>\n",
       "    <tr>\n",
       "      <td>promo_friends</td>\n",
       "      <td>-0.005033</td>\n",
       "      <td>0.210964</td>\n",
       "      <td>0.451960</td>\n",
       "      <td>1.000000</td>\n",
       "      <td>0.244552</td>\n",
       "      <td>0.120170</td>\n",
       "      <td>0.050113</td>\n",
       "      <td>0.036898</td>\n",
       "      <td>0.239553</td>\n",
       "      <td>0.072721</td>\n",
       "      <td>0.028063</td>\n",
       "      <td>0.053768</td>\n",
       "      <td>-0.162233</td>\n",
       "    </tr>\n",
       "    <tr>\n",
       "      <td>contract_period</td>\n",
       "      <td>0.000502</td>\n",
       "      <td>0.150233</td>\n",
       "      <td>0.306166</td>\n",
       "      <td>0.244552</td>\n",
       "      <td>1.000000</td>\n",
       "      <td>0.169991</td>\n",
       "      <td>0.138249</td>\n",
       "      <td>0.111445</td>\n",
       "      <td>0.973064</td>\n",
       "      <td>0.170725</td>\n",
       "      <td>0.096211</td>\n",
       "      <td>0.159407</td>\n",
       "      <td>-0.389984</td>\n",
       "    </tr>\n",
       "    <tr>\n",
       "      <td>group_visits</td>\n",
       "      <td>0.017879</td>\n",
       "      <td>0.154728</td>\n",
       "      <td>0.022710</td>\n",
       "      <td>0.120170</td>\n",
       "      <td>0.169991</td>\n",
       "      <td>1.000000</td>\n",
       "      <td>0.080934</td>\n",
       "      <td>0.032079</td>\n",
       "      <td>0.163703</td>\n",
       "      <td>0.075853</td>\n",
       "      <td>0.056695</td>\n",
       "      <td>0.075923</td>\n",
       "      <td>-0.175325</td>\n",
       "    </tr>\n",
       "    <tr>\n",
       "      <td>age</td>\n",
       "      <td>0.013807</td>\n",
       "      <td>0.058358</td>\n",
       "      <td>0.047480</td>\n",
       "      <td>0.050113</td>\n",
       "      <td>0.138249</td>\n",
       "      <td>0.080934</td>\n",
       "      <td>1.000000</td>\n",
       "      <td>0.080240</td>\n",
       "      <td>0.134511</td>\n",
       "      <td>0.164693</td>\n",
       "      <td>0.119953</td>\n",
       "      <td>0.183095</td>\n",
       "      <td>-0.404735</td>\n",
       "    </tr>\n",
       "    <tr>\n",
       "      <td>avg_additional_charges_total</td>\n",
       "      <td>-0.009334</td>\n",
       "      <td>0.040761</td>\n",
       "      <td>0.022941</td>\n",
       "      <td>0.036898</td>\n",
       "      <td>0.111445</td>\n",
       "      <td>0.032079</td>\n",
       "      <td>0.080240</td>\n",
       "      <td>1.000000</td>\n",
       "      <td>0.113958</td>\n",
       "      <td>0.079028</td>\n",
       "      <td>0.044426</td>\n",
       "      <td>0.079570</td>\n",
       "      <td>-0.198697</td>\n",
       "    </tr>\n",
       "    <tr>\n",
       "      <td>month_to_end_contract</td>\n",
       "      <td>-0.001281</td>\n",
       "      <td>0.143961</td>\n",
       "      <td>0.294632</td>\n",
       "      <td>0.239553</td>\n",
       "      <td>0.973064</td>\n",
       "      <td>0.163703</td>\n",
       "      <td>0.134511</td>\n",
       "      <td>0.113958</td>\n",
       "      <td>1.000000</td>\n",
       "      <td>0.161078</td>\n",
       "      <td>0.085387</td>\n",
       "      <td>0.147605</td>\n",
       "      <td>-0.381393</td>\n",
       "    </tr>\n",
       "    <tr>\n",
       "      <td>lifetime</td>\n",
       "      <td>0.013579</td>\n",
       "      <td>0.070921</td>\n",
       "      <td>0.061229</td>\n",
       "      <td>0.072721</td>\n",
       "      <td>0.170725</td>\n",
       "      <td>0.075853</td>\n",
       "      <td>0.164693</td>\n",
       "      <td>0.079028</td>\n",
       "      <td>0.161078</td>\n",
       "      <td>1.000000</td>\n",
       "      <td>0.112338</td>\n",
       "      <td>0.181975</td>\n",
       "      <td>-0.438220</td>\n",
       "    </tr>\n",
       "    <tr>\n",
       "      <td>avg_class_frequency_total</td>\n",
       "      <td>0.014620</td>\n",
       "      <td>0.043127</td>\n",
       "      <td>0.024938</td>\n",
       "      <td>0.028063</td>\n",
       "      <td>0.096211</td>\n",
       "      <td>0.056695</td>\n",
       "      <td>0.119953</td>\n",
       "      <td>0.044426</td>\n",
       "      <td>0.085387</td>\n",
       "      <td>0.112338</td>\n",
       "      <td>1.000000</td>\n",
       "      <td>0.952739</td>\n",
       "      <td>-0.249715</td>\n",
       "    </tr>\n",
       "    <tr>\n",
       "      <td>avg_class_frequency_current_month</td>\n",
       "      <td>0.009156</td>\n",
       "      <td>0.062664</td>\n",
       "      <td>0.045561</td>\n",
       "      <td>0.053768</td>\n",
       "      <td>0.159407</td>\n",
       "      <td>0.075923</td>\n",
       "      <td>0.183095</td>\n",
       "      <td>0.079570</td>\n",
       "      <td>0.147605</td>\n",
       "      <td>0.181975</td>\n",
       "      <td>0.952739</td>\n",
       "      <td>1.000000</td>\n",
       "      <td>-0.412348</td>\n",
       "    </tr>\n",
       "    <tr>\n",
       "      <td>churn</td>\n",
       "      <td>0.000708</td>\n",
       "      <td>-0.128098</td>\n",
       "      <td>-0.157986</td>\n",
       "      <td>-0.162233</td>\n",
       "      <td>-0.389984</td>\n",
       "      <td>-0.175325</td>\n",
       "      <td>-0.404735</td>\n",
       "      <td>-0.198697</td>\n",
       "      <td>-0.381393</td>\n",
       "      <td>-0.438220</td>\n",
       "      <td>-0.249715</td>\n",
       "      <td>-0.412348</td>\n",
       "      <td>1.000000</td>\n",
       "    </tr>\n",
       "  </tbody>\n",
       "</table>\n",
       "</div>"
      ],
      "text/plain": [
       "                                     gender  near_location   partner  \\\n",
       "gender                             1.000000       0.006699 -0.010463   \n",
       "near_location                      0.006699       1.000000 -0.005119   \n",
       "partner                           -0.010463      -0.005119  1.000000   \n",
       "promo_friends                     -0.005033       0.210964  0.451960   \n",
       "contract_period                    0.000502       0.150233  0.306166   \n",
       "group_visits                       0.017879       0.154728  0.022710   \n",
       "age                                0.013807       0.058358  0.047480   \n",
       "avg_additional_charges_total      -0.009334       0.040761  0.022941   \n",
       "month_to_end_contract             -0.001281       0.143961  0.294632   \n",
       "lifetime                           0.013579       0.070921  0.061229   \n",
       "avg_class_frequency_total          0.014620       0.043127  0.024938   \n",
       "avg_class_frequency_current_month  0.009156       0.062664  0.045561   \n",
       "churn                              0.000708      -0.128098 -0.157986   \n",
       "\n",
       "                                   promo_friends  contract_period  \\\n",
       "gender                                 -0.005033         0.000502   \n",
       "near_location                           0.210964         0.150233   \n",
       "partner                                 0.451960         0.306166   \n",
       "promo_friends                           1.000000         0.244552   \n",
       "contract_period                         0.244552         1.000000   \n",
       "group_visits                            0.120170         0.169991   \n",
       "age                                     0.050113         0.138249   \n",
       "avg_additional_charges_total            0.036898         0.111445   \n",
       "month_to_end_contract                   0.239553         0.973064   \n",
       "lifetime                                0.072721         0.170725   \n",
       "avg_class_frequency_total               0.028063         0.096211   \n",
       "avg_class_frequency_current_month       0.053768         0.159407   \n",
       "churn                                  -0.162233        -0.389984   \n",
       "\n",
       "                                   group_visits       age  \\\n",
       "gender                                 0.017879  0.013807   \n",
       "near_location                          0.154728  0.058358   \n",
       "partner                                0.022710  0.047480   \n",
       "promo_friends                          0.120170  0.050113   \n",
       "contract_period                        0.169991  0.138249   \n",
       "group_visits                           1.000000  0.080934   \n",
       "age                                    0.080934  1.000000   \n",
       "avg_additional_charges_total           0.032079  0.080240   \n",
       "month_to_end_contract                  0.163703  0.134511   \n",
       "lifetime                               0.075853  0.164693   \n",
       "avg_class_frequency_total              0.056695  0.119953   \n",
       "avg_class_frequency_current_month      0.075923  0.183095   \n",
       "churn                                 -0.175325 -0.404735   \n",
       "\n",
       "                                   avg_additional_charges_total  \\\n",
       "gender                                                -0.009334   \n",
       "near_location                                          0.040761   \n",
       "partner                                                0.022941   \n",
       "promo_friends                                          0.036898   \n",
       "contract_period                                        0.111445   \n",
       "group_visits                                           0.032079   \n",
       "age                                                    0.080240   \n",
       "avg_additional_charges_total                           1.000000   \n",
       "month_to_end_contract                                  0.113958   \n",
       "lifetime                                               0.079028   \n",
       "avg_class_frequency_total                              0.044426   \n",
       "avg_class_frequency_current_month                      0.079570   \n",
       "churn                                                 -0.198697   \n",
       "\n",
       "                                   month_to_end_contract  lifetime  \\\n",
       "gender                                         -0.001281  0.013579   \n",
       "near_location                                   0.143961  0.070921   \n",
       "partner                                         0.294632  0.061229   \n",
       "promo_friends                                   0.239553  0.072721   \n",
       "contract_period                                 0.973064  0.170725   \n",
       "group_visits                                    0.163703  0.075853   \n",
       "age                                             0.134511  0.164693   \n",
       "avg_additional_charges_total                    0.113958  0.079028   \n",
       "month_to_end_contract                           1.000000  0.161078   \n",
       "lifetime                                        0.161078  1.000000   \n",
       "avg_class_frequency_total                       0.085387  0.112338   \n",
       "avg_class_frequency_current_month               0.147605  0.181975   \n",
       "churn                                          -0.381393 -0.438220   \n",
       "\n",
       "                                   avg_class_frequency_total  \\\n",
       "gender                                              0.014620   \n",
       "near_location                                       0.043127   \n",
       "partner                                             0.024938   \n",
       "promo_friends                                       0.028063   \n",
       "contract_period                                     0.096211   \n",
       "group_visits                                        0.056695   \n",
       "age                                                 0.119953   \n",
       "avg_additional_charges_total                        0.044426   \n",
       "month_to_end_contract                               0.085387   \n",
       "lifetime                                            0.112338   \n",
       "avg_class_frequency_total                           1.000000   \n",
       "avg_class_frequency_current_month                   0.952739   \n",
       "churn                                              -0.249715   \n",
       "\n",
       "                                   avg_class_frequency_current_month     churn  \n",
       "gender                                                      0.009156  0.000708  \n",
       "near_location                                               0.062664 -0.128098  \n",
       "partner                                                     0.045561 -0.157986  \n",
       "promo_friends                                               0.053768 -0.162233  \n",
       "contract_period                                             0.159407 -0.389984  \n",
       "group_visits                                                0.075923 -0.175325  \n",
       "age                                                         0.183095 -0.404735  \n",
       "avg_additional_charges_total                                0.079570 -0.198697  \n",
       "month_to_end_contract                                       0.147605 -0.381393  \n",
       "lifetime                                                    0.181975 -0.438220  \n",
       "avg_class_frequency_total                                   0.952739 -0.249715  \n",
       "avg_class_frequency_current_month                           1.000000 -0.412348  \n",
       "churn                                                      -0.412348  1.000000  "
      ]
     },
     "metadata": {},
     "output_type": "display_data"
    }
   ],
   "source": [
    "corr = df.corr()\n",
    "display(corr)"
   ]
  },
  {
   "cell_type": "code",
   "execution_count": 26,
   "metadata": {},
   "outputs": [
    {
     "data": {
      "image/png": "[encoded data removed]",
      "text/plain": [
       "<Figure size 792x648 with 2 Axes>"
      ]
     },
     "metadata": {},
     "output_type": "display_data"
    }
   ],
   "source": [
    "sns.set_theme(style=\"white\")\n",
    "\n",
    "# Generate a mask for the upper triangle\n",
    "mask = np.triu(np.ones_like(corr, dtype=bool))\n",
    "\n",
    "# Set up the matplotlib figure\n",
    "f, ax = plt.subplots(figsize=(11, 9))\n",
    "\n",
    "# Generate a custom diverging colormap\n",
    "cmap = sns.diverging_palette(230, 20, as_cmap=True)\n",
    "\n",
    "# Draw the heatmap with the mask and correct aspect ratio\n",
    "sns.heatmap(corr, mask=mask, cmap=cmap, vmax=.3, center=0,\n",
    "            square=True, linewidths=.5, cbar_kws={\"shrink\": .5});"
   ]
  },
  {
   "cell_type": "markdown",
   "metadata": {},
   "source": [
    "The matrix and the corresponding heatmap graph show that we have realtiv strong correlation (ca. ±0.4) btw. churn rate and following criterion: \n",
    "\n",
    "- avg_class_frequency_current_month\n",
    "- lifetime\n",
    "- age\n",
    "- month_to_end_contract\n",
    "- contract_period\n",
    "\n",
    "So in summary:\n",
    "\n",
    "- it seems that social factors, months with company (contract and lifetime), being an employee from a partner company and spending more in-store leads are good indicators for an employee churning or not.\n",
    "\n",
    "This data are consistent with the conclusions we formulated earlier. "
   ]
  },
  {
   "cell_type": "markdown",
   "metadata": {},
   "source": [
    "### Step 2. Conclusion\n",
    "<a class=\"anchor\" id=\"step2\"></a>"
   ]
  },
  {
   "cell_type": "markdown",
   "metadata": {},
   "source": [
    "During this small step we checked, if we have any missing values in our dataset, plotted a few graphs and looked into correlation between the parameters in our dataset. \n",
    "\n",
    "Actually we already founded out, what kind of customers is more likely to quit the gym ( it's more likely be customers, who \n",
    "\n",
    "- not live or work near a club \n",
    "- not signed up as an employee of a parner company \n",
    "- not originally signed up through a referal programm\n",
    "- has short-term one- or three-month long contracts \n",
    "- not took part in the group sessions \n",
    "- in average 3 years younger than othe customers\n",
    "- paid less for additional services\n",
    "- showed up in the club in average around 1,5 times per month only \n",
    "- or showed up in the club even less than 1.5 times during their last month) \n",
    "\n",
    "But we want compare this conclusions with the ML prediction we are going to build further. "
   ]
  },
  {
   "cell_type": "markdown",
   "metadata": {},
   "source": [
    "## Step 3: Analyze the data\n",
    "<a class=\"anchor\" id=\"part3\"></a>"
   ]
  },
  {
   "cell_type": "markdown",
   "metadata": {},
   "source": [
    "**Build a binary classification model for customers where the target feature is the user's leaving next month.**\n",
    "\n",
    "**- Divide the data into train and validation sets using the _train_test_split()_ function.**\n",
    "\n",
    "**- Train the model on the train set with two methods:**\n",
    "\n",
    "   **- logistic regression**\n",
    "        \n",
    "   **- random forest**"
   ]
  },
  {
   "cell_type": "markdown",
   "metadata": {},
   "source": [
    "We are going to perform it how we learned it during our theory course. \n",
    "\n",
    "First we divide the data into features (the X matrix) and a target variable (y)."
   ]
  },
  {
   "cell_type": "code",
   "execution_count": 27,
   "metadata": {},
   "outputs": [],
   "source": [
    "X = df.drop('churn', axis = 1)\n",
    "y = df['churn']"
   ]
  },
  {
   "cell_type": "markdown",
   "metadata": {},
   "source": [
    "Second we divide the data into train and test sets"
   ]
  },
  {
   "cell_type": "code",
   "execution_count": 28,
   "metadata": {},
   "outputs": [],
   "source": [
    "X_train, X_test, y_train, y_test = train_test_split(X, y, test_size=0.2, random_state=0)"
   ]
  },
  {
   "cell_type": "markdown",
   "metadata": {},
   "source": [
    "Then we train StandardScaler on the train set. "
   ]
  },
  {
   "cell_type": "code",
   "execution_count": 29,
   "metadata": {},
   "outputs": [
    {
     "data": {
      "text/plain": [
       "StandardScaler(copy=True, with_mean=True, with_std=True)"
      ]
     },
     "execution_count": 29,
     "metadata": {},
     "output_type": "execute_result"
    }
   ],
   "source": [
    "scaler = StandardScaler()\n",
    "scaler.fit(X_train)"
   ]
  },
  {
   "cell_type": "markdown",
   "metadata": {},
   "source": [
    "And standartize/transform train and test sets. "
   ]
  },
  {
   "cell_type": "code",
   "execution_count": 30,
   "metadata": {},
   "outputs": [],
   "source": [
    "X_train_st = scaler.transform(X_train)\n",
    "X_test_st = scaler.transform(X_test)"
   ]
  },
  {
   "cell_type": "markdown",
   "metadata": {},
   "source": [
    "The next steps: define the model's algorithm, train LR model, use the trained model to make forecasts. "
   ]
  },
  {
   "cell_type": "code",
   "execution_count": 31,
   "metadata": {},
   "outputs": [],
   "source": [
    "model_lr = LogisticRegression()\n",
    "\n",
    "model_lr.fit(X_train, y_train)\n",
    "\n",
    "predictions_lr = model_lr.predict(X_test) \n",
    "probabilities_lr = model_lr.predict_proba(X_test) "
   ]
  },
  {
   "cell_type": "markdown",
   "metadata": {},
   "source": [
    "And the same three steps for the 2nd algorithm. "
   ]
  },
  {
   "cell_type": "code",
   "execution_count": 32,
   "metadata": {},
   "outputs": [],
   "source": [
    "model_rf = RandomForestClassifier(n_estimators = 100, random_state = 0)\n",
    "\n",
    "model_rf.fit(X_train_st, y_train)\n",
    "\n",
    "predictions_rf = model_rf.predict(X_test_st)  \n",
    "probabilities_rf = model_rf.predict_proba(X_test_st)[:,1] "
   ]
  },
  {
   "cell_type": "markdown",
   "metadata": {},
   "source": [
    "**Evaluate accuracy, precision, and recall for both models using the validation data. Use them to compare the models. Which model gave better results?**"
   ]
  },
  {
   "cell_type": "markdown",
   "metadata": {},
   "source": [
    "The following function was given us in the theory part. It will also help us to check both models here. "
   ]
  },
  {
   "cell_type": "code",
   "execution_count": 33,
   "metadata": {},
   "outputs": [],
   "source": [
    "def print_all_metrics(y_true, y_pred, y_proba, title = 'Classification metrics'):\n",
    "    print(title)\n",
    "    print('\\tAccuracy: {:.2f}'.format(accuracy_score(y_true, y_pred)))\n",
    "    print('\\tPrecision: {:.2f}'.format(precision_score(y_true, y_pred)))\n",
    "    print('\\tRecall: {:.2f}'.format(recall_score(y_true, y_pred)))\n",
    "    #print('\\tF1: {:.2f}'.format(f1_score(y_true, y_pred)))\n",
    "    #print('\\tROC_AUC: {:.2f}'.format(roc_auc_score(y_true, y_proba)))"
   ]
  },
  {
   "cell_type": "code",
   "execution_count": 34,
   "metadata": {},
   "outputs": [
    {
     "name": "stdout",
     "output_type": "stream",
     "text": [
      "Metrics for logistic regression:\n",
      "\tAccuracy: 0.92\n",
      "\tPrecision: 0.85\n",
      "\tRecall: 0.82\n"
     ]
    }
   ],
   "source": [
    "print_all_metrics(y_test, predictions_lr, probabilities_lr , title='Metrics for logistic regression:')"
   ]
  },
  {
   "cell_type": "code",
   "execution_count": 35,
   "metadata": {},
   "outputs": [
    {
     "name": "stdout",
     "output_type": "stream",
     "text": [
      "Metrics for random forest:\n",
      "\tAccuracy: 0.92\n",
      "\tPrecision: 0.84\n",
      "\tRecall: 0.81\n"
     ]
    }
   ],
   "source": [
    "print_all_metrics(y_test, predictions_rf, probabilities_rf, title = 'Metrics for random forest:')"
   ]
  },
  {
   "cell_type": "markdown",
   "metadata": {},
   "source": [
    "It's a bit complicated to analyze the output since we have very little expirience in the field, but the random forest algorythm seems deliver slightly better results at least in accuracy and precision metrics. "
   ]
  },
  {
   "cell_type": "markdown",
   "metadata": {},
   "source": [
    "### Step 3. Conclusion\n",
    "<a class=\"anchor\" id=\"step32\"></a>"
   ]
  },
  {
   "cell_type": "markdown",
   "metadata": {},
   "source": [
    "During this step we built and trained and validated two binary classifications model. Both showed good results, but in this case the random forest algorythm seemed to deliver slightly better results in accuracy and precision metrics compare to the linear regression. "
   ]
  },
  {
   "cell_type": "markdown",
   "metadata": {},
   "source": [
    "## Step 4. Create user clusters\n",
    "<a class=\"anchor\" id=\"part4\"></a>"
   ]
  },
  {
   "cell_type": "markdown",
   "metadata": {},
   "source": [
    "**Set aside the column with data on churn and identify object (user) clusters:**\n",
    "\n",
    "**- Standardize the data.**"
   ]
  },
  {
   "cell_type": "markdown",
   "metadata": {},
   "source": [
    "We already have valiable X and y, where the whole dataset without _churn_ column and the _churn_ column only saved.\n",
    "\n",
    "Thus we can do the the obligatory standardization of data before passing it to the algorithm. "
   ]
  },
  {
   "cell_type": "code",
   "execution_count": 36,
   "metadata": {},
   "outputs": [],
   "source": [
    "sc = StandardScaler()\n",
    "x_sc = sc.fit_transform(X)"
   ]
  },
  {
   "cell_type": "markdown",
   "metadata": {},
   "source": [
    "**Use the linkage() function to build a matrix of distances based on the standardized feature matrix and plot a dendrogram. Note: rendering the dendrogram may take time! Use the resulting graph to estimate the number of clusters you can single out.**"
   ]
  },
  {
   "cell_type": "code",
   "execution_count": 37,
   "metadata": {},
   "outputs": [],
   "source": [
    "linked = linkage(x_sc, method = 'ward') "
   ]
  },
  {
   "cell_type": "markdown",
   "metadata": {},
   "source": [
    "Caution! Building the following graph can take up to 5-10 minutes! "
   ]
  },
  {
   "cell_type": "code",
   "execution_count": 38,
   "metadata": {},
   "outputs": [
    {
     "data": {
      "image/png": "[encoded data removed]",
      "text/plain": [
       "<Figure size 1080x720 with 1 Axes>"
      ]
     },
     "metadata": {},
     "output_type": "display_data"
    }
   ],
   "source": [
    "plt.figure(figsize=(15, 10))  \n",
    "dendrogram(linked, orientation='top')\n",
    "plt.title('Hierarchical clustering for the Fitness club')\n",
    "plt.show() "
   ]
  },
  {
   "cell_type": "markdown",
   "metadata": {},
   "source": [
    "As mentioned above, it's a bit complicated to analyze the output since we have very little expirience in the field. "
   ]
  },
  {
   "cell_type": "markdown",
   "metadata": {},
   "source": [
    "**Train the clustering model with the K-means algorithm and predict customer clusters. (Let the number of clusters be n=5, so that it'll be easier to compare your results with those of other students. However, in real life, no one will give you such hints, so you'll have to decide based on the graph from the previous step.)**"
   ]
  },
  {
   "cell_type": "markdown",
   "metadata": {},
   "source": [
    "We define the k_means model with 5 clusters and predict the clusters for observations."
   ]
  },
  {
   "cell_type": "code",
   "execution_count": 39,
   "metadata": {},
   "outputs": [],
   "source": [
    "km = KMeans(n_clusters = 5)\n",
    "\n",
    "labels = km.fit_predict(x_sc)"
   ]
  },
  {
   "cell_type": "markdown",
   "metadata": {},
   "source": [
    "**Look at the mean feature values for clusters. Does anything catch your eye?**"
   ]
  },
  {
   "cell_type": "markdown",
   "metadata": {},
   "source": [
    "Let's store cluster labels in the field of our dataset and print the statistics of the mean feature values per cluster. "
   ]
  },
  {
   "cell_type": "code",
   "execution_count": 40,
   "metadata": {},
   "outputs": [
    {
     "data": {
      "text/html": [
       "<div>\n",
       "<style scoped>\n",
       "    .dataframe tbody tr th:only-of-type {\n",
       "        vertical-align: middle;\n",
       "    }\n",
       "\n",
       "    .dataframe tbody tr th {\n",
       "        vertical-align: top;\n",
       "    }\n",
       "\n",
       "    .dataframe thead th {\n",
       "        text-align: right;\n",
       "    }\n",
       "</style>\n",
       "<table border=\"1\" class=\"dataframe\">\n",
       "  <thead>\n",
       "    <tr style=\"text-align: right;\">\n",
       "      <th></th>\n",
       "      <th>gender</th>\n",
       "      <th>near_location</th>\n",
       "      <th>partner</th>\n",
       "      <th>promo_friends</th>\n",
       "      <th>contract_period</th>\n",
       "      <th>group_visits</th>\n",
       "      <th>age</th>\n",
       "      <th>avg_additional_charges_total</th>\n",
       "      <th>month_to_end_contract</th>\n",
       "      <th>lifetime</th>\n",
       "      <th>avg_class_frequency_total</th>\n",
       "      <th>avg_class_frequency_current_month</th>\n",
       "      <th>churn</th>\n",
       "    </tr>\n",
       "    <tr>\n",
       "      <th>cluster_km</th>\n",
       "      <th></th>\n",
       "      <th></th>\n",
       "      <th></th>\n",
       "      <th></th>\n",
       "      <th></th>\n",
       "      <th></th>\n",
       "      <th></th>\n",
       "      <th></th>\n",
       "      <th></th>\n",
       "      <th></th>\n",
       "      <th></th>\n",
       "      <th></th>\n",
       "      <th></th>\n",
       "    </tr>\n",
       "  </thead>\n",
       "  <tbody>\n",
       "    <tr>\n",
       "      <td>0</td>\n",
       "      <td>0.596817</td>\n",
       "      <td>0.972149</td>\n",
       "      <td>0.269231</td>\n",
       "      <td>0.100796</td>\n",
       "      <td>2.884615</td>\n",
       "      <td>0.486737</td>\n",
       "      <td>30.232095</td>\n",
       "      <td>162.643149</td>\n",
       "      <td>2.647215</td>\n",
       "      <td>5.141910</td>\n",
       "      <td>2.909836</td>\n",
       "      <td>2.911668</td>\n",
       "      <td>0.063660</td>\n",
       "    </tr>\n",
       "    <tr>\n",
       "      <td>1</td>\n",
       "      <td>0.485179</td>\n",
       "      <td>0.998440</td>\n",
       "      <td>0.817473</td>\n",
       "      <td>1.000000</td>\n",
       "      <td>3.143526</td>\n",
       "      <td>0.455538</td>\n",
       "      <td>29.182527</td>\n",
       "      <td>141.147858</td>\n",
       "      <td>2.906396</td>\n",
       "      <td>3.672387</td>\n",
       "      <td>1.720163</td>\n",
       "      <td>1.612149</td>\n",
       "      <td>0.249610</td>\n",
       "    </tr>\n",
       "    <tr>\n",
       "      <td>2</td>\n",
       "      <td>0.495413</td>\n",
       "      <td>0.000000</td>\n",
       "      <td>0.466055</td>\n",
       "      <td>0.077064</td>\n",
       "      <td>2.207339</td>\n",
       "      <td>0.214679</td>\n",
       "      <td>28.477064</td>\n",
       "      <td>133.894588</td>\n",
       "      <td>2.071560</td>\n",
       "      <td>2.798165</td>\n",
       "      <td>1.660876</td>\n",
       "      <td>1.470310</td>\n",
       "      <td>0.449541</td>\n",
       "    </tr>\n",
       "    <tr>\n",
       "      <td>3</td>\n",
       "      <td>0.501071</td>\n",
       "      <td>0.944325</td>\n",
       "      <td>0.739829</td>\n",
       "      <td>0.487152</td>\n",
       "      <td>11.890792</td>\n",
       "      <td>0.551392</td>\n",
       "      <td>29.904711</td>\n",
       "      <td>164.799347</td>\n",
       "      <td>10.888651</td>\n",
       "      <td>4.701285</td>\n",
       "      <td>1.989411</td>\n",
       "      <td>1.980812</td>\n",
       "      <td>0.022484</td>\n",
       "    </tr>\n",
       "    <tr>\n",
       "      <td>4</td>\n",
       "      <td>0.481350</td>\n",
       "      <td>1.000000</td>\n",
       "      <td>0.244227</td>\n",
       "      <td>0.017762</td>\n",
       "      <td>1.976909</td>\n",
       "      <td>0.317940</td>\n",
       "      <td>28.228242</td>\n",
       "      <td>131.235399</td>\n",
       "      <td>1.894316</td>\n",
       "      <td>2.444050</td>\n",
       "      <td>1.293207</td>\n",
       "      <td>1.055083</td>\n",
       "      <td>0.521314</td>\n",
       "    </tr>\n",
       "  </tbody>\n",
       "</table>\n",
       "</div>"
      ],
      "text/plain": [
       "              gender  near_location   partner  promo_friends  contract_period  \\\n",
       "cluster_km                                                                      \n",
       "0           0.596817       0.972149  0.269231       0.100796         2.884615   \n",
       "1           0.485179       0.998440  0.817473       1.000000         3.143526   \n",
       "2           0.495413       0.000000  0.466055       0.077064         2.207339   \n",
       "3           0.501071       0.944325  0.739829       0.487152        11.890792   \n",
       "4           0.481350       1.000000  0.244227       0.017762         1.976909   \n",
       "\n",
       "            group_visits        age  avg_additional_charges_total  \\\n",
       "cluster_km                                                          \n",
       "0               0.486737  30.232095                    162.643149   \n",
       "1               0.455538  29.182527                    141.147858   \n",
       "2               0.214679  28.477064                    133.894588   \n",
       "3               0.551392  29.904711                    164.799347   \n",
       "4               0.317940  28.228242                    131.235399   \n",
       "\n",
       "            month_to_end_contract  lifetime  avg_class_frequency_total  \\\n",
       "cluster_km                                                               \n",
       "0                        2.647215  5.141910                   2.909836   \n",
       "1                        2.906396  3.672387                   1.720163   \n",
       "2                        2.071560  2.798165                   1.660876   \n",
       "3                       10.888651  4.701285                   1.989411   \n",
       "4                        1.894316  2.444050                   1.293207   \n",
       "\n",
       "            avg_class_frequency_current_month     churn  \n",
       "cluster_km                                               \n",
       "0                                    2.911668  0.063660  \n",
       "1                                    1.612149  0.249610  \n",
       "2                                    1.470310  0.449541  \n",
       "3                                    1.980812  0.022484  \n",
       "4                                    1.055083  0.521314  "
      ]
     },
     "execution_count": 40,
     "metadata": {},
     "output_type": "execute_result"
    }
   ],
   "source": [
    "df['cluster_km'] = labels\n",
    "\n",
    "mean_paired = df.groupby('cluster_km').mean()\n",
    "mean_paired"
   ]
  },
  {
   "cell_type": "markdown",
   "metadata": {},
   "source": [
    "0 and 4 seems to have the lowest chance of churning. \n",
    "\n",
    "Let's check a silhouette score for our clusters. "
   ]
  },
  {
   "cell_type": "code",
   "execution_count": 41,
   "metadata": {},
   "outputs": [
    {
     "name": "stdout",
     "output_type": "stream",
     "text": [
      "Silhouette_score: 0.14\n"
     ]
    }
   ],
   "source": [
    "print('Silhouette_score: {:.2f}'.format(silhouette_score(x_sc, labels)))"
   ]
  },
  {
   "cell_type": "markdown",
   "metadata": {},
   "source": [
    "More likely than not, users in clusters have some overlapping features. Plotting mean feature values to get a better view of the clusters."
   ]
  },
  {
   "cell_type": "markdown",
   "metadata": {},
   "source": [
    "**Plot distributions of features for the clusters. Do you notice anything?**"
   ]
  },
  {
   "cell_type": "code",
   "execution_count": 42,
   "metadata": {},
   "outputs": [
    {
     "data": {
      "image/png": "[encoded data removed]",
      "text/plain": [
       "<Figure size 1080x864 with 10 Axes>"
      ]
     },
     "metadata": {},
     "output_type": "display_data"
    }
   ],
   "source": [
    "# mean feature values for clusters.\n",
    "fig, ax = plt.subplots(figsize=(15, 12), ncols=2, nrows=5)\n",
    "axes = [(row, col) for row in range(5) for col in range(2)]\n",
    "\n",
    "for col, i in zip(df.drop('churn', axis=1).columns, axes):\n",
    "    # groupby feature ignored\n",
    "    if 'cluster_km' in col:\n",
    "        continue\n",
    "\n",
    "    # to check if  one unqie value in grouped columns\n",
    "    check = list(df.groupby('cluster_km').agg({col: 'nunique'}).values)\n",
    "    # if so or if unique columns  values are less than 3\n",
    "    if 1 in check or df[col].nunique() <= 3:\n",
    "        # than bar plot\n",
    "        df.groupby('cluster_km').agg({ col: 'mean' }).plot.bar(ax=ax[i], legend=False)\n",
    "        modifyChart(ax[i], col, 10)\n",
    "        continue\n",
    "\n",
    "    # else create a facet grid to display mutliple  distribution plots within one graph\n",
    "    g = sns.FacetGrid(data=df, hue='cluster_km')\n",
    "    g.map(sns.distplot, col, hist=False, rug=True, ax=ax[i])\n",
    "\n",
    "    # chart modifications\n",
    "    [ax[i].spines[spine].set_visible(False) for spine in ['top', 'right']]\n",
    "    modifyChart(ax[i], col, 10)\n",
    "    plt.close()\n",
    "plt.suptitle(\"Mean Feature Values Per Cluster\",fontsize=25,y=1.03)\n",
    "#ax[axes[-1]].axis('off')\n",
    "plt.tight_layout()"
   ]
  },
  {
   "cell_type": "markdown",
   "metadata": {},
   "source": [
    "We can see, that gender and  phone data are not really relevant for our clustering. \n",
    "\n",
    "Cluster 1 has the most amount of the customers, who work in the partner companies and those, who became a customer through the refarall program. Thus this cluster has the highest share of customers with long-term contracts (8 month in average). \n",
    "\n",
    "Cluster 4 are the customers, who does not live or have a job near the club. \n",
    "\n",
    "In general this clustering does not seem to be very useful since we don't know the exact criterion was used to build clusters. "
   ]
  },
  {
   "cell_type": "markdown",
   "metadata": {},
   "source": [
    "**Calculate the churn rate for each cluster (use the groupby() method). Do they differ in terms of churn rate? Which clusters are prone to leaving, and which are loyal?**"
   ]
  },
  {
   "cell_type": "markdown",
   "metadata": {},
   "source": [
    "We'll plot a graph to better see the difference between the churn rate of clusters. "
   ]
  },
  {
   "cell_type": "code",
   "execution_count": 43,
   "metadata": {},
   "outputs": [
    {
     "data": {
      "image/png": "[encoded data removed]",
      "text/plain": [
       "<Figure size 720x360 with 1 Axes>"
      ]
     },
     "metadata": {},
     "output_type": "display_data"
    }
   ],
   "source": [
    "fig, ax = plt.subplots(figsize=(10, 5))\n",
    "#chart with added series for the purposes of diplaying a bar showing aggregate churn rate\n",
    "df.groupby('cluster_km').agg({\n",
    "    'churn': 'mean'\n",
    "}).append(pd.Series(df['churn'].mean(), index=('churn', ),\n",
    "                    name='All')).sort_values(\n",
    "                        'churn', ascending=False).plot.bar(ax=ax,\n",
    "                                                           alpha=.6,\n",
    "                                                           rot=0,\n",
    "                                                           legend=False)\n",
    "\n",
    "maxs = max([category.get_height() for category in ax.patches])\n",
    "modifyChart(ax, col, 13, maxs=maxs, xLabel='Cluster', yLabel='Churn Rate (%)')\n",
    "\n",
    "ax.set_yticklabels([\"{}%\".format(int(i * 100)) for i in ax.get_yticks()[:]])\n",
    "ax.set_title('Churn', fontsize=18, pad=15)\n",
    "plt.show()"
   ]
  },
  {
   "cell_type": "markdown",
   "metadata": {},
   "source": [
    "Clusters 3, 4 and 3 tend to cancel their contracts. The club have to pay more attention to this customers. \n",
    "\n",
    "Clusters 0 and 1  have the below average churn rate. "
   ]
  },
  {
   "cell_type": "markdown",
   "metadata": {},
   "source": [
    "## Step 5. Come up with conclusions and basic recommendations on working with customers\n",
    "<a class=\"anchor\" id=\"part5\"></a>"
   ]
  },
  {
   "cell_type": "markdown",
   "metadata": {},
   "source": [
    "Based on the previous findings as well as some external reports, here are some recommendations for improving customer retention and churn:\n",
    "\n",
    "1. The first problem that the clubs has is the prevalence of short-term contracts. This type of contracts hprovides the highest churn rate. The clus has to concider an option to offer special condition for long term contracts to make them more attractive. \n",
    "\n",
    "2. Company should place an emphasis on fostering group interaction activities such as group classes. This is especially the case for the customer profile seen earlier(average age 29) since according to fitness reports, studies are showing the effectiveness of group classes in improving retention rate for fitness studios for those in the younger generation.\n",
    "\n",
    "3. Create or improve stronger relationships with users who identified as having high chances of churning (not coming from partner company or referal programm, younger, seldom shows up in the club etc.). It could be i.e. lower prices or special offers for young customers or for customers, who visits the clubs less than 5 times per month etc. \n",
    "\n",
    "\n",
    "Unfortunatly we couldn't really compare the our сonclusions we made during EDA stage with data we got using ML models since clustering took place as black box and we doesn't know the exact criterion of clusterization. "
   ]
  }
 ],
 "metadata": {
  "ExecuteTimeLog": [
   {
    "duration": 1699,
    "start_time": "2021-06-15T21:48:30.697Z"
   },
   {
    "duration": 279,
    "start_time": "2021-06-15T21:48:32.399Z"
   },
   {
    "duration": 12,
    "start_time": "2021-06-15T21:48:32.682Z"
   },
   {
    "duration": 27,
    "start_time": "2021-06-15T21:48:32.696Z"
   },
   {
    "duration": 6,
    "start_time": "2021-06-15T21:48:32.729Z"
   },
   {
    "duration": 7,
    "start_time": "2021-06-15T21:48:32.738Z"
   },
   {
    "duration": 5,
    "start_time": "2021-06-15T21:48:32.747Z"
   },
   {
    "duration": 16,
    "start_time": "2021-06-15T21:48:32.758Z"
   },
   {
    "duration": 54,
    "start_time": "2021-06-15T21:48:32.778Z"
   },
   {
    "duration": 14,
    "start_time": "2021-06-15T21:48:32.835Z"
   },
   {
    "duration": 18,
    "start_time": "2021-06-15T21:48:32.852Z"
   },
   {
    "duration": 119,
    "start_time": "2021-06-15T21:48:32.873Z"
   },
   {
    "duration": 131,
    "start_time": "2021-06-15T21:48:32.995Z"
   },
   {
    "duration": 29,
    "start_time": "2021-06-15T21:48:33.129Z"
   },
   {
    "duration": 10,
    "start_time": "2021-06-15T21:48:33.161Z"
   },
   {
    "duration": 2220,
    "start_time": "2021-06-15T21:48:33.174Z"
   },
   {
    "duration": -54,
    "start_time": "2021-06-15T21:48:35.452Z"
   },
   {
    "duration": -65,
    "start_time": "2021-06-15T21:48:35.464Z"
   },
   {
    "duration": -68,
    "start_time": "2021-06-15T21:48:35.468Z"
   },
   {
    "duration": -73,
    "start_time": "2021-06-15T21:48:35.475Z"
   },
   {
    "duration": -75,
    "start_time": "2021-06-15T21:48:35.478Z"
   },
   {
    "duration": -79,
    "start_time": "2021-06-15T21:48:35.483Z"
   },
   {
    "duration": -81,
    "start_time": "2021-06-15T21:48:35.487Z"
   },
   {
    "duration": -84,
    "start_time": "2021-06-15T21:48:35.491Z"
   },
   {
    "duration": -86,
    "start_time": "2021-06-15T21:48:35.494Z"
   },
   {
    "duration": -89,
    "start_time": "2021-06-15T21:48:35.498Z"
   },
   {
    "duration": -92,
    "start_time": "2021-06-15T21:48:35.502Z"
   },
   {
    "duration": -99,
    "start_time": "2021-06-15T21:48:35.510Z"
   },
   {
    "duration": -89,
    "start_time": "2021-06-15T21:48:35.513Z"
   },
   {
    "duration": -91,
    "start_time": "2021-06-15T21:48:35.517Z"
   },
   {
    "duration": -96,
    "start_time": "2021-06-15T21:48:35.523Z"
   },
   {
    "duration": -99,
    "start_time": "2021-06-15T21:48:35.527Z"
   },
   {
    "duration": -100,
    "start_time": "2021-06-15T21:48:35.530Z"
   },
   {
    "duration": -102,
    "start_time": "2021-06-15T21:48:35.534Z"
   },
   {
    "duration": -105,
    "start_time": "2021-06-15T21:48:35.539Z"
   },
   {
    "duration": -107,
    "start_time": "2021-06-15T21:48:35.542Z"
   },
   {
    "duration": -108,
    "start_time": "2021-06-15T21:48:35.545Z"
   },
   {
    "duration": -112,
    "start_time": "2021-06-15T21:48:35.550Z"
   },
   {
    "duration": -116,
    "start_time": "2021-06-15T21:48:35.556Z"
   },
   {
    "duration": -119,
    "start_time": "2021-06-15T21:48:35.560Z"
   },
   {
    "duration": -120,
    "start_time": "2021-06-15T21:48:35.563Z"
   },
   {
    "duration": -129,
    "start_time": "2021-06-15T21:48:35.573Z"
   },
   {
    "duration": 1565,
    "start_time": "2021-06-16T07:31:23.739Z"
   },
   {
    "duration": 666,
    "start_time": "2021-06-16T07:31:25.307Z"
   },
   {
    "duration": 10,
    "start_time": "2021-06-16T07:31:25.976Z"
   },
   {
    "duration": 27,
    "start_time": "2021-06-16T07:31:25.989Z"
   },
   {
    "duration": 4,
    "start_time": "2021-06-16T07:31:26.018Z"
   },
   {
    "duration": 9,
    "start_time": "2021-06-16T07:31:26.024Z"
   },
   {
    "duration": 5,
    "start_time": "2021-06-16T07:31:26.036Z"
   },
   {
    "duration": 47,
    "start_time": "2021-06-16T07:31:26.044Z"
   },
   {
    "duration": 11,
    "start_time": "2021-06-16T07:31:26.095Z"
   },
   {
    "duration": 11,
    "start_time": "2021-06-16T07:31:26.109Z"
   },
   {
    "duration": 20,
    "start_time": "2021-06-16T07:31:26.122Z"
   },
   {
    "duration": 105,
    "start_time": "2021-06-16T07:31:26.145Z"
   },
   {
    "duration": 127,
    "start_time": "2021-06-16T07:31:26.252Z"
   },
   {
    "duration": 25,
    "start_time": "2021-06-16T07:31:26.386Z"
   },
   {
    "duration": 10,
    "start_time": "2021-06-16T07:31:26.413Z"
   },
   {
    "duration": 12,
    "start_time": "2021-06-16T07:31:26.425Z"
   },
   {
    "duration": 1595,
    "start_time": "2021-06-16T07:31:26.440Z"
   },
   {
    "duration": 5,
    "start_time": "2021-06-16T07:31:28.038Z"
   },
   {
    "duration": 24,
    "start_time": "2021-06-16T07:31:28.046Z"
   },
   {
    "duration": 6123,
    "start_time": "2021-06-16T07:31:28.072Z"
   },
   {
    "duration": 11,
    "start_time": "2021-06-16T07:31:34.198Z"
   },
   {
    "duration": 23,
    "start_time": "2021-06-16T07:31:34.211Z"
   },
   {
    "duration": 2174,
    "start_time": "2021-06-16T07:31:34.237Z"
   },
   {
    "duration": 16,
    "start_time": "2021-06-16T07:31:36.413Z"
   },
   {
    "duration": 486,
    "start_time": "2021-06-16T07:31:36.432Z"
   },
   {
    "duration": -728,
    "start_time": "2021-06-16T07:31:37.650Z"
   },
   {
    "duration": -789,
    "start_time": "2021-06-16T07:31:37.713Z"
   },
   {
    "duration": -683,
    "start_time": "2021-06-16T07:31:37.721Z"
   },
   {
    "duration": -698,
    "start_time": "2021-06-16T07:31:37.738Z"
   },
   {
    "duration": -712,
    "start_time": "2021-06-16T07:31:37.754Z"
   },
   {
    "duration": -729,
    "start_time": "2021-06-16T07:31:37.773Z"
   },
   {
    "duration": -743,
    "start_time": "2021-06-16T07:31:37.789Z"
   },
   {
    "duration": -771,
    "start_time": "2021-06-16T07:31:37.819Z"
   },
   {
    "duration": -805,
    "start_time": "2021-06-16T07:31:37.855Z"
   },
   {
    "duration": -817,
    "start_time": "2021-06-16T07:31:37.869Z"
   },
   {
    "duration": -824,
    "start_time": "2021-06-16T07:31:37.879Z"
   },
   {
    "duration": -801,
    "start_time": "2021-06-16T07:31:37.885Z"
   },
   {
    "duration": -810,
    "start_time": "2021-06-16T07:31:37.896Z"
   },
   {
    "duration": -812,
    "start_time": "2021-06-16T07:31:37.901Z"
   },
   {
    "duration": -820,
    "start_time": "2021-06-16T07:31:37.911Z"
   },
   {
    "duration": -823,
    "start_time": "2021-06-16T07:31:37.916Z"
   },
   {
    "duration": -832,
    "start_time": "2021-06-16T07:31:37.927Z"
   },
   {
    "duration": 1132,
    "start_time": "2021-06-16T14:02:55.767Z"
   },
   {
    "duration": 297,
    "start_time": "2021-06-16T14:02:56.901Z"
   },
   {
    "duration": 7,
    "start_time": "2021-06-16T14:02:57.200Z"
   },
   {
    "duration": 21,
    "start_time": "2021-06-16T14:02:57.209Z"
   },
   {
    "duration": 8,
    "start_time": "2021-06-16T14:02:57.231Z"
   },
   {
    "duration": 6,
    "start_time": "2021-06-16T14:02:57.240Z"
   },
   {
    "duration": 3,
    "start_time": "2021-06-16T14:02:57.247Z"
   },
   {
    "duration": 8,
    "start_time": "2021-06-16T14:02:57.253Z"
   },
   {
    "duration": 7,
    "start_time": "2021-06-16T14:02:57.263Z"
   },
   {
    "duration": 7,
    "start_time": "2021-06-16T14:02:57.271Z"
   },
   {
    "duration": 11,
    "start_time": "2021-06-16T14:02:57.279Z"
   },
   {
    "duration": 47,
    "start_time": "2021-06-16T14:02:57.291Z"
   },
   {
    "duration": 69,
    "start_time": "2021-06-16T14:02:57.340Z"
   },
   {
    "duration": 16,
    "start_time": "2021-06-16T14:02:57.411Z"
   },
   {
    "duration": 7,
    "start_time": "2021-06-16T14:02:57.428Z"
   },
   {
    "duration": 6,
    "start_time": "2021-06-16T14:02:57.436Z"
   },
   {
    "duration": 1129,
    "start_time": "2021-06-16T14:02:57.444Z"
   },
   {
    "duration": 4,
    "start_time": "2021-06-16T14:02:58.575Z"
   },
   {
    "duration": 10,
    "start_time": "2021-06-16T14:02:58.580Z"
   },
   {
    "duration": 3610,
    "start_time": "2021-06-16T14:02:58.592Z"
   },
   {
    "duration": 9,
    "start_time": "2021-06-16T14:03:02.204Z"
   },
   {
    "duration": 18,
    "start_time": "2021-06-16T14:03:02.215Z"
   },
   {
    "duration": 1383,
    "start_time": "2021-06-16T14:03:02.237Z"
   },
   {
    "duration": 14,
    "start_time": "2021-06-16T14:03:03.622Z"
   },
   {
    "duration": 274,
    "start_time": "2021-06-16T14:03:03.638Z"
   },
   {
    "duration": -52,
    "start_time": "2021-06-16T14:03:03.967Z"
   },
   {
    "duration": -61,
    "start_time": "2021-06-16T14:03:03.977Z"
   },
   {
    "duration": -64,
    "start_time": "2021-06-16T14:03:03.982Z"
   },
   {
    "duration": -70,
    "start_time": "2021-06-16T14:03:03.989Z"
   },
   {
    "duration": -72,
    "start_time": "2021-06-16T14:03:03.992Z"
   },
   {
    "duration": -74,
    "start_time": "2021-06-16T14:03:03.996Z"
   },
   {
    "duration": -80,
    "start_time": "2021-06-16T14:03:04.003Z"
   },
   {
    "duration": -83,
    "start_time": "2021-06-16T14:03:04.008Z"
   },
   {
    "duration": -86,
    "start_time": "2021-06-16T14:03:04.012Z"
   },
   {
    "duration": -89,
    "start_time": "2021-06-16T14:03:04.016Z"
   },
   {
    "duration": -93,
    "start_time": "2021-06-16T14:03:04.022Z"
   },
   {
    "duration": -97,
    "start_time": "2021-06-16T14:03:04.027Z"
   },
   {
    "duration": -98,
    "start_time": "2021-06-16T14:03:04.030Z"
   },
   {
    "duration": -103,
    "start_time": "2021-06-16T14:03:04.036Z"
   },
   {
    "duration": -105,
    "start_time": "2021-06-16T14:03:04.040Z"
   },
   {
    "duration": -108,
    "start_time": "2021-06-16T14:03:04.044Z"
   },
   {
    "duration": -111,
    "start_time": "2021-06-16T14:03:04.048Z"
   },
   {
    "duration": 3361,
    "start_time": "2021-06-16T14:03:36.128Z"
   },
   {
    "duration": 5,
    "start_time": "2021-06-16T14:03:39.492Z"
   },
   {
    "duration": 135,
    "start_time": "2021-06-16T14:03:39.499Z"
   },
   {
    "duration": 8,
    "start_time": "2021-06-16T14:03:39.636Z"
   },
   {
    "duration": 16,
    "start_time": "2021-06-16T14:03:39.645Z"
   },
   {
    "duration": 4,
    "start_time": "2021-06-16T14:03:39.663Z"
   },
   {
    "duration": 5,
    "start_time": "2021-06-16T14:03:39.669Z"
   },
   {
    "duration": 125,
    "start_time": "2021-06-16T14:03:39.676Z"
   },
   {
    "duration": 10,
    "start_time": "2021-06-16T14:03:39.804Z"
   },
   {
    "duration": 7,
    "start_time": "2021-06-16T14:03:39.815Z"
   },
   {
    "duration": 8,
    "start_time": "2021-06-16T14:03:39.824Z"
   },
   {
    "duration": 11,
    "start_time": "2021-06-16T14:03:39.833Z"
   },
   {
    "duration": 71,
    "start_time": "2021-06-16T14:03:39.846Z"
   },
   {
    "duration": 77,
    "start_time": "2021-06-16T14:03:39.919Z"
   },
   {
    "duration": 17,
    "start_time": "2021-06-16T14:03:39.997Z"
   },
   {
    "duration": 7,
    "start_time": "2021-06-16T14:03:40.015Z"
   },
   {
    "duration": 5,
    "start_time": "2021-06-16T14:03:40.024Z"
   },
   {
    "duration": 1040,
    "start_time": "2021-06-16T14:03:40.031Z"
   },
   {
    "duration": 3,
    "start_time": "2021-06-16T14:03:41.073Z"
   },
   {
    "duration": 12,
    "start_time": "2021-06-16T14:03:41.078Z"
   },
   {
    "duration": 3458,
    "start_time": "2021-06-16T14:03:41.091Z"
   },
   {
    "duration": 7,
    "start_time": "2021-06-16T14:03:44.551Z"
   },
   {
    "duration": 24,
    "start_time": "2021-06-16T14:03:44.561Z"
   },
   {
    "duration": 1432,
    "start_time": "2021-06-16T14:03:44.587Z"
   },
   {
    "duration": 11,
    "start_time": "2021-06-16T14:03:46.021Z"
   },
   {
    "duration": 194,
    "start_time": "2021-06-16T14:03:46.034Z"
   },
   {
    "duration": -18,
    "start_time": "2021-06-16T14:03:46.248Z"
   },
   {
    "duration": -26,
    "start_time": "2021-06-16T14:03:46.257Z"
   },
   {
    "duration": -28,
    "start_time": "2021-06-16T14:03:46.260Z"
   },
   {
    "duration": -31,
    "start_time": "2021-06-16T14:03:46.264Z"
   },
   {
    "duration": -37,
    "start_time": "2021-06-16T14:03:46.271Z"
   },
   {
    "duration": -41,
    "start_time": "2021-06-16T14:03:46.275Z"
   },
   {
    "duration": -44,
    "start_time": "2021-06-16T14:03:46.279Z"
   },
   {
    "duration": -46,
    "start_time": "2021-06-16T14:03:46.282Z"
   },
   {
    "duration": -51,
    "start_time": "2021-06-16T14:03:46.288Z"
   },
   {
    "duration": -54,
    "start_time": "2021-06-16T14:03:46.292Z"
   },
   {
    "duration": -56,
    "start_time": "2021-06-16T14:03:46.295Z"
   },
   {
    "duration": -60,
    "start_time": "2021-06-16T14:03:46.299Z"
   },
   {
    "duration": -66,
    "start_time": "2021-06-16T14:03:46.306Z"
   },
   {
    "duration": -69,
    "start_time": "2021-06-16T14:03:46.310Z"
   },
   {
    "duration": -72,
    "start_time": "2021-06-16T14:03:46.314Z"
   },
   {
    "duration": -78,
    "start_time": "2021-06-16T14:03:46.321Z"
   },
   {
    "duration": -80,
    "start_time": "2021-06-16T14:03:46.324Z"
   },
   {
    "duration": 2638,
    "start_time": "2021-06-16T14:03:59.190Z"
   },
   {
    "duration": 1056,
    "start_time": "2021-06-16T14:04:01.831Z"
   },
   {
    "duration": 134,
    "start_time": "2021-06-16T14:04:02.889Z"
   },
   {
    "duration": 8,
    "start_time": "2021-06-16T14:04:03.025Z"
   },
   {
    "duration": 34,
    "start_time": "2021-06-16T14:04:03.035Z"
   },
   {
    "duration": 16,
    "start_time": "2021-06-16T14:04:03.071Z"
   },
   {
    "duration": 13,
    "start_time": "2021-06-16T14:04:03.089Z"
   },
   {
    "duration": 17,
    "start_time": "2021-06-16T14:04:03.106Z"
   },
   {
    "duration": 19,
    "start_time": "2021-06-16T14:04:03.125Z"
   },
   {
    "duration": 8,
    "start_time": "2021-06-16T14:04:03.145Z"
   },
   {
    "duration": 10,
    "start_time": "2021-06-16T14:04:03.155Z"
   },
   {
    "duration": 12,
    "start_time": "2021-06-16T14:04:03.167Z"
   },
   {
    "duration": 48,
    "start_time": "2021-06-16T14:04:03.181Z"
   },
   {
    "duration": 80,
    "start_time": "2021-06-16T14:04:03.231Z"
   },
   {
    "duration": 17,
    "start_time": "2021-06-16T14:04:03.313Z"
   },
   {
    "duration": 7,
    "start_time": "2021-06-16T14:04:03.332Z"
   },
   {
    "duration": 7,
    "start_time": "2021-06-16T14:04:03.340Z"
   },
   {
    "duration": 990,
    "start_time": "2021-06-16T14:04:03.349Z"
   },
   {
    "duration": 5,
    "start_time": "2021-06-16T14:04:04.341Z"
   },
   {
    "duration": 9,
    "start_time": "2021-06-16T14:04:04.348Z"
   },
   {
    "duration": 3921,
    "start_time": "2021-06-16T14:04:04.359Z"
   },
   {
    "duration": 10,
    "start_time": "2021-06-16T14:04:08.282Z"
   },
   {
    "duration": 21,
    "start_time": "2021-06-16T14:04:08.296Z"
   },
   {
    "duration": 1402,
    "start_time": "2021-06-16T14:04:08.320Z"
   },
   {
    "duration": 11,
    "start_time": "2021-06-16T14:04:09.725Z"
   },
   {
    "duration": 731,
    "start_time": "2021-06-16T14:04:09.738Z"
   },
   {
    "duration": 4,
    "start_time": "2021-06-16T14:04:10.471Z"
   },
   {
    "duration": 15,
    "start_time": "2021-06-16T14:04:10.476Z"
   },
   {
    "duration": 8,
    "start_time": "2021-06-16T14:04:10.493Z"
   },
   {
    "duration": 7,
    "start_time": "2021-06-16T14:04:10.502Z"
   },
   {
    "duration": 294,
    "start_time": "2021-06-16T14:04:10.510Z"
   },
   {
    "duration": -62,
    "start_time": "2021-06-16T14:04:10.868Z"
   },
   {
    "duration": -69,
    "start_time": "2021-06-16T14:04:10.877Z"
   },
   {
    "duration": -72,
    "start_time": "2021-06-16T14:04:10.881Z"
   },
   {
    "duration": -75,
    "start_time": "2021-06-16T14:04:10.886Z"
   },
   {
    "duration": -77,
    "start_time": "2021-06-16T14:04:10.889Z"
   },
   {
    "duration": -79,
    "start_time": "2021-06-16T14:04:10.893Z"
   },
   {
    "duration": -80,
    "start_time": "2021-06-16T14:04:10.896Z"
   },
   {
    "duration": -86,
    "start_time": "2021-06-16T14:04:10.903Z"
   },
   {
    "duration": -87,
    "start_time": "2021-06-16T14:04:10.906Z"
   },
   {
    "duration": -90,
    "start_time": "2021-06-16T14:04:10.910Z"
   },
   {
    "duration": -92,
    "start_time": "2021-06-16T14:04:10.913Z"
   },
   {
    "duration": -97,
    "start_time": "2021-06-16T14:04:10.920Z"
   },
   {
    "duration": 2531,
    "start_time": "2021-06-16T15:24:22.147Z"
   },
   {
    "duration": 5,
    "start_time": "2021-06-16T15:24:24.680Z"
   },
   {
    "duration": 167,
    "start_time": "2021-06-16T15:24:24.687Z"
   },
   {
    "duration": 8,
    "start_time": "2021-06-16T15:24:24.856Z"
   },
   {
    "duration": 14,
    "start_time": "2021-06-16T15:24:24.867Z"
   },
   {
    "duration": 6,
    "start_time": "2021-06-16T15:24:24.883Z"
   },
   {
    "duration": 6,
    "start_time": "2021-06-16T15:24:24.890Z"
   },
   {
    "duration": 4,
    "start_time": "2021-06-16T15:24:24.899Z"
   },
   {
    "duration": 10,
    "start_time": "2021-06-16T15:24:24.905Z"
   },
   {
    "duration": 6,
    "start_time": "2021-06-16T15:24:24.917Z"
   },
   {
    "duration": 8,
    "start_time": "2021-06-16T15:24:24.925Z"
   },
   {
    "duration": 11,
    "start_time": "2021-06-16T15:24:24.934Z"
   },
   {
    "duration": 74,
    "start_time": "2021-06-16T15:24:24.946Z"
   },
   {
    "duration": 77,
    "start_time": "2021-06-16T15:24:25.022Z"
   },
   {
    "duration": 16,
    "start_time": "2021-06-16T15:24:25.101Z"
   },
   {
    "duration": 7,
    "start_time": "2021-06-16T15:24:25.118Z"
   },
   {
    "duration": 6,
    "start_time": "2021-06-16T15:24:25.126Z"
   },
   {
    "duration": 1157,
    "start_time": "2021-06-16T15:24:25.133Z"
   },
   {
    "duration": 4,
    "start_time": "2021-06-16T15:24:26.291Z"
   },
   {
    "duration": 10,
    "start_time": "2021-06-16T15:24:26.296Z"
   },
   {
    "duration": 4104,
    "start_time": "2021-06-16T15:24:26.308Z"
   },
   {
    "duration": 7,
    "start_time": "2021-06-16T15:24:30.414Z"
   },
   {
    "duration": 23,
    "start_time": "2021-06-16T15:24:30.424Z"
   },
   {
    "duration": 1374,
    "start_time": "2021-06-16T15:24:30.449Z"
   },
   {
    "duration": 12,
    "start_time": "2021-06-16T15:24:31.824Z"
   },
   {
    "duration": 633,
    "start_time": "2021-06-16T15:24:31.837Z"
   },
   {
    "duration": 4,
    "start_time": "2021-06-16T15:24:32.472Z"
   },
   {
    "duration": 11,
    "start_time": "2021-06-16T15:24:32.477Z"
   },
   {
    "duration": 9,
    "start_time": "2021-06-16T15:24:32.490Z"
   },
   {
    "duration": 7,
    "start_time": "2021-06-16T15:24:32.500Z"
   },
   {
    "duration": 191,
    "start_time": "2021-06-16T15:24:32.509Z"
   },
   {
    "duration": -22,
    "start_time": "2021-06-16T15:24:32.724Z"
   },
   {
    "duration": -25,
    "start_time": "2021-06-16T15:24:32.728Z"
   },
   {
    "duration": -28,
    "start_time": "2021-06-16T15:24:32.732Z"
   },
   {
    "duration": -33,
    "start_time": "2021-06-16T15:24:32.738Z"
   },
   {
    "duration": -36,
    "start_time": "2021-06-16T15:24:32.742Z"
   },
   {
    "duration": -38,
    "start_time": "2021-06-16T15:24:32.745Z"
   },
   {
    "duration": -42,
    "start_time": "2021-06-16T15:24:32.749Z"
   },
   {
    "duration": -47,
    "start_time": "2021-06-16T15:24:32.756Z"
   },
   {
    "duration": -50,
    "start_time": "2021-06-16T15:24:32.760Z"
   },
   {
    "duration": -52,
    "start_time": "2021-06-16T15:24:32.763Z"
   },
   {
    "duration": -54,
    "start_time": "2021-06-16T15:24:32.766Z"
   },
   {
    "duration": -61,
    "start_time": "2021-06-16T15:24:32.773Z"
   },
   {
    "duration": 2862,
    "start_time": "2021-06-16T15:50:07.838Z"
   },
   {
    "duration": 1119,
    "start_time": "2021-06-16T15:50:10.703Z"
   },
   {
    "duration": 134,
    "start_time": "2021-06-16T15:50:11.824Z"
   },
   {
    "duration": 7,
    "start_time": "2021-06-16T15:50:11.960Z"
   },
   {
    "duration": 29,
    "start_time": "2021-06-16T15:50:11.968Z"
   },
   {
    "duration": 12,
    "start_time": "2021-06-16T15:50:11.998Z"
   },
   {
    "duration": 9,
    "start_time": "2021-06-16T15:50:12.011Z"
   },
   {
    "duration": 5,
    "start_time": "2021-06-16T15:50:12.023Z"
   },
   {
    "duration": 15,
    "start_time": "2021-06-16T15:50:12.030Z"
   },
   {
    "duration": 14,
    "start_time": "2021-06-16T15:50:12.046Z"
   },
   {
    "duration": 17,
    "start_time": "2021-06-16T15:50:12.061Z"
   },
   {
    "duration": 17,
    "start_time": "2021-06-16T15:50:12.080Z"
   },
   {
    "duration": 55,
    "start_time": "2021-06-16T15:50:12.099Z"
   },
   {
    "duration": 70,
    "start_time": "2021-06-16T15:50:12.156Z"
   },
   {
    "duration": 16,
    "start_time": "2021-06-16T15:50:12.227Z"
   },
   {
    "duration": 6,
    "start_time": "2021-06-16T15:50:12.245Z"
   },
   {
    "duration": 19,
    "start_time": "2021-06-16T15:50:12.252Z"
   },
   {
    "duration": 988,
    "start_time": "2021-06-16T15:50:12.273Z"
   },
   {
    "duration": 4,
    "start_time": "2021-06-16T15:50:13.262Z"
   },
   {
    "duration": 17,
    "start_time": "2021-06-16T15:50:13.268Z"
   },
   {
    "duration": 3986,
    "start_time": "2021-06-16T15:50:13.287Z"
   },
   {
    "duration": 11,
    "start_time": "2021-06-16T15:50:17.275Z"
   },
   {
    "duration": 12,
    "start_time": "2021-06-16T15:50:17.289Z"
   },
   {
    "duration": 1509,
    "start_time": "2021-06-16T15:50:17.303Z"
   },
   {
    "duration": 10,
    "start_time": "2021-06-16T15:50:18.814Z"
   },
   {
    "duration": 702,
    "start_time": "2021-06-16T15:50:18.825Z"
   },
   {
    "duration": 3,
    "start_time": "2021-06-16T15:50:19.529Z"
   },
   {
    "duration": 26,
    "start_time": "2021-06-16T15:50:19.533Z"
   },
   {
    "duration": 13,
    "start_time": "2021-06-16T15:50:19.560Z"
   },
   {
    "duration": 18,
    "start_time": "2021-06-16T15:50:19.574Z"
   },
   {
    "duration": 291,
    "start_time": "2021-06-16T15:50:19.593Z"
   },
   {
    "duration": -54,
    "start_time": "2021-06-16T15:50:19.939Z"
   },
   {
    "duration": -59,
    "start_time": "2021-06-16T15:50:19.945Z"
   },
   {
    "duration": -67,
    "start_time": "2021-06-16T15:50:19.954Z"
   },
   {
    "duration": -70,
    "start_time": "2021-06-16T15:50:19.958Z"
   },
   {
    "duration": -74,
    "start_time": "2021-06-16T15:50:19.963Z"
   },
   {
    "duration": -81,
    "start_time": "2021-06-16T15:50:19.971Z"
   },
   {
    "duration": -84,
    "start_time": "2021-06-16T15:50:19.975Z"
   },
   {
    "duration": -92,
    "start_time": "2021-06-16T15:50:19.984Z"
   },
   {
    "duration": -96,
    "start_time": "2021-06-16T15:50:19.988Z"
   },
   {
    "duration": -99,
    "start_time": "2021-06-16T15:50:19.992Z"
   },
   {
    "duration": -106,
    "start_time": "2021-06-16T15:50:20.000Z"
   },
   {
    "duration": -110,
    "start_time": "2021-06-16T15:50:20.005Z"
   },
   {
    "duration": 310,
    "start_time": "2021-06-16T20:46:25.174Z"
   },
   {
    "duration": 4755,
    "start_time": "2021-06-16T20:47:29.001Z"
   },
   {
    "duration": 1594,
    "start_time": "2021-06-16T20:47:33.760Z"
   },
   {
    "duration": 197,
    "start_time": "2021-06-16T20:47:35.358Z"
   },
   {
    "duration": 10,
    "start_time": "2021-06-16T20:47:35.558Z"
   },
   {
    "duration": 28,
    "start_time": "2021-06-16T20:47:35.570Z"
   },
   {
    "duration": 6,
    "start_time": "2021-06-16T20:47:35.600Z"
   },
   {
    "duration": 9,
    "start_time": "2021-06-16T20:47:35.608Z"
   },
   {
    "duration": 5,
    "start_time": "2021-06-16T20:47:35.623Z"
   },
   {
    "duration": 15,
    "start_time": "2021-06-16T20:47:35.631Z"
   },
   {
    "duration": 44,
    "start_time": "2021-06-16T20:47:35.648Z"
   },
   {
    "duration": 13,
    "start_time": "2021-06-16T20:47:35.695Z"
   },
   {
    "duration": 20,
    "start_time": "2021-06-16T20:47:35.711Z"
   },
   {
    "duration": 107,
    "start_time": "2021-06-16T20:47:35.733Z"
   },
   {
    "duration": 140,
    "start_time": "2021-06-16T20:47:35.843Z"
   },
   {
    "duration": 28,
    "start_time": "2021-06-16T20:47:35.986Z"
   },
   {
    "duration": 11,
    "start_time": "2021-06-16T20:47:36.017Z"
   },
   {
    "duration": 9,
    "start_time": "2021-06-16T20:47:36.030Z"
   },
   {
    "duration": 1594,
    "start_time": "2021-06-16T20:47:36.042Z"
   },
   {
    "duration": 5,
    "start_time": "2021-06-16T20:47:37.639Z"
   },
   {
    "duration": 14,
    "start_time": "2021-06-16T20:47:37.648Z"
   },
   {
    "duration": 7115,
    "start_time": "2021-06-16T20:47:37.684Z"
   },
   {
    "duration": 13,
    "start_time": "2021-06-16T20:47:44.802Z"
   },
   {
    "duration": 19,
    "start_time": "2021-06-16T20:47:44.820Z"
   },
   {
    "duration": 2238,
    "start_time": "2021-06-16T20:47:44.842Z"
   },
   {
    "duration": 27,
    "start_time": "2021-06-16T20:47:47.082Z"
   },
   {
    "duration": 966,
    "start_time": "2021-06-16T20:47:47.112Z"
   },
   {
    "duration": 4,
    "start_time": "2021-06-16T20:47:48.084Z"
   },
   {
    "duration": 9,
    "start_time": "2021-06-16T20:47:48.091Z"
   },
   {
    "duration": 9,
    "start_time": "2021-06-16T20:47:48.102Z"
   },
   {
    "duration": 6,
    "start_time": "2021-06-16T20:47:48.113Z"
   },
   {
    "duration": 472,
    "start_time": "2021-06-16T20:47:48.121Z"
   },
   {
    "duration": -15207,
    "start_time": "2021-06-16T20:48:03.803Z"
   },
   {
    "duration": -15213,
    "start_time": "2021-06-16T20:48:03.811Z"
   },
   {
    "duration": -15217,
    "start_time": "2021-06-16T20:48:03.817Z"
   },
   {
    "duration": -15223,
    "start_time": "2021-06-16T20:48:03.825Z"
   },
   {
    "duration": -15228,
    "start_time": "2021-06-16T20:48:03.832Z"
   },
   {
    "duration": -15233,
    "start_time": "2021-06-16T20:48:03.839Z"
   },
   {
    "duration": -15239,
    "start_time": "2021-06-16T20:48:03.846Z"
   },
   {
    "duration": -15244,
    "start_time": "2021-06-16T20:48:03.853Z"
   },
   {
    "duration": -15250,
    "start_time": "2021-06-16T20:48:03.861Z"
   },
   {
    "duration": -15277,
    "start_time": "2021-06-16T20:48:03.889Z"
   },
   {
    "duration": -15305,
    "start_time": "2021-06-16T20:48:03.919Z"
   },
   {
    "duration": -15315,
    "start_time": "2021-06-16T20:48:03.930Z"
   },
   {
    "duration": 55,
    "start_time": "2021-06-16T20:50:02.119Z"
   },
   {
    "duration": 3278,
    "start_time": "2021-06-16T20:50:14.392Z"
   },
   {
    "duration": 1436,
    "start_time": "2021-06-16T20:50:17.673Z"
   },
   {
    "duration": 189,
    "start_time": "2021-06-16T20:50:19.112Z"
   },
   {
    "duration": 10,
    "start_time": "2021-06-16T20:50:19.304Z"
   },
   {
    "duration": 24,
    "start_time": "2021-06-16T20:50:19.317Z"
   },
   {
    "duration": 6,
    "start_time": "2021-06-16T20:50:19.344Z"
   },
   {
    "duration": 9,
    "start_time": "2021-06-16T20:50:19.352Z"
   },
   {
    "duration": 4,
    "start_time": "2021-06-16T20:50:19.385Z"
   },
   {
    "duration": 15,
    "start_time": "2021-06-16T20:50:19.392Z"
   },
   {
    "duration": 10,
    "start_time": "2021-06-16T20:50:19.409Z"
   },
   {
    "duration": 11,
    "start_time": "2021-06-16T20:50:19.421Z"
   },
   {
    "duration": 57,
    "start_time": "2021-06-16T20:50:19.435Z"
   },
   {
    "duration": 68,
    "start_time": "2021-06-16T20:50:19.494Z"
   },
   {
    "duration": 130,
    "start_time": "2021-06-16T20:50:19.564Z"
   },
   {
    "duration": 25,
    "start_time": "2021-06-16T20:50:19.696Z"
   },
   {
    "duration": 9,
    "start_time": "2021-06-16T20:50:19.723Z"
   },
   {
    "duration": 9,
    "start_time": "2021-06-16T20:50:19.735Z"
   },
   {
    "duration": 1474,
    "start_time": "2021-06-16T20:50:19.746Z"
   },
   {
    "duration": 5,
    "start_time": "2021-06-16T20:50:21.223Z"
   },
   {
    "duration": 16,
    "start_time": "2021-06-16T20:50:21.230Z"
   },
   {
    "duration": 5823,
    "start_time": "2021-06-16T20:50:21.249Z"
   },
   {
    "duration": 16,
    "start_time": "2021-06-16T20:50:27.074Z"
   },
   {
    "duration": 24,
    "start_time": "2021-06-16T20:50:27.095Z"
   },
   {
    "duration": 2104,
    "start_time": "2021-06-16T20:50:27.122Z"
   },
   {
    "duration": 29,
    "start_time": "2021-06-16T20:50:29.229Z"
   },
   {
    "duration": 1024,
    "start_time": "2021-06-16T20:50:29.261Z"
   },
   {
    "duration": 7,
    "start_time": "2021-06-16T20:50:30.288Z"
   },
   {
    "duration": 14,
    "start_time": "2021-06-16T20:50:30.297Z"
   },
   {
    "duration": 22,
    "start_time": "2021-06-16T20:50:30.313Z"
   },
   {
    "duration": 7,
    "start_time": "2021-06-16T20:50:30.337Z"
   },
   {
    "duration": 140,
    "start_time": "2021-06-16T20:50:30.346Z"
   },
   {
    "duration": 579,
    "start_time": "2021-06-16T20:50:30.489Z"
   },
   {
    "duration": 5,
    "start_time": "2021-06-16T20:50:31.071Z"
   },
   {
    "duration": 24,
    "start_time": "2021-06-16T20:50:31.084Z"
   },
   {
    "duration": 17,
    "start_time": "2021-06-16T20:50:31.111Z"
   },
   {
    "duration": 16,
    "start_time": "2021-06-16T20:50:31.130Z"
   },
   {
    "duration": 760,
    "start_time": "2021-06-16T20:50:31.149Z"
   },
   {
    "duration": 131023,
    "start_time": "2021-06-16T20:50:31.911Z"
   },
   {
    "duration": 412,
    "start_time": "2021-06-16T20:52:42.937Z"
   },
   {
    "duration": -740,
    "start_time": "2021-06-16T20:52:44.093Z"
   },
   {
    "duration": -754,
    "start_time": "2021-06-16T20:52:44.109Z"
   },
   {
    "duration": -774,
    "start_time": "2021-06-16T20:52:44.131Z"
   },
   {
    "duration": -790,
    "start_time": "2021-06-16T20:52:44.150Z"
   },
   {
    "duration": 1824,
    "start_time": "2021-06-16T20:55:31.267Z"
   },
   {
    "duration": 27,
    "start_time": "2021-06-16T21:00:48.011Z"
   },
   {
    "duration": 289,
    "start_time": "2021-06-16T21:00:50.614Z"
   },
   {
    "duration": 52053,
    "start_time": "2021-06-16T23:40:10.484Z"
   },
   {
    "duration": 1535,
    "start_time": "2021-06-16T23:41:02.540Z"
   },
   {
    "duration": 247,
    "start_time": "2021-06-16T23:41:04.078Z"
   },
   {
    "duration": 12,
    "start_time": "2021-06-16T23:41:04.328Z"
   },
   {
    "duration": 26,
    "start_time": "2021-06-16T23:41:04.342Z"
   },
   {
    "duration": 6,
    "start_time": "2021-06-16T23:41:04.370Z"
   },
   {
    "duration": 34,
    "start_time": "2021-06-16T23:41:04.378Z"
   },
   {
    "duration": 5,
    "start_time": "2021-06-16T23:41:04.416Z"
   },
   {
    "duration": 20,
    "start_time": "2021-06-16T23:41:04.424Z"
   },
   {
    "duration": 12,
    "start_time": "2021-06-16T23:41:04.447Z"
   },
   {
    "duration": 11,
    "start_time": "2021-06-16T23:41:04.462Z"
   },
   {
    "duration": 17,
    "start_time": "2021-06-16T23:41:04.509Z"
   },
   {
    "duration": 91,
    "start_time": "2021-06-16T23:41:04.529Z"
   },
   {
    "duration": 131,
    "start_time": "2021-06-16T23:41:04.622Z"
   },
   {
    "duration": 30,
    "start_time": "2021-06-16T23:41:04.755Z"
   },
   {
    "duration": 29,
    "start_time": "2021-06-16T23:41:04.787Z"
   },
   {
    "duration": 18,
    "start_time": "2021-06-16T23:41:04.818Z"
   },
   {
    "duration": 1554,
    "start_time": "2021-06-16T23:41:04.839Z"
   },
   {
    "duration": 13,
    "start_time": "2021-06-16T23:41:06.396Z"
   },
   {
    "duration": 13,
    "start_time": "2021-06-16T23:41:06.411Z"
   },
   {
    "duration": 5891,
    "start_time": "2021-06-16T23:41:06.426Z"
   },
   {
    "duration": 11,
    "start_time": "2021-06-16T23:41:12.319Z"
   },
   {
    "duration": 21,
    "start_time": "2021-06-16T23:41:12.336Z"
   },
   {
    "duration": 2316,
    "start_time": "2021-06-16T23:41:12.360Z"
   },
   {
    "duration": 40,
    "start_time": "2021-06-16T23:41:14.678Z"
   },
   {
    "duration": 1041,
    "start_time": "2021-06-16T23:41:14.720Z"
   },
   {
    "duration": 5,
    "start_time": "2021-06-16T23:41:15.763Z"
   },
   {
    "duration": 12,
    "start_time": "2021-06-16T23:41:15.771Z"
   },
   {
    "duration": 26,
    "start_time": "2021-06-16T23:41:15.786Z"
   },
   {
    "duration": 6,
    "start_time": "2021-06-16T23:41:15.815Z"
   },
   {
    "duration": 92,
    "start_time": "2021-06-16T23:41:15.824Z"
   },
   {
    "duration": 699,
    "start_time": "2021-06-16T23:41:15.919Z"
   },
   {
    "duration": 5,
    "start_time": "2021-06-16T23:41:16.621Z"
   },
   {
    "duration": 19,
    "start_time": "2021-06-16T23:41:16.628Z"
   },
   {
    "duration": 10,
    "start_time": "2021-06-16T23:41:16.650Z"
   },
   {
    "duration": 8,
    "start_time": "2021-06-16T23:41:16.662Z"
   },
   {
    "duration": 857,
    "start_time": "2021-06-16T23:41:16.672Z"
   },
   {
    "duration": 139648,
    "start_time": "2021-06-16T23:41:17.531Z"
   },
   {
    "duration": 1828,
    "start_time": "2021-06-16T23:43:37.182Z"
   },
   {
    "duration": 28,
    "start_time": "2021-06-16T23:43:39.012Z"
   },
   {
    "duration": 699,
    "start_time": "2021-06-16T23:43:39.043Z"
   },
   {
    "duration": 8287,
    "start_time": "2021-06-16T23:43:39.744Z"
   },
   {
    "duration": 328,
    "start_time": "2021-06-16T23:43:48.034Z"
   }
  ],
  "kernelspec": {
   "display_name": "Python 3",
   "language": "python",
   "name": "python3"
  },
  "language_info": {
   "codemirror_mode": {
    "name": "ipython",
    "version": 3
   },
   "file_extension": ".py",
   "mimetype": "text/x-python",
   "name": "python",
   "nbconvert_exporter": "python",
   "pygments_lexer": "ipython3",
   "version": "3.8.5"
  },
  "toc": {
   "base_numbering": 1,
   "nav_menu": {},
   "number_sections": true,
   "sideBar": true,
   "skip_h1_title": true,
   "title_cell": "Table of Contents",
   "title_sidebar": "Contents",
   "toc_cell": false,
   "toc_position": {},
   "toc_section_display": true,
   "toc_window_display": false
  }
 },
 "nbformat": 4,
 "nbformat_minor": 4
}
