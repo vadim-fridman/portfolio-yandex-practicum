{
 "cells": [
  {
   "cell_type": "markdown",
   "metadata": {},
   "source": [
    "## Researsch  on Megaline's prepaid plans \n",
    "\n",
    "You work as an analyst for the telecom operator Megaline. The company offers its clients two prepaid plans, _Surf_ and _Ultimate_. The commercial department wants to know which of the plans brings in more revenue in order to adjust the advertising budget."
   ]
  },
  {
   "cell_type": "markdown",
   "metadata": {},
   "source": [
    "# Step 1. Open the data file and study the general information"
   ]
  },
  {
   "cell_type": "code",
   "execution_count": 1,
   "metadata": {},
   "outputs": [],
   "source": [
    "import pandas as pd\n",
    "import matplotlib.pyplot as plt\n",
    "import math\n",
    "import scipy.stats as st\n",
    "from functools import reduce\n",
    "\n",
    "import warnings\n",
    "warnings.filterwarnings('ignore')\n",
    "\n",
    "calls = pd.read_csv(\"/datasets/megaline_calls.csv\")\n",
    "\n",
    "internet = pd.read_csv(\"/datasets/megaline_internet.csv\")\n",
    "\n",
    "messages = pd.read_csv(\"/datasets/megaline_messages.csv\")\n",
    "\n",
    "plans = pd.read_csv(\"/datasets/megaline_plans.csv\")\n",
    "\n",
    "users = pd.read_csv(\"/datasets/megaline_users.csv\")"
   ]
  },
  {
   "cell_type": "markdown",
   "metadata": {},
   "source": [
    "We have opened all data files we have and store it as pandas dataframes to work with python. Let's see the detailed info about each one. "
   ]
  },
  {
   "cell_type": "code",
   "execution_count": 2,
   "metadata": {},
   "outputs": [],
   "source": [
    "#print(calls.info())\n",
    "#print(calls.head())\n",
    "\n",
    "#print(calls.isnull().sum())"
   ]
  },
  {
   "cell_type": "markdown",
   "metadata": {},
   "source": [
    "The _calls_ dataset at least looks like a \"normal\" table (we don't need to use \"sep\" or \"decimal\" parameter of _read_csv()_ function, which were introduced in our previous theory chapter).\n",
    "\n",
    "As we can see in the output, we have a few issues with the data:\n",
    "\n",
    "- Ids are saved as objects, but it seems, that this entries consist from numbers and underscore. If we get rid of underscores, we may save data in this column as integers to save memory. (Sure, the IDs must stay unique values.)\n",
    "\n",
    "- Some of datatypes do not suits the saved data (e.g. float64 for call durations in seconds(we can round it up), \"call_date\" as object etc.). We have to handle it.\n",
    "\n",
    "- Some data can be missing, though we do not see any signs of it in the _head()_ output. \n",
    "\n",
    "- We also don't see any duplicates in the _head()_ method output, but we have to check it more precisely and (if necessary) to handle it."
   ]
  },
  {
   "cell_type": "code",
   "execution_count": 3,
   "metadata": {},
   "outputs": [],
   "source": [
    "#print(internet.info())\n",
    "#print(internet.head())\n",
    "#print(internet.isnull().sum())"
   ]
  },
  {
   "cell_type": "markdown",
   "metadata": {},
   "source": [
    "The _internet_ dataset at least looks like a \"normal\" table (we don't need to use \"sep\" or \"decimal\" parameter of _read_csv()_ function, which were introduced in our previous theory chapter).\n",
    "\n",
    "As we can see in the output, we have a few issues with the data:\n",
    "\n",
    "- We have 33K rows less in this table(in compare to _calls_ table). Maybe 33K customers does not used internet at all (this version is very doubtful: in the _head()_ output of user 1000_204 we see 0.0 mb_used), or we have some missing data(seems to be more realistic). We have to check it. \n",
    "\n",
    "- Ids are saved as objects, but it seems, that this entries consist from numbers and underscore. If we get rid of underscores, we may save data in this column as integers to save memory. (Sure, the IDs must stay unique values.)\n",
    "\n",
    "- Some of datatypes do not suits the saved data (e.g. float64 for _mb_used_ in mb(we can round it up), \"session_date\" as object etc.). We have to handle it.\n",
    "\n",
    "- Some data can be missing, though we do not see any signs of it in the _head()__ output. \n",
    "\n",
    "- We also don't see any duplicates in the _head()_ method output, but we have to check it more precisely and (if necessary) to handle it."
   ]
  },
  {
   "cell_type": "code",
   "execution_count": 4,
   "metadata": {},
   "outputs": [],
   "source": [
    "#print(messages.info())\n",
    "#print(messages.tail())\n",
    "#print(messages.isnull().sum())"
   ]
  },
  {
   "cell_type": "markdown",
   "metadata": {},
   "source": [
    "The _messages_ dataset at least looks like a \"normal\" table (we don't need to use \"sep\" or \"decimal\" parameter of _read_csv()_ function, which were introduced in our previous theory chapter).\n",
    "\n",
    "As we can see in the output, we have a few issues with the data:\n",
    "\n",
    "- We have twice less data in this table (in compare to calls table). May be the half of customers does not used messages at all, or we have some missing data. We have to check it. \n",
    "\n",
    "- Ids are saved as objects, but it seems, that this entries consist from numbers and underscore. If we get rid of underscores, we may save data in this column as integers to save memory. (Sure, the IDs must stay unique values.)\n",
    "\n",
    "- Some of datatypes do not suits the saved data (e.g. int64 for _user_id_ which are seems to be really small integers, \"message_date\" as object etc.). We have to handle it.\n",
    "\n",
    "- Some data can be missing, though we do not see any signs of it in the _head()_ output. \n",
    "\n",
    "- We also don't see any duplicates in the _head()_ method output, but we have to check it more precisely and (if necessary) to handle it."
   ]
  },
  {
   "cell_type": "code",
   "execution_count": 5,
   "metadata": {},
   "outputs": [],
   "source": [
    "#print(plans.info())\n",
    "#print(plans.tail())"
   ]
  },
  {
   "cell_type": "markdown",
   "metadata": {},
   "source": [
    "The _plans_ dataset looks like a \"normal\" table (we don't need to use \"sep\" or \"decimal\" parameter of _read_csv()_ function, which were introduced in our previous theory chapter).\n",
    "\n",
    "As we can see in the output, we have a few issues with the data:\n",
    "\n",
    "- Some of datatypes do not suits the saved data (e.g. int64 for _messages_included_, _mb_per_month_included_, _minutes_included_, _usd_per_gb_,  which are seems to be really small integers, etc.). We have to handle it. \n",
    "\n",
    "- we can rename columns _usd_per_message/usd_per_minute_ and save date in cents to avoid using floats. But we have a tiny 256.0+ bytes table, so in this case we can also leave it as is. "
   ]
  },
  {
   "cell_type": "code",
   "execution_count": 6,
   "metadata": {},
   "outputs": [],
   "source": [
    "#print(users.info())\n",
    "#print(users.tail())\n",
    "#print(users.isnull().sum())"
   ]
  },
  {
   "cell_type": "markdown",
   "metadata": {},
   "source": [
    "The _users_ dataset looks like a \"normal\" table (we don't need to use \"sep\" or \"decimal\" parameter of _read_csv()_ function, which were introduced in our previous theory chapter).\n",
    "\n",
    "We know now, that we have data of 500 users only, so it seems to be okay, that the tables calls, messeges, internet have the different lenght. \n",
    "\n",
    "As we can see in the output, we have a few issues with the data:\n",
    "\n",
    "- Some of datatypes do not suits the saved data (e.g. int64 for _age_, _user_id_ which are seems to be really small integers, \"plan\" as object etc.). We have to handle it.\n",
    "\n",
    "- Some data can be missing, though we do not see any signs of it in the _head()_ output. \n",
    "\n",
    "- We also don't see any duplicates in the _head()_ method output, but we have to check it more precisely and (if necessary) to handle it."
   ]
  },
  {
   "cell_type": "markdown",
   "metadata": {},
   "source": [
    "### Step 1. Conclusion"
   ]
  },
  {
   "cell_type": "markdown",
   "metadata": {},
   "source": [
    "At first we have imported data from each .csv-file to a corresponding dataframes in our system to work with python.\n",
    "\n",
    "We have no NaN in our dataset. (Except the _churn_date_ column, but the majority of customers have no churn date, so it is all right.)\n",
    "\n",
    "All the data seems to be in really good shape with only a few minor datatype issuses we can fast handle, what we are going to do next.  "
   ]
  },
  {
   "cell_type": "markdown",
   "metadata": {},
   "source": [
    "# Step 2. Data preprocessing"
   ]
  },
  {
   "cell_type": "markdown",
   "metadata": {},
   "source": [
    "Let's convert the data to the necessary types. But at first we have to round minutes und internet sessions up. We do not really need the exact float values and we can save some memory. "
   ]
  },
  {
   "cell_type": "code",
   "execution_count": 7,
   "metadata": {},
   "outputs": [
    {
     "data": {
      "text/plain": [
       "1497"
      ]
     },
     "execution_count": 7,
     "metadata": {},
     "output_type": "execute_result"
    }
   ],
   "source": [
    "calls['duration'] = calls['duration'].apply(math.ceil)\n",
    "\n",
    "internet['mb_used'] = internet['mb_used'].apply(math.ceil)\n",
    "\n",
    "#internet.head()\n",
    "#internet['mb_used'].max()\n",
    "\n",
    "messages['user_id'].max()"
   ]
  },
  {
   "cell_type": "code",
   "execution_count": 8,
   "metadata": {},
   "outputs": [],
   "source": [
    "#print(calls.info())\n",
    "#print(internet.info())\n",
    "#print(messages.info())\n",
    "#print(users.info())\n",
    "\n",
    "calls['duration']=calls['duration'].astype('int8')\n",
    "calls['user_id']=calls['user_id'].astype('int16')\n",
    "calls['call_date']=calls['call_date'].astype(\"datetime64\")\n",
    "\n",
    "internet['user_id']=internet['user_id'].astype('int16')\n",
    "internet['mb_used']= internet['mb_used'].astype('int16')\n",
    "internet['session_date']=internet['session_date'].astype(\"datetime64\")\n",
    "\n",
    "messages['user_id']=messages['user_id'].astype('int16')\n",
    "messages['message_date']=messages['message_date'].astype(\"datetime64\")\n",
    "\n",
    "users['user_id']=users['user_id'].astype('int16')\n",
    "users['age']=users['age'].astype('int8')\n",
    "users['reg_date'] = users['reg_date'].astype(\"datetime64\")\n",
    "users['churn_date'] = users['churn_date'].astype(\"datetime64\")\n",
    "\n",
    "users = users.drop(columns=['first_name', 'last_name'])\n",
    "\n",
    "\n",
    "#print(calls.info())\n",
    "#print(internet.info())\n",
    "#print(messages.info())\n",
    "#print(users.info())"
   ]
  },
  {
   "cell_type": "markdown",
   "metadata": {},
   "source": [
    "We saved \n",
    "- 4.2 -> 2.5,\n",
    "- 3.2 -> 2.0,\n",
    "- 1.7 -> 1.3\n",
    "\n",
    "up to 40% used memory (without dropping any data in first three cases). It is not really important in this particular case, but it can be very useful during the work with large datasets.\n",
    "\n",
    "We also droped some personal data in _users_ dataframe we do not need for our analysis(name & surname of customers)\n",
    "\n",
    "Let's check, if we have any duplicates in our dataset."
   ]
  },
  {
   "cell_type": "code",
   "execution_count": 9,
   "metadata": {},
   "outputs": [
    {
     "name": "stdout",
     "output_type": "stream",
     "text": [
      "137735\n",
      "104825\n",
      "76051\n"
     ]
    }
   ],
   "source": [
    "print(len(calls))\n",
    "print(len(internet))\n",
    "print(len(messages))"
   ]
  },
  {
   "cell_type": "code",
   "execution_count": 10,
   "metadata": {},
   "outputs": [],
   "source": [
    "calls.drop_duplicates(inplace=True)\n",
    "\n",
    "internet.drop_duplicates(inplace=True)\n",
    "\n",
    "messages.drop_duplicates(inplace=True)"
   ]
  },
  {
   "cell_type": "code",
   "execution_count": 11,
   "metadata": {},
   "outputs": [
    {
     "name": "stdout",
     "output_type": "stream",
     "text": [
      "137735\n",
      "104825\n",
      "76051\n"
     ]
    }
   ],
   "source": [
    "print(len(calls))\n",
    "print(len(internet))\n",
    "print(len(messages))"
   ]
  },
  {
   "cell_type": "markdown",
   "metadata": {},
   "source": [
    "We had no duplucates in our data. We are going to change our datasets a bit to make easier working with it. "
   ]
  },
  {
   "cell_type": "code",
   "execution_count": 12,
   "metadata": {},
   "outputs": [],
   "source": [
    "users.set_index(users['user_id'],inplace=True)"
   ]
  },
  {
   "cell_type": "code",
   "execution_count": 13,
   "metadata": {},
   "outputs": [],
   "source": [
    "users.drop('user_id', axis=1, inplace=True)"
   ]
  },
  {
   "cell_type": "code",
   "execution_count": 14,
   "metadata": {},
   "outputs": [],
   "source": [
    "calls['date'] = calls['call_date']\n",
    "\n",
    "calls.drop('call_date', axis=1, inplace=True)\n",
    "#print(calls.info())"
   ]
  },
  {
   "cell_type": "code",
   "execution_count": 15,
   "metadata": {},
   "outputs": [],
   "source": [
    "internet['date'] = internet['session_date']\n",
    "internet.set_index(internet[\"session_date\"],inplace=True)\n",
    "internet.drop('session_date', axis=1, inplace=True)"
   ]
  },
  {
   "cell_type": "code",
   "execution_count": 16,
   "metadata": {},
   "outputs": [],
   "source": [
    "messages['date'] = messages['message_date']\n",
    "messages.set_index(messages[\"message_date\"],inplace=True)\n",
    "messages.drop('message_date', axis=1, inplace=True)"
   ]
  },
  {
   "cell_type": "code",
   "execution_count": 17,
   "metadata": {},
   "outputs": [],
   "source": [
    "def add_month(date):\n",
    "    if date.month == 12:\n",
    "        return 'December'\n",
    "    if date.month == 11:\n",
    "        return 'November'\n",
    "    if date.month == 10:\n",
    "        return 'October'\n",
    "    if date.month == 9:\n",
    "        return 'September'\n",
    "    if date.month == 8:\n",
    "        return 'August'\n",
    "    if date.month == 7:\n",
    "        return 'July'\n",
    "    if date.month == 6:\n",
    "        return 'Juni'\n",
    "    if date.month == 5:\n",
    "        return 'May'\n",
    "    if date.month == 4:\n",
    "        return 'Aprile'\n",
    "    if date.month == 3:\n",
    "        return 'March'\n",
    "    if date.month == 2:\n",
    "        return 'Februar'\n",
    "    if date.month == 1:\n",
    "        return 'Januar'"
   ]
  },
  {
   "cell_type": "code",
   "execution_count": 18,
   "metadata": {},
   "outputs": [],
   "source": [
    "#print(users.info())\n",
    "#print(users.head())"
   ]
  },
  {
   "cell_type": "code",
   "execution_count": 19,
   "metadata": {},
   "outputs": [],
   "source": [
    "messages['month'] = messages['date'].apply(add_month)\n",
    "internet['month'] = internet['date'].apply(add_month)\n",
    "calls['month'] = calls['date'].apply(add_month)"
   ]
  },
  {
   "cell_type": "code",
   "execution_count": 20,
   "metadata": {},
   "outputs": [],
   "source": [
    "#print(internet.head(10))\n",
    "#print(internet.head(10))\n",
    "#print(calls.head(10))"
   ]
  },
  {
   "cell_type": "markdown",
   "metadata": {},
   "source": [
    "And now we can to find \n",
    "\n",
    "* The number of calls made and minutes used per month\n",
    "* The number of text messages sent per month\n",
    "* The volume of data per month\n",
    "\n",
    "as we were asked in the task. "
   ]
  },
  {
   "cell_type": "markdown",
   "metadata": {},
   "source": [
    "But first we have to filter all the calls with length equal to 0 seconds. "
   ]
  },
  {
   "cell_type": "markdown",
   "metadata": {},
   "source": [
    "We found 27K calls data with the 0 seconds length. We assume, it were missed/not answered calls, so they should be free of charge; it might also theoretically be some sort of corrupted data in our dataset, but we got rid of it and at any case this data can not affect our further calculations. In real life we would preffer to ask a person how gave us the data about this calls. But the first version about not answered calls seems to be plausible."
   ]
  },
  {
   "cell_type": "code",
   "execution_count": 21,
   "metadata": {},
   "outputs": [
    {
     "name": "stdout",
     "output_type": "stream",
     "text": [
      "137735\n",
      "110901\n"
     ]
    }
   ],
   "source": [
    "print(len(calls))\n",
    "real_calls = calls[calls['duration'] > 0]\n",
    "print(len(real_calls))\n",
    "#print(real_calls.head())"
   ]
  },
  {
   "cell_type": "code",
   "execution_count": 22,
   "metadata": {},
   "outputs": [
    {
     "name": "stdout",
     "output_type": "stream",
     "text": [
      "total_messages    266\n",
      "dtype: int64\n",
      "total_messages    1\n",
      "dtype: int64\n"
     ]
    }
   ],
   "source": [
    "messages_pivot = pd.pivot_table(messages, index=['user_id', 'month'], values='date', aggfunc='count')\n",
    "messages_pivot.columns = ['total_messages']\n",
    "#print(messages_pivot.head(10)) \n",
    "print(messages_pivot.max()) \n",
    "print(messages_pivot.min())"
   ]
  },
  {
   "cell_type": "markdown",
   "metadata": {},
   "source": [
    "In the previous cell we can check the number of text messages sent per month for each user.\n",
    "\n",
    "So 266 messages per month as _max()_ value is a really low value (IOHO), but it is not impossible. \n",
    "\n",
    "Just 1 SMS as _min()_ value seems to be okay too."
   ]
  },
  {
   "cell_type": "code",
   "execution_count": 23,
   "metadata": {},
   "outputs": [
    {
     "name": "stdout",
     "output_type": "stream",
     "text": [
      "month              September\n",
      "total_call_time         1510\n",
      "dtype: object\n",
      "month              Aprile\n",
      "total_call_time         2\n",
      "dtype: object\n"
     ]
    }
   ],
   "source": [
    "calls_pivot = pd.pivot_table(real_calls, index=['user_id', 'month'], values='duration', \n",
    "               aggfunc='sum')\n",
    "calls_pivot.columns = ['total_call_time']\n",
    "\n",
    "#print(calls_pivot.max())\n",
    "calls_pivot['total_call_time']=calls_pivot['total_call_time'].astype('int16')\n",
    "#print(calls_pivot.head(10))\n",
    "\n",
    "calls_pivot = calls_pivot.reset_index('month')\n",
    "\n",
    "#print(calls_pivot.head(10))\n",
    "\n",
    "print(calls_pivot.max()) \n",
    "print(calls_pivot.min())\n"
   ]
  },
  {
   "cell_type": "markdown",
   "metadata": {},
   "source": [
    "In the previous cell we can check the number of calls made and minutes used per month for each user.\n",
    "\n",
    "Max/min values are within reason: the maximum value is 1510 minutes. It is about 25 hours per month, in other words, it is less then an hour per day. We know a few persons how can phone even more. \n",
    "\n",
    "Two minutes as minimal a monthly call length are also plausible. "
   ]
  },
  {
   "cell_type": "code",
   "execution_count": 24,
   "metadata": {},
   "outputs": [
    {
     "name": "stdout",
     "output_type": "stream",
     "text": [
      "total_mb_used     70988.0\n",
      "mean_mb_used       1176.0\n",
      "median_mb_used     1176.0\n",
      "dtype: float64\n",
      "total_mb_used     93.0\n",
      "mean_mb_used      46.5\n",
      "median_mb_used    26.0\n",
      "dtype: float64\n"
     ]
    }
   ],
   "source": [
    "internet_pivot = pd.pivot_table(internet, index=['user_id', 'month'], values='mb_used',\n",
    "                              aggfunc=['sum','mean', 'median'])\n",
    "internet_pivot.columns = ['total_mb_used', 'mean_mb_used', 'median_mb_used']\n",
    "\n",
    "#print(internet_pivot.head(10))\n",
    "print(internet_pivot.max()) \n",
    "print(internet_pivot.min())\n"
   ]
  },
  {
   "cell_type": "markdown",
   "metadata": {},
   "source": [
    "In the previous cell we can check the volume of data per month for each user.\n",
    "\n",
    "Max/min values are within reason: the maximum value is about 71 Gb data. We know a few persons how can spend even more. \n",
    "\n",
    "93 Mb as minimal a monthly call data consumption are also plausible. "
   ]
  },
  {
   "cell_type": "markdown",
   "metadata": {},
   "source": [
    "An now we are going to calculate \n",
    "\n",
    "* The monthly revenue from each user (subtract the free package limit from the total number of calls, text messages, and data; multiply the result by the calling plan value; add the monthly charge depending on the calling plan)\n",
    "\n",
    "To do it, we are going to merge our filtered datasets. "
   ]
  },
  {
   "cell_type": "code",
   "execution_count": 25,
   "metadata": {
    "scrolled": true
   },
   "outputs": [],
   "source": [
    "data_frames = [calls_pivot, internet_pivot, messages_pivot]\n",
    "df_merged = reduce(lambda  left,right: pd.merge(left,right,on=['user_id', 'month'],\n",
    "                                            how='outer'), data_frames)\n",
    "\n",
    "df = users.join(df_merged, on='user_id')\n",
    "\n",
    "#df.head()"
   ]
  },
  {
   "cell_type": "markdown",
   "metadata": {},
   "source": [
    "And now we can actually calculate the revenue. "
   ]
  },
  {
   "cell_type": "code",
   "execution_count": 26,
   "metadata": {},
   "outputs": [],
   "source": [
    "def calc(row):\n",
    "    \n",
    "    paid_calls = 0\n",
    "    paid_data = 0\n",
    "    paid_messages = 0\n",
    "    \n",
    "    if row['plan'] == 'ultimate':\n",
    "        call_threshold = 3000\n",
    "        minute_cost = 0.01\n",
    "        \n",
    "        data_threshold = 30*1024\n",
    "        data_cost = 7/1024\n",
    "        \n",
    "        messages_threshold = 1000\n",
    "        message_cost = 0.01\n",
    "        \n",
    "    if row['plan'] == 'surf':\n",
    "        \n",
    "        call_threshold = 500\n",
    "        minute_cost = 0.03\n",
    "        \n",
    "        data_threshold = 15*1024\n",
    "        data_cost = 10/1024\n",
    "        \n",
    "        messages_threshold = 50\n",
    "        message_cost = 0.03\n",
    "    \n",
    "    calls = row['total_call_time'] - call_threshold\n",
    "    \n",
    "    if calls > 0:\n",
    "        paid_calls = abs(calls) * minute_cost\n",
    "    \n",
    "    \n",
    "    data = row['total_mb_used'] - data_threshold\n",
    "    \n",
    "    if data > 0:\n",
    "        paid_data = abs(data) * data_cost\n",
    "        \n",
    "    sms = row['total_messages'] - messages_threshold\n",
    "    \n",
    "    if sms > 0:\n",
    "        paid_messages = abs(sms) * message_cost   \n",
    "        \n",
    "        \n",
    "    if row['plan'] == 'ultimate':\n",
    "        return 70 + paid_calls + paid_data + paid_messages\n",
    "    \n",
    "    if row['plan'] == 'surf':\n",
    "        return 20 + paid_calls + paid_data + paid_messages\n",
    "    \n",
    "     "
   ]
  },
  {
   "cell_type": "code",
   "execution_count": 27,
   "metadata": {},
   "outputs": [],
   "source": [
    "df['total_revenue'] = df.apply(calc, axis = 1)\n",
    "\n",
    "#df.head()"
   ]
  },
  {
   "cell_type": "code",
   "execution_count": 28,
   "metadata": {},
   "outputs": [],
   "source": [
    "pivot_revenue = pd.pivot_table(df, index='user_id', values='total_revenue', aggfunc='sum')\n",
    "\n",
    "pivot_revenue['avg_revenue_per_month'] = pivot_revenue['total_revenue'] / 12\n",
    "\n",
    "pivot_revenue = pivot_revenue.merge(users, on='user_id')\n",
    "\n",
    "pivot_revenue = pivot_revenue.drop([ 'age', 'reg_date', 'churn_date'], axis=1)\n",
    "\n",
    "#print(pivot_revenue.sort_values('total_revenue', ascending=False).head(20))\n"
   ]
  },
  {
   "cell_type": "markdown",
   "metadata": {},
   "source": [
    "### Step 2. Conclusion"
   ]
  },
  {
   "cell_type": "markdown",
   "metadata": {},
   "source": [
    "We had done a really huge work in this section. \n",
    "\n",
    "At first we converted the data we had to a desired datatypes and saved up to 40% of used memory. \n",
    "\n",
    "We filtered all the 27K calls data with the 0 seconds length. We assume, it were missed/not answered calls, so they should be free of charge; it might also be some corrupted data in our dataset, but we got rid of it and at any case this data can not not affect our further calculations. \n",
    "\n",
    "We also checked, if we have any duplicates in the dataset. It was not the case. We have to say, this time we got relative clean data. \n",
    "\n",
    "Finally we calculated the number of calls, the number of text messages, the volume of used data per each user per month and the monthly revenue for each user. \n",
    "\n",
    "We have additionally founded an average monthly revenue on dependance of the calling plan and founded out, that the _Surf_ plan is a great money maker for Megaline: in top-20 customers how spend the most amount of money there are only 6 with _Ultimate_ plan; in top-10 there is only one(!!!) _Ultimate_ customer. "
   ]
  },
  {
   "cell_type": "markdown",
   "metadata": {},
   "source": [
    "# Step 3. Analyze the data"
   ]
  },
  {
   "cell_type": "markdown",
   "metadata": {},
   "source": [
    "Bevore describe the customers' behavior, let's find the minutes, texts, and volume of data the users of each plan require per month. "
   ]
  },
  {
   "cell_type": "code",
   "execution_count": 29,
   "metadata": {
    "scrolled": true
   },
   "outputs": [
    {
     "data": {
      "text/html": [
       "<div>\n",
       "<style scoped>\n",
       "    .dataframe tbody tr th:only-of-type {\n",
       "        vertical-align: middle;\n",
       "    }\n",
       "\n",
       "    .dataframe tbody tr th {\n",
       "        vertical-align: top;\n",
       "    }\n",
       "\n",
       "    .dataframe thead th {\n",
       "        text-align: right;\n",
       "    }\n",
       "</style>\n",
       "<table border=\"1\" class=\"dataframe\">\n",
       "  <thead>\n",
       "    <tr style=\"text-align: right;\">\n",
       "      <th></th>\n",
       "      <th>age</th>\n",
       "      <th>total_call_time</th>\n",
       "      <th>total_mb_used</th>\n",
       "      <th>mean_mb_used</th>\n",
       "      <th>median_mb_used</th>\n",
       "      <th>total_messages</th>\n",
       "      <th>total_revenue</th>\n",
       "    </tr>\n",
       "  </thead>\n",
       "  <tbody>\n",
       "    <tr>\n",
       "      <td>count</td>\n",
       "      <td>2303.000000</td>\n",
       "      <td>2256.000000</td>\n",
       "      <td>2277.000000</td>\n",
       "      <td>2277.000000</td>\n",
       "      <td>2277.000000</td>\n",
       "      <td>1806.000000</td>\n",
       "      <td>2303.000000</td>\n",
       "    </tr>\n",
       "    <tr>\n",
       "      <td>mean</td>\n",
       "      <td>45.420756</td>\n",
       "      <td>436.324025</td>\n",
       "      <td>16901.955204</td>\n",
       "      <td>376.066033</td>\n",
       "      <td>356.232543</td>\n",
       "      <td>42.110188</td>\n",
       "      <td>62.212069</td>\n",
       "    </tr>\n",
       "    <tr>\n",
       "      <td>std</td>\n",
       "      <td>16.774962</td>\n",
       "      <td>231.711444</td>\n",
       "      <td>7877.348774</td>\n",
       "      <td>101.135919</td>\n",
       "      <td>117.530988</td>\n",
       "      <td>33.122931</td>\n",
       "      <td>45.532268</td>\n",
       "    </tr>\n",
       "    <tr>\n",
       "      <td>min</td>\n",
       "      <td>18.000000</td>\n",
       "      <td>2.000000</td>\n",
       "      <td>93.000000</td>\n",
       "      <td>46.500000</td>\n",
       "      <td>26.000000</td>\n",
       "      <td>1.000000</td>\n",
       "      <td>20.000000</td>\n",
       "    </tr>\n",
       "    <tr>\n",
       "      <td>25%</td>\n",
       "      <td>30.000000</td>\n",
       "      <td>275.000000</td>\n",
       "      <td>12362.000000</td>\n",
       "      <td>308.362069</td>\n",
       "      <td>275.000000</td>\n",
       "      <td>17.000000</td>\n",
       "      <td>22.868242</td>\n",
       "    </tr>\n",
       "    <tr>\n",
       "      <td>50%</td>\n",
       "      <td>46.000000</td>\n",
       "      <td>429.000000</td>\n",
       "      <td>16896.000000</td>\n",
       "      <td>343.060000</td>\n",
       "      <td>323.000000</td>\n",
       "      <td>34.000000</td>\n",
       "      <td>70.000000</td>\n",
       "    </tr>\n",
       "    <tr>\n",
       "      <td>75%</td>\n",
       "      <td>61.000000</td>\n",
       "      <td>575.250000</td>\n",
       "      <td>21068.000000</td>\n",
       "      <td>441.697674</td>\n",
       "      <td>428.000000</td>\n",
       "      <td>59.000000</td>\n",
       "      <td>70.000000</td>\n",
       "    </tr>\n",
       "    <tr>\n",
       "      <td>max</td>\n",
       "      <td>75.000000</td>\n",
       "      <td>1510.000000</td>\n",
       "      <td>70988.000000</td>\n",
       "      <td>1176.000000</td>\n",
       "      <td>1176.000000</td>\n",
       "      <td>266.000000</td>\n",
       "      <td>583.612188</td>\n",
       "    </tr>\n",
       "  </tbody>\n",
       "</table>\n",
       "</div>"
      ],
      "text/plain": [
       "               age  total_call_time  total_mb_used  mean_mb_used  \\\n",
       "count  2303.000000      2256.000000    2277.000000   2277.000000   \n",
       "mean     45.420756       436.324025   16901.955204    376.066033   \n",
       "std      16.774962       231.711444    7877.348774    101.135919   \n",
       "min      18.000000         2.000000      93.000000     46.500000   \n",
       "25%      30.000000       275.000000   12362.000000    308.362069   \n",
       "50%      46.000000       429.000000   16896.000000    343.060000   \n",
       "75%      61.000000       575.250000   21068.000000    441.697674   \n",
       "max      75.000000      1510.000000   70988.000000   1176.000000   \n",
       "\n",
       "       median_mb_used  total_messages  total_revenue  \n",
       "count     2277.000000     1806.000000    2303.000000  \n",
       "mean       356.232543       42.110188      62.212069  \n",
       "std        117.530988       33.122931      45.532268  \n",
       "min         26.000000        1.000000      20.000000  \n",
       "25%        275.000000       17.000000      22.868242  \n",
       "50%        323.000000       34.000000      70.000000  \n",
       "75%        428.000000       59.000000      70.000000  \n",
       "max       1176.000000      266.000000     583.612188  "
      ]
     },
     "execution_count": 29,
     "metadata": {},
     "output_type": "execute_result"
    }
   ],
   "source": [
    "df.describe()"
   ]
  },
  {
   "cell_type": "markdown",
   "metadata": {},
   "source": [
    "We can find the general values in the output in previous cell, but to find asked fugures for each calling plan we neeed some additional calculations. "
   ]
  },
  {
   "cell_type": "code",
   "execution_count": 30,
   "metadata": {},
   "outputs": [
    {
     "data": {
      "text/html": [
       "<div>\n",
       "<style scoped>\n",
       "    .dataframe tbody tr th:only-of-type {\n",
       "        vertical-align: middle;\n",
       "    }\n",
       "\n",
       "    .dataframe tbody tr th {\n",
       "        vertical-align: top;\n",
       "    }\n",
       "\n",
       "    .dataframe thead tr th {\n",
       "        text-align: left;\n",
       "    }\n",
       "\n",
       "    .dataframe thead tr:last-of-type th {\n",
       "        text-align: right;\n",
       "    }\n",
       "</style>\n",
       "<table border=\"1\" class=\"dataframe\">\n",
       "  <thead>\n",
       "    <tr>\n",
       "      <th></th>\n",
       "      <th colspan=\"4\" halign=\"left\">mean</th>\n",
       "      <th colspan=\"4\" halign=\"left\">median</th>\n",
       "      <th colspan=\"4\" halign=\"left\">var</th>\n",
       "      <th colspan=\"4\" halign=\"left\">std</th>\n",
       "    </tr>\n",
       "    <tr>\n",
       "      <th></th>\n",
       "      <th>total_call_time</th>\n",
       "      <th>total_mb_used</th>\n",
       "      <th>total_messages</th>\n",
       "      <th>total_revenue</th>\n",
       "      <th>total_call_time</th>\n",
       "      <th>total_mb_used</th>\n",
       "      <th>total_messages</th>\n",
       "      <th>total_revenue</th>\n",
       "      <th>total_call_time</th>\n",
       "      <th>total_mb_used</th>\n",
       "      <th>total_messages</th>\n",
       "      <th>total_revenue</th>\n",
       "      <th>total_call_time</th>\n",
       "      <th>total_mb_used</th>\n",
       "      <th>total_messages</th>\n",
       "      <th>total_revenue</th>\n",
       "    </tr>\n",
       "    <tr>\n",
       "      <th>plan</th>\n",
       "      <th></th>\n",
       "      <th></th>\n",
       "      <th></th>\n",
       "      <th></th>\n",
       "      <th></th>\n",
       "      <th></th>\n",
       "      <th></th>\n",
       "      <th></th>\n",
       "      <th></th>\n",
       "      <th></th>\n",
       "      <th></th>\n",
       "      <th></th>\n",
       "      <th></th>\n",
       "      <th></th>\n",
       "      <th></th>\n",
       "      <th></th>\n",
       "    </tr>\n",
       "  </thead>\n",
       "  <tbody>\n",
       "    <tr>\n",
       "      <td>surf</td>\n",
       "      <td>436.802461</td>\n",
       "      <td>16737.361361</td>\n",
       "      <td>40.109656</td>\n",
       "      <td>57.670239</td>\n",
       "      <td>430.0</td>\n",
       "      <td>16945.5</td>\n",
       "      <td>32.0</td>\n",
       "      <td>37.431641</td>\n",
       "      <td>52481.561083</td>\n",
       "      <td>6.229040e+07</td>\n",
       "      <td>1091.344231</td>\n",
       "      <td>2905.424897</td>\n",
       "      <td>229.088544</td>\n",
       "      <td>7892.426749</td>\n",
       "      <td>33.035500</td>\n",
       "      <td>53.901993</td>\n",
       "    </tr>\n",
       "    <tr>\n",
       "      <td>ultimate</td>\n",
       "      <td>435.286517</td>\n",
       "      <td>17258.613352</td>\n",
       "      <td>46.296233</td>\n",
       "      <td>72.117526</td>\n",
       "      <td>425.5</td>\n",
       "      <td>16887.0</td>\n",
       "      <td>41.0</td>\n",
       "      <td>70.000000</td>\n",
       "      <td>56387.085163</td>\n",
       "      <td>6.143726e+07</td>\n",
       "      <td>1085.183108</td>\n",
       "      <td>116.331160</td>\n",
       "      <td>237.459650</td>\n",
       "      <td>7838.192189</td>\n",
       "      <td>32.942118</td>\n",
       "      <td>10.785692</td>\n",
       "    </tr>\n",
       "  </tbody>\n",
       "</table>\n",
       "</div>"
      ],
      "text/plain": [
       "                    mean                                             \\\n",
       "         total_call_time total_mb_used total_messages total_revenue   \n",
       "plan                                                                  \n",
       "surf          436.802461  16737.361361      40.109656     57.670239   \n",
       "ultimate      435.286517  17258.613352      46.296233     72.117526   \n",
       "\n",
       "                  median                                             \\\n",
       "         total_call_time total_mb_used total_messages total_revenue   \n",
       "plan                                                                  \n",
       "surf               430.0       16945.5           32.0     37.431641   \n",
       "ultimate           425.5       16887.0           41.0     70.000000   \n",
       "\n",
       "                     var                                             \\\n",
       "         total_call_time total_mb_used total_messages total_revenue   \n",
       "plan                                                                  \n",
       "surf        52481.561083  6.229040e+07    1091.344231   2905.424897   \n",
       "ultimate    56387.085163  6.143726e+07    1085.183108    116.331160   \n",
       "\n",
       "                     std                                             \n",
       "         total_call_time total_mb_used total_messages total_revenue  \n",
       "plan                                                                 \n",
       "surf          229.088544   7892.426749      33.035500     53.901993  \n",
       "ultimate      237.459650   7838.192189      32.942118     10.785692  "
      ]
     },
     "execution_count": 30,
     "metadata": {},
     "output_type": "execute_result"
    }
   ],
   "source": [
    "plans_pivot = pd.pivot_table(df, index='plan', values=['total_messages', 'total_mb_used', 'total_call_time', 'total_revenue'], \n",
    "                                                         aggfunc=['mean', 'median', 'var', 'std'])\n",
    "\n",
    "plans_pivot"
   ]
  },
  {
   "cell_type": "code",
   "execution_count": 31,
   "metadata": {},
   "outputs": [
    {
     "data": {
      "text/html": [
       "<div>\n",
       "<style scoped>\n",
       "    .dataframe tbody tr th:only-of-type {\n",
       "        vertical-align: middle;\n",
       "    }\n",
       "\n",
       "    .dataframe tbody tr th {\n",
       "        vertical-align: top;\n",
       "    }\n",
       "\n",
       "    .dataframe thead tr th {\n",
       "        text-align: left;\n",
       "    }\n",
       "\n",
       "    .dataframe thead tr:last-of-type th {\n",
       "        text-align: right;\n",
       "    }\n",
       "</style>\n",
       "<table border=\"1\" class=\"dataframe\">\n",
       "  <thead>\n",
       "    <tr>\n",
       "      <th></th>\n",
       "      <th></th>\n",
       "      <th colspan=\"4\" halign=\"left\">mean</th>\n",
       "      <th colspan=\"4\" halign=\"left\">var</th>\n",
       "      <th colspan=\"4\" halign=\"left\">std</th>\n",
       "    </tr>\n",
       "    <tr>\n",
       "      <th></th>\n",
       "      <th></th>\n",
       "      <th>total_call_time</th>\n",
       "      <th>total_mb_used</th>\n",
       "      <th>total_messages</th>\n",
       "      <th>total_revenue</th>\n",
       "      <th>total_call_time</th>\n",
       "      <th>total_mb_used</th>\n",
       "      <th>total_messages</th>\n",
       "      <th>total_revenue</th>\n",
       "      <th>total_call_time</th>\n",
       "      <th>total_mb_used</th>\n",
       "      <th>total_messages</th>\n",
       "      <th>total_revenue</th>\n",
       "    </tr>\n",
       "    <tr>\n",
       "      <th>month</th>\n",
       "      <th>plan</th>\n",
       "      <th></th>\n",
       "      <th></th>\n",
       "      <th></th>\n",
       "      <th></th>\n",
       "      <th></th>\n",
       "      <th></th>\n",
       "      <th></th>\n",
       "      <th></th>\n",
       "      <th></th>\n",
       "      <th></th>\n",
       "      <th></th>\n",
       "      <th></th>\n",
       "    </tr>\n",
       "  </thead>\n",
       "  <tbody>\n",
       "    <tr>\n",
       "      <td rowspan=\"2\" valign=\"top\">Aprile</td>\n",
       "      <td>surf</td>\n",
       "      <td>351.540000</td>\n",
       "      <td>12243.061224</td>\n",
       "      <td>24.166667</td>\n",
       "      <td>39.112944</td>\n",
       "      <td>50866.743265</td>\n",
       "      <td>5.734854e+07</td>\n",
       "      <td>534.028571</td>\n",
       "      <td>1099.405001</td>\n",
       "      <td>225.536567</td>\n",
       "      <td>7572.882161</td>\n",
       "      <td>23.109058</td>\n",
       "      <td>33.157277</td>\n",
       "    </tr>\n",
       "    <tr>\n",
       "      <td>ultimate</td>\n",
       "      <td>336.857143</td>\n",
       "      <td>16140.476190</td>\n",
       "      <td>28.937500</td>\n",
       "      <td>72.794271</td>\n",
       "      <td>34888.928571</td>\n",
       "      <td>8.859513e+07</td>\n",
       "      <td>512.862500</td>\n",
       "      <td>114.051124</td>\n",
       "      <td>186.785783</td>\n",
       "      <td>9412.498689</td>\n",
       "      <td>22.646468</td>\n",
       "      <td>10.679472</td>\n",
       "    </tr>\n",
       "    <tr>\n",
       "      <td rowspan=\"2\" valign=\"top\">August</td>\n",
       "      <td>surf</td>\n",
       "      <td>417.849057</td>\n",
       "      <td>17132.125786</td>\n",
       "      <td>37.596774</td>\n",
       "      <td>61.150803</td>\n",
       "      <td>52122.749224</td>\n",
       "      <td>7.073670e+07</td>\n",
       "      <td>1013.315762</td>\n",
       "      <td>3448.324150</td>\n",
       "      <td>228.304072</td>\n",
       "      <td>8410.511477</td>\n",
       "      <td>31.832621</td>\n",
       "      <td>58.722433</td>\n",
       "    </tr>\n",
       "    <tr>\n",
       "      <td>ultimate</td>\n",
       "      <td>421.436620</td>\n",
       "      <td>17834.887324</td>\n",
       "      <td>47.929825</td>\n",
       "      <td>72.692685</td>\n",
       "      <td>53645.506640</td>\n",
       "      <td>6.054714e+07</td>\n",
       "      <td>1034.387845</td>\n",
       "      <td>138.132422</td>\n",
       "      <td>231.614997</td>\n",
       "      <td>7781.204098</td>\n",
       "      <td>32.161901</td>\n",
       "      <td>11.752975</td>\n",
       "    </tr>\n",
       "    <tr>\n",
       "      <td rowspan=\"2\" valign=\"top\">December</td>\n",
       "      <td>surf</td>\n",
       "      <td>484.501608</td>\n",
       "      <td>18211.053628</td>\n",
       "      <td>48.326772</td>\n",
       "      <td>66.984545</td>\n",
       "      <td>59882.373385</td>\n",
       "      <td>7.146768e+07</td>\n",
       "      <td>1355.129952</td>\n",
       "      <td>4444.207304</td>\n",
       "      <td>244.708752</td>\n",
       "      <td>8453.855819</td>\n",
       "      <td>36.812090</td>\n",
       "      <td>66.664888</td>\n",
       "    </tr>\n",
       "    <tr>\n",
       "      <td>ultimate</td>\n",
       "      <td>465.261745</td>\n",
       "      <td>18344.735099</td>\n",
       "      <td>53.936508</td>\n",
       "      <td>73.064084</td>\n",
       "      <td>60461.924270</td>\n",
       "      <td>6.199779e+07</td>\n",
       "      <td>1373.803937</td>\n",
       "      <td>196.996687</td>\n",
       "      <td>245.890065</td>\n",
       "      <td>7873.867228</td>\n",
       "      <td>37.064861</td>\n",
       "      <td>14.035551</td>\n",
       "    </tr>\n",
       "    <tr>\n",
       "      <td rowspan=\"2\" valign=\"top\">Februar</td>\n",
       "      <td>surf</td>\n",
       "      <td>297.000000</td>\n",
       "      <td>12192.888889</td>\n",
       "      <td>21.600000</td>\n",
       "      <td>33.237812</td>\n",
       "      <td>52226.500000</td>\n",
       "      <td>4.377810e+07</td>\n",
       "      <td>512.800000</td>\n",
       "      <td>375.566319</td>\n",
       "      <td>228.531179</td>\n",
       "      <td>6616.502257</td>\n",
       "      <td>22.645088</td>\n",
       "      <td>19.379534</td>\n",
       "    </tr>\n",
       "    <tr>\n",
       "      <td>ultimate</td>\n",
       "      <td>470.333333</td>\n",
       "      <td>17148.857143</td>\n",
       "      <td>25.166667</td>\n",
       "      <td>70.000000</td>\n",
       "      <td>54345.066667</td>\n",
       "      <td>3.774840e+07</td>\n",
       "      <td>465.366667</td>\n",
       "      <td>0.000000</td>\n",
       "      <td>233.120284</td>\n",
       "      <td>6143.972858</td>\n",
       "      <td>21.572359</td>\n",
       "      <td>0.000000</td>\n",
       "    </tr>\n",
       "    <tr>\n",
       "      <td rowspan=\"2\" valign=\"top\">Januar</td>\n",
       "      <td>surf</td>\n",
       "      <td>203.000000</td>\n",
       "      <td>4881.000000</td>\n",
       "      <td>21.000000</td>\n",
       "      <td>20.000000</td>\n",
       "      <td>15842.000000</td>\n",
       "      <td>1.827706e+07</td>\n",
       "      <td>NaN</td>\n",
       "      <td>0.000000</td>\n",
       "      <td>125.865007</td>\n",
       "      <td>4275.167599</td>\n",
       "      <td>NaN</td>\n",
       "      <td>0.000000</td>\n",
       "    </tr>\n",
       "    <tr>\n",
       "      <td>ultimate</td>\n",
       "      <td>193.500000</td>\n",
       "      <td>6926.250000</td>\n",
       "      <td>20.666667</td>\n",
       "      <td>70.000000</td>\n",
       "      <td>16572.333333</td>\n",
       "      <td>1.642061e+07</td>\n",
       "      <td>310.333333</td>\n",
       "      <td>0.000000</td>\n",
       "      <td>128.733575</td>\n",
       "      <td>4052.235052</td>\n",
       "      <td>17.616280</td>\n",
       "      <td>0.000000</td>\n",
       "    </tr>\n",
       "    <tr>\n",
       "      <td rowspan=\"2\" valign=\"top\">July</td>\n",
       "      <td>surf</td>\n",
       "      <td>453.733333</td>\n",
       "      <td>16943.208333</td>\n",
       "      <td>35.945055</td>\n",
       "      <td>59.769381</td>\n",
       "      <td>59802.012325</td>\n",
       "      <td>6.296625e+07</td>\n",
       "      <td>907.985836</td>\n",
       "      <td>2812.383551</td>\n",
       "      <td>244.544500</td>\n",
       "      <td>7935.127683</td>\n",
       "      <td>30.132803</td>\n",
       "      <td>53.031911</td>\n",
       "    </tr>\n",
       "    <tr>\n",
       "      <td>ultimate</td>\n",
       "      <td>427.067797</td>\n",
       "      <td>16363.677966</td>\n",
       "      <td>41.212766</td>\n",
       "      <td>71.858564</td>\n",
       "      <td>72563.374635</td>\n",
       "      <td>6.855162e+07</td>\n",
       "      <td>858.084181</td>\n",
       "      <td>100.167942</td>\n",
       "      <td>269.375898</td>\n",
       "      <td>8279.590645</td>\n",
       "      <td>29.293074</td>\n",
       "      <td>10.008394</td>\n",
       "    </tr>\n",
       "    <tr>\n",
       "      <td rowspan=\"2\" valign=\"top\">Juni</td>\n",
       "      <td>surf</td>\n",
       "      <td>435.791667</td>\n",
       "      <td>15642.084211</td>\n",
       "      <td>33.616438</td>\n",
       "      <td>46.384959</td>\n",
       "      <td>44094.061404</td>\n",
       "      <td>4.518662e+07</td>\n",
       "      <td>936.406393</td>\n",
       "      <td>1841.457972</td>\n",
       "      <td>209.985860</td>\n",
       "      <td>6722.099200</td>\n",
       "      <td>30.600758</td>\n",
       "      <td>42.912212</td>\n",
       "    </tr>\n",
       "    <tr>\n",
       "      <td>ultimate</td>\n",
       "      <td>387.444444</td>\n",
       "      <td>15355.106383</td>\n",
       "      <td>36.289474</td>\n",
       "      <td>71.486016</td>\n",
       "      <td>37902.570707</td>\n",
       "      <td>7.214565e+07</td>\n",
       "      <td>807.238265</td>\n",
       "      <td>59.841178</td>\n",
       "      <td>194.685826</td>\n",
       "      <td>8493.859703</td>\n",
       "      <td>28.411939</td>\n",
       "      <td>7.735708</td>\n",
       "    </tr>\n",
       "    <tr>\n",
       "      <td rowspan=\"2\" valign=\"top\">March</td>\n",
       "      <td>surf</td>\n",
       "      <td>330.000000</td>\n",
       "      <td>13361.043478</td>\n",
       "      <td>21.937500</td>\n",
       "      <td>43.837874</td>\n",
       "      <td>35809.363636</td>\n",
       "      <td>6.839062e+07</td>\n",
       "      <td>352.062500</td>\n",
       "      <td>1409.626935</td>\n",
       "      <td>189.233622</td>\n",
       "      <td>8269.861896</td>\n",
       "      <td>18.763329</td>\n",
       "      <td>37.544999</td>\n",
       "    </tr>\n",
       "    <tr>\n",
       "      <td>ultimate</td>\n",
       "      <td>304.250000</td>\n",
       "      <td>18340.250000</td>\n",
       "      <td>34.714286</td>\n",
       "      <td>73.444743</td>\n",
       "      <td>61984.931818</td>\n",
       "      <td>1.406093e+08</td>\n",
       "      <td>613.904762</td>\n",
       "      <td>110.572900</td>\n",
       "      <td>248.967732</td>\n",
       "      <td>11857.880971</td>\n",
       "      <td>24.777102</td>\n",
       "      <td>10.515365</td>\n",
       "    </tr>\n",
       "    <tr>\n",
       "      <td rowspan=\"2\" valign=\"top\">May</td>\n",
       "      <td>surf</td>\n",
       "      <td>410.240000</td>\n",
       "      <td>14136.842105</td>\n",
       "      <td>33.017857</td>\n",
       "      <td>45.834604</td>\n",
       "      <td>56938.779459</td>\n",
       "      <td>5.979663e+07</td>\n",
       "      <td>867.945130</td>\n",
       "      <td>1825.788498</td>\n",
       "      <td>238.618481</td>\n",
       "      <td>7732.828271</td>\n",
       "      <td>29.460909</td>\n",
       "      <td>42.729246</td>\n",
       "    </tr>\n",
       "    <tr>\n",
       "      <td>ultimate</td>\n",
       "      <td>406.241379</td>\n",
       "      <td>16643.758621</td>\n",
       "      <td>44.333333</td>\n",
       "      <td>70.523774</td>\n",
       "      <td>43841.046798</td>\n",
       "      <td>5.689892e+07</td>\n",
       "      <td>1246.933333</td>\n",
       "      <td>7.955844</td>\n",
       "      <td>209.382537</td>\n",
       "      <td>7543.137575</td>\n",
       "      <td>35.311943</td>\n",
       "      <td>2.820611</td>\n",
       "    </tr>\n",
       "    <tr>\n",
       "      <td rowspan=\"2\" valign=\"top\">November</td>\n",
       "      <td>surf</td>\n",
       "      <td>432.494585</td>\n",
       "      <td>16474.971530</td>\n",
       "      <td>40.553097</td>\n",
       "      <td>55.439263</td>\n",
       "      <td>48748.787108</td>\n",
       "      <td>5.576992e+07</td>\n",
       "      <td>1002.523835</td>\n",
       "      <td>2348.178284</td>\n",
       "      <td>220.791275</td>\n",
       "      <td>7467.925945</td>\n",
       "      <td>31.662657</td>\n",
       "      <td>48.458005</td>\n",
       "    </tr>\n",
       "    <tr>\n",
       "      <td>ultimate</td>\n",
       "      <td>452.320000</td>\n",
       "      <td>17053.614173</td>\n",
       "      <td>47.601942</td>\n",
       "      <td>71.610536</td>\n",
       "      <td>58322.606452</td>\n",
       "      <td>5.769857e+07</td>\n",
       "      <td>1090.300781</td>\n",
       "      <td>86.665576</td>\n",
       "      <td>241.500738</td>\n",
       "      <td>7595.957571</td>\n",
       "      <td>33.019703</td>\n",
       "      <td>9.309435</td>\n",
       "    </tr>\n",
       "    <tr>\n",
       "      <td rowspan=\"2\" valign=\"top\">October</td>\n",
       "      <td>surf</td>\n",
       "      <td>440.891775</td>\n",
       "      <td>17553.923077</td>\n",
       "      <td>42.433862</td>\n",
       "      <td>62.175039</td>\n",
       "      <td>48699.905628</td>\n",
       "      <td>5.953838e+07</td>\n",
       "      <td>1234.491613</td>\n",
       "      <td>3013.011257</td>\n",
       "      <td>220.680551</td>\n",
       "      <td>7716.111728</td>\n",
       "      <td>35.135333</td>\n",
       "      <td>54.890903</td>\n",
       "    </tr>\n",
       "    <tr>\n",
       "      <td>ultimate</td>\n",
       "      <td>455.028571</td>\n",
       "      <td>17801.123810</td>\n",
       "      <td>46.977528</td>\n",
       "      <td>72.104759</td>\n",
       "      <td>52811.566484</td>\n",
       "      <td>5.462604e+07</td>\n",
       "      <td>1099.044944</td>\n",
       "      <td>152.695421</td>\n",
       "      <td>229.807673</td>\n",
       "      <td>7390.943405</td>\n",
       "      <td>33.151847</td>\n",
       "      <td>12.356999</td>\n",
       "    </tr>\n",
       "    <tr>\n",
       "      <td rowspan=\"2\" valign=\"top\">September</td>\n",
       "      <td>surf</td>\n",
       "      <td>420.732984</td>\n",
       "      <td>16696.979275</td>\n",
       "      <td>39.523179</td>\n",
       "      <td>55.387817</td>\n",
       "      <td>44579.912538</td>\n",
       "      <td>5.023945e+07</td>\n",
       "      <td>943.051126</td>\n",
       "      <td>2112.950504</td>\n",
       "      <td>211.139557</td>\n",
       "      <td>7087.979447</td>\n",
       "      <td>30.709137</td>\n",
       "      <td>45.966841</td>\n",
       "    </tr>\n",
       "    <tr>\n",
       "      <td>ultimate</td>\n",
       "      <td>437.511628</td>\n",
       "      <td>16989.395349</td>\n",
       "      <td>45.901408</td>\n",
       "      <td>71.824241</td>\n",
       "      <td>57070.464569</td>\n",
       "      <td>4.941798e+07</td>\n",
       "      <td>903.375855</td>\n",
       "      <td>61.882792</td>\n",
       "      <td>238.894254</td>\n",
       "      <td>7029.792642</td>\n",
       "      <td>30.056212</td>\n",
       "      <td>7.866562</td>\n",
       "    </tr>\n",
       "  </tbody>\n",
       "</table>\n",
       "</div>"
      ],
      "text/plain": [
       "                              mean                                             \\\n",
       "                   total_call_time total_mb_used total_messages total_revenue   \n",
       "month     plan                                                                  \n",
       "Aprile    surf          351.540000  12243.061224      24.166667     39.112944   \n",
       "          ultimate      336.857143  16140.476190      28.937500     72.794271   \n",
       "August    surf          417.849057  17132.125786      37.596774     61.150803   \n",
       "          ultimate      421.436620  17834.887324      47.929825     72.692685   \n",
       "December  surf          484.501608  18211.053628      48.326772     66.984545   \n",
       "          ultimate      465.261745  18344.735099      53.936508     73.064084   \n",
       "Februar   surf          297.000000  12192.888889      21.600000     33.237812   \n",
       "          ultimate      470.333333  17148.857143      25.166667     70.000000   \n",
       "Januar    surf          203.000000   4881.000000      21.000000     20.000000   \n",
       "          ultimate      193.500000   6926.250000      20.666667     70.000000   \n",
       "July      surf          453.733333  16943.208333      35.945055     59.769381   \n",
       "          ultimate      427.067797  16363.677966      41.212766     71.858564   \n",
       "Juni      surf          435.791667  15642.084211      33.616438     46.384959   \n",
       "          ultimate      387.444444  15355.106383      36.289474     71.486016   \n",
       "March     surf          330.000000  13361.043478      21.937500     43.837874   \n",
       "          ultimate      304.250000  18340.250000      34.714286     73.444743   \n",
       "May       surf          410.240000  14136.842105      33.017857     45.834604   \n",
       "          ultimate      406.241379  16643.758621      44.333333     70.523774   \n",
       "November  surf          432.494585  16474.971530      40.553097     55.439263   \n",
       "          ultimate      452.320000  17053.614173      47.601942     71.610536   \n",
       "October   surf          440.891775  17553.923077      42.433862     62.175039   \n",
       "          ultimate      455.028571  17801.123810      46.977528     72.104759   \n",
       "September surf          420.732984  16696.979275      39.523179     55.387817   \n",
       "          ultimate      437.511628  16989.395349      45.901408     71.824241   \n",
       "\n",
       "                               var                                             \\\n",
       "                   total_call_time total_mb_used total_messages total_revenue   \n",
       "month     plan                                                                  \n",
       "Aprile    surf        50866.743265  5.734854e+07     534.028571   1099.405001   \n",
       "          ultimate    34888.928571  8.859513e+07     512.862500    114.051124   \n",
       "August    surf        52122.749224  7.073670e+07    1013.315762   3448.324150   \n",
       "          ultimate    53645.506640  6.054714e+07    1034.387845    138.132422   \n",
       "December  surf        59882.373385  7.146768e+07    1355.129952   4444.207304   \n",
       "          ultimate    60461.924270  6.199779e+07    1373.803937    196.996687   \n",
       "Februar   surf        52226.500000  4.377810e+07     512.800000    375.566319   \n",
       "          ultimate    54345.066667  3.774840e+07     465.366667      0.000000   \n",
       "Januar    surf        15842.000000  1.827706e+07            NaN      0.000000   \n",
       "          ultimate    16572.333333  1.642061e+07     310.333333      0.000000   \n",
       "July      surf        59802.012325  6.296625e+07     907.985836   2812.383551   \n",
       "          ultimate    72563.374635  6.855162e+07     858.084181    100.167942   \n",
       "Juni      surf        44094.061404  4.518662e+07     936.406393   1841.457972   \n",
       "          ultimate    37902.570707  7.214565e+07     807.238265     59.841178   \n",
       "March     surf        35809.363636  6.839062e+07     352.062500   1409.626935   \n",
       "          ultimate    61984.931818  1.406093e+08     613.904762    110.572900   \n",
       "May       surf        56938.779459  5.979663e+07     867.945130   1825.788498   \n",
       "          ultimate    43841.046798  5.689892e+07    1246.933333      7.955844   \n",
       "November  surf        48748.787108  5.576992e+07    1002.523835   2348.178284   \n",
       "          ultimate    58322.606452  5.769857e+07    1090.300781     86.665576   \n",
       "October   surf        48699.905628  5.953838e+07    1234.491613   3013.011257   \n",
       "          ultimate    52811.566484  5.462604e+07    1099.044944    152.695421   \n",
       "September surf        44579.912538  5.023945e+07     943.051126   2112.950504   \n",
       "          ultimate    57070.464569  4.941798e+07     903.375855     61.882792   \n",
       "\n",
       "                               std                                             \n",
       "                   total_call_time total_mb_used total_messages total_revenue  \n",
       "month     plan                                                                 \n",
       "Aprile    surf          225.536567   7572.882161      23.109058     33.157277  \n",
       "          ultimate      186.785783   9412.498689      22.646468     10.679472  \n",
       "August    surf          228.304072   8410.511477      31.832621     58.722433  \n",
       "          ultimate      231.614997   7781.204098      32.161901     11.752975  \n",
       "December  surf          244.708752   8453.855819      36.812090     66.664888  \n",
       "          ultimate      245.890065   7873.867228      37.064861     14.035551  \n",
       "Februar   surf          228.531179   6616.502257      22.645088     19.379534  \n",
       "          ultimate      233.120284   6143.972858      21.572359      0.000000  \n",
       "Januar    surf          125.865007   4275.167599            NaN      0.000000  \n",
       "          ultimate      128.733575   4052.235052      17.616280      0.000000  \n",
       "July      surf          244.544500   7935.127683      30.132803     53.031911  \n",
       "          ultimate      269.375898   8279.590645      29.293074     10.008394  \n",
       "Juni      surf          209.985860   6722.099200      30.600758     42.912212  \n",
       "          ultimate      194.685826   8493.859703      28.411939      7.735708  \n",
       "March     surf          189.233622   8269.861896      18.763329     37.544999  \n",
       "          ultimate      248.967732  11857.880971      24.777102     10.515365  \n",
       "May       surf          238.618481   7732.828271      29.460909     42.729246  \n",
       "          ultimate      209.382537   7543.137575      35.311943      2.820611  \n",
       "November  surf          220.791275   7467.925945      31.662657     48.458005  \n",
       "          ultimate      241.500738   7595.957571      33.019703      9.309435  \n",
       "October   surf          220.680551   7716.111728      35.135333     54.890903  \n",
       "          ultimate      229.807673   7390.943405      33.151847     12.356999  \n",
       "September surf          211.139557   7087.979447      30.709137     45.966841  \n",
       "          ultimate      238.894254   7029.792642      30.056212      7.866562  "
      ]
     },
     "execution_count": 31,
     "metadata": {},
     "output_type": "execute_result"
    }
   ],
   "source": [
    "\n",
    "month_overview = pd.pivot_table(df, index=['month', 'plan'], values=['total_messages', 'total_mb_used', 'total_call_time', 'total_revenue'], \n",
    "                                                         aggfunc=['mean', 'var', 'std'])\n",
    "month_overview"
   ]
  },
  {
   "cell_type": "markdown",
   "metadata": {},
   "source": [
    "All the asked metrics are in the above tables. The important point is that consuming profiles of Megaline customers are similar regardless of the calling plan. \n",
    "\n",
    "Since the _Surf_ plan has much smaller amount of included calls, messages and data, _Surf_ users generate an additional revenue, which is even greater than standart monthly charge for this plan. (The mean revenue for _Surf_ is 58 dollars/month, monthly charge 20 dollars/month; the median revenue value 38 shows, that there are some outliers, how spend much more than average _Surf_ customer.)\n",
    "\n",
    "We can state that at least some of _Surf_ customers underestimates their mobile phone consumption; that means, the _Ultimate_ plan were better option for such customers. At the same time such customers are great for the Megaline mobile provider. \n",
    "\n",
    "The typical _Ultimate_ user calculates only ca. 2 dollars extra charges. But the standart monthly charge for _Ultimate_ customers ist higher (70$). "
   ]
  },
  {
   "cell_type": "code",
   "execution_count": 32,
   "metadata": {},
   "outputs": [
    {
     "data": {
      "image/png": "[encoded data removed]",
      "text/plain": [
       "<Figure size 432x288 with 1 Axes>"
      ]
     },
     "metadata": {
      "needs_background": "light"
     },
     "output_type": "display_data"
    }
   ],
   "source": [
    "surf = df[df['plan'] == 'surf']\n",
    "ultimate = df[df['plan'] == 'ultimate']\n",
    "\n",
    "\n",
    "\n",
    "plt.hist([ultimate['total_call_time'],surf['total_call_time']],label= ['Ultimate','Surf'], density = True)\n",
    "plt.legend()\n",
    "plt.title('Compare of calling plans: calls length')\n",
    "plt.xlabel('Total call length')\n",
    "plt.ylabel('Frequency')\n",
    "\n",
    "plt.show()\n",
    "\n"
   ]
  },
  {
   "cell_type": "markdown",
   "metadata": {},
   "source": [
    "Here and further we are using density parameter to get comparable bars in the graph. \n",
    "\n",
    "It very interesting, that the graph shows, that Megaline customers monthly call time almost independent from the calling plan each customer have: as we can see on the graph, all the trends are very similar. \n",
    "In this particular case of call duration we can say, that levels the gradient are slightly different with _Ultimate_ having more users who make shorter calls and _Surf_ having more users who make longer calls. The data and the graph are slightly skewed to the right. \n",
    "\n",
    "The distribution is normal with a mean ca. 436. In both calling plans this value is below the additional paying threshold."
   ]
  },
  {
   "cell_type": "code",
   "execution_count": 33,
   "metadata": {
    "scrolled": true
   },
   "outputs": [
    {
     "data": {
      "image/png": "[encoded data removed]",
      "text/plain": [
       "<Figure size 432x288 with 1 Axes>"
      ]
     },
     "metadata": {
      "needs_background": "light"
     },
     "output_type": "display_data"
    }
   ],
   "source": [
    "plt.hist([ultimate['total_mb_used'],surf['total_mb_used']],label= ['Ultimate','Surf'], density = True)\n",
    "plt.legend()\n",
    "plt.title('Compare of calling plans: data usage')\n",
    "plt.xlabel('Total data usage')\n",
    "plt.ylabel('Frequency')\n",
    "\n",
    "plt.show()\n",
    "\n"
   ]
  },
  {
   "cell_type": "markdown",
   "metadata": {},
   "source": [
    "In this case we also see,  that Megaline customers monthly used data volume almost independent from the calling plan each customer have: all the trends are very similar. \n",
    "\n",
    "There are more _Surf_ than _Ultimate_ customers, how spend around 5 Gb data monthly. But the most of customers use monthly more data and the difference btw. _Surf_ and _Ultimate_ users is really small. The group of _Surf_ customers how spend around 25 Gb/month is even a bit bigger than similar group of _Ultimate_ users. \n",
    "\n",
    "Mean values for each plan are around 17 Gb. That means, that average _Surf_ customer have to pay some additional fee for used mobile data, since only 15 Gb are included in their monthly charge. The average _Ultimate_ user spend less mobile data than he/she can spend without extra charges. \n",
    "\n",
    "The distribution is quite normal with the data skewed to the right. "
   ]
  },
  {
   "cell_type": "code",
   "execution_count": 34,
   "metadata": {},
   "outputs": [
    {
     "data": {
      "image/png": "[encoded data removed]",
      "text/plain": [
       "<Figure size 432x288 with 1 Axes>"
      ]
     },
     "metadata": {
      "needs_background": "light"
     },
     "output_type": "display_data"
    }
   ],
   "source": [
    "plt.hist([ultimate['total_messages'],surf['total_messages']],label= ['Ultimate','Surf'], density = True)\n",
    "plt.legend()\n",
    "plt.title('Compare of calling plans: SMS sent')\n",
    "plt.xlabel('Total messages')\n",
    "plt.ylabel('Frequency')\n",
    "\n",
    "plt.show()"
   ]
  },
  {
   "cell_type": "code",
   "execution_count": 35,
   "metadata": {},
   "outputs": [
    {
     "data": {
      "text/html": [
       "<div>\n",
       "<style scoped>\n",
       "    .dataframe tbody tr th:only-of-type {\n",
       "        vertical-align: middle;\n",
       "    }\n",
       "\n",
       "    .dataframe tbody tr th {\n",
       "        vertical-align: top;\n",
       "    }\n",
       "\n",
       "    .dataframe thead tr th {\n",
       "        text-align: left;\n",
       "    }\n",
       "\n",
       "    .dataframe thead tr:last-of-type th {\n",
       "        text-align: right;\n",
       "    }\n",
       "</style>\n",
       "<table border=\"1\" class=\"dataframe\">\n",
       "  <thead>\n",
       "    <tr>\n",
       "      <th></th>\n",
       "      <th colspan=\"4\" halign=\"left\">mean</th>\n",
       "      <th colspan=\"4\" halign=\"left\">median</th>\n",
       "      <th colspan=\"4\" halign=\"left\">var</th>\n",
       "      <th colspan=\"4\" halign=\"left\">std</th>\n",
       "    </tr>\n",
       "    <tr>\n",
       "      <th></th>\n",
       "      <th>total_call_time</th>\n",
       "      <th>total_mb_used</th>\n",
       "      <th>total_messages</th>\n",
       "      <th>total_revenue</th>\n",
       "      <th>total_call_time</th>\n",
       "      <th>total_mb_used</th>\n",
       "      <th>total_messages</th>\n",
       "      <th>total_revenue</th>\n",
       "      <th>total_call_time</th>\n",
       "      <th>total_mb_used</th>\n",
       "      <th>total_messages</th>\n",
       "      <th>total_revenue</th>\n",
       "      <th>total_call_time</th>\n",
       "      <th>total_mb_used</th>\n",
       "      <th>total_messages</th>\n",
       "      <th>total_revenue</th>\n",
       "    </tr>\n",
       "    <tr>\n",
       "      <th>plan</th>\n",
       "      <th></th>\n",
       "      <th></th>\n",
       "      <th></th>\n",
       "      <th></th>\n",
       "      <th></th>\n",
       "      <th></th>\n",
       "      <th></th>\n",
       "      <th></th>\n",
       "      <th></th>\n",
       "      <th></th>\n",
       "      <th></th>\n",
       "      <th></th>\n",
       "      <th></th>\n",
       "      <th></th>\n",
       "      <th></th>\n",
       "      <th></th>\n",
       "    </tr>\n",
       "  </thead>\n",
       "  <tbody>\n",
       "    <tr>\n",
       "      <td>surf</td>\n",
       "      <td>436.802461</td>\n",
       "      <td>16737.361361</td>\n",
       "      <td>40.109656</td>\n",
       "      <td>57.670239</td>\n",
       "      <td>430.0</td>\n",
       "      <td>16945.5</td>\n",
       "      <td>32.0</td>\n",
       "      <td>37.431641</td>\n",
       "      <td>52481.561083</td>\n",
       "      <td>6.229040e+07</td>\n",
       "      <td>1091.344231</td>\n",
       "      <td>2905.424897</td>\n",
       "      <td>229.088544</td>\n",
       "      <td>7892.426749</td>\n",
       "      <td>33.035500</td>\n",
       "      <td>53.901993</td>\n",
       "    </tr>\n",
       "    <tr>\n",
       "      <td>ultimate</td>\n",
       "      <td>435.286517</td>\n",
       "      <td>17258.613352</td>\n",
       "      <td>46.296233</td>\n",
       "      <td>72.117526</td>\n",
       "      <td>425.5</td>\n",
       "      <td>16887.0</td>\n",
       "      <td>41.0</td>\n",
       "      <td>70.000000</td>\n",
       "      <td>56387.085163</td>\n",
       "      <td>6.143726e+07</td>\n",
       "      <td>1085.183108</td>\n",
       "      <td>116.331160</td>\n",
       "      <td>237.459650</td>\n",
       "      <td>7838.192189</td>\n",
       "      <td>32.942118</td>\n",
       "      <td>10.785692</td>\n",
       "    </tr>\n",
       "  </tbody>\n",
       "</table>\n",
       "</div>"
      ],
      "text/plain": [
       "                    mean                                             \\\n",
       "         total_call_time total_mb_used total_messages total_revenue   \n",
       "plan                                                                  \n",
       "surf          436.802461  16737.361361      40.109656     57.670239   \n",
       "ultimate      435.286517  17258.613352      46.296233     72.117526   \n",
       "\n",
       "                  median                                             \\\n",
       "         total_call_time total_mb_used total_messages total_revenue   \n",
       "plan                                                                  \n",
       "surf               430.0       16945.5           32.0     37.431641   \n",
       "ultimate           425.5       16887.0           41.0     70.000000   \n",
       "\n",
       "                     var                                             \\\n",
       "         total_call_time total_mb_used total_messages total_revenue   \n",
       "plan                                                                  \n",
       "surf        52481.561083  6.229040e+07    1091.344231   2905.424897   \n",
       "ultimate    56387.085163  6.143726e+07    1085.183108    116.331160   \n",
       "\n",
       "                     std                                             \n",
       "         total_call_time total_mb_used total_messages total_revenue  \n",
       "plan                                                                 \n",
       "surf          229.088544   7892.426749      33.035500     53.901993  \n",
       "ultimate      237.459650   7838.192189      32.942118     10.785692  "
      ]
     },
     "execution_count": 35,
     "metadata": {},
     "output_type": "execute_result"
    }
   ],
   "source": [
    "plans_pivot = pd.pivot_table(df, index='plan', values=['total_messages', 'total_mb_used', 'total_call_time', 'total_revenue'], \n",
    "                                                         aggfunc=['mean', 'median', 'var', 'std'])\n",
    "\n",
    "plans_pivot"
   ]
  },
  {
   "cell_type": "markdown",
   "metadata": {},
   "source": [
    "Length of calls mean values of both calling plans are almost equal (436/435 minutes). Used megabites mean value of _Ultimate_ customers is slightly higher (17258/16737 mb). An average _Ultimate_ customer sends monthly 46 SMSs, it just a 5 messages more, than an average _Surf_ customer. \n",
    "    \n",
    "That's supports our version we expressed earlier that consuming profiles of Megaline customers are similar regardless of the calling plan. \n",
    "    \n",
    "It's interesting to compare mean and median values of monthly revenue: for _Ultimate_ customers that are 72.12 and 70.00 dollars respectively. That means, that most of _Ultimate_ customers do not really consume any services except the services included in the 70 dlollars monthly charge (3000 monthly minutes, 1000 text messages, and 30 GB of data).  \n",
    "    \n",
    "For _Surf_ customers that are 57.67 and 37.43 dollars respectively. We know, that monthly charge for _Surf_ customers is 20 dollars. So we can claim, that an average _Surf_ customer consumes some additional services and generates monthly in average 17.43 dollars additional revenue. There are also some _Surf_ customers, how spends additionally much more then 17.43 dollars, and that's the reason, why the mean value is significantly higher than median. \n",
    "    \n",
    "Length of calls and especially used megabitesThe variance values for both calling plans are extremly high, that says, that the set of corresponding numbers are spread out from their mean and from one anotherfar, far away. Total_messages variance values for both calling plans are significantly lower; that means, that there were not too much customers how send incredibly many messages (much more than 41/46 mean values). \n",
    "    \n",
    "Total_revenue variance values for both calling plans let us to confirm, that we already knew: that there are just a few _Ultimate_ customers and much more _Surf_ customers, who generate addditional revenue (extra to their monthly charge). \n",
    "    \n",
    "Since the standart deviation is a square root of corresponding variance values, all we said above about variance is also applicable to ST values. "
   ]
  },
  {
   "cell_type": "markdown",
   "metadata": {},
   "source": [
    "In this case we can see a real difference btw. _Surf_ and _Ultimate_ customers: _Surf_ users has higher values than _Ultimate_ users for for the groups how send less than 50 SMS/month. The amount of users how send 50+ decaying exponentially for both calling plans.\n",
    "\n",
    "\n",
    "The data is strongly skewed to the right here. The mean values are 40 and 46 SMS/month for _Surf/Ultimate_ customers. In both calling plans this values are below the additional paying threshold."
   ]
  },
  {
   "cell_type": "markdown",
   "metadata": {},
   "source": [
    "### Step 3. Conclusion"
   ]
  },
  {
   "cell_type": "markdown",
   "metadata": {},
   "source": [
    "In this section we founded the key metrics of Megaline users consumption. The most important point is that consuming profiles of customers are similar regardless of the calling plan. \n",
    "\n",
    "The crucial value is the average mobile data consumption. It's almost equal for both calling plans (Around 17 Gb/month; only 15 Gb are included in _Surf_ calling plan).\n",
    "\n",
    "This implies, that an average _Surf_ customer generate a great additional revenue, which can be even higher than standart monthly fee. "
   ]
  },
  {
   "cell_type": "markdown",
   "metadata": {},
   "source": [
    "# Step 4. Test the hypotheses"
   ]
  },
  {
   "cell_type": "markdown",
   "metadata": {},
   "source": [
    "Let's check, if the average revenue from users of _Ultimate_ and _Surf_ calling plans differs. \n",
    "\n",
    "We formulate the null hypothese as 'The average revenue from users of _Ultimate_ and _Surf_ calling plans does not differ' and the alternative one as 'The average revenue from users of _Ultimate_ and _Surf_ calling plans does (signuficantly) differ'.\n",
    "\n",
    "We use an alpha of 0.05 as a 5% confidence threshold. \n",
    "\n",
    "We are going to compare the average monthly revenue of _Surf_ customers with the similar figures calculated for _Ultimate_ customers. "
   ]
  },
  {
   "cell_type": "code",
   "execution_count": 36,
   "metadata": {},
   "outputs": [
    {
     "name": "stdout",
     "output_type": "stream",
     "text": [
      "Ultimate µ 72.11752605965124\n",
      "\n",
      "Surf µ 57.67023872902153\n",
      "\n",
      "Ultimate SD 10.785692363642115\n",
      "\n",
      "Surf SD 53.901993446007744\n"
     ]
    }
   ],
   "source": [
    "sample_surf = df.groupby(['plan'])['total_revenue'].get_group('surf')\n",
    "sample_ultimate = df.groupby(['plan'])['total_revenue'].get_group('ultimate')\n",
    "\n",
    "ultimate_mu = sample_ultimate.mean()\n",
    "surf_mu = sample_surf.mean()\n",
    "ultimate_sd = sample_ultimate.std()\n",
    "surf_sd = sample_surf.std()\n",
    "\n",
    "print('Ultimate µ', ultimate_mu)\n",
    "print()\n",
    "print('Surf µ',surf_mu)\n",
    "print()\n",
    "print('Ultimate SD', ultimate_sd)\n",
    "print()\n",
    "print('Surf SD',surf_sd)\n",
    "#display(sample_surf.head(10))\n",
    "\n"
   ]
  },
  {
   "cell_type": "markdown",
   "metadata": {},
   "source": [
    "Such a big difference btw. standart deviation of calling plans let use save the further calculations in this case and claim, that our hypothesis 'The average revenue from users of _Ultimate_ and _Surf_ calling plans does not differ' should be rejected. \n",
    "\n",
    "But let's check it. "
   ]
  },
  {
   "cell_type": "code",
   "execution_count": 37,
   "metadata": {},
   "outputs": [],
   "source": [
    "surf_pivot = pivot_revenue[pivot_revenue['plan'] == 'surf']\n",
    "\n",
    "#print(surf_pivot.head())\n",
    "#print(len(surf_pivot))\n",
    "\n",
    "ultimate_pivot = pivot_revenue[pivot_revenue['plan'] == 'ultimate']\n",
    "\n",
    "#print(len(ultimate_pivot))"
   ]
  },
  {
   "cell_type": "code",
   "execution_count": 38,
   "metadata": {},
   "outputs": [
    {
     "name": "stdout",
     "output_type": "stream",
     "text": [
      "Ttest_indResult(statistic=-2.214460934877995, pvalue=0.027249113655400312)\n"
     ]
    }
   ],
   "source": [
    "\n",
    "monthly_revenue_surf = surf_pivot['avg_revenue_per_month'].tolist()\n",
    "monthly_revenue_ultimate = ultimate_pivot['avg_revenue_per_month'].tolist()\n",
    "\n",
    "res = st.ttest_ind(monthly_revenue_surf, monthly_revenue_ultimate)\n",
    "print(res)"
   ]
  },
  {
   "cell_type": "markdown",
   "metadata": {},
   "source": [
    "With pvalue 0.027249 < 0.05 we have received a confirmation that our hypothesis 'The average revenue from users of _Ultimate_ and _Surf_ calling plans does not differ' should be rejected."
   ]
  },
  {
   "cell_type": "markdown",
   "metadata": {},
   "source": [
    "Let's check another hypothesis. \n",
    "\n",
    "We formulate the null hypothese as 'The average revenue from users in NY-NJ area is NOT different from that of the users from other regions' and the alternative one as 'The average revenue from users in NY-NJ area is (signuficantly) different from that of the users from other regions'\n",
    "\n",
    "We use an alpha of 0.05 as a 5% confidence threshold. We are goint to compare the average monthly revenue in NY/NJ area with the similar figures calculated for other regions. \n",
    "\n",
    "We assume that the variances are equal since all the calculations and graphs we showed above seems to confirm that."
   ]
  },
  {
   "cell_type": "markdown",
   "metadata": {},
   "source": [
    "At first we have to change out dataframe a bit. "
   ]
  },
  {
   "cell_type": "code",
   "execution_count": 39,
   "metadata": {},
   "outputs": [],
   "source": [
    "def filter_NY(row):\n",
    "    if 'NY' in row['city'] or 'NJ' in row['city']:\n",
    "        return 'NY-NJ'\n",
    "    else:\n",
    "        return 'Other city'"
   ]
  },
  {
   "cell_type": "code",
   "execution_count": 40,
   "metadata": {},
   "outputs": [],
   "source": [
    "pivot_revenue['city'] = pivot_revenue.apply(filter_NY, axis=1)\n",
    "#print(pivot_revenue.head())"
   ]
  },
  {
   "cell_type": "code",
   "execution_count": 41,
   "metadata": {},
   "outputs": [
    {
     "name": "stdout",
     "output_type": "stream",
     "text": [
      "NY/NJ µ 23.41450625126416\n",
      "\n",
      "Other city µ 23.999594058301845\n",
      "\n",
      "NY/NJ SD 20.96587760191082\n",
      "\n",
      "Other city SD 22.25958897333643\n"
     ]
    }
   ],
   "source": [
    "pivot_NY_NJ = pivot_revenue.query('city == \"NY-NJ\"')\n",
    "pivot_other_city = pivot_revenue.query('city == \"Other city\"')\n",
    "\n",
    "NY_mu = pivot_NY_NJ['avg_revenue_per_month'].mean()\n",
    "other_city_mu = pivot_other_city['avg_revenue_per_month'].mean()\n",
    "\n",
    "NY_sd = pivot_NY_NJ['avg_revenue_per_month'].std()\n",
    "other_city_sd = pivot_other_city['avg_revenue_per_month'].std()\n",
    "\n",
    "print('NY/NJ µ', NY_mu)\n",
    "print()\n",
    "print('Other city µ',other_city_mu)\n",
    "print()\n",
    "print('NY/NJ SD', NY_sd)\n",
    "print()\n",
    "print('Other city SD', other_city_sd)\n"
   ]
  },
  {
   "cell_type": "code",
   "execution_count": 42,
   "metadata": {},
   "outputs": [],
   "source": [
    "monthly_revenue_NY_NJ = pivot_NY_NJ['avg_revenue_per_month'].tolist()\n",
    "monthly_revenue_other_city = pivot_other_city['avg_revenue_per_month'].tolist()"
   ]
  },
  {
   "cell_type": "code",
   "execution_count": 43,
   "metadata": {},
   "outputs": [
    {
     "name": "stdout",
     "output_type": "stream",
     "text": [
      "Ttest_indResult(statistic=-0.24049789719722564, pvalue=0.8100432642400786)\n"
     ]
    }
   ],
   "source": [
    "res2 = st.ttest_ind(monthly_revenue_NY_NJ, monthly_revenue_other_city)\n",
    "\n",
    "print(res2)"
   ]
  },
  {
   "cell_type": "markdown",
   "metadata": {},
   "source": [
    "With pvalue 0.81 > 0.05 we can not reject our hypothesis 'The average revenue from users in NY-NJ area is NOT different from that of the users from other regions'. "
   ]
  },
  {
   "cell_type": "markdown",
   "metadata": {},
   "source": [
    "### Step 4. Conclusion"
   ]
  },
  {
   "cell_type": "markdown",
   "metadata": {},
   "source": [
    "In this step we performed some statistical analysis of out data. We rejected one and not rejected another hypothesis we had. "
   ]
  },
  {
   "cell_type": "markdown",
   "metadata": {},
   "source": [
    "# Step 5. Overall conclusion"
   ]
  },
  {
   "cell_type": "markdown",
   "metadata": {},
   "source": [
    "In this project we performed an exhaustively research on telecom operator Megaline's prepaid calling plans.\n",
    "\n",
    "The commercial department wanted to know which of the calling plans brings in more revenue in order to adjust the advertising budget.\n",
    "\n",
    "\n",
    "We got raw data of 500 current Megaline customers; the data was in pretty good condition, so we had just a bit preprocess it. We also processed the data in out dataset by casting the optimal datatype for each column. Therefore we saved up to 40% of used memory without reducing our amount of data.\n",
    "\n",
    "We founded the key metrics of Megaline users consumption: the number of calls made, minutes used, the number of text messages sent, the volume of data and the revenue per month per each user. \n",
    "\n",
    "By plotting the histograms, we comared the key values depending on the used calling plan. \n",
    "\n",
    "It was really surprizing and very important in the same time, that consuming profiles of customers are similar regardless of the calling plan. \n",
    "\n",
    "We founded out, that the crucial value is the average mobile data consumption. It's almost equal for both calling plans: around 17 Gb/month; but only 15 Gb are included in _Surf_ calling plan.\n",
    "\n",
    "This implies, that an average _Surf_ customer generate a great additional revenue, which can be even higher than standart monthly fee. \n",
    "\n",
    "Thus we discovered, that the _Surf_ plan is a great money maker for Megaline: in top-20 customers how spend the most amount of money there are only 6 with _Ultimate_ plan; in top-10 there is only one(!!!) _Ultimate_ customer. \n",
    "\n",
    "Finally we performed some statistical analysis of out data. We rejected the hypotesis, that thare is no significant difference between the revenue of _Surf_ and _Ultimate_ calling plans and founded confirmation, that an average revenue in NY/NJ metropolitane area is higher, that in other cities. \n",
    "\n",
    "Obtained date can be used by the commercial department to determine an advertisement strategy and to adjust the advertisement budget."
   ]
  }
 ],
 "metadata": {
  "kernelspec": {
   "display_name": "Python 3",
   "language": "python",
   "name": "python3"
  },
  "language_info": {
   "codemirror_mode": {
    "name": "ipython",
    "version": 3
   },
   "file_extension": ".py",
   "mimetype": "text/x-python",
   "name": "python",
   "nbconvert_exporter": "python",
   "pygments_lexer": "ipython3",
   "version": "3.8.5"
  },
  "toc": {
   "base_numbering": 1,
   "nav_menu": {},
   "number_sections": true,
   "sideBar": true,
   "skip_h1_title": false,
   "title_cell": "Table of Contents",
   "title_sidebar": "Contents",
   "toc_cell": false,
   "toc_position": {},
   "toc_section_display": true,
   "toc_window_display": false
  }
 },
 "nbformat": 4,
 "nbformat_minor": 2
}
