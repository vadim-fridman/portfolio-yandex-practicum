{
 "cells": [
  {
   "cell_type": "markdown",
   "metadata": {},
   "source": [
    "## PROJECT 1. Data Preprocessing\n"
   ]
  },
  {
   "cell_type": "markdown",
   "metadata": {},
   "source": [
    "## Analyzing borrowers’ risk of defaulting\n",
    "\n",
    "The project is to prepare a report for a bank’s loan division. We’ll need to find out if a customer’s marital status and number of children has an impact on whether they will default on a loan. \n",
    "\n",
    "The bank already has some data on customers’ credit worthiness.\n",
    "\n",
    "The report will be considered when building a **credit scoring** of a potential customer. A **credit scoring** is used to evaluate the ability of a potential borrower to repay their loan."
   ]
  },
  {
   "cell_type": "markdown",
   "metadata": {},
   "source": [
    "### Step 1. Open the data file and have a look at the general information. "
   ]
  },
  {
   "cell_type": "code",
   "execution_count": null,
   "metadata": {},
   "outputs": [],
   "source": [
    "import pandas as pd\n",
    "\n",
    "df = pd.read_csv(\"/datasets/credit_scoring_eng.csv\")\n",
    "\n",
    "#print(df.info())\n",
    "\n",
    "print(df.head())"
   ]
  },
  {
   "cell_type": "markdown",
   "metadata": {},
   "source": [
    "### Conclusion"
   ]
  },
  {
   "cell_type": "markdown",
   "metadata": {},
   "source": [
    "At first we have imported data from the .csv-file in our system to work with python. \n",
    "\n",
    "As we can see in the _head()_ and _info()_ methods output, we have some issues with the data: \n",
    "\n",
    "- the days of employment looks strange (it should be integers, not floats; it should be always positiv numbers);\n",
    "- the data in \"children\", \"debt\", \"family_status_id\", \"education_id\", \"dob_years\" columns can be saved as int16 or int8, not as int64 to save memory; \n",
    "- we have to rid of duplucates (e.g. _Secondary Education/secondary Education_)\n",
    "- some values can be missing (we have to check it later)"
   ]
  },
  {
   "cell_type": "markdown",
   "metadata": {},
   "source": [
    "### Step 2. Data preprocessing"
   ]
  },
  {
   "cell_type": "markdown",
   "metadata": {},
   "source": [
    "### Processing missing values"
   ]
  },
  {
   "cell_type": "markdown",
   "metadata": {},
   "source": [
    "We are using a small loop to print out the output the number of _NaN/None_ values in each column of our dataframe. We have problems with 2100+ values in \"days_employed\" and \"total_income\". \n",
    "\n",
    "In real life we could ask a person how gave us the dataset and together find out, why the errors are occured and find a solution. \n",
    "\n",
    "As far as data in the column \"days_employed\" are not critical for our educational project (we have no questions about a connection between how long the customer has been working and repaying a loan on time), we are going to drop this data. \n",
    "\n",
    "We also going to fill out missing data in the \"total_income\" column with median values for each income type. "
   ]
  },
  {
   "cell_type": "code",
   "execution_count": 57,
   "metadata": {},
   "outputs": [
    {
     "name": "stdout",
     "output_type": "stream",
     "text": [
      "income_type\n",
      "business                       27577.2720\n",
      "civil servant                  24071.6695\n",
      "employee                       22815.1035\n",
      "entrepreneur                   79866.1030\n",
      "paternity / maternity leave     8612.6610\n",
      "retiree                        18962.3180\n",
      "student                        15712.2600\n",
      "unemployed                     21014.3605\n",
      "Name: total_income, dtype: float64\n",
      "0\n"
     ]
    }
   ],
   "source": [
    "#print(df[\"income_type\"].unique())\n",
    " \n",
    "df['total_income'].fillna(df.groupby(['education', 'income_type'])['total_income'].transform('median'), inplace=True)\n",
    "\n",
    "print((df['total_income'] == 0).sum())"
   ]
  },
  {
   "cell_type": "code",
   "execution_count": 56,
   "metadata": {},
   "outputs": [
    {
     "name": "stdout",
     "output_type": "stream",
     "text": [
      "<class 'pandas.core.frame.DataFrame'>\n",
      "Int64Index: 19351 entries, 0 to 21524\n",
      "Data columns (total 12 columns):\n",
      "children            19351 non-null int64\n",
      "days_employed       19351 non-null float64\n",
      "dob_years           19351 non-null int64\n",
      "education           19351 non-null object\n",
      "education_id        19351 non-null int64\n",
      "family_status       19351 non-null object\n",
      "family_status_id    19351 non-null int64\n",
      "gender              19351 non-null object\n",
      "income_type         19351 non-null object\n",
      "debt                19351 non-null int64\n",
      "total_income        19351 non-null float64\n",
      "purpose             19351 non-null object\n",
      "dtypes: float64(2), int64(5), object(5)\n",
      "memory usage: 1.9+ MB\n",
      "None\n"
     ]
    }
   ],
   "source": [
    "columns = df.columns\n",
    "\n",
    "\"\"\"for column in columns:\n",
    "    print(df[column].isnull().sum())\n",
    "for column in columns:\n",
    "    print(df[column].value_counts())\"\"\"\n",
    "\n",
    "df = df.dropna()\n",
    "\n",
    "\n",
    "print(df.info())\n",
    "\n"
   ]
  },
  {
   "cell_type": "markdown",
   "metadata": {},
   "source": [
    "\n",
    "We are also using a small loop to print out the output of _value_counts()_ method to each column in our dataframe. \n",
    "\n",
    "So we have found a few obvious problems: \n",
    "\n",
    "_children_: \n",
    "- 67 persons have 20 kids each. Not absolutly impossible, but fishy. We have to dig in a bit more. \n",
    "- 44 persons have minus one kid each. We have to dig in a bit more to check, if they have one kid each or if necessary drop the data.\n",
    "\n",
    "_days_employed_: \n",
    "\n",
    "- we have to parse non-negative floats to intergers\n",
    "- we have to understand, if we could use modulo of negative values or to precess them in other way or drop it\n",
    "\n",
    "_education_:\n",
    "\n",
    "- get rid of the duplicates\n",
    "\n",
    "_purpose_:\n",
    "\n",
    "- get rid of the duplicates\n"
   ]
  },
  {
   "cell_type": "code",
   "execution_count": 5,
   "metadata": {},
   "outputs": [],
   "source": [
    "\n",
    "has_20_kids = df[df[\"children\"] == 20]\n",
    "\n",
    "#print(has_20_kids.head(50))\n"
   ]
  },
  {
   "cell_type": "markdown",
   "metadata": {},
   "source": [
    "We did not found any pattern why this people has allegedly 20 children each. \n",
    "It seems, that this field was filled up manually and we have to deal with a banal \n",
    "tipo (20 instead of 2). In real life we could ask a person how gave us the dataset \n",
    "and together find out, why the errors are occured and find a solution.   \n",
    "But in this educational case we can just to drop this data as unrealistic or - \n",
    "assuming that we are talking about tipo - just substitute \"20\" by \"2\". (_Deductive imputation_)"
   ]
  },
  {
   "cell_type": "code",
   "execution_count": 6,
   "metadata": {},
   "outputs": [],
   "source": [
    "df['children'] = df['children'].replace(20, 2)\n",
    "\n",
    "#print(has_20_kids.head(10))\n",
    "\n",
    "#print(df['children'].value_counts())\n"
   ]
  },
  {
   "cell_type": "code",
   "execution_count": 7,
   "metadata": {},
   "outputs": [],
   "source": [
    "has_negativ_kids = df[df[\"children\"] == -1]\n",
    "\n",
    "#print(has_negativ_kids.head(10))"
   ]
  },
  {
   "cell_type": "markdown",
   "metadata": {},
   "source": [
    "Same as above: we did not found any pattern why 44 people has allegedly negative amount of children. \n",
    "In real life we could ask a person how gave us the dataset and together find out, \n",
    "why the errors are occured and find a solution.   \n",
    "But in this educational project we are going just to drop this data as unreliable or - \n",
    "assuming that we are talking about tipo - just substitute \"-1\" by \"1\". (_Deductive imputation_)"
   ]
  },
  {
   "cell_type": "code",
   "execution_count": 8,
   "metadata": {},
   "outputs": [],
   "source": [
    "df['children'] = df['children'].replace(-1, 1)\n",
    "\n",
    "#print(df[df['children'] == -1])"
   ]
  },
  {
   "cell_type": "markdown",
   "metadata": {},
   "source": [
    "Tha data in the column \"days_employed\" are corrupted. 15809 values (more than 75%) are negativ. In real life we could ask a person how gave us the dataset and together find out, why the errors are occured and find a solution.\n",
    "As far as this data are not critical for our educational project (== we have not questions about a connection between how long the customer has been working and repaying a loan on time), we are going to convert negativ values to positive using its absolute value and after that to parse all floats in this column to integers. (Just to show, that we can do it; we are not using this date further.)"
   ]
  },
  {
   "cell_type": "code",
   "execution_count": 9,
   "metadata": {},
   "outputs": [],
   "source": [
    "negativ_days = df[df[\"days_employed\"] < 0]\n",
    "\n",
    "#print(df[\"days_employed\"].head(50))\n",
    "\n",
    "df[\"days_employed\"] = df[\"days_employed\"].abs()\n",
    "\n",
    "#print(df[\"days_employed\"].head())"
   ]
  },
  {
   "cell_type": "markdown",
   "metadata": {},
   "source": [
    "We also have check a bit the credibility of data in column \"days_employed\" and have found one more reason not to trust and not to use this information: at least one of emploees allegedly worked more than 89 years and 1409 persons worked more than 50 years(18250 days), what hardly can be true. "
   ]
  },
  {
   "cell_type": "code",
   "execution_count": 10,
   "metadata": {},
   "outputs": [],
   "source": [
    "#print(max(df[\"days_employed\"])/ 365)\n",
    "\n",
    "#print(df[df[\"days_employed\"] > 18250]) "
   ]
  },
  {
   "cell_type": "markdown",
   "metadata": {},
   "source": [
    "As we found earlier, one person has a strange value in \"gender\" field. If we knew we first name of this person we probably could determine his/her gender. But we does not know the first name, so we can drop this persons' data only. "
   ]
  },
  {
   "cell_type": "code",
   "execution_count": 11,
   "metadata": {},
   "outputs": [],
   "source": [
    "# print(df[df[\"gender\"] == \"XNA\"])\n",
    "\n",
    "df = df[df[\"gender\"] != \"XNA\"]\n",
    "\n",
    "#print(df.info())"
   ]
  },
  {
   "cell_type": "markdown",
   "metadata": {},
   "source": [
    "Let's check, if we have any children as bank customers. Or people how is suspiciously old to be an real customer. "
   ]
  },
  {
   "cell_type": "code",
   "execution_count": 12,
   "metadata": {
    "scrolled": true
   },
   "outputs": [
    {
     "name": "stdout",
     "output_type": "stream",
     "text": [
      "91\n",
      "0\n"
     ]
    }
   ],
   "source": [
    "print(len(df[df['dob_years'] < 18]))\n",
    "\n",
    "#print(df['dob_years'].value_counts(ascending=True).head(200))\n",
    "\n",
    "#print(df[df['dob_years'] < 18].head(50))\n",
    "\n",
    "print(len(df[df['dob_years'] > 100]))"
   ]
  },
  {
   "cell_type": "markdown",
   "metadata": {},
   "source": [
    "We have found 91 persons in the age between 0 and 18 years (if we trust our data :-) ). Some of them are marryed, have kids and many years of professional expirience. So we assume, the real age of this people was not saved in our dataset. As far as we do not use this information in our further analysis, we left this values as they are. Alternatively we could substitute this values with a median. "
   ]
  },
  {
   "cell_type": "markdown",
   "metadata": {},
   "source": [
    "### Conclusion"
   ]
  },
  {
   "cell_type": "markdown",
   "metadata": {},
   "source": [
    "We have found some missing and unreliable data in out dataset. We have preprocessed the dataset by droping some date we are not going to use. \n",
    "    \n",
    "We have saved entries of 2100+ bank customers we had not data regarding their income. We filled out this data with median income for each of income categories (emloyees, unemployed, retiree, students etc.)\n",
    "    \n",
    "In two cases we also corrected tipos using deductive inputation and _replace()_ method. "
   ]
  },
  {
   "cell_type": "markdown",
   "metadata": {},
   "source": [
    "### Data type replacement"
   ]
  },
  {
   "cell_type": "markdown",
   "metadata": {},
   "source": [
    "Let's convert some datatypes to save memory and to make it more convinient to handle with data. Thus we have reduce the memory usage by approximately 39% (1.8->1.1 MB). It is not really important in this particular case, but it can be very useful during the work with large datasets. "
   ]
  },
  {
   "cell_type": "code",
   "execution_count": 58,
   "metadata": {},
   "outputs": [
    {
     "name": "stdout",
     "output_type": "stream",
     "text": [
      "<class 'pandas.core.frame.DataFrame'>\n",
      "Int64Index: 19351 entries, 0 to 21524\n",
      "Data columns (total 12 columns):\n",
      "children            19351 non-null int8\n",
      "days_employed       19351 non-null int32\n",
      "dob_years           19351 non-null int8\n",
      "education           19351 non-null object\n",
      "education_id        19351 non-null int8\n",
      "family_status       19351 non-null object\n",
      "family_status_id    19351 non-null int8\n",
      "gender              19351 non-null object\n",
      "income_type         19351 non-null object\n",
      "debt                19351 non-null int8\n",
      "total_income        19351 non-null int32\n",
      "purpose             19351 non-null object\n",
      "dtypes: int32(2), int8(5), object(5)\n",
      "memory usage: 1.1+ MB\n",
      "None\n"
     ]
    }
   ],
   "source": [
    "df['children']=df['children'].astype('int8')\n",
    "df['dob_years']=df['dob_years'].astype('int8')\n",
    "df['education_id']=df['education_id'].astype('int8')\n",
    "df['family_status_id']=df['family_status_id'].astype('int8')\n",
    "df['days_employed']=df['days_employed'].astype('int32')\n",
    "df['debt']=df['debt'].astype('int8')\n",
    "df['education']=df['education'].astype('str')\n",
    "df['family_status']=df['family_status'].astype('str')\n",
    "df['income_type']=df['income_type'].astype('str')\n",
    "df['purpose']=df['purpose'].astype('str')\n",
    "df['total_income']=df['total_income'].astype('int32')\n",
    "\n",
    "print(df.info())"
   ]
  },
  {
   "cell_type": "markdown",
   "metadata": {},
   "source": [
    "### Conclusion"
   ]
  },
  {
   "cell_type": "markdown",
   "metadata": {},
   "source": [
    "We processed the data in out dataset by casting the optimal datatype for each column. Therefore we get the data we can convinient work with and we also saved almost 40% of used memory. "
   ]
  },
  {
   "cell_type": "markdown",
   "metadata": {},
   "source": [
    "### Processing duplicates"
   ]
  },
  {
   "cell_type": "code",
   "execution_count": 59,
   "metadata": {},
   "outputs": [
    {
     "name": "stdout",
     "output_type": "stream",
     "text": [
      "38\n"
     ]
    }
   ],
   "source": [
    "df['education']=df['education'].str.lower()\n",
    "df[\"purpose_cleaned\"] =  df['purpose'].str.lower()\n",
    "\n",
    "\n",
    "#print(df['education'].unique())\n",
    "\n",
    "purposes_to_clean = df['purpose_cleaned'].unique().tolist()\n",
    "print(len(purposes_to_clean))\n",
    "\n",
    "purposes_to_clean = df['purpose_cleaned'].unique().tolist()\n",
    "\n",
    "#print(purposes_to_clean)"
   ]
  },
  {
   "cell_type": "markdown",
   "metadata": {},
   "source": [
    "After all the values were rerecorded in lower case, we have not found any duplicates in the 'education' column. \n",
    "But we still have some duplicates in the 'purpose' column. Let's handle it. "
   ]
  },
  {
   "cell_type": "code",
   "execution_count": 85,
   "metadata": {
    "scrolled": true
   },
   "outputs": [
    {
     "name": "stdout",
     "output_type": "stream",
     "text": [
      "real estate    9758\n",
      "car            3897\n",
      "education      3240\n",
      "wedding        2099\n",
      "other           357\n",
      "Name: purpose_cleaned, dtype: int64\n",
      "\n",
      "19351\n",
      "\n",
      "19351\n"
     ]
    }
   ],
   "source": [
    "#print(len(df[\"purpose_cleaned\"]))\n",
    "#print(df['purpose_cleaned'].head(30))  \n",
    "#print()\n",
    "\n",
    "def purpose_cats(purposes_to_clean):\n",
    "    \n",
    "    if \"hous\" in purposes_to_clean:\n",
    "        return \"real estate\"\n",
    "    if \"estat\"  in purposes_to_clean:\n",
    "        return \"real estate\"\n",
    "    if \"propert\" in purposes_to_clean:\n",
    "        return \"real estate\"\n",
    "    if \"wedd\" in purposes_to_clean:\n",
    "        return \"wedding\"\n",
    "    if \"car\" in purposes_to_clean:\n",
    "        return \"car\"\n",
    "    if \"univers\" in purposes_to_clean:\n",
    "        return \"education\"\n",
    "    if \"education\" in purposes_to_clean:\n",
    "        return \"education\"\n",
    "\n",
    "    else:\n",
    "        return \"other\"\n",
    "    \n",
    "df['purpose_cleaned'] = df['purpose_cleaned'].apply(purpose_cats)\n",
    "\n",
    "\n",
    "\n",
    "print(df['purpose_cleaned'].value_counts())\n",
    "print()\n",
    "print(df['purpose_cleaned'].value_counts().sum())\n",
    "print()\n",
    "print(len(df))\n",
    "\n",
    "#print(df.head(30))"
   ]
  },
  {
   "cell_type": "markdown",
   "metadata": {},
   "source": [
    "We applyed a function _purpose_cats()_ to substitute the 38 unique cedit purposes in the column \"purpose\" by only 5 categories of purposes we saved in the column \"purpose_cleaned\". It would be obviously better for training to implement stemming as we learnt it in the theory lessons last week, but in this case stemming can also be done manually. \n",
    "\n",
    "Last but not least in current section: we have to get rid of duplicates in our dataset. "
   ]
  },
  {
   "cell_type": "code",
   "execution_count": 86,
   "metadata": {},
   "outputs": [
    {
     "name": "stdout",
     "output_type": "stream",
     "text": [
      "<class 'pandas.core.frame.DataFrame'>\n",
      "RangeIndex: 19351 entries, 0 to 19350\n",
      "Data columns (total 14 columns):\n",
      "children            19351 non-null int8\n",
      "days_employed       19351 non-null int32\n",
      "dob_years           19351 non-null int8\n",
      "education           19351 non-null object\n",
      "education_id        19351 non-null int8\n",
      "family_status       19351 non-null object\n",
      "family_status_id    19351 non-null int8\n",
      "gender              19351 non-null object\n",
      "income_type         19351 non-null object\n",
      "debt                19351 non-null int8\n",
      "total_income        19351 non-null int32\n",
      "purpose             19351 non-null object\n",
      "purpose_cleaned     19351 non-null object\n",
      "income_level        19351 non-null object\n",
      "dtypes: int32(2), int8(5), object(7)\n",
      "memory usage: 1.3+ MB\n",
      "None\n",
      "<class 'pandas.core.frame.DataFrame'>\n",
      "RangeIndex: 19351 entries, 0 to 19350\n",
      "Data columns (total 14 columns):\n",
      "children            19351 non-null int8\n",
      "days_employed       19351 non-null int32\n",
      "dob_years           19351 non-null int8\n",
      "education           19351 non-null object\n",
      "education_id        19351 non-null int8\n",
      "family_status       19351 non-null object\n",
      "family_status_id    19351 non-null int8\n",
      "gender              19351 non-null object\n",
      "income_type         19351 non-null object\n",
      "debt                19351 non-null int8\n",
      "total_income        19351 non-null int32\n",
      "purpose             19351 non-null object\n",
      "purpose_cleaned     19351 non-null object\n",
      "income_level        19351 non-null object\n",
      "dtypes: int32(2), int8(5), object(7)\n",
      "memory usage: 1.3+ MB\n",
      "None\n"
     ]
    }
   ],
   "source": [
    "print(df.info())\n",
    "df = df.drop_duplicates().reset_index(drop=True)\n",
    "print(df.info())"
   ]
  },
  {
   "cell_type": "markdown",
   "metadata": {},
   "source": [
    "### Conclusion"
   ]
  },
  {
   "cell_type": "markdown",
   "metadata": {},
   "source": [
    "We processed the duplicates in our dataset. The most challenging part was in the columns \"purpose\"/\"purpose_cleaned\", where we categorized the 38 existed purposes in 5 groups with an extra function. This categorisation helps us to answer the questions we have in step 3. "
   ]
  },
  {
   "cell_type": "markdown",
   "metadata": {},
   "source": [
    "### Categorizing Data"
   ]
  },
  {
   "cell_type": "markdown",
   "metadata": {},
   "source": [
    "We need to categorise the income level of bank customers to perform further analysis. \n",
    "\n",
    "We are not really know, what currency we have in our dataset, so we used a deemed separation into four groups with low, middle, high and very high income. "
   ]
  },
  {
   "cell_type": "code",
   "execution_count": 88,
   "metadata": {},
   "outputs": [],
   "source": [
    "def income_level(row):\n",
    "    \n",
    "    income = row['total_income']   \n",
    "    if income <= df[\"total_income\"].quantile(0.25):\n",
    "        return 'Low income'\n",
    "    if income <= df[\"total_income\"].quantile(0.5):\n",
    "        return 'Intermediate income'\n",
    "    if income <= df[\"total_income\"].quantile(0.75):\n",
    "        return 'Upper middle class income'\n",
    "    else:\n",
    "        return \"High income\"\n",
    "\n",
    "\n",
    "df['income_level'] = df.apply(income_level, axis=1)\n",
    "\n",
    "#print(df.info())\n",
    "#print(df['income_level'].head(30))"
   ]
  },
  {
   "cell_type": "markdown",
   "metadata": {},
   "source": [
    "### Conclusion"
   ]
  },
  {
   "cell_type": "markdown",
   "metadata": {},
   "source": [
    "We categorised the income level of bank customers in our dataset and now we are ready to perform an analysis. "
   ]
  },
  {
   "cell_type": "markdown",
   "metadata": {},
   "source": [
    "### Step 3. Answer these questions"
   ]
  },
  {
   "cell_type": "markdown",
   "metadata": {},
   "source": [
    "_- Is there a relation between having kids and repaying a loan on time?_"
   ]
  },
  {
   "cell_type": "code",
   "execution_count": 89,
   "metadata": {},
   "outputs": [
    {
     "name": "stdout",
     "output_type": "stream",
     "text": [
      "8.836% of customers are not repaying debt on time\n",
      "\n",
      "8.097% No kids and not repaying debt on time\n",
      "10.368% One kid and not repaying debt on time\n",
      "10.573% Two kids and not repaying debt on time\n",
      "8.088% Three kids and not repaying debt on time\n",
      "9.677% Four kids and not repaying debt on time\n"
     ]
    }
   ],
   "source": [
    "overdues = df[(df['debt'] == 1)].count() / df[(df['debt'] == 0)].count()\n",
    "\n",
    "#print(overdues[\"debt\"]) \n",
    "\n",
    "print(\"{0:.3f}% of customers are not repaying debt on time\".format((overdues[\"debt\"])*100))\n",
    "\n",
    "pivot_kids = df.pivot_table(index=[\"debt\"], columns = \"children\", values = \"family_status_id\", aggfunc = \"count\")\n",
    "\n",
    "kid0 = pivot_kids[0][1] / pivot_kids [0][0]\n",
    "kid1 = pivot_kids[1][1] / pivot_kids [1][0]\n",
    "kid2 = pivot_kids[2][1] / pivot_kids [2][0]\n",
    "kid3 = pivot_kids[3][1] / pivot_kids [3][0]\n",
    "kid4 = pivot_kids[4][1] / pivot_kids [4][0]\n",
    "\n",
    "print()\n",
    "print((\"{0:.3f}% No kids and not repaying debt on time\".format(kid0*100)))\n",
    "print((\"{0:.3f}% One kid and not repaying debt on time\".format(kid1*100)))\n",
    "print((\"{0:.3f}% Two kids and not repaying debt on time\".format(kid2*100)))\n",
    "print((\"{0:.3f}% Three kids and not repaying debt on time\".format(kid3*100)))\n",
    "print((\"{0:.3f}% Four kids and not repaying debt on time\".format(kid4*100)))\n",
    "\n",
    "\n"
   ]
  },
  {
   "cell_type": "markdown",
   "metadata": {},
   "source": [
    "### Conclusion"
   ]
  },
  {
   "cell_type": "markdown",
   "metadata": {},
   "source": [
    "The answer: Yes. People who have no kids and people how has exactly three children seems to have a better repayment discipline.  \n",
    "\n",
    "In the groups of customer who has 1, 2 or 4 children the percent of delinquent payers is slightly above of the mean value. "
   ]
  },
  {
   "cell_type": "markdown",
   "metadata": {},
   "source": [
    "_- Is there a relation between marital status and repaying a loan on time?_"
   ]
  },
  {
   "cell_type": "code",
   "execution_count": 90,
   "metadata": {},
   "outputs": [
    {
     "name": "stdout",
     "output_type": "stream",
     "text": [
      "11.185% unmarried and not repaying debt on time\n",
      "8.216% married and not repaying debt on time\n",
      "7.547% divorced and not repaying debt on time\n",
      "6.922% widow_er and not repaying debt on time\n",
      "9.982% in civil partnership and not repaying debt on time\n"
     ]
    }
   ],
   "source": [
    "pivot_marriage = df.pivot_table(index=[\"debt\"], columns = \"family_status\", values = \"dob_years\", aggfunc = \"count\")\n",
    "\n",
    "# print(pivot_marriage)\n",
    "\n",
    "unmarried = pivot_marriage[\"unmarried\"][1] / pivot_marriage[\"unmarried\"][0]\n",
    "married = pivot_marriage[\"married\"][1] / pivot_marriage[\"married\"][0]\n",
    "divorced = pivot_marriage[\"divorced\"][1] / pivot_marriage[\"divorced\"][0]\n",
    "widow_er = pivot_marriage[\"widow / widower\"][1] / pivot_marriage[\"widow / widower\"][0]\n",
    "partnership = pivot_marriage[\"civil partnership\"][1] / pivot_marriage[\"civil partnership\"][0]\n",
    "\n",
    "print(\"{0:.3f}% unmarried and not repaying debt on time\".format(unmarried * 100))\n",
    "print(\"{0:.3f}% married and not repaying debt on time\".format(married * 100))\n",
    "print(\"{0:.3f}% divorced and not repaying debt on time\".format(divorced * 100))\n",
    "print(\"{0:.3f}% widow_er and not repaying debt on time\".format(widow_er * 100))\n",
    "print(\"{0:.3f}% in civil partnership and not repaying debt on time\".format(partnership * 100))"
   ]
  },
  {
   "cell_type": "markdown",
   "metadata": {},
   "source": [
    "### Conclusion"
   ]
  },
  {
   "cell_type": "markdown",
   "metadata": {},
   "source": [
    "The answer: Yes. \n",
    "\n",
    "The best customers(best repayment discipline) are widows/widowers(only 6.9% of late payments). Only 7.5% of divorced persons fail to pay on time. The marryed persons are more often paying punctually, than average customer (8.2% vs. 8.8%). The persons in civil partnership and especially bachelors/ bachelorettes are the least reliable customers: in this groups the percent of late payments is significantly higher than average (accordingly 9.9% and 11.2%). "
   ]
  },
  {
   "cell_type": "markdown",
   "metadata": {},
   "source": [
    "_- Is there a relation between income level and repaying a loan on time?_"
   ]
  },
  {
   "cell_type": "code",
   "execution_count": 94,
   "metadata": {},
   "outputs": [
    {
     "name": "stdout",
     "output_type": "stream",
     "text": [
      "8.597% Low income and not repaying debt on time\n",
      "9.531% Intermediate incomeand not repaying debt on time\n",
      "9.658% Upper middle class income and not repaying debt on time\n",
      "7.583% High income and not repaying debt on time\n"
     ]
    }
   ],
   "source": [
    "pivot_income = df.pivot_table(index=[\"debt\"], columns = \"income_level\", values = \"dob_years\", aggfunc = \"count\")\n",
    "\n",
    "#print(pivot_income)\n",
    "\n",
    "income0 = pivot_income[\"Low income\"][1] / pivot_income[\"Low income\"][0]\n",
    "income1 = pivot_income[\"Intermediate income\"][1] / pivot_income[\"Intermediate income\"][0]\n",
    "income2 = pivot_income[\"Upper middle class income\"][1] / pivot_income[\"Upper middle class income\"][0]\n",
    "income3 = pivot_income[\"High income\"][1] / pivot_income[\"High income\"][0]\n",
    "\n",
    "print(\"{0:.3f}% Low income and not repaying debt on time\".format(income0 * 100))\n",
    "print(\"{0:.3f}% Intermediate incomeand not repaying debt on time\".format(income1 * 100))\n",
    "print(\"{0:.3f}% Upper middle class income and not repaying debt on time\".format(income2 * 100))\n",
    "print(\"{0:.3f}% High income and not repaying debt on time\".format(income3 * 100))\n"
   ]
  },
  {
   "cell_type": "markdown",
   "metadata": {},
   "source": [
    "### Conclusion"
   ]
  },
  {
   "cell_type": "markdown",
   "metadata": {},
   "source": [
    "The answer: Yes. \n",
    "\n",
    "The people with the highest income has the best repayment discipline. \n",
    "\n",
    "It is a bit surprizing, but we can claim, that people with low income paying their debts in average punctually, even slightly better than an average bank customer. \n",
    "\n",
    "The worst repayment discipline have two groups of customers with an average and above-average income."
   ]
  },
  {
   "cell_type": "markdown",
   "metadata": {},
   "source": [
    "_- How do different loan purposes affect on-time repayment of the loan?_"
   ]
  },
  {
   "cell_type": "code",
   "execution_count": 95,
   "metadata": {},
   "outputs": [
    {
     "name": "stdout",
     "output_type": "stream",
     "text": [
      "purpose_cleaned   car  education  other  real estate  wedding\n",
      "debt                                                         \n",
      "0                3530       2943    323         9043     1941\n",
      "1                 367        297     34          715      158\n",
      "10.397% of car loans were not repayed on time\n",
      "10.092% of educational loans were not repayed on time\n",
      "7.907% of real_estate loans were not repayed on time\n",
      "8.140% of wedding loans were not repayed on time\n",
      "10.526% of other loans were not repayed on time\n"
     ]
    }
   ],
   "source": [
    "pivot_purposes = df.pivot_table(index=[\"debt\"], columns = \"purpose_cleaned\", values = \"dob_years\", aggfunc = \"count\")\n",
    "\n",
    "print(pivot_purposes)\n",
    "\n",
    "car = pivot_purposes[\"car\"][1] / pivot_purposes[\"car\"][0]\n",
    "education = pivot_purposes[\"education\"][1] / pivot_purposes[\"education\"][0]\n",
    "real_estate = pivot_purposes[\"real estate\"][1] / pivot_purposes[\"real estate\"][0]\n",
    "wedding = pivot_purposes[\"wedding\"][1] / pivot_purposes[\"wedding\"][0]\n",
    "other = pivot_purposes[\"other\"][1] / pivot_purposes[\"other\"][0]\n",
    "\n",
    "print(\"{0:.3f}% of car loans were not repayed on time\".format(car * 100))\n",
    "print(\"{0:.3f}% of educational loans were not repayed on time\".format(education * 100))\n",
    "print(\"{0:.3f}% of real_estate loans were not repayed on time\".format(real_estate * 100))\n",
    "print(\"{0:.3f}% of wedding loans were not repayed on time\".format(wedding * 100))\n",
    "print(\"{0:.3f}% of other loans were not repayed on time\".format(other * 100))\n"
   ]
  },
  {
   "cell_type": "markdown",
   "metadata": {},
   "source": [
    "### Conclusion"
   ]
  },
  {
   "cell_type": "markdown",
   "metadata": {},
   "source": [
    "The answer: Yes. \n",
    "\n",
    "The least problematic are loans with for real estate purposes and wedding loans (7.9% and 8.1% of late repayments). \n",
    "All other loan categories more risk: more than 10% of delinquent payers. "
   ]
  },
  {
   "cell_type": "markdown",
   "metadata": {},
   "source": [
    "### Step 4. General conclusion"
   ]
  },
  {
   "cell_type": "markdown",
   "metadata": {},
   "source": [
    "<div class=\"alert alert-info\" role=\"alert\">\n",
    "\n",
    "In this project, we processed a dataset with standart information about our bank's clients to find a portrait of the ideal borrower. \n",
    "    \n",
    "We got a bunch of raw data; some information was missing (we have filled out the most missing values with interpolation to save incomlete entries), some other information was corrupted (we dropped some of data that could not be revised; we got rid of duplicates and categorise in four large groupes (customers with income from low to high). \n",
    "    \n",
    "We also processed the data in out dataset by casting the optimal datatype for each column. Therefore we saved almost 40% of used memory without reducing our amount of data.\n",
    "    \n",
    "Performed data analysis reveales, in average 8.836% of all customers are not repaying their debts on time. \n",
    " \n",
    "Income level, marital status, having kids and loan purposes affects the punctual repaying of loans. \n",
    "       \n",
    "Unmarried customers (incl. civil partnership) has a worste paying discipline (11.2/9.9% of late payments). \n",
    "    \n",
    "Customers with one or two kids overdue the payments more often than an average borrower(10.4/10.6% of late payments). \n",
    "    \n",
    "Its a bit surprizing, that middle class and upper-middle class customers overdue the payments more often, than customers with low or with very high income (8.6/7.6% low/very high income against 9.5/9.7% middle/upper-middle class).\n",
    "    \n",
    "Regarding the purpose of the borrowings, the safest categories are real estate and wedding loans (7.9/8.1% of late payments). The delinquency rate of educational and car credits is above average(10.1/10.3%)\n",
    "    \n",
    "Therfore our best customers (group with the smallest the percent of delinquent payers) are widows/widowers or divorced persons, with three children and high income, who borrows money to buy some real estate object or organize a wedding. \n",
    "   \n",
    "We recommend our colleagues from the bank's loan division use our analysis to refine the credit score building methodology  and thereby to reduce the overall number of late payments. \n",
    "\n",
    " </div>"
   ]
  }
 ],
 "metadata": {
  "kernelspec": {
   "display_name": "Python 3",
   "language": "python",
   "name": "python3"
  },
  "language_info": {
   "codemirror_mode": {
    "name": "ipython",
    "version": 3
   },
   "file_extension": ".py",
   "mimetype": "text/x-python",
   "name": "python",
   "nbconvert_exporter": "python",
   "pygments_lexer": "ipython3",
   "version": "3.8.5"
  },
  "toc": {
   "base_numbering": 1,
   "nav_menu": {},
   "number_sections": true,
   "sideBar": true,
   "skip_h1_title": true,
   "title_cell": "Table of Contents",
   "title_sidebar": "Contents",
   "toc_cell": false,
   "toc_position": {},
   "toc_section_display": true,
   "toc_window_display": false
  }
 },
 "nbformat": 4,
 "nbformat_minor": 2
}
