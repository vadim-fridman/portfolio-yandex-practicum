{
 "cells": [
  {
   "cell_type": "markdown",
   "metadata": {},
   "source": [
    "### Research on video game sales  "
   ]
  },
  {
   "cell_type": "markdown",
   "metadata": {},
   "source": [
    "<div class=\"alert alert-info\" role=\"alert\">\n",
    "\n",
    "We work for the online store Ice, which sells video games all over the world. In front of us is data going back to 2016. Let’s imagine that it’s December 2016 and we’re planning a campaign for 2017. We are going to identify patterns that determine whether a game succeeds or not. This will allow us to spot potential big winners and plan advertising campaigns.\n",
    "</div>"
   ]
  },
  {
   "cell_type": "markdown",
   "metadata": {},
   "source": [
    "# Table of contents\n",
    "\n",
    "1. [Step 1: Open the data file and study the general information](#introduction)\n",
    "2. [Step 2: Prepare the data](#paragraph1)\n",
    "4. [Step 3: Analyze the data](#paragraph2)\n",
    "5. [Step 4: Create a user profile for each region](#paragraph3)\n",
    "6. [Step 5: Testing of hypotheses](#paragraph4)\n",
    "7. [Step 6: General conclusion](#paragraph5)\n",
    "\n",
    "\n",
    "\n",
    "\n",
    "\n",
    "\n",
    "\n",
    "\n",
    "\n",
    "\n"
   ]
  },
  {
   "cell_type": "markdown",
   "metadata": {},
   "source": [
    "## Step 1: Open the data file and study the general information\n",
    "\n",
    "<a class=\"anchor\" id=\"introduction\"></a>"
   ]
  },
  {
   "cell_type": "code",
   "execution_count": 1,
   "metadata": {},
   "outputs": [],
   "source": [
    "import pandas as pd\n",
    "import numpy as np\n",
    "import matplotlib as mpl\n",
    "import matplotlib.pyplot as plt\n",
    "import seaborn as sns\n",
    "from io import BytesIO\n",
    "import requests\n",
    "import scipy.stats as st\n",
    "from scipy import stats\n",
    "from scipy.stats import bartlett\n",
    "\n",
    "import warnings\n",
    "warnings.filterwarnings('ignore')"
   ]
  },
  {
   "cell_type": "code",
   "execution_count": 4,
   "metadata": {},
   "outputs": [
    {
     "name": "stdout",
     "output_type": "stream",
     "text": [
      "<class 'pandas.core.frame.DataFrame'>\n",
      "RangeIndex: 16715 entries, 0 to 16714\n",
      "Data columns (total 11 columns):\n",
      "Name               16713 non-null object\n",
      "Platform           16715 non-null object\n",
      "Year_of_Release    16446 non-null float64\n",
      "Genre              16713 non-null object\n",
      "NA_sales           16715 non-null float64\n",
      "EU_sales           16715 non-null float64\n",
      "JP_sales           16715 non-null float64\n",
      "Other_sales        16715 non-null float64\n",
      "Critic_Score       8137 non-null float64\n",
      "User_Score         10014 non-null object\n",
      "Rating             9949 non-null object\n",
      "dtypes: float64(6), object(5)\n",
      "memory usage: 1.4+ MB\n"
     ]
    }
   ],
   "source": [
    "df1 = pd.read_csv(\"/datasets/games.csv\")\n",
    "\n",
    "df1.info()"
   ]
  },
  {
   "cell_type": "code",
   "execution_count": 6,
   "metadata": {},
   "outputs": [
    {
     "data": {
      "text/html": [
       "<div>\n",
       "<style scoped>\n",
       "    .dataframe tbody tr th:only-of-type {\n",
       "        vertical-align: middle;\n",
       "    }\n",
       "\n",
       "    .dataframe tbody tr th {\n",
       "        vertical-align: top;\n",
       "    }\n",
       "\n",
       "    .dataframe thead th {\n",
       "        text-align: right;\n",
       "    }\n",
       "</style>\n",
       "<table border=\"1\" class=\"dataframe\">\n",
       "  <thead>\n",
       "    <tr style=\"text-align: right;\">\n",
       "      <th></th>\n",
       "      <th>missing_values</th>\n",
       "      <th>% of total</th>\n",
       "    </tr>\n",
       "  </thead>\n",
       "  <tbody>\n",
       "    <tr>\n",
       "      <td>Name</td>\n",
       "      <td>2</td>\n",
       "      <td>0.0</td>\n",
       "    </tr>\n",
       "    <tr>\n",
       "      <td>Platform</td>\n",
       "      <td>0</td>\n",
       "      <td>0.0</td>\n",
       "    </tr>\n",
       "    <tr>\n",
       "      <td>Year_of_Release</td>\n",
       "      <td>269</td>\n",
       "      <td>2.0</td>\n",
       "    </tr>\n",
       "    <tr>\n",
       "      <td>Genre</td>\n",
       "      <td>2</td>\n",
       "      <td>0.0</td>\n",
       "    </tr>\n",
       "    <tr>\n",
       "      <td>NA_sales</td>\n",
       "      <td>0</td>\n",
       "      <td>0.0</td>\n",
       "    </tr>\n",
       "    <tr>\n",
       "      <td>EU_sales</td>\n",
       "      <td>0</td>\n",
       "      <td>0.0</td>\n",
       "    </tr>\n",
       "    <tr>\n",
       "      <td>JP_sales</td>\n",
       "      <td>0</td>\n",
       "      <td>0.0</td>\n",
       "    </tr>\n",
       "    <tr>\n",
       "      <td>Other_sales</td>\n",
       "      <td>0</td>\n",
       "      <td>0.0</td>\n",
       "    </tr>\n",
       "    <tr>\n",
       "      <td>Critic_Score</td>\n",
       "      <td>8578</td>\n",
       "      <td>51.0</td>\n",
       "    </tr>\n",
       "    <tr>\n",
       "      <td>User_Score</td>\n",
       "      <td>6701</td>\n",
       "      <td>40.0</td>\n",
       "    </tr>\n",
       "    <tr>\n",
       "      <td>Rating</td>\n",
       "      <td>6766</td>\n",
       "      <td>40.0</td>\n",
       "    </tr>\n",
       "  </tbody>\n",
       "</table>\n",
       "</div>"
      ],
      "text/plain": [
       "                 missing_values  % of total\n",
       "Name                          2         0.0\n",
       "Platform                      0         0.0\n",
       "Year_of_Release             269         2.0\n",
       "Genre                         2         0.0\n",
       "NA_sales                      0         0.0\n",
       "EU_sales                      0         0.0\n",
       "JP_sales                      0         0.0\n",
       "Other_sales                   0         0.0\n",
       "Critic_Score               8578        51.0\n",
       "User_Score                 6701        40.0\n",
       "Rating                     6766        40.0"
      ]
     },
     "execution_count": 6,
     "metadata": {},
     "output_type": "execute_result"
    }
   ],
   "source": [
    "report = df1.isna().sum().to_frame()\n",
    "report = report.rename(columns = {0: 'missing_values'})\n",
    "report['% of total'] = ((report['missing_values'] / df1.shape[0]).round(2))* 100\n",
    "report.sort_values(by = 'missing_values', ascending = False)\n",
    "report"
   ]
  },
  {
   "cell_type": "code",
   "execution_count": 4,
   "metadata": {},
   "outputs": [],
   "source": [
    "df1.tail(10)"
   ]
  },
  {
   "cell_type": "code",
   "execution_count": 8,
   "metadata": {},
   "outputs": [
    {
     "name": "stdout",
     "output_type": "stream",
     "text": [
      "1980.0\n",
      "2016.0\n",
      "                 Name Platform  Year_of_Release     Genre  NA_sales  EU_sales  \\\n",
      "262         Asteroids     2600           1980.0   Shooter      4.00      0.26   \n",
      "546   Missile Command     2600           1980.0   Shooter      2.56      0.17   \n",
      "1764          Kaboom!     2600           1980.0      Misc      1.07      0.07   \n",
      "1968         Defender     2600           1980.0      Misc      0.99      0.05   \n",
      "2650           Boxing     2600           1980.0  Fighting      0.72      0.04   \n",
      "4019       Ice Hockey     2600           1980.0    Sports      0.46      0.03   \n",
      "5360          Freeway     2600           1980.0    Action      0.32      0.02   \n",
      "6300           Bridge     2600           1980.0      Misc      0.25      0.02   \n",
      "6875         Checkers     2600           1980.0      Misc      0.22      0.01   \n",
      "\n",
      "      JP_sales  Other_sales  Critic_Score User_Score Rating  \n",
      "262        0.0         0.05           NaN        NaN    NaN  \n",
      "546        0.0         0.03           NaN        NaN    NaN  \n",
      "1764       0.0         0.01           NaN        NaN    NaN  \n",
      "1968       0.0         0.01           NaN        NaN    NaN  \n",
      "2650       0.0         0.01           NaN        NaN    NaN  \n",
      "4019       0.0         0.01           NaN        NaN    NaN  \n",
      "5360       0.0         0.00           NaN        NaN    NaN  \n",
      "6300       0.0         0.00           NaN        NaN    NaN  \n",
      "6875       0.0         0.00           NaN        NaN    NaN  \n"
     ]
    }
   ],
   "source": [
    "print(df1[\"Year_of_Release\"].min())\n",
    "\n",
    "print(df1[\"Year_of_Release\"].max())\n",
    "\n",
    "print(df1[df1[\"Year_of_Release\"] == 1980])"
   ]
  },
  {
   "cell_type": "markdown",
   "metadata": {},
   "source": [
    "### Step 1: Conclusion"
   ]
  },
  {
   "cell_type": "markdown",
   "metadata": {},
   "source": [
    "The dataset looks like a \"normal\" table (we don't need to use \"sep\" or \"decimal\" parameter of _read_csv()_ function, which were introduced in our theory chapter).\n",
    "\n",
    "As we can see in the output, we have a lot of work to do with the data, namely: \n",
    "\n",
    "- some data is missing (e.g. only 8137 row in _Critic_Score_ column, only 9949 in _Rating_ column etc., we can see NaN); we have to check, if we can to fill in the missing data. \n",
    "\n",
    "- some of datatypes do not suits the saved data (e.g. float64 for year _Age_ column etc.). We have to handle it. \n",
    "\n",
    "- Sales data are also saved as floats in USD millions, we can save used memory if we recalculate all the figurs in dollars and convert the same information into intergers. But we are not going to do it as far we are working with 1.4 Mb size dataset. \n",
    "\n",
    "- we also don't see any duplicates in the _head()_ method output, but we have to check it more precisely and (if necessary) to handle it."
   ]
  },
  {
   "cell_type": "markdown",
   "metadata": {},
   "source": [
    "## Step 2: Prepare the data\n",
    "<a class=\"anchor\" id=\"paragraph1\"></a>"
   ]
  },
  {
   "cell_type": "code",
   "execution_count": 10,
   "metadata": {},
   "outputs": [],
   "source": [
    "df1.columns = map(str.lower, df1.columns)"
   ]
  },
  {
   "cell_type": "code",
   "execution_count": 11,
   "metadata": {},
   "outputs": [],
   "source": [
    "df1['year_of_release']=df1['year_of_release'].fillna(0)\n",
    "\n",
    "df1['year_of_release']=df1['year_of_release'].astype('int16')"
   ]
  },
  {
   "cell_type": "code",
   "execution_count": 8,
   "metadata": {},
   "outputs": [],
   "source": [
    "df.info()"
   ]
  },
  {
   "cell_type": "markdown",
   "metadata": {},
   "source": [
    "We made the column names lowcase according to python style guide. \n",
    "\n",
    "At this place we converted the _year_ column into _int16_ only, because it was just impossible to tolerate float64 for saving of years :-) (_We have to explain why: because it makes no sence to save years as floating point numbers. _Int16_ uses 4 times less memory for storage the same amount information._ ) (We are going to make some more changes later.)\n",
    "\n",
    "As we mentioned earlier, all the _ _sales_ columns can be recalculated to integers too, but it is not mandatory. As well as _critic_score/critic_score_ could be converted to int8 to save memory, but we preffer to have floats here for more accuracy. "
   ]
  },
  {
   "cell_type": "markdown",
   "metadata": {},
   "source": [
    "Let's see, what we can do with missing values. "
   ]
  },
  {
   "cell_type": "code",
   "execution_count": 9,
   "metadata": {},
   "outputs": [],
   "source": [
    "print(df1[df1[\"name\"].isnull()])"
   ]
  },
  {
   "cell_type": "markdown",
   "metadata": {},
   "source": [
    "We have two games without names. All we know about it, they we released 1993 for GEN platform and it's sales data. We are going just to drop this two rows. "
   ]
  },
  {
   "cell_type": "code",
   "execution_count": 12,
   "metadata": {},
   "outputs": [],
   "source": [
    "df1 = df1[df1['name'].notna()]"
   ]
  },
  {
   "cell_type": "code",
   "execution_count": 11,
   "metadata": {},
   "outputs": [
    {
     "name": "stdout",
     "output_type": "stream",
     "text": [
      "<class 'pandas.core.frame.DataFrame'>\n",
      "Int64Index: 16713 entries, 0 to 16714\n",
      "Data columns (total 11 columns):\n",
      "name               16713 non-null object\n",
      "platform           16713 non-null object\n",
      "year_of_release    16713 non-null int16\n",
      "genre              16713 non-null object\n",
      "na_sales           16713 non-null float64\n",
      "eu_sales           16713 non-null float64\n",
      "jp_sales           16713 non-null float64\n",
      "other_sales        16713 non-null float64\n",
      "critic_score       8137 non-null float64\n",
      "user_score         10014 non-null object\n",
      "rating             9949 non-null object\n",
      "dtypes: float64(5), int16(1), object(5)\n",
      "memory usage: 1.4+ MB\n"
     ]
    }
   ],
   "source": [
    "df1.info()"
   ]
  },
  {
   "cell_type": "markdown",
   "metadata": {},
   "source": [
    "We have a lot of missing values in last three columns. We do not know the exactly reason, why this data is missing. \n",
    "\n",
    "It can be due a some kind of technical error during data collection/storage/extracting/preprocessing. \n",
    "\n",
    "Or it also can be, that this rating/score data was not collected. It can occur e.g. in case, if a film has no critic/user votes. It's pretty obvious, that in this case a critic/user score can not be calculated.  \n",
    "\n",
    "Values in the _rating_ column seems to be entered manually, and this type of data collections garantees a lot of errores and missing data. \n",
    "\n",
    "We also have a lot of \"TBD\" entries in the  _user_score_ column. This signals, that this data should be fill in later; but it didn't happen. In this case the entries are equal to NaNs. We are going to substitute it and try to fill in this values just as regular missing values. "
   ]
  },
  {
   "cell_type": "code",
   "execution_count": 14,
   "metadata": {},
   "outputs": [],
   "source": [
    "df1['user_score'] = df1['user_score'].str.replace('tbd', '0')"
   ]
  },
  {
   "cell_type": "code",
   "execution_count": 13,
   "metadata": {},
   "outputs": [],
   "source": [
    "df1['user_score']=df1['user_score'].astype('float64')\n",
    "df1.info()"
   ]
  },
  {
   "cell_type": "code",
   "execution_count": 14,
   "metadata": {},
   "outputs": [],
   "source": [
    "df1.replace(0, np.nan, inplace=True)"
   ]
  },
  {
   "cell_type": "markdown",
   "metadata": {},
   "source": [
    "We replaced all the tbd's by NaNs to handle it together with other NaNs later."
   ]
  },
  {
   "cell_type": "code",
   "execution_count": 15,
   "metadata": {},
   "outputs": [],
   "source": [
    "print(len(df1[df1['user_score'] == \"tbd\"]))"
   ]
  },
  {
   "cell_type": "markdown",
   "metadata": {},
   "source": [
    "There are too many of missing data to just drop it. We are going to fill in some missing values using data from another dataset (https://www.kaggle.com/jummyegg/rawg-game-dataset, the link was provided by our tutor). \n",
    "\n",
    "We selected on our local PC a few columns from the dataset and imported it via Google.Drive to our Notebook as dataframe _df3_. "
   ]
  },
  {
   "cell_type": "code",
   "execution_count": 15,
   "metadata": {},
   "outputs": [
    {
     "data": {
      "text/html": [
       "<div>\n",
       "<style scoped>\n",
       "    .dataframe tbody tr th:only-of-type {\n",
       "        vertical-align: middle;\n",
       "    }\n",
       "\n",
       "    .dataframe tbody tr th {\n",
       "        vertical-align: top;\n",
       "    }\n",
       "\n",
       "    .dataframe thead th {\n",
       "        text-align: right;\n",
       "    }\n",
       "</style>\n",
       "<table border=\"1\" class=\"dataframe\">\n",
       "  <thead>\n",
       "    <tr style=\"text-align: right;\">\n",
       "      <th></th>\n",
       "      <th>Unnamed: 0</th>\n",
       "      <th>name</th>\n",
       "      <th>released</th>\n",
       "      <th>rating</th>\n",
       "      <th>esrb_rating</th>\n",
       "      <th>metacritic</th>\n",
       "    </tr>\n",
       "  </thead>\n",
       "  <tbody>\n",
       "    <tr>\n",
       "      <td>0</td>\n",
       "      <td>0</td>\n",
       "      <td>D/Generation HD</td>\n",
       "      <td>2015-10-23</td>\n",
       "      <td>0.0</td>\n",
       "      <td>Everyone 10+</td>\n",
       "      <td>NaN</td>\n",
       "    </tr>\n",
       "    <tr>\n",
       "      <td>1</td>\n",
       "      <td>1</td>\n",
       "      <td>G Prime Into The Rain</td>\n",
       "      <td>2016-01-06</td>\n",
       "      <td>0.0</td>\n",
       "      <td>Everyone</td>\n",
       "      <td>NaN</td>\n",
       "    </tr>\n",
       "    <tr>\n",
       "      <td>2</td>\n",
       "      <td>2</td>\n",
       "      <td>Land Sliders</td>\n",
       "      <td>2015-09-24</td>\n",
       "      <td>0.0</td>\n",
       "      <td>Everyone 10+</td>\n",
       "      <td>NaN</td>\n",
       "    </tr>\n",
       "    <tr>\n",
       "      <td>3</td>\n",
       "      <td>3</td>\n",
       "      <td>Pixel Gear</td>\n",
       "      <td>2016-10-20</td>\n",
       "      <td>0.0</td>\n",
       "      <td>Teen</td>\n",
       "      <td>NaN</td>\n",
       "    </tr>\n",
       "    <tr>\n",
       "      <td>4</td>\n",
       "      <td>4</td>\n",
       "      <td>Gods and Idols</td>\n",
       "      <td>2016-12-12</td>\n",
       "      <td>0.0</td>\n",
       "      <td>NaN</td>\n",
       "      <td>NaN</td>\n",
       "    </tr>\n",
       "    <tr>\n",
       "      <td>...</td>\n",
       "      <td>...</td>\n",
       "      <td>...</td>\n",
       "      <td>...</td>\n",
       "      <td>...</td>\n",
       "      <td>...</td>\n",
       "      <td>...</td>\n",
       "    </tr>\n",
       "    <tr>\n",
       "      <td>474412</td>\n",
       "      <td>474412</td>\n",
       "      <td>Holy or Dead</td>\n",
       "      <td>2017-05-17</td>\n",
       "      <td>0.0</td>\n",
       "      <td>NaN</td>\n",
       "      <td>NaN</td>\n",
       "    </tr>\n",
       "    <tr>\n",
       "      <td>474413</td>\n",
       "      <td>474413</td>\n",
       "      <td>Airstrike HD Demo</td>\n",
       "      <td>2016-03-04</td>\n",
       "      <td>0.0</td>\n",
       "      <td>NaN</td>\n",
       "      <td>NaN</td>\n",
       "    </tr>\n",
       "    <tr>\n",
       "      <td>474414</td>\n",
       "      <td>474414</td>\n",
       "      <td>Urania's Mirror</td>\n",
       "      <td>2016-04-25</td>\n",
       "      <td>0.0</td>\n",
       "      <td>NaN</td>\n",
       "      <td>NaN</td>\n",
       "    </tr>\n",
       "    <tr>\n",
       "      <td>474415</td>\n",
       "      <td>474415</td>\n",
       "      <td>Simucities</td>\n",
       "      <td>2017-05-26</td>\n",
       "      <td>0.0</td>\n",
       "      <td>NaN</td>\n",
       "      <td>NaN</td>\n",
       "    </tr>\n",
       "    <tr>\n",
       "      <td>474416</td>\n",
       "      <td>474416</td>\n",
       "      <td>Pocket Assault (itch)</td>\n",
       "      <td>2015-08-20</td>\n",
       "      <td>0.0</td>\n",
       "      <td>NaN</td>\n",
       "      <td>NaN</td>\n",
       "    </tr>\n",
       "  </tbody>\n",
       "</table>\n",
       "<p>474417 rows × 6 columns</p>\n",
       "</div>"
      ],
      "text/plain": [
       "        Unnamed: 0                   name    released  rating   esrb_rating  \\\n",
       "0                0        D/Generation HD  2015-10-23     0.0  Everyone 10+   \n",
       "1                1  G Prime Into The Rain  2016-01-06     0.0      Everyone   \n",
       "2                2           Land Sliders  2015-09-24     0.0  Everyone 10+   \n",
       "3                3             Pixel Gear  2016-10-20     0.0          Teen   \n",
       "4                4         Gods and Idols  2016-12-12     0.0           NaN   \n",
       "...            ...                    ...         ...     ...           ...   \n",
       "474412      474412           Holy or Dead  2017-05-17     0.0           NaN   \n",
       "474413      474413      Airstrike HD Demo  2016-03-04     0.0           NaN   \n",
       "474414      474414        Urania's Mirror  2016-04-25     0.0           NaN   \n",
       "474415      474415             Simucities  2017-05-26     0.0           NaN   \n",
       "474416      474416  Pocket Assault (itch)  2015-08-20     0.0           NaN   \n",
       "\n",
       "        metacritic  \n",
       "0              NaN  \n",
       "1              NaN  \n",
       "2              NaN  \n",
       "3              NaN  \n",
       "4              NaN  \n",
       "...            ...  \n",
       "474412         NaN  \n",
       "474413         NaN  \n",
       "474414         NaN  \n",
       "474415         NaN  \n",
       "474416         NaN  \n",
       "\n",
       "[474417 rows x 6 columns]"
      ]
     },
     "execution_count": 15,
     "metadata": {},
     "output_type": "execute_result"
    }
   ],
   "source": [
    "spreadsheet_id = '11MoW0r4-IV56xbefE8sQcOnmQNjwpgFM-C44emg83QQ'\n",
    "file_name = 'https://docs.google.com/spreadsheets/d/{}/export?format=csv'.format(spreadsheet_id) \n",
    "r = requests.get(file_name)\n",
    "df3 = pd.read_csv(BytesIO(r.content))\n",
    "df3\n"
   ]
  },
  {
   "cell_type": "markdown",
   "metadata": {},
   "source": [
    "We have to preprocess the data a bit and rename columns to distinguish data from both datasets after merging. "
   ]
  },
  {
   "cell_type": "code",
   "execution_count": 16,
   "metadata": {},
   "outputs": [],
   "source": [
    "df3['released'] = df3['released'].astype(\"datetime64\")\n",
    "df3['released'] = df3['released'].dt.year\n",
    "\n",
    "df3['released'] = df3['released'].fillna(0)\n",
    "\n",
    "df3['released'] = df3['released'].astype(\"int16\")"
   ]
  },
  {
   "cell_type": "code",
   "execution_count": 17,
   "metadata": {},
   "outputs": [],
   "source": [
    "df3['user_rating'] = df3['rating']\n",
    "df3['critic_rating'] = df3['metacritic']"
   ]
  },
  {
   "cell_type": "code",
   "execution_count": 19,
   "metadata": {},
   "outputs": [],
   "source": [
    "df1.info()"
   ]
  },
  {
   "cell_type": "code",
   "execution_count": 20,
   "metadata": {},
   "outputs": [],
   "source": [
    "df3.info()"
   ]
  },
  {
   "cell_type": "code",
   "execution_count": 48,
   "metadata": {
    "scrolled": true
   },
   "outputs": [
    {
     "data": {
      "text/html": [
       "<div>\n",
       "<style scoped>\n",
       "    .dataframe tbody tr th:only-of-type {\n",
       "        vertical-align: middle;\n",
       "    }\n",
       "\n",
       "    .dataframe tbody tr th {\n",
       "        vertical-align: top;\n",
       "    }\n",
       "\n",
       "    .dataframe thead th {\n",
       "        text-align: right;\n",
       "    }\n",
       "</style>\n",
       "<table border=\"1\" class=\"dataframe\">\n",
       "  <thead>\n",
       "    <tr style=\"text-align: right;\">\n",
       "      <th></th>\n",
       "      <th>name</th>\n",
       "      <th>platform</th>\n",
       "      <th>year_of_release</th>\n",
       "      <th>genre</th>\n",
       "      <th>na_sales</th>\n",
       "      <th>eu_sales</th>\n",
       "      <th>jp_sales</th>\n",
       "      <th>other_sales</th>\n",
       "      <th>critic_score</th>\n",
       "      <th>user_score</th>\n",
       "      <th>rating</th>\n",
       "      <th>released</th>\n",
       "      <th>user_rating</th>\n",
       "      <th>critic_rating</th>\n",
       "      <th>esrb_rating</th>\n",
       "    </tr>\n",
       "  </thead>\n",
       "  <tbody>\n",
       "    <tr>\n",
       "      <td>0</td>\n",
       "      <td>Wii Sports</td>\n",
       "      <td>Wii</td>\n",
       "      <td>2006</td>\n",
       "      <td>Sports</td>\n",
       "      <td>41.36</td>\n",
       "      <td>28.96</td>\n",
       "      <td>3.77</td>\n",
       "      <td>8.45</td>\n",
       "      <td>76.0</td>\n",
       "      <td>8</td>\n",
       "      <td>E</td>\n",
       "      <td>2006.0</td>\n",
       "      <td>4.19</td>\n",
       "      <td>76.0</td>\n",
       "      <td>NaN</td>\n",
       "    </tr>\n",
       "    <tr>\n",
       "      <td>1</td>\n",
       "      <td>Super Mario Bros.</td>\n",
       "      <td>NES</td>\n",
       "      <td>1985</td>\n",
       "      <td>Platform</td>\n",
       "      <td>29.08</td>\n",
       "      <td>3.58</td>\n",
       "      <td>6.81</td>\n",
       "      <td>0.77</td>\n",
       "      <td>NaN</td>\n",
       "      <td>NaN</td>\n",
       "      <td>NaN</td>\n",
       "      <td>1985.0</td>\n",
       "      <td>4.27</td>\n",
       "      <td>NaN</td>\n",
       "      <td>NaN</td>\n",
       "    </tr>\n",
       "    <tr>\n",
       "      <td>2</td>\n",
       "      <td>Mario Kart Wii</td>\n",
       "      <td>Wii</td>\n",
       "      <td>2008</td>\n",
       "      <td>Racing</td>\n",
       "      <td>15.68</td>\n",
       "      <td>12.76</td>\n",
       "      <td>3.79</td>\n",
       "      <td>3.29</td>\n",
       "      <td>82.0</td>\n",
       "      <td>8.3</td>\n",
       "      <td>E</td>\n",
       "      <td>2008.0</td>\n",
       "      <td>4.26</td>\n",
       "      <td>82.0</td>\n",
       "      <td>NaN</td>\n",
       "    </tr>\n",
       "    <tr>\n",
       "      <td>3</td>\n",
       "      <td>Wii Sports Resort</td>\n",
       "      <td>Wii</td>\n",
       "      <td>2009</td>\n",
       "      <td>Sports</td>\n",
       "      <td>15.61</td>\n",
       "      <td>10.93</td>\n",
       "      <td>3.28</td>\n",
       "      <td>2.95</td>\n",
       "      <td>80.0</td>\n",
       "      <td>8</td>\n",
       "      <td>E</td>\n",
       "      <td>2009.0</td>\n",
       "      <td>4.17</td>\n",
       "      <td>80.0</td>\n",
       "      <td>Everyone</td>\n",
       "    </tr>\n",
       "    <tr>\n",
       "      <td>4</td>\n",
       "      <td>Pokemon Red/Pokemon Blue</td>\n",
       "      <td>GB</td>\n",
       "      <td>1996</td>\n",
       "      <td>Role-Playing</td>\n",
       "      <td>11.27</td>\n",
       "      <td>8.89</td>\n",
       "      <td>10.22</td>\n",
       "      <td>1.00</td>\n",
       "      <td>NaN</td>\n",
       "      <td>NaN</td>\n",
       "      <td>NaN</td>\n",
       "      <td>NaN</td>\n",
       "      <td>NaN</td>\n",
       "      <td>NaN</td>\n",
       "      <td>NaN</td>\n",
       "    </tr>\n",
       "  </tbody>\n",
       "</table>\n",
       "</div>"
      ],
      "text/plain": [
       "                       name platform  year_of_release         genre  na_sales  \\\n",
       "0                Wii Sports      Wii             2006        Sports     41.36   \n",
       "1         Super Mario Bros.      NES             1985      Platform     29.08   \n",
       "2            Mario Kart Wii      Wii             2008        Racing     15.68   \n",
       "3         Wii Sports Resort      Wii             2009        Sports     15.61   \n",
       "4  Pokemon Red/Pokemon Blue       GB             1996  Role-Playing     11.27   \n",
       "\n",
       "   eu_sales  jp_sales  other_sales  critic_score user_score rating  released  \\\n",
       "0     28.96      3.77         8.45          76.0          8      E    2006.0   \n",
       "1      3.58      6.81         0.77           NaN        NaN    NaN    1985.0   \n",
       "2     12.76      3.79         3.29          82.0        8.3      E    2008.0   \n",
       "3     10.93      3.28         2.95          80.0          8      E    2009.0   \n",
       "4      8.89     10.22         1.00           NaN        NaN    NaN       NaN   \n",
       "\n",
       "   user_rating  critic_rating esrb_rating  \n",
       "0         4.19           76.0         NaN  \n",
       "1         4.27            NaN         NaN  \n",
       "2         4.26           82.0         NaN  \n",
       "3         4.17           80.0    Everyone  \n",
       "4          NaN            NaN         NaN  "
      ]
     },
     "execution_count": 48,
     "metadata": {},
     "output_type": "execute_result"
    }
   ],
   "source": [
    "df = pd.merge(df1,\n",
    "                 df3[['name', 'released', 'user_rating', 'critic_rating', 'esrb_rating']],\n",
    "                 on='name', how='left')\n",
    "df.head()\n",
    "        "
   ]
  },
  {
   "cell_type": "code",
   "execution_count": 22,
   "metadata": {},
   "outputs": [
    {
     "name": "stdout",
     "output_type": "stream",
     "text": [
      "<class 'pandas.core.frame.DataFrame'>\n",
      "Int64Index: 16713 entries, 0 to 16712\n",
      "Data columns (total 15 columns):\n",
      "name               16713 non-null object\n",
      "platform           16713 non-null object\n",
      "year_of_release    16444 non-null float64\n",
      "genre              16713 non-null object\n",
      "na_sales           12206 non-null float64\n",
      "eu_sales           10844 non-null float64\n",
      "jp_sales           6200 non-null float64\n",
      "other_sales        10113 non-null float64\n",
      "critic_score       8137 non-null float64\n",
      "user_score         7589 non-null float64\n",
      "rating             9949 non-null object\n",
      "released           9820 non-null float64\n",
      "user_rating        9820 non-null float64\n",
      "critic_rating      2346 non-null float64\n",
      "esrb_rating        3448 non-null object\n",
      "dtypes: float64(10), object(5)\n",
      "memory usage: 2.0+ MB\n"
     ]
    }
   ],
   "source": [
    "df.info()"
   ]
  },
  {
   "cell_type": "markdown",
   "metadata": {},
   "source": [
    "And now we are going to try to fill the missing values in columns _critic_score, user_score, rating, year_of_release_ "
   ]
  },
  {
   "cell_type": "code",
   "execution_count": 19,
   "metadata": {},
   "outputs": [
    {
     "name": "stdout",
     "output_type": "stream",
     "text": [
      "8576\n",
      "6699\n",
      "6764\n",
      "269\n"
     ]
    }
   ],
   "source": [
    "print(len(df[df['critic_score'].isnull()]))\n",
    "print(len(df[df['user_score'].isnull()]))\n",
    "print(len(df[df['rating'].isnull()]))\n",
    "print(len(df[df['year_of_release'] == 0.0]))"
   ]
  },
  {
   "cell_type": "code",
   "execution_count": 20,
   "metadata": {},
   "outputs": [
    {
     "data": {
      "text/html": [
       "<div>\n",
       "<style scoped>\n",
       "    .dataframe tbody tr th:only-of-type {\n",
       "        vertical-align: middle;\n",
       "    }\n",
       "\n",
       "    .dataframe tbody tr th {\n",
       "        vertical-align: top;\n",
       "    }\n",
       "\n",
       "    .dataframe thead th {\n",
       "        text-align: right;\n",
       "    }\n",
       "</style>\n",
       "<table border=\"1\" class=\"dataframe\">\n",
       "  <thead>\n",
       "    <tr style=\"text-align: right;\">\n",
       "      <th></th>\n",
       "      <th>Unnamed: 0</th>\n",
       "      <th>name</th>\n",
       "      <th>released</th>\n",
       "      <th>rating</th>\n",
       "      <th>esrb_rating</th>\n",
       "      <th>metacritic</th>\n",
       "      <th>user_rating</th>\n",
       "      <th>critic_rating</th>\n",
       "    </tr>\n",
       "  </thead>\n",
       "  <tbody>\n",
       "    <tr>\n",
       "      <td>11068</td>\n",
       "      <td>11068</td>\n",
       "      <td>secant remix</td>\n",
       "      <td>2017</td>\n",
       "      <td>0.00</td>\n",
       "      <td>NaN</td>\n",
       "      <td>NaN</td>\n",
       "      <td>0.00</td>\n",
       "      <td>NaN</td>\n",
       "    </tr>\n",
       "    <tr>\n",
       "      <td>29669</td>\n",
       "      <td>29669</td>\n",
       "      <td>The Penanggalan</td>\n",
       "      <td>2015</td>\n",
       "      <td>0.00</td>\n",
       "      <td>NaN</td>\n",
       "      <td>NaN</td>\n",
       "      <td>0.00</td>\n",
       "      <td>NaN</td>\n",
       "    </tr>\n",
       "    <tr>\n",
       "      <td>445202</td>\n",
       "      <td>445202</td>\n",
       "      <td>Highscore Processing Unit</td>\n",
       "      <td>2018</td>\n",
       "      <td>0.00</td>\n",
       "      <td>NaN</td>\n",
       "      <td>NaN</td>\n",
       "      <td>0.00</td>\n",
       "      <td>NaN</td>\n",
       "    </tr>\n",
       "    <tr>\n",
       "      <td>392054</td>\n",
       "      <td>392054</td>\n",
       "      <td>Captain Food</td>\n",
       "      <td>2020</td>\n",
       "      <td>0.00</td>\n",
       "      <td>NaN</td>\n",
       "      <td>NaN</td>\n",
       "      <td>0.00</td>\n",
       "      <td>NaN</td>\n",
       "    </tr>\n",
       "    <tr>\n",
       "      <td>325374</td>\n",
       "      <td>325374</td>\n",
       "      <td>Gala Collider</td>\n",
       "      <td>2020</td>\n",
       "      <td>0.00</td>\n",
       "      <td>NaN</td>\n",
       "      <td>NaN</td>\n",
       "      <td>0.00</td>\n",
       "      <td>NaN</td>\n",
       "    </tr>\n",
       "    <tr>\n",
       "      <td>194445</td>\n",
       "      <td>194445</td>\n",
       "      <td>Darkness and Flame: Born of Fire (Full)</td>\n",
       "      <td>2016</td>\n",
       "      <td>0.00</td>\n",
       "      <td>NaN</td>\n",
       "      <td>NaN</td>\n",
       "      <td>0.00</td>\n",
       "      <td>NaN</td>\n",
       "    </tr>\n",
       "    <tr>\n",
       "      <td>355236</td>\n",
       "      <td>355236</td>\n",
       "      <td>Zellda</td>\n",
       "      <td>2017</td>\n",
       "      <td>0.00</td>\n",
       "      <td>Everyone 10+</td>\n",
       "      <td>NaN</td>\n",
       "      <td>0.00</td>\n",
       "      <td>NaN</td>\n",
       "    </tr>\n",
       "    <tr>\n",
       "      <td>249314</td>\n",
       "      <td>249314</td>\n",
       "      <td>Farmship: TriPeaks Solitaire</td>\n",
       "      <td>0</td>\n",
       "      <td>0.00</td>\n",
       "      <td>Everyone</td>\n",
       "      <td>NaN</td>\n",
       "      <td>0.00</td>\n",
       "      <td>NaN</td>\n",
       "    </tr>\n",
       "    <tr>\n",
       "      <td>472099</td>\n",
       "      <td>472099</td>\n",
       "      <td>SokobanCoon</td>\n",
       "      <td>2017</td>\n",
       "      <td>0.00</td>\n",
       "      <td>NaN</td>\n",
       "      <td>NaN</td>\n",
       "      <td>0.00</td>\n",
       "      <td>NaN</td>\n",
       "    </tr>\n",
       "    <tr>\n",
       "      <td>267330</td>\n",
       "      <td>267330</td>\n",
       "      <td>Pro Evolution Soccer 6</td>\n",
       "      <td>2006</td>\n",
       "      <td>4.41</td>\n",
       "      <td>NaN</td>\n",
       "      <td>NaN</td>\n",
       "      <td>4.41</td>\n",
       "      <td>NaN</td>\n",
       "    </tr>\n",
       "  </tbody>\n",
       "</table>\n",
       "</div>"
      ],
      "text/plain": [
       "        Unnamed: 0                                     name  released  rating  \\\n",
       "11068        11068                             secant remix      2017    0.00   \n",
       "29669        29669                          The Penanggalan      2015    0.00   \n",
       "445202      445202                Highscore Processing Unit      2018    0.00   \n",
       "392054      392054                             Captain Food      2020    0.00   \n",
       "325374      325374                            Gala Collider      2020    0.00   \n",
       "194445      194445  Darkness and Flame: Born of Fire (Full)      2016    0.00   \n",
       "355236      355236                                   Zellda      2017    0.00   \n",
       "249314      249314             Farmship: TriPeaks Solitaire         0    0.00   \n",
       "472099      472099                              SokobanCoon      2017    0.00   \n",
       "267330      267330                   Pro Evolution Soccer 6      2006    4.41   \n",
       "\n",
       "         esrb_rating  metacritic  user_rating  critic_rating  \n",
       "11068            NaN         NaN         0.00            NaN  \n",
       "29669            NaN         NaN         0.00            NaN  \n",
       "445202           NaN         NaN         0.00            NaN  \n",
       "392054           NaN         NaN         0.00            NaN  \n",
       "325374           NaN         NaN         0.00            NaN  \n",
       "194445           NaN         NaN         0.00            NaN  \n",
       "355236  Everyone 10+         NaN         0.00            NaN  \n",
       "249314      Everyone         NaN         0.00            NaN  \n",
       "472099           NaN         NaN         0.00            NaN  \n",
       "267330           NaN         NaN         4.41            NaN  "
      ]
     },
     "execution_count": 20,
     "metadata": {},
     "output_type": "execute_result"
    }
   ],
   "source": [
    "df3.sample(10)"
   ]
  },
  {
   "cell_type": "code",
   "execution_count": 49,
   "metadata": {},
   "outputs": [],
   "source": [
    "df['critic_score'] = df.critic_score.fillna(df.critic_rating)\n",
    "df['user_score'] = df.user_score.fillna(df.user_rating)\n",
    "df['rating'] = df.rating.fillna(df.esrb_rating)\n",
    "#df['year_of_release'] = df.year_of_release.replace(0, np.nan).fillna(df.released)"
   ]
  },
  {
   "cell_type": "code",
   "execution_count": 22,
   "metadata": {
    "scrolled": true
   },
   "outputs": [
    {
     "name": "stdout",
     "output_type": "stream",
     "text": [
      "8227\n",
      "4239\n",
      "6270\n",
      "269\n"
     ]
    }
   ],
   "source": [
    "print(len(df[df['critic_score'].isnull()]))\n",
    "print(len(df[df['user_score'].isnull()]))\n",
    "print(len(df[df['rating'].isnull()]))\n",
    "print(len(df[df['year_of_release']== 0]))"
   ]
  },
  {
   "cell_type": "code",
   "execution_count": 50,
   "metadata": {},
   "outputs": [],
   "source": [
    "df.drop(['released', 'user_rating', 'critic_rating', 'esrb_rating'], axis=1, inplace=True)\n",
    "\n",
    "df.info()"
   ]
  },
  {
   "cell_type": "markdown",
   "metadata": {},
   "source": [
    "As we can see in the output, we filled in hundreds/thousands of missed values (depends from the column). \n",
    "\n",
    "Let's check, what we get after filling in. Maybe something went wrong?"
   ]
  },
  {
   "cell_type": "code",
   "execution_count": 51,
   "metadata": {},
   "outputs": [
    {
     "name": "stdout",
     "output_type": "stream",
     "text": [
      "['E' nan 'M' 'T' 'E10+' 'Everyone' 'Everyone 10+' 'Teen' 'Mature' 'K-A'\n",
      " 'AO' 'Adults Only' 'EC' 'Rating Pending' 'RP']\n",
      "\n",
      "[76. nan 82. 80. 89. 58. 87. 91. 61. 97. 95. 77. 88. 83. 94. 93. 85. 86.\n",
      " 98. 96. 90. 84. 73. 74. 78. 92. 71. 72. 68. 62. 67. 99. 49. 81. 66. 56.\n",
      " 79. 70. 59. 64. 75. 60. 63. 69. 50. 25. 42. 44. 55. 48. 57. 29. 47. 65.\n",
      " 54. 20. 53. 37. 38. 33. 52. 30. 32. 43. 45. 51. 40. 46. 39. 34. 35. 41.\n",
      " 36. 28. 31. 27. 26. 19. 23. 24. 21. 17. 22. 13.]\n",
      "\n",
      "['8' 4.27 '8.3' nan '8.5' '6.6' '8.4' 0.0 '8.6' '7.7' '6.3' '7.4' '8.2'\n",
      " '9' 4.41 '7.9' 3.92 4.38 '8.1' '8.7' '7.1' '3.4' '5.3' '4.8' '3.2' '8.9'\n",
      " '6.4' '7.8' 4.46 4.34 '7.5' 4.3 '2.6' '7.2' '9.2' '7' '7.3' 4.39 4.05\n",
      " '4.3' '7.6' 3.35 4.11 '5.7' '5' '9.1' 3.87 '6.5' 4.17 '0' '8.8' 3.26 4.13\n",
      " '6.9' 4.36 '9.4' '6.8' '6.1' 4.15 3.94 '6.7' 4.07 '5.4' 3.84 4.03 4.35\n",
      " '4' 4.14 4.19 4.37 3.21 '4.9' '4.5' '9.3' '6.2' '4.2' 3.38 4.33 '6' 3.83\n",
      " '3.7' 4.47 3.62 3.33 4.31 4.32 4.29 4.0 3.71 4.12 '4.1' '5.8' '5.6' 3.64\n",
      " '5.5' '4.4' '4.6' '5.9' 3.63 '3.9' 3.86 3.79 4.2 3.22 3.98 4.28 2.62 3.31\n",
      " 3.75 3.93 3.77 3.53 3.99 4.06 3.91 '3.1' 3.96 4.04 3.61 4.43 '2.9' 4.57\n",
      " 3.85 3.81 4.44 3.82 3.89 '5.2' 3.67 3.68 '3.3' 3.25 '4.7' 4.09 2.45 3.28\n",
      " 3.12 4.1 '5.1' 3.8 3.5 2.64 3.73 4.4 '3.5' '2.5' '1.9' 3.43 4.21 '3' 4.25\n",
      " 3.4 4.22 2.67 3.44 3.78 3.66 3.52 '2.7' '2.2' 4.42 4.02 4.16 '2' 3.23\n",
      " 3.11 '9.5' 3.29 3.19 2.5 '2.1' 3.18 '3.6' 3.69 2.83 '2.8' 4.62 4.01 3.0\n",
      " 3.72 2.93 3.9 3.42 '1.8' 3.27 4.26 '3.8' 4.18 3.65 4.67 3.88 3.07 '1.6'\n",
      " 3.76 2.9 '9.6' 3.14 2.27 3.36 '2.4' 2.98 3.6 4.08 4.5 '1.7' 2.0 3.58 3.09\n",
      " 4.71 3.48 2.7 '1.1' 2.89 2.88 '0.3' 3.08 3.56 3.32 3.13 3.7 4.58 3.59\n",
      " '1.5' 3.57 4.23 2.41 4.53 2.82 '0.7' '1.2' 2.71 '2.3' '0.5' 3.17 '1.3'\n",
      " 3.05 '0.2' '0.6' 3.2 '1.4' '0.9' '1' 3.24 2.44 2.33 3.74 '9.7' 3.3]\n"
     ]
    }
   ],
   "source": [
    "print(df.rating.unique())\n",
    "print()\n",
    "print(df.critic_score.unique())\n",
    "print()\n",
    "print(df.user_score.unique())"
   ]
  },
  {
   "cell_type": "markdown",
   "metadata": {},
   "source": [
    "_critic_score_ and _user_score_ look very realistic. \n",
    "\n",
    "At the same time, it's pretty obviouse, that in the _rating_ column 'Everyone' == 'E', 'E10+' == 'Everyone 10+', 'M' == 'Mature', 'AO' == 'Adults Only', 'T' == 'Teen', 'Rating Pending' == 'RP'. \n",
    "\n",
    "Let's handle it."
   ]
  },
  {
   "cell_type": "code",
   "execution_count": 29,
   "metadata": {},
   "outputs": [],
   "source": [
    "df.rating.value_counts()"
   ]
  },
  {
   "cell_type": "code",
   "execution_count": 52,
   "metadata": {},
   "outputs": [],
   "source": [
    "df['rating'] = df['rating'].map({'Everyone 10+':'E10+', 'E10+': 'E10+','Everyone': 'E', 'E': 'E', \"Mature\": \"M\", \"M\": \"M\", \"Adults Only\": \"AO\", \"AO\": \"AO\", \"Teen\": \"T\", \"T\": \"T\", \"Rating Pending\": \"Other\",\"RP\": \"Other\"})"
   ]
  },
  {
   "cell_type": "code",
   "execution_count": 31,
   "metadata": {},
   "outputs": [],
   "source": [
    "df.rating.value_counts()"
   ]
  },
  {
   "cell_type": "code",
   "execution_count": 29,
   "metadata": {},
   "outputs": [
    {
     "name": "stdout",
     "output_type": "stream",
     "text": [
      "<class 'pandas.core.frame.DataFrame'>\n",
      "Int64Index: 16713 entries, 0 to 16712\n",
      "Data columns (total 11 columns):\n",
      "name               16713 non-null object\n",
      "platform           16713 non-null object\n",
      "year_of_release    16713 non-null int16\n",
      "genre              16713 non-null object\n",
      "na_sales           16713 non-null float64\n",
      "eu_sales           16713 non-null float64\n",
      "jp_sales           16713 non-null float64\n",
      "other_sales        16713 non-null float64\n",
      "critic_score       8486 non-null float64\n",
      "user_score         12474 non-null object\n",
      "rating             10432 non-null object\n",
      "dtypes: float64(5), int16(1), object(5)\n",
      "memory usage: 1.4+ MB\n"
     ]
    }
   ],
   "source": [
    "df.info()"
   ]
  },
  {
   "cell_type": "code",
   "execution_count": 99,
   "metadata": {},
   "outputs": [],
   "source": [
    "df['user_score']=df['user_score'].astype('float64')"
   ]
  },
  {
   "cell_type": "markdown",
   "metadata": {},
   "source": [
    "We still have a lot of missing values and grouping won't simply work in this case. That's why we are going just to replace the rest of NaNs by zeros. This give us a possibility to make further calculations. (In real life we would preffer to ask a person how gave us the data about this data.)"
   ]
  },
  {
   "cell_type": "markdown",
   "metadata": {},
   "source": [
    "_**Later remark**: at first we also get the missing **year_of_release** values from the new dataset, but during the analysis phase we founded out, that in this case the merging was not so smooth: e.g. we got a few PS2 games released in 1990s and many 2600 games released allegedly in 2012, what is  apparently can not be true. So we just dropped this 200+ rows where we do not know the release year._"
   ]
  },
  {
   "cell_type": "code",
   "execution_count": 53,
   "metadata": {},
   "outputs": [],
   "source": [
    "df = df[df['year_of_release'] != 0]"
   ]
  },
  {
   "cell_type": "code",
   "execution_count": 34,
   "metadata": {},
   "outputs": [
    {
     "name": "stdout",
     "output_type": "stream",
     "text": [
      "<class 'pandas.core.frame.DataFrame'>\n",
      "Int64Index: 16444 entries, 0 to 16712\n",
      "Data columns (total 11 columns):\n",
      "name               16444 non-null object\n",
      "platform           16444 non-null object\n",
      "year_of_release    16444 non-null int16\n",
      "genre              16444 non-null object\n",
      "na_sales           16444 non-null float64\n",
      "eu_sales           16444 non-null float64\n",
      "jp_sales           16444 non-null float64\n",
      "other_sales        16444 non-null float64\n",
      "critic_score       8327 non-null float64\n",
      "user_score         12253 non-null object\n",
      "rating             10246 non-null object\n",
      "dtypes: float64(5), int16(1), object(5)\n",
      "memory usage: 1.4+ MB\n"
     ]
    }
   ],
   "source": [
    "df.info()"
   ]
  },
  {
   "cell_type": "code",
   "execution_count": 54,
   "metadata": {},
   "outputs": [
    {
     "name": "stdout",
     "output_type": "stream",
     "text": [
      "<class 'pandas.core.frame.DataFrame'>\n",
      "Int64Index: 16444 entries, 0 to 16712\n",
      "Data columns (total 11 columns):\n",
      "name               16444 non-null object\n",
      "platform           16444 non-null object\n",
      "year_of_release    16444 non-null int16\n",
      "genre              16444 non-null object\n",
      "na_sales           16444 non-null float64\n",
      "eu_sales           16444 non-null float64\n",
      "jp_sales           16444 non-null float64\n",
      "other_sales        16444 non-null float64\n",
      "critic_score       16444 non-null float64\n",
      "user_score         16444 non-null object\n",
      "rating             16444 non-null object\n",
      "dtypes: float64(5), int16(1), object(5)\n",
      "memory usage: 1.4+ MB\n"
     ]
    }
   ],
   "source": [
    "df = df.fillna(0)\n",
    "\n",
    "#df['year_of_release']=df['year_of_release'].astype('int16')\n",
    "df.info()"
   ]
  },
  {
   "cell_type": "code",
   "execution_count": 55,
   "metadata": {},
   "outputs": [
    {
     "name": "stdout",
     "output_type": "stream",
     "text": [
      "['E' 'Unknown' 'M' 'T' 'E10+' 'AO' 'Other']\n"
     ]
    }
   ],
   "source": [
    "df.rating = df.rating.replace(0, \"Unknown\")\n",
    "print(df.rating.unique())"
   ]
  },
  {
   "cell_type": "markdown",
   "metadata": {},
   "source": [
    "Let's calculate the total sales (the sum of sales in all regions) for each game and put these values in a separate column."
   ]
  },
  {
   "cell_type": "code",
   "execution_count": 56,
   "metadata": {},
   "outputs": [],
   "source": [
    "df['total_sales'] = df['na_sales'] + df['eu_sales'] + df['jp_sales'] + df['other_sales']"
   ]
  },
  {
   "cell_type": "code",
   "execution_count": 38,
   "metadata": {},
   "outputs": [
    {
     "name": "stdout",
     "output_type": "stream",
     "text": [
      "<class 'pandas.core.frame.DataFrame'>\n",
      "Int64Index: 16444 entries, 0 to 16712\n",
      "Data columns (total 12 columns):\n",
      "name               16444 non-null object\n",
      "platform           16444 non-null object\n",
      "year_of_release    16444 non-null int16\n",
      "genre              16444 non-null object\n",
      "na_sales           16444 non-null float64\n",
      "eu_sales           16444 non-null float64\n",
      "jp_sales           16444 non-null float64\n",
      "other_sales        16444 non-null float64\n",
      "critic_score       16444 non-null float64\n",
      "user_score         16444 non-null object\n",
      "rating             16444 non-null object\n",
      "total_sales        16444 non-null float64\n",
      "dtypes: float64(6), int16(1), object(5)\n",
      "memory usage: 1.5+ MB\n"
     ]
    }
   ],
   "source": [
    "df.info()"
   ]
  },
  {
   "cell_type": "code",
   "execution_count": 39,
   "metadata": {},
   "outputs": [
    {
     "data": {
      "text/html": [
       "<div>\n",
       "<style scoped>\n",
       "    .dataframe tbody tr th:only-of-type {\n",
       "        vertical-align: middle;\n",
       "    }\n",
       "\n",
       "    .dataframe tbody tr th {\n",
       "        vertical-align: top;\n",
       "    }\n",
       "\n",
       "    .dataframe thead th {\n",
       "        text-align: right;\n",
       "    }\n",
       "</style>\n",
       "<table border=\"1\" class=\"dataframe\">\n",
       "  <thead>\n",
       "    <tr style=\"text-align: right;\">\n",
       "      <th></th>\n",
       "      <th>name</th>\n",
       "      <th>platform</th>\n",
       "      <th>year_of_release</th>\n",
       "      <th>genre</th>\n",
       "      <th>na_sales</th>\n",
       "      <th>eu_sales</th>\n",
       "      <th>jp_sales</th>\n",
       "      <th>other_sales</th>\n",
       "      <th>critic_score</th>\n",
       "      <th>user_score</th>\n",
       "      <th>rating</th>\n",
       "      <th>total_sales</th>\n",
       "    </tr>\n",
       "  </thead>\n",
       "  <tbody>\n",
       "    <tr>\n",
       "      <td>0</td>\n",
       "      <td>Wii Sports</td>\n",
       "      <td>Wii</td>\n",
       "      <td>2006</td>\n",
       "      <td>Sports</td>\n",
       "      <td>41.36</td>\n",
       "      <td>28.96</td>\n",
       "      <td>3.77</td>\n",
       "      <td>8.45</td>\n",
       "      <td>76.0</td>\n",
       "      <td>8</td>\n",
       "      <td>E</td>\n",
       "      <td>82.54</td>\n",
       "    </tr>\n",
       "    <tr>\n",
       "      <td>1</td>\n",
       "      <td>Super Mario Bros.</td>\n",
       "      <td>NES</td>\n",
       "      <td>1985</td>\n",
       "      <td>Platform</td>\n",
       "      <td>29.08</td>\n",
       "      <td>3.58</td>\n",
       "      <td>6.81</td>\n",
       "      <td>0.77</td>\n",
       "      <td>0.0</td>\n",
       "      <td>4.27</td>\n",
       "      <td>Unknown</td>\n",
       "      <td>40.24</td>\n",
       "    </tr>\n",
       "    <tr>\n",
       "      <td>2</td>\n",
       "      <td>Mario Kart Wii</td>\n",
       "      <td>Wii</td>\n",
       "      <td>2008</td>\n",
       "      <td>Racing</td>\n",
       "      <td>15.68</td>\n",
       "      <td>12.76</td>\n",
       "      <td>3.79</td>\n",
       "      <td>3.29</td>\n",
       "      <td>82.0</td>\n",
       "      <td>8.3</td>\n",
       "      <td>E</td>\n",
       "      <td>35.52</td>\n",
       "    </tr>\n",
       "    <tr>\n",
       "      <td>3</td>\n",
       "      <td>Wii Sports Resort</td>\n",
       "      <td>Wii</td>\n",
       "      <td>2009</td>\n",
       "      <td>Sports</td>\n",
       "      <td>15.61</td>\n",
       "      <td>10.93</td>\n",
       "      <td>3.28</td>\n",
       "      <td>2.95</td>\n",
       "      <td>80.0</td>\n",
       "      <td>8</td>\n",
       "      <td>E</td>\n",
       "      <td>32.77</td>\n",
       "    </tr>\n",
       "    <tr>\n",
       "      <td>4</td>\n",
       "      <td>Pokemon Red/Pokemon Blue</td>\n",
       "      <td>GB</td>\n",
       "      <td>1996</td>\n",
       "      <td>Role-Playing</td>\n",
       "      <td>11.27</td>\n",
       "      <td>8.89</td>\n",
       "      <td>10.22</td>\n",
       "      <td>1.00</td>\n",
       "      <td>0.0</td>\n",
       "      <td>0</td>\n",
       "      <td>Unknown</td>\n",
       "      <td>31.38</td>\n",
       "    </tr>\n",
       "  </tbody>\n",
       "</table>\n",
       "</div>"
      ],
      "text/plain": [
       "                       name platform  year_of_release         genre  na_sales  \\\n",
       "0                Wii Sports      Wii             2006        Sports     41.36   \n",
       "1         Super Mario Bros.      NES             1985      Platform     29.08   \n",
       "2            Mario Kart Wii      Wii             2008        Racing     15.68   \n",
       "3         Wii Sports Resort      Wii             2009        Sports     15.61   \n",
       "4  Pokemon Red/Pokemon Blue       GB             1996  Role-Playing     11.27   \n",
       "\n",
       "   eu_sales  jp_sales  other_sales  critic_score user_score   rating  \\\n",
       "0     28.96      3.77         8.45          76.0          8        E   \n",
       "1      3.58      6.81         0.77           0.0       4.27  Unknown   \n",
       "2     12.76      3.79         3.29          82.0        8.3        E   \n",
       "3     10.93      3.28         2.95          80.0          8        E   \n",
       "4      8.89     10.22         1.00           0.0          0  Unknown   \n",
       "\n",
       "   total_sales  \n",
       "0        82.54  \n",
       "1        40.24  \n",
       "2        35.52  \n",
       "3        32.77  \n",
       "4        31.38  "
      ]
     },
     "execution_count": 39,
     "metadata": {},
     "output_type": "execute_result"
    }
   ],
   "source": [
    "df.head()"
   ]
  },
  {
   "cell_type": "markdown",
   "metadata": {},
   "source": [
    "### Step 2: Conclusion"
   ]
  },
  {
   "cell_type": "markdown",
   "metadata": {},
   "source": [
    "We had done a really huge work in this step.\n",
    "\n",
    "We preprocessed our dataset: we replaced the column names (made them lowercase); converted the data to the required types where it was nessecary. \n",
    "\n",
    "We also got rid of all \"tbd\" entries in the _user_score_ column. Strings has no place in the numerical column. \n",
    "\n",
    "We merged our dataset with another, bigger one to fill in thousands of missing values. To do so we imported the second dataset to Yandex practicum platform via Google.Drive, preprocessed dataset locally and on the platform.\n",
    "\n",
    "We get rid of duplucates in the _rating_ column and a few untrustworthy rows based on the year of release. \n",
    "\n",
    "Unfortunatly it was not possible to fill in _all_ the missing values. The entries we couldn't fill in we replayced by zeros(or by \"Other\" in case of _rating_). We are going to keep it in mind during further calculations/analysis. \n",
    "\n",
    "Finally we calculated the total sales (the sum of sales in all regions) for each game and put these values in a separate column. "
   ]
  },
  {
   "cell_type": "markdown",
   "metadata": {},
   "source": [
    "## Step 3: Analyze the data"
   ]
  },
  {
   "cell_type": "markdown",
   "metadata": {},
   "source": [
    "Let's analyze the data! At first we are looking at how many games were released in different years and if the data for every period significant?"
   ]
  },
  {
   "cell_type": "code",
   "execution_count": 40,
   "metadata": {},
   "outputs": [
    {
     "name": "stdout",
     "output_type": "stream",
     "text": [
      "year_of_release\n",
      "1980       9\n",
      "1981      46\n",
      "1982      36\n",
      "1983      17\n",
      "1984      14\n",
      "1985      14\n",
      "1986      21\n",
      "1987      16\n",
      "1988      15\n",
      "1989      17\n",
      "1990      16\n",
      "1991      41\n",
      "1992      43\n",
      "1993      60\n",
      "1994     121\n",
      "1995     219\n",
      "1996     263\n",
      "1997     289\n",
      "1998     379\n",
      "1999     338\n",
      "2000     350\n",
      "2001     482\n",
      "2002     829\n",
      "2003     775\n",
      "2004     762\n",
      "2005     939\n",
      "2006    1006\n",
      "2007    1197\n",
      "2008    1427\n",
      "2009    1426\n",
      "2010    1255\n",
      "2011    1136\n",
      "2012     653\n",
      "2013     544\n",
      "2014     581\n",
      "2015     606\n",
      "2016     502\n",
      "dtype: int64\n"
     ]
    }
   ],
   "source": [
    "print(df.groupby('year_of_release').size())"
   ]
  },
  {
   "cell_type": "markdown",
   "metadata": {},
   "source": [
    "The output is very interesting: it shows all the main information about history of the game industry: the first launch around 1980, a very few releases in 1980s and early 1990s, the fast and continiuos growing starting in 1993-1994, the peak in 2008-2009, and stable 500-600 releases in 2012-2016. \n",
    "\n",
    "So we get all the historical periods of the industry with just one line of code, ant it's very significant information which'll help us in our further analysis. "
   ]
  },
  {
   "cell_type": "code",
   "execution_count": 57,
   "metadata": {},
   "outputs": [
    {
     "data": {
      "text/plain": [
       "31"
      ]
     },
     "execution_count": 57,
     "metadata": {},
     "output_type": "execute_result"
    }
   ],
   "source": [
    "len(df.platform.unique())"
   ]
  },
  {
   "cell_type": "code",
   "execution_count": 58,
   "metadata": {},
   "outputs": [
    {
     "name": "stdout",
     "output_type": "stream",
     "text": [
      "   platform  total_sales  number_of_games\n",
      "0       PS2      1233.56             2127\n",
      "1      X360       961.24             1232\n",
      "2       PS3       931.34             1306\n",
      "3       Wii       891.18             1286\n",
      "4        DS       802.78             2121\n",
      "5        PS       727.58             1190\n",
      "6       PS4       314.14              392\n",
      "7       GBA       312.88              811\n",
      "8       PSP       289.53             1193\n",
      "9       3DS       257.81              512\n",
      "10       PC       255.76              957\n",
      "11       GB       254.43               97\n",
      "12       XB       251.57              803\n",
      "13      NES       251.05               98\n",
      "14      N64       218.01              316\n",
      "15     SNES       200.04              239\n",
      "16       GC       196.73              542\n",
      "17     XOne       159.32              247\n",
      "18     2600        86.48              116\n",
      "19     WiiU        82.19              147\n",
      "20      PSV        53.81              429\n",
      "21      SAT        33.59              173\n",
      "22      GEN        28.35               27\n",
      "23       DC        15.95               52\n",
      "24      SCD         1.86                6\n",
      "25       NG         1.44               12\n",
      "26       WS         1.42                6\n",
      "27     TG16         0.16                2\n",
      "28      3DO         0.10                3\n",
      "29       GG         0.04                1\n",
      "30     PCFX         0.03                1\n"
     ]
    }
   ],
   "source": [
    "platforms_stat = df.groupby('platform')[['total_sales']].sum().join(\n",
    "    df.groupby('platform')[['name']].count())\n",
    "platforms_stat.columns = ['total_sales', 'number_of_games']\n",
    "platforms_stat.sort_values('total_sales', ascending=False, inplace=True)\n",
    "\n",
    "platforms_stat = platforms_stat.reset_index()\n",
    "\n",
    "print(platforms_stat.head(31))"
   ]
  },
  {
   "cell_type": "markdown",
   "metadata": {},
   "source": [
    "In the output we can see, how sales varied from platform to platform: the most sales were generated by PS2, X360, PS3 and Wii. The total revenue of PS2 is over 1.255 billion dollars! \n",
    "\n",
    "X360, PS3 and Wii collected almost one billion dollars each. \n",
    "\n",
    "There were a lot of other polular platforms. "
   ]
  },
  {
   "cell_type": "code",
   "execution_count": 59,
   "metadata": {},
   "outputs": [
    {
     "name": "stdout",
     "output_type": "stream",
     "text": [
      "    platform  year_of_release  total_sales  number_of_games\n",
      "218     X360             2010       170.03             1255\n",
      "219     X360             2011       143.84             1136\n",
      "220     X360             2012        99.74              653\n",
      "221     X360             2013        88.58              544\n",
      "222     X360             2014        34.74              581\n",
      "223     X360             2015        11.96              606\n",
      "224     X360             2016         1.52              502\n",
      "225       XB             2000         0.99              350\n",
      "226       XB             2001        22.26              482\n",
      "227       XB             2002        48.01              829\n",
      "228       XB             2003        55.04              775\n",
      "229       XB             2004        65.42              762\n",
      "230       XB             2005        49.08              939\n",
      "231       XB             2006        10.04             1006\n",
      "232       XB             2007         0.55             1197\n",
      "233       XB             2008         0.18             1427\n",
      "234     XOne             2013        18.96              544\n",
      "235     XOne             2014        54.07              581\n",
      "236     XOne             2015        60.14              606\n",
      "237     XOne             2016        26.15              502\n"
     ]
    }
   ],
   "source": [
    "years_df = df.groupby(['platform', 'year_of_release'])[['total_sales']].sum().join(\n",
    "    df.groupby('year_of_release')[['name']].count())\n",
    "\n",
    "years_df.columns = ['total_sales', 'number_of_games']\n",
    "\n",
    "years_df = years_df.reset_index()\n",
    "print(years_df.tail(20))"
   ]
  },
  {
   "cell_type": "markdown",
   "metadata": {},
   "source": [
    "In the table we created in the next cell we can find a distribution for each platform based on data for each year. \n",
    "\n",
    "Let's see the paticular information for some of the platforms."
   ]
  },
  {
   "cell_type": "code",
   "execution_count": 60,
   "metadata": {},
   "outputs": [
    {
     "name": "stdout",
     "output_type": "stream",
     "text": [
      "    platform  year_of_release  total_sales  number_of_games\n",
      "130      PS2             2000        39.17              350\n",
      "131      PS2             2001       166.43              482\n",
      "132      PS2             2002       205.38              829\n",
      "133      PS2             2003       184.31              775\n",
      "134      PS2             2004       211.81              762\n",
      "135      PS2             2005       160.66              939\n",
      "136      PS2             2006       103.42             1006\n",
      "137      PS2             2007        75.99             1197\n",
      "138      PS2             2008        53.90             1427\n",
      "139      PS2             2009        26.40             1426\n",
      "140      PS2             2010         5.64             1255\n",
      "141      PS2             2011         0.45             1136\n",
      "    platform  year_of_release  total_sales  number_of_games\n",
      "213     X360             2005         8.25              939\n",
      "214     X360             2006        51.62             1006\n",
      "215     X360             2007        95.41             1197\n",
      "216     X360             2008       135.26             1427\n",
      "217     X360             2009       120.29             1426\n",
      "218     X360             2010       170.03             1255\n",
      "219     X360             2011       143.84             1136\n",
      "220     X360             2012        99.74              653\n",
      "221     X360             2013        88.58              544\n",
      "222     X360             2014        34.74              581\n",
      "223     X360             2015        11.96              606\n",
      "224     X360             2016         1.52              502\n",
      "    platform  year_of_release  total_sales  number_of_games\n",
      "142      PS3             2006        20.96             1006\n",
      "143      PS3             2007        73.19             1197\n",
      "144      PS3             2008       118.52             1427\n",
      "145      PS3             2009       130.93             1426\n",
      "146      PS3             2010       142.17             1255\n",
      "147      PS3             2011       156.78             1136\n",
      "148      PS3             2012       107.36              653\n",
      "149      PS3             2013       113.25              544\n",
      "150      PS3             2014        47.76              581\n",
      "151      PS3             2015        16.82              606\n",
      "152      PS3             2016         3.60              502\n",
      "    platform  year_of_release  total_sales  number_of_games\n",
      "197      Wii             2006       137.15             1006\n",
      "198      Wii             2007       152.77             1197\n",
      "199      Wii             2008       171.32             1427\n",
      "200      Wii             2009       206.97             1426\n",
      "201      Wii             2010       127.95             1255\n",
      "202      Wii             2011        59.65             1136\n",
      "203      Wii             2012        21.71              653\n",
      "204      Wii             2013         8.59              544\n",
      "205      Wii             2014         3.75              581\n",
      "206      Wii             2015         1.14              606\n",
      "207      Wii             2016         0.18              502\n",
      "   platform  year_of_release  total_sales  number_of_games\n",
      "25       DS             1985         0.02               14\n",
      "26       DS             2004        17.27              762\n",
      "27       DS             2005       130.14              939\n",
      "28       DS             2006       119.81             1006\n",
      "29       DS             2007       146.94             1197\n",
      "30       DS             2008       145.31             1427\n",
      "31       DS             2009       119.54             1426\n",
      "32       DS             2010        85.02             1255\n",
      "33       DS             2011        26.18             1136\n",
      "34       DS             2012        11.01              653\n",
      "35       DS             2013         1.54              544\n",
      "    platform  year_of_release  total_sales  number_of_games\n",
      "120       PS             1994         6.03              121\n",
      "121       PS             1995        35.96              219\n",
      "122       PS             1996        94.70              263\n",
      "123       PS             1997       136.17              289\n",
      "124       PS             1998       169.49              379\n",
      "125       PS             1999       144.53              338\n",
      "126       PS             2000        96.37              350\n",
      "127       PS             2001        35.59              482\n",
      "128       PS             2002         6.67              829\n",
      "129       PS             2003         2.07              775\n",
      "    platform  year_of_release  total_sales  number_of_games\n",
      "153      PS4             2013        25.99              544\n",
      "154      PS4             2014       100.00              581\n",
      "155      PS4             2015       118.90              606\n",
      "156      PS4             2016        69.25              502\n",
      "   platform  year_of_release  total_sales  number_of_games\n",
      "49      GBA             2000         0.07              350\n",
      "50      GBA             2001        61.53              482\n",
      "51      GBA             2002        74.16              829\n",
      "52      GBA             2003        56.67              775\n",
      "53      GBA             2004        77.91              762\n",
      "54      GBA             2005        33.86              939\n",
      "55      GBA             2006         5.28             1006\n",
      "56      GBA             2007         3.40             1197\n",
      "    platform  year_of_release  total_sales  number_of_games\n",
      "157      PSP             2004         7.06              762\n",
      "158      PSP             2005        43.84              939\n",
      "159      PSP             2006        55.32             1006\n",
      "160      PSP             2007        46.93             1197\n",
      "161      PSP             2008        34.55             1427\n",
      "162      PSP             2009        37.78             1426\n",
      "163      PSP             2010        35.04             1255\n",
      "164      PSP             2011        17.82             1136\n",
      "165      PSP             2012         7.69              653\n",
      "166      PSP             2013         3.14              544\n",
      "167      PSP             2014         0.24              581\n",
      "168      PSP             2015         0.12              606\n",
      "   platform  year_of_release  total_sales  number_of_games\n",
      "12      3DS             2011        63.20             1136\n",
      "13      3DS             2012        51.36              653\n",
      "14      3DS             2013        56.57              544\n",
      "15      3DS             2014        43.76              581\n",
      "16      3DS             2015        27.78              606\n",
      "17      3DS             2016        15.14              502\n",
      "    platform  year_of_release  total_sales  number_of_games\n",
      "93        PC             1985         0.04               14\n",
      "94        PC             1988         0.03               15\n",
      "95        PC             1992         3.03               43\n",
      "96        PC             1994        12.87              121\n",
      "97        PC             1995         4.22              219\n",
      "98        PC             1996        10.58              263\n",
      "99        PC             1997        11.27              289\n",
      "100       PC             1998         3.26              379\n",
      "101       PC             1999         4.74              338\n",
      "102       PC             2000         4.66              350\n",
      "103       PC             2001         5.47              482\n",
      "104       PC             2002         8.57              829\n",
      "105       PC             2003         8.84              775\n",
      "106       PC             2004        10.39              762\n",
      "107       PC             2005         4.37              939\n",
      "108       PC             2006         2.85             1006\n",
      "109       PC             2007         9.28             1197\n",
      "110       PC             2008        12.42             1427\n",
      "111       PC             2009        16.91             1426\n",
      "112       PC             2010        24.28             1255\n",
      "113       PC             2011        35.03             1136\n",
      "114       PC             2012        23.22              653\n",
      "115       PC             2013        12.38              544\n",
      "116       PC             2014        13.28              581\n",
      "117       PC             2015         8.52              606\n",
      "118       PC             2016         5.25              502\n",
      "   platform  year_of_release  total_sales  number_of_games\n",
      "36       GB             1988         1.43               15\n",
      "37       GB             1989        64.97               17\n",
      "38       GB             1990         4.89               16\n",
      "39       GB             1991         5.57               41\n",
      "40       GB             1992        25.49               43\n",
      "41       GB             1994        12.18              121\n",
      "42       GB             1995         3.60              219\n",
      "43       GB             1996        36.03              263\n",
      "44       GB             1997         6.37              289\n",
      "45       GB             1998        26.90              379\n",
      "46       GB             1999        38.00              338\n",
      "47       GB             2000        19.76              350\n",
      "48       GB             2001         9.24              482\n",
      "    platform  year_of_release  total_sales  number_of_games\n",
      "225       XB             2000         0.99              350\n",
      "226       XB             2001        22.26              482\n",
      "227       XB             2002        48.01              829\n",
      "228       XB             2003        55.04              775\n",
      "229       XB             2004        65.42              762\n",
      "230       XB             2005        49.08              939\n",
      "231       XB             2006        10.04             1006\n",
      "232       XB             2007         0.55             1197\n",
      "233       XB             2008         0.18             1427\n",
      "   platform  year_of_release  total_sales  number_of_games\n",
      "77      NES             1983        10.96               17\n",
      "78      NES             1984        50.08               14\n",
      "79      NES             1985        53.44               14\n",
      "80      NES             1986        36.41               21\n",
      "81      NES             1987        19.76               16\n",
      "82      NES             1988        45.01               15\n",
      "83      NES             1989         7.85               17\n",
      "84      NES             1990        15.73               16\n",
      "85      NES             1991         6.11               41\n",
      "86      NES             1992         1.98               43\n",
      "87      NES             1993         3.61               60\n",
      "88      NES             1994         0.11              121\n",
      "   platform  year_of_release  total_sales  number_of_games\n",
      "70      N64             1996        34.10              263\n",
      "71      N64             1997        39.50              289\n",
      "72      N64             1998        49.24              379\n",
      "73      N64             1999        57.87              338\n",
      "74      N64             2000        33.97              350\n",
      "75      N64             2001         3.25              482\n",
      "76      N64             2002         0.08              829\n",
      "    platform  year_of_release  total_sales  number_of_games\n",
      "183     SNES             1990        26.15               16\n",
      "184     SNES             1991        16.22               41\n",
      "185     SNES             1992        32.98               43\n",
      "186     SNES             1993        40.02               60\n",
      "187     SNES             1994        35.08              121\n",
      "188     SNES             1995        32.20              219\n",
      "189     SNES             1996        15.92              263\n",
      "190     SNES             1997         0.99              289\n",
      "191     SNES             1998         0.22              379\n",
      "192     SNES             1999         0.26              338\n",
      "   platform  year_of_release  total_sales  number_of_games\n",
      "57       GC             2001        26.34              482\n",
      "58       GC             2002        51.81              829\n",
      "59       GC             2003        50.61              775\n",
      "60       GC             2004        28.82              762\n",
      "61       GC             2005        27.62              939\n",
      "62       GC             2006        11.26             1006\n",
      "63       GC             2007         0.27             1197\n",
      "    platform  year_of_release  total_sales  number_of_games\n",
      "234     XOne             2013        18.96              544\n",
      "235     XOne             2014        54.07              581\n",
      "236     XOne             2015        60.14              606\n",
      "237     XOne             2016        26.15              502\n",
      "  platform  year_of_release  total_sales  number_of_games\n",
      "0     2600             1980        11.38                9\n",
      "1     2600             1981        35.68               46\n",
      "2     2600             1982        28.88               36\n",
      "3     2600             1983         5.84               17\n",
      "4     2600             1984         0.27               14\n",
      "5     2600             1985         0.45               14\n",
      "6     2600             1986         0.67               21\n",
      "7     2600             1987         1.94               16\n",
      "8     2600             1988         0.74               15\n",
      "9     2600             1989         0.63               17\n",
      "    platform  year_of_release  total_sales  number_of_games\n",
      "208     WiiU             2012        17.56              653\n",
      "209     WiiU             2013        21.65              544\n",
      "210     WiiU             2014        22.03              581\n",
      "211     WiiU             2015        16.35              606\n",
      "212     WiiU             2016         4.60              502\n",
      "    platform  year_of_release  total_sales  number_of_games\n",
      "169      PSV             2011         4.63             1136\n",
      "170      PSV             2012        16.19              653\n",
      "171      PSV             2013        10.59              544\n",
      "172      PSV             2014        11.90              581\n",
      "173      PSV             2015         6.25              606\n",
      "174      PSV             2016         4.25              502\n",
      "    platform  year_of_release  total_sales  number_of_games\n",
      "175      SAT             1994         3.65              121\n",
      "176      SAT             1995        11.57              219\n",
      "177      SAT             1996         7.69              263\n",
      "178      SAT             1997         6.77              289\n",
      "179      SAT             1998         3.82              379\n",
      "180      SAT             1999         0.09              338\n",
      "   platform  year_of_release  total_sales  number_of_games\n",
      "64      GEN             1990         2.60               16\n",
      "65      GEN             1991         4.33               41\n",
      "66      GEN             1992        12.64               43\n",
      "67      GEN             1993         0.65               60\n",
      "68      GEN             1994         8.13              121\n",
      "   platform  year_of_release  total_sales  number_of_games\n",
      "18       DC             1998         3.38              379\n",
      "19       DC             1999         5.16              338\n",
      "20       DC             2000         5.99              350\n",
      "21       DC             2001         1.07              482\n",
      "22       DC             2002         0.29              829\n",
      "23       DC             2007         0.02             1197\n",
      "24       DC             2008         0.04             1427\n",
      "    platform  year_of_release  total_sales  number_of_games\n",
      "181      SCD             1993         1.50               60\n",
      "182      SCD             1994         0.36              121\n",
      "   platform  year_of_release  total_sales  number_of_games\n",
      "89       NG             1993         0.21               60\n",
      "90       NG             1994         0.80              121\n",
      "91       NG             1995         0.33              219\n",
      "92       NG             1996         0.10              263\n",
      "    platform  year_of_release  total_sales  number_of_games\n",
      "194       WS             1999         0.46              338\n",
      "195       WS             2000         0.68              350\n",
      "196       WS             2001         0.28              482\n",
      "    platform  year_of_release  total_sales  number_of_games\n",
      "193     TG16             1995         0.16              219\n",
      "   platform  year_of_release  total_sales  number_of_games\n",
      "10      3DO             1994         0.02              121\n",
      "11      3DO             1995         0.08              219\n",
      "   platform  year_of_release  total_sales  number_of_games\n",
      "69       GG             1992         0.04               43\n",
      "    platform  year_of_release  total_sales  number_of_games\n",
      "119     PCFX             1996         0.03              263\n"
     ]
    }
   ],
   "source": [
    "platforms = platforms_stat[\"platform\"].unique().tolist()\n",
    "\n",
    "for platform in platforms: \n",
    "    print(years_df[years_df[\"platform\"] == platform])"
   ]
  },
  {
   "cell_type": "markdown",
   "metadata": {},
   "source": [
    "So we can see, that the leading platforms generate a solid revenue from the very first year arter release. But typically it grows significantly after 1-3 years, then we see a flattening of the curve for a 2-4 years, and after peak time usually it fades during 3-6 years. Therefore the average lifetime is typically less than 10 years.\n",
    "\n",
    "As platforms used to be popular but now have zero sales we can name e.g. PS2, PS, DS, GBA etc. \n",
    "\n",
    "There are also some platforms _from well-known producers_ which made a great sales already in the very first year after release (e.g. Wii, 3DS, N64, SNEC etc.)"
   ]
  },
  {
   "cell_type": "code",
   "execution_count": 69,
   "metadata": {},
   "outputs": [],
   "source": [
    "df = df[df['year_of_release'] >= 2013]"
   ]
  },
  {
   "cell_type": "code",
   "execution_count": 62,
   "metadata": {},
   "outputs": [
    {
     "data": {
      "text/plain": [
       "(2233, 12)"
      ]
     },
     "execution_count": 62,
     "metadata": {},
     "output_type": "execute_result"
    }
   ],
   "source": [
    "df.shape"
   ]
  },
  {
   "cell_type": "code",
   "execution_count": 70,
   "metadata": {},
   "outputs": [
    {
     "name": "stdout",
     "output_type": "stream",
     "text": [
      "['PS3' 'X360' 'PS4' '3DS' 'XOne' 'WiiU' 'Wii' 'PC' 'PSV' 'DS' 'PSP']\n"
     ]
    }
   ],
   "source": [
    " print(df.platform.unique())"
   ]
  },
  {
   "cell_type": "code",
   "execution_count": 67,
   "metadata": {},
   "outputs": [
    {
     "name": "stdout",
     "output_type": "stream",
     "text": [
      "   platform  total_sales  number_of_games\n",
      "0       PS4       314.14              392\n",
      "1       PS3       181.43              345\n",
      "2      XOne       159.32              247\n",
      "3       3DS       143.25              303\n",
      "4      X360       136.80              186\n",
      "5      WiiU        64.63              115\n",
      "6        PC        39.43              189\n",
      "7       PSV        32.99              358\n",
      "8       Wii        13.66               23\n",
      "9       PSP         3.50               67\n",
      "10       DS         1.54                8\n"
     ]
    }
   ],
   "source": [
    "platforms_stat2 = df.groupby('platform')[['total_sales']].sum().join(\n",
    "    df.groupby('platform')[['name']].count())\n",
    "platforms_stat2.columns = ['total_sales', 'number_of_games']\n",
    "platforms_stat2.sort_values('total_sales', ascending=False, inplace=True)\n",
    "\n",
    "platforms_stat2 = platforms_stat2.reset_index()\n",
    "\n",
    "print(platforms_stat2.head(11))"
   ]
  },
  {
   "cell_type": "code",
   "execution_count": 71,
   "metadata": {},
   "outputs": [
    {
     "name": "stdout",
     "output_type": "stream",
     "text": [
      "    platform  year_of_release  total_sales  number_of_games\n",
      "153      PS4             2013        25.99              544\n",
      "154      PS4             2014       100.00              581\n",
      "155      PS4             2015       118.90              606\n",
      "156      PS4             2016        69.25              502\n",
      "    platform  year_of_release  total_sales  number_of_games\n",
      "149      PS3             2013       113.25              544\n",
      "150      PS3             2014        47.76              581\n",
      "151      PS3             2015        16.82              606\n",
      "152      PS3             2016         3.60              502\n",
      "    platform  year_of_release  total_sales  number_of_games\n",
      "234     XOne             2013        18.96              544\n",
      "235     XOne             2014        54.07              581\n",
      "236     XOne             2015        60.14              606\n",
      "237     XOne             2016        26.15              502\n",
      "   platform  year_of_release  total_sales  number_of_games\n",
      "14      3DS             2013        56.57              544\n",
      "15      3DS             2014        43.76              581\n",
      "16      3DS             2015        27.78              606\n",
      "17      3DS             2016        15.14              502\n",
      "    platform  year_of_release  total_sales  number_of_games\n",
      "221     X360             2013        88.58              544\n",
      "222     X360             2014        34.74              581\n",
      "223     X360             2015        11.96              606\n",
      "224     X360             2016         1.52              502\n",
      "    platform  year_of_release  total_sales  number_of_games\n",
      "209     WiiU             2013        21.65              544\n",
      "210     WiiU             2014        22.03              581\n",
      "211     WiiU             2015        16.35              606\n",
      "212     WiiU             2016         4.60              502\n",
      "    platform  year_of_release  total_sales  number_of_games\n",
      "115       PC             2013        12.38              544\n",
      "116       PC             2014        13.28              581\n",
      "117       PC             2015         8.52              606\n",
      "118       PC             2016         5.25              502\n",
      "    platform  year_of_release  total_sales  number_of_games\n",
      "171      PSV             2013        10.59              544\n",
      "172      PSV             2014        11.90              581\n",
      "173      PSV             2015         6.25              606\n",
      "174      PSV             2016         4.25              502\n",
      "    platform  year_of_release  total_sales  number_of_games\n",
      "204      Wii             2013         8.59              544\n",
      "205      Wii             2014         3.75              581\n",
      "206      Wii             2015         1.14              606\n",
      "207      Wii             2016         0.18              502\n",
      "    platform  year_of_release  total_sales  number_of_games\n",
      "166      PSP             2013         3.14              544\n",
      "167      PSP             2014         0.24              581\n",
      "168      PSP             2015         0.12              606\n",
      "   platform  year_of_release  total_sales  number_of_games\n",
      "35       DS             2013         1.54              544\n"
     ]
    }
   ],
   "source": [
    "years_df = years_df[years_df['year_of_release'] >= 2013]\n",
    "\n",
    "platforms2 = platforms_stat2[\"platform\"].unique().tolist()\n",
    "\n",
    "for platform in platforms2: \n",
    "    print(years_df[years_df[\"platform\"] == platform])"
   ]
  },
  {
   "cell_type": "markdown",
   "metadata": {},
   "source": [
    "   \n",
    "If we concider data for 2013-2016 only, we get another platforms in the Top 5: PS4, PS3, XOne, 3DS, WiiU. \n",
    "\n",
    "As we know, PS3 was released in 2006 and threfore is already at an age when sales are only going down. The other four platforms are newer and stil actual. PS4, XOne and WiiU seem to be in their best shape. (we remember, that our data for 2016 are not complete!)  \n",
    "    \n",
    "With 3DS we can not be sure: althogh the platform is young, its' sales are continiously falling since 2014. \n",
    "\n",
    "Therefore potentially profitable in 2017 platforms are PS4, XOne and WiiU. The 3DS is also relativly young, but we would not recommend to promote it because its sales are continiously falling. "
   ]
  },
  {
   "cell_type": "code",
   "execution_count": 72,
   "metadata": {},
   "outputs": [
    {
     "data": {
      "image/png": "[encoded data removed]",
      "text/plain": [
       "<Figure size 432x288 with 1 Axes>"
      ]
     },
     "metadata": {
      "needs_background": "light"
     },
     "output_type": "display_data"
    }
   ],
   "source": [
    "platforms_stat2.boxplot(column = \"total_sales\", by = \"platform\")\n",
    "\n",
    "#plt.title('Total sales by a platform')\n",
    "plt.xlabel('Platform')\n",
    "plt.ylabel('Sales, MUSD');"
   ]
  },
  {
   "cell_type": "markdown",
   "metadata": {},
   "source": [
    "The difference is significant: only a few platforms has a total sales level around 1MM USD, a bit more platforms has a total sales level 50-350M USD, and there are 4 platforms with very low sales level. "
   ]
  },
  {
   "cell_type": "code",
   "execution_count": 83,
   "metadata": {},
   "outputs": [
    {
     "name": "stdout",
     "output_type": "stream",
     "text": [
      "392\n",
      "<class 'pandas.core.frame.DataFrame'>\n",
      "Int64Index: 277 entries, 42 to 16528\n",
      "Data columns (total 12 columns):\n",
      "name               277 non-null object\n",
      "platform           277 non-null object\n",
      "year_of_release    277 non-null int16\n",
      "genre              277 non-null object\n",
      "na_sales           277 non-null float64\n",
      "eu_sales           277 non-null float64\n",
      "jp_sales           277 non-null float64\n",
      "other_sales        277 non-null float64\n",
      "critic_score       277 non-null float64\n",
      "user_score         277 non-null float64\n",
      "rating             277 non-null object\n",
      "total_sales        277 non-null float64\n",
      "dtypes: float64(7), int16(1), object(4)\n",
      "memory usage: 26.5+ KB\n",
      "None\n",
      "277\n"
     ]
    }
   ],
   "source": [
    "ps4 = df[df[\"platform\"] == \"PS4\"]\n",
    "\n",
    "print(len(ps4))\n",
    "\n",
    "ps4 = ps4[ps4[\"user_score\"] !=0 ]\n",
    "ps4 = ps4[ps4[\"critic_score\"] !=0 ]\n",
    "\n",
    "ps4['user_score'] = ps4['user_score'].astype('float64')\n",
    "\n",
    "print(ps4.info())\n",
    "\n",
    "print(len(ps4))\n"
   ]
  },
  {
   "cell_type": "code",
   "execution_count": 84,
   "metadata": {},
   "outputs": [
    {
     "data": {
      "image/png": "[encoded data removed]",
      "text/plain": [
       "<Figure size 432x288 with 1 Axes>"
      ]
     },
     "metadata": {
      "needs_background": "light"
     },
     "output_type": "display_data"
    }
   ],
   "source": [
    "ps4.plot(x='user_score',y='total_sales', kind ='scatter')\n",
    "\n",
    "plt.title('PS4: correlation btw. users rating and total sales')\n",
    "#plt.xlabel('Us')\n",
    "plt.ylabel('Sales, MUSD');"
   ]
  },
  {
   "cell_type": "code",
   "execution_count": 85,
   "metadata": {},
   "outputs": [
    {
     "name": "stdout",
     "output_type": "stream",
     "text": [
      "0.011609570792645112\n"
     ]
    }
   ],
   "source": [
    "print(ps4['user_score'].corr(ps4['total_sales']))"
   ]
  },
  {
   "cell_type": "code",
   "execution_count": 86,
   "metadata": {},
   "outputs": [
    {
     "data": {
      "image/png": "[encoded data removed]",
      "text/plain": [
       "<Figure size 432x288 with 1 Axes>"
      ]
     },
     "metadata": {
      "needs_background": "light"
     },
     "output_type": "display_data"
    }
   ],
   "source": [
    "ps4.plot(x='critic_score',y='total_sales', kind ='scatter')\n",
    "\n",
    "plt.title('PS4: correlation btw. critics rating and total sales')\n",
    "plt.ylabel('Sales, MUSD');"
   ]
  },
  {
   "cell_type": "code",
   "execution_count": 87,
   "metadata": {},
   "outputs": [
    {
     "name": "stdout",
     "output_type": "stream",
     "text": [
      "0.37472657949977844\n"
     ]
    }
   ],
   "source": [
    "print(ps4['critic_score'].corr(ps4['total_sales']))"
   ]
  },
  {
   "cell_type": "markdown",
   "metadata": {},
   "source": [
    "We chose _ps4_ as an example. The graphs and the Pearson correlation coefficients above show us, that the correlation btw. professional reviews and sales exists, but it is weak. \n",
    "    \n",
    "The correlation btw. user reviews and sales is so weak, that it's better to say that in this case there is no correlation at all."
   ]
  },
  {
   "cell_type": "code",
   "execution_count": 89,
   "metadata": {},
   "outputs": [
    {
     "data": {
      "text/html": [
       "<div>\n",
       "<style scoped>\n",
       "    .dataframe tbody tr th:only-of-type {\n",
       "        vertical-align: middle;\n",
       "    }\n",
       "\n",
       "    .dataframe tbody tr th {\n",
       "        vertical-align: top;\n",
       "    }\n",
       "\n",
       "    .dataframe thead th {\n",
       "        text-align: right;\n",
       "    }\n",
       "</style>\n",
       "<table border=\"1\" class=\"dataframe\">\n",
       "  <thead>\n",
       "    <tr style=\"text-align: right;\">\n",
       "      <th></th>\n",
       "      <th>name</th>\n",
       "      <th>platform</th>\n",
       "      <th>year_of_release</th>\n",
       "      <th>genre</th>\n",
       "      <th>na_sales</th>\n",
       "      <th>eu_sales</th>\n",
       "      <th>jp_sales</th>\n",
       "      <th>other_sales</th>\n",
       "      <th>critic_score</th>\n",
       "      <th>user_score</th>\n",
       "      <th>rating</th>\n",
       "      <th>total_sales</th>\n",
       "    </tr>\n",
       "  </thead>\n",
       "  <tbody>\n",
       "    <tr>\n",
       "      <td>42</td>\n",
       "      <td>Grand Theft Auto V</td>\n",
       "      <td>PS4</td>\n",
       "      <td>2014</td>\n",
       "      <td>Action</td>\n",
       "      <td>3.96</td>\n",
       "      <td>6.31</td>\n",
       "      <td>0.38</td>\n",
       "      <td>1.97</td>\n",
       "      <td>97.0</td>\n",
       "      <td>8.3</td>\n",
       "      <td>M</td>\n",
       "      <td>12.62</td>\n",
       "    </tr>\n",
       "    <tr>\n",
       "      <td>77</td>\n",
       "      <td>FIFA 16</td>\n",
       "      <td>PS4</td>\n",
       "      <td>2015</td>\n",
       "      <td>Sports</td>\n",
       "      <td>1.12</td>\n",
       "      <td>6.12</td>\n",
       "      <td>0.06</td>\n",
       "      <td>1.28</td>\n",
       "      <td>82.0</td>\n",
       "      <td>4.3</td>\n",
       "      <td>E</td>\n",
       "      <td>8.58</td>\n",
       "    </tr>\n",
       "    <tr>\n",
       "      <td>92</td>\n",
       "      <td>Call of Duty: Advanced Warfare</td>\n",
       "      <td>PS4</td>\n",
       "      <td>2014</td>\n",
       "      <td>Shooter</td>\n",
       "      <td>2.81</td>\n",
       "      <td>3.48</td>\n",
       "      <td>0.14</td>\n",
       "      <td>1.23</td>\n",
       "      <td>83.0</td>\n",
       "      <td>5.7</td>\n",
       "      <td>M</td>\n",
       "      <td>7.66</td>\n",
       "    </tr>\n",
       "    <tr>\n",
       "      <td>94</td>\n",
       "      <td>FIFA 17</td>\n",
       "      <td>PS4</td>\n",
       "      <td>2016</td>\n",
       "      <td>Sports</td>\n",
       "      <td>0.66</td>\n",
       "      <td>5.75</td>\n",
       "      <td>0.08</td>\n",
       "      <td>1.11</td>\n",
       "      <td>85.0</td>\n",
       "      <td>5.0</td>\n",
       "      <td>E</td>\n",
       "      <td>7.60</td>\n",
       "    </tr>\n",
       "    <tr>\n",
       "      <td>105</td>\n",
       "      <td>Fallout 4</td>\n",
       "      <td>PS4</td>\n",
       "      <td>2015</td>\n",
       "      <td>Role-Playing</td>\n",
       "      <td>2.53</td>\n",
       "      <td>3.27</td>\n",
       "      <td>0.24</td>\n",
       "      <td>1.13</td>\n",
       "      <td>87.0</td>\n",
       "      <td>6.5</td>\n",
       "      <td>M</td>\n",
       "      <td>7.17</td>\n",
       "    </tr>\n",
       "  </tbody>\n",
       "</table>\n",
       "</div>"
      ],
      "text/plain": [
       "                               name platform  year_of_release         genre  \\\n",
       "42               Grand Theft Auto V      PS4             2014        Action   \n",
       "77                          FIFA 16      PS4             2015        Sports   \n",
       "92   Call of Duty: Advanced Warfare      PS4             2014       Shooter   \n",
       "94                          FIFA 17      PS4             2016        Sports   \n",
       "105                       Fallout 4      PS4             2015  Role-Playing   \n",
       "\n",
       "     na_sales  eu_sales  jp_sales  other_sales  critic_score  user_score  \\\n",
       "42       3.96      6.31      0.38         1.97          97.0         8.3   \n",
       "77       1.12      6.12      0.06         1.28          82.0         4.3   \n",
       "92       2.81      3.48      0.14         1.23          83.0         5.7   \n",
       "94       0.66      5.75      0.08         1.11          85.0         5.0   \n",
       "105      2.53      3.27      0.24         1.13          87.0         6.5   \n",
       "\n",
       "    rating  total_sales  \n",
       "42       M        12.62  \n",
       "77       E         8.58  \n",
       "92       M         7.66  \n",
       "94       E         7.60  \n",
       "105      M         7.17  "
      ]
     },
     "execution_count": 89,
     "metadata": {},
     "output_type": "execute_result"
    }
   ],
   "source": [
    "ps4.head()"
   ]
  },
  {
   "cell_type": "code",
   "execution_count": 104,
   "metadata": {},
   "outputs": [
    {
     "name": "stdout",
     "output_type": "stream",
     "text": [
      "                    name platform  critic_score  user_score  total_sales\n",
      "16    Grand Theft Auto V      PS3          97.0         8.2        21.05\n",
      "23    Grand Theft Auto V     X360          97.0         8.1        16.27\n",
      "42    Grand Theft Auto V      PS4          97.0         8.3        12.62\n",
      "165   Grand Theft Auto V     XOne          97.0         7.9         5.47\n",
      "1729  Grand Theft Auto V       PC          96.0         7.9         1.17\n",
      "                                name platform  critic_score  user_score  \\\n",
      "92    Call of Duty: Advanced Warfare      PS4          83.0         5.7   \n",
      "179   Call of Duty: Advanced Warfare     XOne          81.0         5.4   \n",
      "255   Call of Duty: Advanced Warfare      PS3          78.0         4.8   \n",
      "263   Call of Duty: Advanced Warfare     X360          78.0         4.9   \n",
      "4735  Call of Duty: Advanced Warfare       PC          78.0         4.5   \n",
      "\n",
      "      total_sales  \n",
      "92           7.66  \n",
      "179          5.26  \n",
      "255          4.36  \n",
      "263          4.28  \n",
      "4735         0.41  \n"
     ]
    }
   ],
   "source": [
    "gta = df[df[\"name\"] == \"Grand Theft Auto V\"]\n",
    "\n",
    "cod = df[df[\"name\"] == \"Call of Duty: Advanced Warfare\"]\n",
    "\n",
    "print(gta[[\"name\", \"platform\", 'critic_score', 'user_score', \"total_sales\"]])\n",
    "\n",
    "print(cod[[\"name\", \"platform\", 'critic_score', 'user_score', \"total_sales\"]])"
   ]
  },
  {
   "cell_type": "code",
   "execution_count": 102,
   "metadata": {},
   "outputs": [
    {
     "name": "stdout",
     "output_type": "stream",
     "text": [
      "0.7060690579975042\n",
      "0.7867389609892471\n",
      "0.7711713252709759\n",
      "0.9203772616092654\n"
     ]
    }
   ],
   "source": [
    "print(gta['critic_score'].corr(gta['total_sales']))\n",
    "\n",
    "print(cod['critic_score'].corr(cod['total_sales']))\n",
    "\n",
    "print(gta['user_score'].corr(gta['total_sales']))\n",
    "\n",
    "print(cod['user_score'].corr(cod['total_sales']))"
   ]
  },
  {
   "cell_type": "markdown",
   "metadata": {},
   "source": [
    "We are not sure, if we understood the task \"Keeping your conclusions in mind, compare the sales of the same games on other platforms\" correct, as far as the previous task was about _platforms_, not _games_. \n",
    "\n",
    "We just took two PS4 games where released on other platforms too and calculated the Pearson correlation coefficient for each of them. \n",
    "\n",
    "For both of this games corrlation btw. professional reviews and sales is very strong. For \"Grand Theft Auto V\" the correlation btw. user and professional reviews and sales is even a bit stronger. On the other hand for \"Call of Duty: Advanced Warfare\" this type of correlation is even stronger. \n",
    "\n",
    "If we want to compare sales of this games on different platforms, GTA V has the highest sales on PS3 and X360. \n",
    "CoD: Advanced Warfare  has the highest sales on PS4 and XOne. "
   ]
  },
  {
   "cell_type": "code",
   "execution_count": 105,
   "metadata": {},
   "outputs": [
    {
     "name": "stdout",
     "output_type": "stream",
     "text": [
      "           genre  total sales  number_of_games\n",
      "0         Action       321.87              766\n",
      "1        Shooter       232.98              187\n",
      "2         Sports       150.65              214\n",
      "3   Role-Playing       145.89              292\n",
      "4           Misc        62.82              155\n",
      "5       Platform        42.63               74\n",
      "6         Racing        39.89               85\n",
      "7       Fighting        35.31               80\n",
      "8      Adventure        23.64              245\n",
      "9     Simulation        21.76               62\n",
      "10      Strategy        10.08               56\n",
      "11        Puzzle         3.17               17\n"
     ]
    }
   ],
   "source": [
    "genres_df = df.groupby(['genre'])[['total_sales']].sum().sort_values(by = \"total_sales\", ascending=False).join(\n",
    "    df.groupby('genre')[['name']].count())\n",
    "\n",
    "genres_df.columns = ['total sales', 'number_of_games']\n",
    "\n",
    "genres_df = genres_df.reset_index()\n",
    "print(genres_df.tail(20))"
   ]
  },
  {
   "cell_type": "markdown",
   "metadata": {},
   "source": [
    "The small table in previous cell shows the revuenue range by genre of game. Action games are the clear favorite. Sport games and shooters are also very popular. \n",
    "\n",
    "The least popular genres are puzzles and strategies. "
   ]
  },
  {
   "cell_type": "markdown",
   "metadata": {},
   "source": [
    "### Step 3: Conclusion"
   ]
  },
  {
   "cell_type": "markdown",
   "metadata": {},
   "source": [
    "We had done a really huge work in this step. \n",
    "\n",
    "We looked, how many games were released in different years and determined all the main periods of the game industry.. \n",
    "\n",
    "We explore the sales variety depending on platfrom, we founded the most popular platforms and looked how the sales were distributed over the years. We founded a typical life cycle of a game: release, very first years, maturity and fade. \n",
    "\n",
    "We build some prognoses for the next 2017 year; we build some graphs to better understand our data and found out, that user and professional reviews affect sales with weak correlation.\n",
    "\n",
    "Finally we founded the most and the least popular game genres and discovered, that actions generates ca. 15 times more sales than strategies. "
   ]
  },
  {
   "cell_type": "markdown",
   "metadata": {},
   "source": [
    "## Step 4:  Create a user profile for each region"
   ]
  },
  {
   "cell_type": "code",
   "execution_count": 106,
   "metadata": {},
   "outputs": [
    {
     "name": "stdout",
     "output_type": "stream",
     "text": [
      "Top 5 platforms in NA: \n",
      "  platform  na_sales  number_of_games  market_share\n",
      "0      PS4    108.74              392     24.842933\n",
      "1     XOne     93.12              247     21.274360\n",
      "2     X360     81.66              186     18.656188\n",
      "3      PS3     63.50              345     14.507322\n",
      "4      3DS     38.20              303      8.727239\n",
      "\n",
      "Top 5 platforms in EU: \n",
      "  platform  eu_sales  number_of_games  market_share\n",
      "0      PS4    141.09              392     35.971241\n",
      "1      PS3     67.81              345     17.288326\n",
      "2     XOne     51.59              247     13.152997\n",
      "3     X360     42.52              186     10.840578\n",
      "4      3DS     30.96              303      7.893328\n",
      "\n",
      "Top 5 platforms in JP: \n",
      "  platform  jp_sales  number_of_games  market_share\n",
      "0      3DS     67.81              303     48.167353\n",
      "1      PS3     23.35              345     16.586163\n",
      "2      PSV     18.59              358     13.205001\n",
      "3      PS4     15.96              392     11.336838\n",
      "4     WiiU     10.88              115      7.728371\n"
     ]
    }
   ],
   "source": [
    "na_df = df.groupby(['platform'])[['na_sales']].sum().sort_values(by = \"na_sales\", ascending=False).join(\n",
    "    df.groupby('platform')[['name']].count())\n",
    "\n",
    "na_df.columns =  [\"na_sales\", \"number_of_games\"]\n",
    "na_df = na_df.reset_index()\n",
    "na_df[\"market_share\"] = na_df[\"na_sales\"]/na_df[\"na_sales\"].sum() *100\n",
    "print(\"Top 5 platforms in NA: \")\n",
    "print(na_df.head())\n",
    "print()\n",
    "\n",
    "eu_df = df.groupby(['platform'])[['eu_sales']].sum().sort_values(by = \"eu_sales\", ascending=False).join(\n",
    "    df.groupby('platform')[['name']].count())\n",
    "\n",
    "eu_df.columns =  [\"eu_sales\", \"number_of_games\"]\n",
    "eu_df = eu_df.reset_index()\n",
    "eu_df[\"market_share\"] = eu_df[\"eu_sales\"]/eu_df[\"eu_sales\"].sum() *100\n",
    "print(\"Top 5 platforms in EU: \")\n",
    "print(eu_df.head())\n",
    "print()\n",
    "\n",
    "jp_df = df.groupby(['platform'])[['jp_sales']].sum().sort_values(by = \"jp_sales\", ascending=False).join(\n",
    "    df.groupby('platform')[['name']].count())\n",
    "\n",
    "jp_df.columns =  [\"jp_sales\", \"number_of_games\"]\n",
    "jp_df = jp_df.reset_index()\n",
    "jp_df[\"market_share\"] = jp_df[\"jp_sales\"]/jp_df[\"jp_sales\"].sum() *100\n",
    "\n",
    "print(\"Top 5 platforms in JP: \")\n",
    "print(jp_df.head())"
   ]
  },
  {
   "cell_type": "markdown",
   "metadata": {},
   "source": [
    "<div class=\"alert alert-info\" role=\"alert\">\n",
    "\n",
    "We are calculated top 5 by sales, not by number of games. The Japan market is unique: 4 of rows in top 5 are Japan game platforms and Wii with humble 7.7 % on the 5th place. The Japan total market volume is the smallest of the three regions. \n",
    "\n",
    "In America the PS4 is the most popular plarform. Interesting, that only Xone and X360 are both american platformas in NA Top 5. The other three platforms are comming from Japan. \n",
    "\n",
    "There is no european games in EU top 5. Europeans play both Japan an US games with Japan PS4 on the 1st place.  \n",
    "\n",
    "</div>"
   ]
  },
  {
   "cell_type": "code",
   "execution_count": 107,
   "metadata": {},
   "outputs": [
    {
     "name": "stdout",
     "output_type": "stream",
     "text": [
      "Top 5 genres in NA: \n",
      "          genre  na_sales  number_of_games  market_share\n",
      "0        Action    126.05              766     28.797606\n",
      "1       Shooter    109.74              187     25.071394\n",
      "2        Sports     65.27              214     14.911700\n",
      "3  Role-Playing     46.40              292     10.600626\n",
      "4          Misc     27.49              155      6.280414\n",
      "\n",
      "Top 5 genres in EU: \n",
      "          genre  eu_sales  number_of_games  market_share\n",
      "0        Action    118.13              NaN     30.117533\n",
      "1       Shooter     87.86              NaN     22.400122\n",
      "2        Sports     60.52              NaN     15.429722\n",
      "3  Role-Playing     36.97              NaN      9.425592\n",
      "4        Racing     20.19              NaN      5.147490\n",
      "\n",
      "Top 5 genres in JP: \n",
      "          genre  jp_sales  number_of_games  market_share\n",
      "0  Role-Playing     51.04              292     36.255150\n",
      "1        Action     40.49              766     28.761188\n",
      "2          Misc      9.20              155      6.535019\n",
      "3      Fighting      7.65               80      5.434011\n",
      "4       Shooter      6.61              187      4.695269\n"
     ]
    }
   ],
   "source": [
    "na_df2 = df.groupby(['genre'])[['na_sales']].sum().sort_values(by = \"na_sales\", ascending=False).join(\n",
    "    df.groupby('genre')[['name']].count())\n",
    "\n",
    "na_df2.columns =  [\"na_sales\", \"number_of_games\"]\n",
    "na_df2 = na_df2.reset_index()\n",
    "na_df2[\"market_share\"] = na_df2[\"na_sales\"]/na_df2[\"na_sales\"].sum() *100\n",
    "print(\"Top 5 genres in NA: \")\n",
    "print(na_df2.head())\n",
    "print()\n",
    "\n",
    "eu_df2 = df.groupby(['genre'])[['eu_sales']].sum().sort_values(by = \"eu_sales\", ascending=False).join(\n",
    "    df.groupby('platform')[['name']].count())\n",
    "\n",
    "eu_df2.columns =  [\"eu_sales\", \"number_of_games\"]\n",
    "eu_df2 = eu_df2.reset_index()\n",
    "eu_df2[\"market_share\"] = eu_df2[\"eu_sales\"]/eu_df2[\"eu_sales\"].sum() *100\n",
    "print(\"Top 5 genres in EU: \")\n",
    "print(eu_df2.head())\n",
    "print()\n",
    "\n",
    "jp_df2 = df.groupby(['genre'])[['jp_sales']].sum().sort_values(by = \"jp_sales\", ascending=False).join(\n",
    "    df.groupby('genre')[['name']].count())\n",
    "\n",
    "jp_df2.columns =  [\"jp_sales\", \"number_of_games\"]\n",
    "jp_df2 = jp_df2.reset_index()\n",
    "jp_df2[\"market_share\"] = jp_df2[\"jp_sales\"]/jp_df2[\"jp_sales\"].sum() *100\n",
    "\n",
    "print(\"Top 5 genres in JP: \")\n",
    "print(jp_df2.head())"
   ]
  },
  {
   "cell_type": "markdown",
   "metadata": {},
   "source": [
    "<div class=\"alert alert-info\" role=\"alert\"> \n",
    "    \n",
    "The Japan is unique as usual, if we can say so: during EU and US top 4 genres are identical and only the 5th popular genre in EU/US differs, Japanese people preffer role-playing over the action games. Shooters are surprisingly not in top 5 in Japan. \n",
    "\n",
    "How can we explane the difference? It's hardly to find another explanation other than different peoples taste or may be some cultural/traditional preferences. \n",
    "</div>"
   ]
  },
  {
   "cell_type": "markdown",
   "metadata": {},
   "source": [
    "And now we are going to check, if ESRB ratings affect sales in individual regions. "
   ]
  },
  {
   "cell_type": "code",
   "execution_count": 110,
   "metadata": {},
   "outputs": [
    {
     "data": {
      "image/png": "[encoded data removed]",
      "text/plain": [
       "<Figure size 432x288 with 1 Axes>"
      ]
     },
     "metadata": {
      "needs_background": "light"
     },
     "output_type": "display_data"
    }
   ],
   "source": [
    "plt.bar(df['rating'], df['na_sales'])\n",
    "\n",
    "plt.title('ESRB rating/sales ratio in NA')\n",
    "plt.xlabel('ESRB rating')\n",
    "plt.ylabel('Sales in the region')\n",
    "\n",
    "plt.show();"
   ]
  },
  {
   "cell_type": "code",
   "execution_count": 111,
   "metadata": {},
   "outputs": [
    {
     "data": {
      "image/png": "[encoded data removed]",
      "text/plain": [
       "<Figure size 432x288 with 1 Axes>"
      ]
     },
     "metadata": {
      "needs_background": "light"
     },
     "output_type": "display_data"
    }
   ],
   "source": [
    "plt.bar(df['rating'], df['eu_sales'])\n",
    "\n",
    "plt.title('ESRB rating/sales ratio in EU')\n",
    "plt.xlabel('ESRB rating')\n",
    "plt.ylabel('Sales in the region')\n",
    "\n",
    "plt.show();"
   ]
  },
  {
   "cell_type": "code",
   "execution_count": 112,
   "metadata": {},
   "outputs": [
    {
     "data": {
      "image/png": "[encoded data removed]",
      "text/plain": [
       "<Figure size 432x288 with 1 Axes>"
      ]
     },
     "metadata": {
      "needs_background": "light"
     },
     "output_type": "display_data"
    }
   ],
   "source": [
    "plt.bar(df['rating'], df['jp_sales'])\n",
    "\n",
    "plt.title('ESRB rating/sales ratio in JP')\n",
    "plt.xlabel('ESRB rating')\n",
    "plt.ylabel('Sales in the region')\n",
    "\n",
    "plt.show();"
   ]
  },
  {
   "cell_type": "markdown",
   "metadata": {},
   "source": [
    "Sales in EU and Nord America in dependence of ESRB rating looks very similar. The \"Everybody\" games share in EU only seems to be higher than in the NA. \n",
    "\n",
    "Japan market is as always special: in this country percent of games with \"Mature\" rating is much lower and with \"Teen\"/\"Everybody 10+\" is much higher than in the EU/NA.  We can assume, that share of adults how buying games in Japan is lower, than in EU/NA. "
   ]
  },
  {
   "cell_type": "markdown",
   "metadata": {},
   "source": [
    "### Step 4: Conclusion"
   ]
  },
  {
   "cell_type": "markdown",
   "metadata": {},
   "source": [
    "In this short step we investigated some characteristics of regional markets. The main conclution we can draw is japan market is very specific while american and european markets are very similar in all the aspects we have been considering. "
   ]
  },
  {
   "cell_type": "markdown",
   "metadata": {},
   "source": [
    "## Step 5:  Testing of hypotheses"
   ]
  },
  {
   "cell_type": "markdown",
   "metadata": {},
   "source": [
    "Let's check, if average user ratings of the Xbox One and PC platforms are the same.\n",
    "\n",
    "We formulate the null hypothese as `Average user ratings of the Xbox One and PC platforms are the same` and the alternative one as `Average user ratings of the Xbox One and PC platforms does (signuficantly) differ`.\n",
    "\n",
    "We use an alpha of 0.05 as a standart 5% confidence threshold.\n",
    "\n",
    "We are going to compare an average user rating of the Xbox One with the similar figures calculated PC users."
   ]
  },
  {
   "cell_type": "code",
   "execution_count": 118,
   "metadata": {},
   "outputs": [
    {
     "name": "stdout",
     "output_type": "stream",
     "text": [
      "Xbox µ 5.101295546558704\n",
      "\n",
      "PC µ 5.234444444444444\n",
      "\n",
      "Xbox SD 2.8102379506238306\n",
      "\n",
      "PC SD 2.7712573637045197\n"
     ]
    }
   ],
   "source": [
    "sample_xbox = df.groupby(['platform'])['user_score'].get_group('XOne')\n",
    "sample_pc = df.groupby(['platform'])['user_score'].get_group('PC')\n",
    "\n",
    "xbox_mu = sample_xbox.mean()\n",
    "pc_mu = sample_pc.mean()\n",
    "xbox_sd = sample_xbox.std()\n",
    "pc_sd = sample_pc.std()\n",
    "\n",
    "print('Xbox µ', xbox_mu)\n",
    "print()\n",
    "print('PC µ', pc_mu)\n",
    "print()\n",
    "print('Xbox SD', xbox_sd)\n",
    "print()\n",
    "print('PC SD', pc_sd)"
   ]
  },
  {
   "cell_type": "code",
   "execution_count": 139,
   "metadata": {},
   "outputs": [
    {
     "name": "stdout",
     "output_type": "stream",
     "text": [
      "(0.8495548963546753, 9.060059221409865e-15)\n",
      "(0.8737955093383789, 1.7766671814301027e-11)\n"
     ]
    }
   ],
   "source": [
    "shapiro_test = stats.shapiro(sample_xbox)\n",
    "print(shapiro_test)\n",
    "\n",
    "shapiro_test2 = stats.shapiro(sample_pc)\n",
    "print(shapiro_test2)"
   ]
  },
  {
   "cell_type": "markdown",
   "metadata": {},
   "source": [
    "\n",
    "<div class=\"alert alert-info\" role=\"alert\">\n",
    "\n",
    "Since p > 0.05 for both data sets, they both conform to the normality criterion.\n",
    "    \n",
    "</div>"
   ]
  },
  {
   "cell_type": "code",
   "execution_count": 127,
   "metadata": {},
   "outputs": [
    {
     "data": {
      "text/plain": [
       "LeveneResult(statistic=0.003998761219482251, pvalue=0.9496078835105561)"
      ]
     },
     "execution_count": 127,
     "metadata": {},
     "output_type": "execute_result"
    }
   ],
   "source": [
    "st.levene(sample_xbox, sample_pc, center= 'mean')"
   ]
  },
  {
   "cell_type": "markdown",
   "metadata": {},
   "source": [
    "<div class=\"alert alert-info\" role=\"alert\">\n",
    "\n",
    "pvalue is bigger than 0.05 so the datasets conform to the variance criterion.\n",
    "    \n",
    "</div>"
   ]
  },
  {
   "cell_type": "code",
   "execution_count": 68,
   "metadata": {},
   "outputs": [
    {
     "name": "stdout",
     "output_type": "stream",
     "text": [
      "776\n",
      "643\n"
     ]
    }
   ],
   "source": [
    "pc_sample = df[df['platform'] == 'PC']\n",
    "\n",
    "print(len(pc_sample))\n",
    "\n",
    "pc_sample = pc_sample[pc_sample[\"user_score\"] != 0]\n",
    "\n",
    "print(len(pc_sample))"
   ]
  },
  {
   "cell_type": "code",
   "execution_count": 69,
   "metadata": {},
   "outputs": [
    {
     "name": "stdout",
     "output_type": "stream",
     "text": [
      "247\n",
      "247\n"
     ]
    }
   ],
   "source": [
    "xbox_sample = df[df['platform'] == 'XOne']\n",
    "\n",
    "print(len(xbox_sample))\n",
    "\n",
    "pc_sample = xbox_sample[xbox_sample[\"user_score\"] != 0]\n",
    "\n",
    "print(len(xbox_sample))"
   ]
  },
  {
   "cell_type": "code",
   "execution_count": 70,
   "metadata": {},
   "outputs": [
    {
     "name": "stdout",
     "output_type": "stream",
     "text": [
      "Ttest_indResult(statistic=5.0032745939156476, pvalue=8.104509356270609e-07)\n"
     ]
    }
   ],
   "source": [
    "user_score_pc = pc_sample['user_score'].tolist()\n",
    "user_score_xbox = xbox_sample['user_score'].tolist()\n",
    "\n",
    "res = st.ttest_ind(user_score_pc, user_score_xbox)\n",
    "print(res)"
   ]
  },
  {
   "cell_type": "markdown",
   "metadata": {},
   "source": [
    "With very small pvalue 0.00000081 < 0.05 we got the information that our null hypothesis `Average user ratings of the Xbox One and PC platforms are the same` should be rejected."
   ]
  },
  {
   "cell_type": "markdown",
   "metadata": {},
   "source": [
    "Let's check an another hypothesis.\n",
    "\n",
    "We formulate the null hypothese as 'Average user rating for the Action and Sports genres are not (signuficantly) different' and the alternative one as 'Average user ratings for the Action and Sports genres are (signuficantly) different'. \n",
    "\n",
    "We use an alpha of 0.05 as a standart 5% confidence threshold. We are goint to compare an average user rating of action games with the similar figures calculated for sport games."
   ]
  },
  {
   "cell_type": "code",
   "execution_count": 114,
   "metadata": {},
   "outputs": [
    {
     "name": "stdout",
     "output_type": "stream",
     "text": [
      "Action games µ 3.7109399477806786\n",
      "\n",
      "Sport games µ 3.951401869158878\n",
      "\n",
      "Action games SD 3.4331723783398287\n",
      "\n",
      "Sport games SD 2.726216297825927\n"
     ]
    }
   ],
   "source": [
    "sample_action = df.groupby(['genre'])['user_score'].get_group('Action')\n",
    "sample_sport = df.groupby(['genre'])['user_score'].get_group('Sports')\n",
    "\n",
    "action_mu = sample_action.mean()\n",
    "sport_mu = sample_sport.mean()\n",
    "action_sd = sample_action.std()\n",
    "sport_sd = sample_sport.std()\n",
    "\n",
    "print('Action games µ', action_mu)\n",
    "print()\n",
    "print('Sport games µ', sport_mu)\n",
    "print()\n",
    "print('Action games SD', action_sd)\n",
    "print()\n",
    "print('Sport games SD', sport_sd)"
   ]
  },
  {
   "cell_type": "code",
   "execution_count": 128,
   "metadata": {},
   "outputs": [
    {
     "data": {
      "text/plain": [
       "LeveneResult(statistic=88.91701715312665, pvalue=2.892701716900223e-20)"
      ]
     },
     "execution_count": 128,
     "metadata": {},
     "output_type": "execute_result"
    }
   ],
   "source": [
    "st.levene(sample_action, sample_sport, center= 'mean')"
   ]
  },
  {
   "cell_type": "code",
   "execution_count": 130,
   "metadata": {},
   "outputs": [
    {
     "name": "stdout",
     "output_type": "stream",
     "text": [
      "214\n",
      "162\n"
     ]
    }
   ],
   "source": [
    "sport_sample = df[df['genre'] == 'Sports']\n",
    "\n",
    "print(len(sport_sample))\n",
    "\n",
    "sport_sample = sport_sample[sport_sample[\"user_score\"] != 0]\n",
    "\n",
    "print(len(sport_sample))"
   ]
  },
  {
   "cell_type": "code",
   "execution_count": 131,
   "metadata": {},
   "outputs": [
    {
     "name": "stdout",
     "output_type": "stream",
     "text": [
      "766\n",
      "438\n"
     ]
    }
   ],
   "source": [
    "sample_action = df[df['genre'] == 'Action']\n",
    "\n",
    "print(len(action_sample))\n",
    "\n",
    "action_sample = action_sample[action_sample[\"user_score\"] != 0]\n",
    "\n",
    "print(len(action_sample))"
   ]
  },
  {
   "cell_type": "code",
   "execution_count": 142,
   "metadata": {},
   "outputs": [
    {
     "name": "stdout",
     "output_type": "stream",
     "text": [
      "<class 'pandas.core.frame.DataFrame'>\n",
      "Int64Index: 438 entries, 16 to 16690\n",
      "Data columns (total 12 columns):\n",
      "name               438 non-null object\n",
      "platform           438 non-null object\n",
      "year_of_release    438 non-null int16\n",
      "genre              438 non-null object\n",
      "na_sales           438 non-null float64\n",
      "eu_sales           438 non-null float64\n",
      "jp_sales           438 non-null float64\n",
      "other_sales        438 non-null float64\n",
      "critic_score       438 non-null float64\n",
      "user_score         438 non-null float64\n",
      "rating             438 non-null object\n",
      "total_sales        438 non-null float64\n",
      "dtypes: float64(7), int16(1), object(4)\n",
      "memory usage: 41.9+ KB\n"
     ]
    }
   ],
   "source": [
    "action_sample.info()"
   ]
  },
  {
   "cell_type": "code",
   "execution_count": 145,
   "metadata": {},
   "outputs": [
    {
     "name": "stdout",
     "output_type": "stream",
     "text": [
      "(0.8980890512466431, 6.838900973304973e-11)\n",
      "(0.7905890345573425, 3.0914666355439337e-30)\n"
     ]
    }
   ],
   "source": [
    "shapiro_test3 = stats.shapiro(sample_sport)\n",
    "print(shapiro_test3)\n",
    "\n",
    "shapiro_test4 = stats.shapiro(sample_action)\n",
    "print(shapiro_test4)"
   ]
  },
  {
   "cell_type": "markdown",
   "metadata": {},
   "source": [
    "<div class=\"alert alert-info\" role=\"alert\">\n",
    "\n",
    "Since p < 0.05 for both datasets, they not conform to the normality criterion. And we can not perform Levene test. We'll try with Bartlett. \n",
    "    \n",
    "</div>"
   ]
  },
  {
   "cell_type": "code",
   "execution_count": 148,
   "metadata": {},
   "outputs": [
    {
     "data": {
      "text/plain": [
       "BartlettResult(statistic=16.159771936325782, pvalue=5.8217442157997724e-05)"
      ]
     },
     "execution_count": 148,
     "metadata": {},
     "output_type": "execute_result"
    }
   ],
   "source": [
    "bartlett(sample_sport, sample_action)"
   ]
  },
  {
   "cell_type": "markdown",
   "metadata": {},
   "source": [
    "<div class=\"alert alert-info\" role=\"alert\">\n",
    "\n",
    "pvalue is much smaller than 0.05 so the datasets is not conform to the variance criterion. We are going to use False parameter of equal_var. \n",
    "    \n",
    "</div>"
   ]
  },
  {
   "cell_type": "code",
   "execution_count": 144,
   "metadata": {},
   "outputs": [
    {
     "name": "stdout",
     "output_type": "stream",
     "text": [
      "Ttest_indResult(statistic=-7.967694601665843, pvalue=4.9340304287866644e-14)\n"
     ]
    }
   ],
   "source": [
    "user_score_sport = sport_sample['user_score'].tolist()\n",
    "user_score_action = action_sample['user_score'].tolist()\n",
    "\n",
    "res = st.ttest_ind(user_score_sport, user_score_action, equal_var = False)\n",
    "print(res)"
   ]
  },
  {
   "cell_type": "markdown",
   "metadata": {},
   "source": [
    "With very small pvalue  < 0.05 we got the information that our null hypothesis 'Average user rating for the Action and Sports genres are not (signuficantly) different' should be rejected."
   ]
  },
  {
   "cell_type": "markdown",
   "metadata": {},
   "source": [
    "### Step 5: Conclusion"
   ]
  },
  {
   "cell_type": "markdown",
   "metadata": {},
   "source": [
    "In this step we performed some statistical analysis of out data. Due the calculation we rejected two hypothesis we had."
   ]
  },
  {
   "cell_type": "markdown",
   "metadata": {},
   "source": [
    "## Step 6:  General conclusion"
   ]
  },
  {
   "cell_type": "markdown",
   "metadata": {},
   "source": [
    "In this project we performed an exhaustively research on video games sales data of the online store Ice and some historical data on game sales, ratings and reviews were available from open sources. \n",
    "\n",
    "The Ice's commercial department wanted to identify patterns that determine whether a game succeeds or not. This will allow company to spot potential big winners and plan advertising campaigns.\n",
    "\n",
    "Data we got initially was incomplete. We used one more publicly availible dataset to fill in a significant part of the missing information. We successfully merged both datasets and preprocessed data for our further analysis. \n",
    "\n",
    "During the analysis phase we looked, how many games were released in different years and determined all the main periods of the game industry in 1980-2016. We founded a typical life cycle of a game: release, very first years, maturity and fade and how long it typically is: ususally less than 10 years with 3-5 years of peak time. \n",
    "\n",
    "We explore the sales variety depending on platfrom, we founded the most popular platforms and looked how the sales were distributed over the years. \n",
    "\n",
    "This data allows us to made a conclusion, that games platforms like PS4, XOne and WiiU with high probability will show very high sales during the next 2017 year. \n",
    "\n",
    "We also founded the most popular game genres: in EU/NA thats are action and sport games, in Japan - role-playing games. Among others we discovered, that action games generates ca. 15 times more sales revenue than strategies (the least popular genre globally).\n",
    "\n",
    "We created a user profile for each of three main regions - North America, EU and Japan; we considered some specific characteristics of regional markets. The main conclution we could draw is that japan market is specific one while american and european markets are very similar in all the aspects we had been considering.\n",
    "\n",
    "Finally we performed some statistical analysis of out data. We rejected two hypotesis, that average user ratings of the Xbox One and PC platforms and that average user ratings for the Action and Sports genres are the same. \n",
    "\n",
    "Obtained date can be used by the commercial department to determine an advertisement strategy and to adjust the advertisement budget for the next year."
   ]
  }
 ],
 "metadata": {
  "kernelspec": {
   "display_name": "Python 3",
   "language": "python",
   "name": "python3"
  },
  "language_info": {
   "codemirror_mode": {
    "name": "ipython",
    "version": 3
   },
   "file_extension": ".py",
   "mimetype": "text/x-python",
   "name": "python",
   "nbconvert_exporter": "python",
   "pygments_lexer": "ipython3",
   "version": "3.8.5"
  },
  "toc": {
   "base_numbering": 1,
   "nav_menu": {},
   "number_sections": true,
   "sideBar": true,
   "skip_h1_title": true,
   "title_cell": "Table of Contents",
   "title_sidebar": "Contents",
   "toc_cell": false,
   "toc_position": {},
   "toc_section_display": true,
   "toc_window_display": false
  }
 },
 "nbformat": 4,
 "nbformat_minor": 2
}
